{
  "nbformat": 4,
  "nbformat_minor": 0,
  "metadata": {
    "colab": {
      "provenance": [],
      "collapsed_sections": [
        "rJqc2jAvVAL3",
        "KB1wVhGHVapa",
        "exyOrndzWMX_",
        "dx3y_5tdWZTf",
        "EMiUODPXWxSL"
      ],
      "authorship_tag": "ABX9TyN8k4/BEmbSUpGa1hOUwMhp",
      "include_colab_link": true
    },
    "kernelspec": {
      "name": "python3",
      "display_name": "Python 3"
    },
    "language_info": {
      "name": "python"
    }
  },
  "cells": [
    {
      "cell_type": "markdown",
      "metadata": {
        "id": "view-in-github",
        "colab_type": "text"
      },
      "source": [
        "<a href=\"https://colab.research.google.com/github/dzhamalovas/Osnovy_programming/blob/main/%D0%9F%D1%80%D0%B0%D0%BA%D1%82%D0%B8%D1%87%D0%B5%D1%81%D0%BA%D0%B0%D1%8F_%D1%80%D0%B0%D0%B1%D0%BE%D1%82%D0%B0_%E2%84%962.ipynb\" target=\"_parent\"><img src=\"https://colab.research.google.com/assets/colab-badge.svg\" alt=\"Open In Colab\"/></a>"
      ]
    },
    {
      "cell_type": "markdown",
      "source": [
        "### 1. В рамках приложения разработать класс В – наследник класса А (задание 2) с полем d и свойством с2. Свойство с2 – результат вычисления  выражения над полями a, b, d. В теле свойства использовать управляющий  оператор (см. вариант в таблице 2.2). У класса А создать конструктор,  инициализирующий его поля. Для класса В определить 2 конструктора:  один – наследуется от конструктора класса А, второй – собственный. В  теле программы создать объекты классов А и В, продемонстрировав работу всех конструкторов. Вывести значения свойства на экран. \n",
        "7.  switch\n"
      ],
      "metadata": {
        "id": "rJqc2jAvVAL3"
      }
    },
    {
      "cell_type": "code",
      "source": [
        "class A:\n",
        "  __a = float(input(\"Введите число: \")) # __ - приватность\n",
        "  __b = float(input(\"Введите число: \"))\n",
        "  def div(self):\n",
        "    c = self.__a / self.__b\n",
        "    return c\n",
        "  def post(self):             # -- в python заменяется -=\n",
        "    c = self.__a - self.__b\n",
        "    return c\n",
        "  def mult(self):\n",
        "    c = self.__a * self.__b \n",
        "    return c\n",
        "\n",
        "class B(A):\n",
        "  __d = float(input(\"Введите число для сравнения: \"))\n",
        "  def c2(self):\n",
        "    if self.__d == a.div():\n",
        "      print('Число для сравнения равно результату деления')\n",
        "    elif self.__d > a.div():\n",
        "      print('Число для сравнения больше результата деления')\n",
        "    elif self.__d < a.div():\n",
        "      print('Число для сравнения меньше результата деления')\n",
        "    if self.__d == a.post():\n",
        "      print('Число для сравнения равно результату вычитания')\n",
        "    elif self.__d > a.post():\n",
        "      print('Число для сравнения больше результата деления')\n",
        "    elif self.__d < a.post():\n",
        "      print('Число для сравнения меньше результата деления')\n",
        "    if self.__d == a.mult():\n",
        "      print('Число для сравнения равно результату умножения')\n",
        "    elif self.__d > a.mult():\n",
        "      print('Число для сравнения больше результата умножения')\n",
        "    else:\n",
        "      print('Число для сравнения меньше результата умножения')\n",
        "\n",
        "a = A()\n",
        "print('Результат деления: ', a.div())\n",
        "print('Результат вычитания: ', a.post())\n",
        "print('Результат умножения: ', a.mult())\n",
        "b = B()\n",
        "b.c2()"
      ],
      "metadata": {
        "colab": {
          "base_uri": "https://localhost:8080/"
        },
        "id": "qJMmfciOohDy",
        "outputId": "838f9dc2-f887-4ac6-8300-a2f07ec53557"
      },
      "execution_count": null,
      "outputs": [
        {
          "output_type": "stream",
          "name": "stdout",
          "text": [
            "Введите число: 10\n",
            "Введите число: 2\n",
            "Введите число для сравнения: 6\n",
            "Результат деления:  5.0\n",
            "Результат вычитания:  8.0\n",
            "Результат умножения:  20.0\n",
            "Число для сравнения больше результата деления\n",
            "Число для сравнения меньше результата деления\n",
            "Число для сравнения меньше результата умножения\n"
          ]
        }
      ]
    },
    {
      "cell_type": "markdown",
      "source": [
        "### 2.1. Создайте класс «зарплата», который вычисляет сумму зарплаты в зависимости  от тарифной ставки и числа отработанных дней. Расширьте метод начислением процентов в зависимости от объема продаж. \n"
      ],
      "metadata": {
        "id": "KB1wVhGHVapa"
      }
    },
    {
      "cell_type": "code",
      "execution_count": null,
      "metadata": {
        "colab": {
          "base_uri": "https://localhost:8080/"
        },
        "id": "xgZVGUF2IpPK",
        "outputId": "cbb4fccb-c73d-40c6-c1bf-2e412f7b7651"
      },
      "outputs": [
        {
          "output_type": "stream",
          "name": "stdout",
          "text": [
            "Введите имя: Alice\n",
            "Введите число дней: 20\n",
            "Alice\n",
            "Зарплата 30000\n"
          ]
        }
      ],
      "source": [
        "# Пусть тарифная ставка = 1,5 тысячи рублей в день\n",
        "class Employee:\n",
        "  def __init__(self):\n",
        "    self.name = input('Введите имя: ')\n",
        "    self.days = int(input('Введите число дней: '))\n",
        "  def protected_fee(self):\n",
        "    self._fee = 1500 # _ - защищенный атрибут класса\n",
        "    self.salary = self._fee*self.days\n",
        "    print('Зарплата: ', self.salary)   \n",
        "per1 = Employee()\n",
        "print(per1.name)\n",
        "per1.protected_fee()\n"
      ]
    },
    {
      "cell_type": "markdown",
      "source": [
        "### 2.2.  Переопределите метод начисления зарплаты: в случае, если объем продаж в месяц превысил 1 000 000, проценты добавляются к зарплате, в противном случае – вычитаются"
      ],
      "metadata": {
        "id": "exyOrndzWMX_"
      }
    },
    {
      "cell_type": "code",
      "source": [
        "# Пусть тарифная ставка = 1,5 тысячи рублей в день\n",
        "# премия - 5%\n",
        "class Employee:\n",
        "  def __init__(self):\n",
        "    self.volume = int(input('Введите объем продаж: '))\n",
        "    self.name = input('Введите имя: ')\n",
        "    self.days = int(input('Введите число отработанных дней: '))\n",
        "  def protected_fee(self):\n",
        "    self._fee = 1500 # _ - защищенный атрибут класса\n",
        "    self.salary = self._fee*self.days\n",
        "    if self.volume > 1000000:\n",
        "      self.salary += self.salary*0.05\n",
        "    else:\n",
        "      self.salary -= self.salary*0.05\n",
        "    print('Зарплата с процентами: ', self.salary)   \n",
        "per1 = Employee()\n",
        "print(per1.name)\n",
        "per1.protected_fee()"
      ],
      "metadata": {
        "id": "ZJ9ftwlAWYhQ",
        "colab": {
          "base_uri": "https://localhost:8080/"
        },
        "outputId": "2ced7abb-d8ab-41fd-c58d-3fe26f084463"
      },
      "execution_count": null,
      "outputs": [
        {
          "output_type": "stream",
          "name": "stdout",
          "text": [
            "Введите объем продаж: 12000000\n",
            "Введите имя: Alice\n",
            "Введите число отработанных дней: 20\n",
            "Alice\n",
            "Зарплата с процентами:  31500.0\n"
          ]
        }
      ]
    },
    {
      "cell_type": "markdown",
      "source": [
        "### 2.3. Создайте для класса «сотрудники» абстрактный метод начисления зарплаты. Создайте два класса-наследника: сотрудник отдела продаж и сотрудник склада. Для первого класса начисление происходит аналогично заданию 1, а для второго - в зависимости от количества отработанных дней.\n",
        "## Свое дополнение: \n",
        "###1 - аналогично заданию 1. \n",
        "### 2 - в зависимости от оклада.\n",
        "\n"
      ],
      "metadata": {
        "id": "dx3y_5tdWZTf"
      }
    },
    {
      "cell_type": "code",
      "source": [
        "class Employee:\n",
        "  def __init__(self):\n",
        "    self.name = input('Введите имя: ')\n",
        "    self.days = int(input('Введите число отработанных дней: '))\n",
        "class Department(Employee):\n",
        "  def rate(self):\n",
        "    self._fee = int(input('Введите тарифную ставку за сутки: '))\n",
        "    self.salary_f = self._fee*self.days\n",
        "    print('Зарплата сотрудника отдела продаж: ', self.salary_f)\n",
        "class Storage(Employee):\n",
        "  def protected_fee(self):\n",
        "    self._pay = int(input('Введите оклад: '))\n",
        "    self.days_in_month = int(input('Введите количество рабочих дней: '))\n",
        "    self.salary_p = self._pay/self.days_in_month * self.days\n",
        "    print('Зарплата сотрудника склада: ', round(self.salary_p))   \n",
        "\n",
        "p = Department()\n",
        "p.rate()\n",
        "r = Storage()\n",
        "r.protected_fee()"
      ],
      "metadata": {
        "id": "mFHxpIsTWw58",
        "colab": {
          "base_uri": "https://localhost:8080/"
        },
        "outputId": "8b733ef3-ec55-42d8-f931-5fbc62c61f0d"
      },
      "execution_count": null,
      "outputs": [
        {
          "output_type": "stream",
          "name": "stdout",
          "text": [
            "Введите имя: Константин \n",
            "Введите число отработанных дней: 10\n",
            "Введите тарифную ставку за сутки: 1500\n",
            "Зарплата сотрудника отдела продаж:  15000\n",
            "Введите имя: Григорий\n",
            "Введите число отработанных дней: 10\n",
            "Введите оклад: 22000\n",
            "Введите количество рабочих дней: 22\n",
            "Зарплата сотрудника склада:  10000\n"
          ]
        }
      ]
    },
    {
      "cell_type": "markdown",
      "source": [
        "### 2.4. Решите предыдущую задачу, используя декоратор Sabstractmethod. Имеется класс «мебель». Создайте класс «корпусная мебель», «мягкая мебель» и «кухонная мебель». Определите атрибуты и методы родительского класса и классов-наследников. "
      ],
      "metadata": {
        "id": "EMiUODPXWxSL"
      }
    },
    {
      "cell_type": "code",
      "source": [
        "from abc import ABC, abstractmethod\n",
        "\n",
        "class Furniture(ABC):\n",
        "    @abstractmethod\n",
        "    def general(self):\n",
        "        print('Вы можете приобрести мебель любой категории на сайте: \"адрес сайта\"')\n",
        "\n",
        "class Case(Furniture):\n",
        "    def general(self):\n",
        "        super().general()  #используется для вызова асбтрактного класса в подклассах\n",
        "        print('Приобрести копрусную мебель вы можете в нашем филиале по адресу: \"адрес\"')\n",
        "\n",
        "class Soft(Furniture):\n",
        "    def general(self):\n",
        "        super().general()  #используется для вызова асбтрактного класса в подклассах\n",
        "        print('Приобрести копрусную мебель вы можете в нашем филиале по адресу: \"адрес\"')\n",
        "\n",
        "class Kitchen(Furniture):\n",
        "    def general(self):\n",
        "        super().general()  #используется для вызова асбтрактного класса в подклассах\n",
        "        print('Приобрести копрусную мебель вы можете в нашем филиале по адресу: \"адрес\"')\n",
        "\n",
        "c = Case()\n",
        "c.general()\n",
        "#s = Soft()\n",
        "#s.general()\n",
        "#k = Kitchen()\n",
        "#k.general()\n"
      ],
      "metadata": {
        "colab": {
          "base_uri": "https://localhost:8080/"
        },
        "id": "nUsqV6ViKSj9",
        "outputId": "1a843aee-21d1-4886-db17-0ef4f66e0ee0"
      },
      "execution_count": null,
      "outputs": [
        {
          "output_type": "stream",
          "name": "stdout",
          "text": [
            "Вы можете приобрести мебель любой категории на сайте: \"адрес сайта\"\n",
            "Приобрести копрусную мебель вы можете в нашем филиале по адресу: \"адрес\"\n"
          ]
        }
      ]
    },
    {
      "cell_type": "code",
      "source": [
        "from abc import ABC, abstractmethod   #декоратор @abstractmethod может использоваться для объявления абстрактных методов свойств\n",
        "class Furniture:\n",
        "  @abstractmethod\n",
        "  def __init__(self):\n",
        "    self.quantity = int(input('Количество товара в заказе: ')) # атрибут \n",
        "class Case(Furniture):\n",
        "  def dresser(self): # метод\n",
        "    dresser_cost = 17000\n",
        "    cost = dresser_cost*self.quantity\n",
        "    print('Итоговая стоимость: ', cost)\n",
        "  def table(self): # метод\n",
        "    table_cost = 5000\n",
        "    cost = table_cost*self.quantity\n",
        "    print('Итоговая стоимость: ', cost)\n",
        "  def showcase(self): # метод\n",
        "    showcase_cost = 23000\n",
        "    cost = showcase_cost*self.quantity\n",
        "    print('Итоговая стоимость: ', cost)\n",
        "  def pedestal(self): # метод\n",
        "    pedestal_cost = 2000\n",
        "    cost = pedestal_cost*self.quantity\n",
        "    print('Итоговая стоимость: ', cost)\n",
        "  def wardrobe(self): # метод\n",
        "    wardrobe_cost = 36000\n",
        "    cost = wardrobe_cost*self.quantity\n",
        "    print('Итоговая стоимость: ', cost)\n",
        "class Soft(Furniture):\n",
        "  def sofa(self): # метод\n",
        "    sofa_cost = 40000\n",
        "    cost = sofa_cost*self.quantity\n",
        "    print('Итоговая стоимость: ', cost)\n",
        "  def bed(self): # метод\n",
        "    bed_cost = 36000\n",
        "    cost = bed_cost*self.quantity\n",
        "    print('Итоговая стоимость: ', cost)\n",
        "  def couch(self): # метод\n",
        "    couch_cost = 8000\n",
        "    cost = couch_cost*self.quantity\n",
        "    print('Итоговая стоимость: ', cost)\n",
        "  def chair(self): # метод\n",
        "    chair_cost = 15000\n",
        "    cost = chair_cost*self.quantity\n",
        "    print('Итоговая стоимость: ', cost)\n",
        "class Kitchen(Furniture):\n",
        "  def fridge(self): # метод\n",
        "    fridge_cost = 27000\n",
        "    cost = fridge_cost*self.quantity\n",
        "    print('Итоговая стоимость: ', cost)\n",
        "  def oven(self): # метод\n",
        "    oven_cost = 19000\n",
        "    cost = oven_cost*self.quantity\n",
        "    print('Итоговая стоимость: ', cost)\n",
        "  def cooker(self): # метод\n",
        "    cooker_cost = 9000\n",
        "    cost =cooker_cost*self.quantity\n",
        "    print('Итоговая стоимость: ', cost)\n",
        "  def sink(self): # метод\n",
        "    sink_cost = 6000\n",
        "    cost = sink_cost*self.quantity\n",
        "    print('Итоговая стоимость: ', cost)\n",
        "\n",
        "c = Case()\n",
        "c.table()\n",
        "s = Soft()\n",
        "s.sofa()\n",
        "k = Kitchen()\n",
        "k.fridge()"
      ],
      "metadata": {
        "colab": {
          "base_uri": "https://localhost:8080/"
        },
        "outputId": "2173582c-77d7-4923-fea9-62410c214633",
        "id": "JUK3LVfFI4DU"
      },
      "execution_count": null,
      "outputs": [
        {
          "output_type": "stream",
          "name": "stdout",
          "text": [
            "Количество товара в заказе: 7\n",
            "Итоговая стоимость:  35000\n",
            "Количество товара в заказе: 8\n",
            "Итоговая стоимость:  320000\n",
            "Количество товара в заказе: 12\n",
            "Итоговая стоимость:  324000\n"
          ]
        }
      ]
    },
    {
      "cell_type": "markdown",
      "source": [
        "### 2.5.  Имеется класс «мебель». Создайте класс «корпусная мебель», «мягкая мебель» и «кухонная мебель». Определите атрибуты и методы родительского класса и классов-наследников. \n",
        "## Свое дополнение: \n",
        "###Допустим, посчитаем стоимость покупки мебели оптом. Тогда корпусную, мягкую и кухонную мебель продают разные филиалы одной компании, значит и заказы необходимо делать в разных местах "
      ],
      "metadata": {
        "id": "RFXs3LJHW6kH"
      }
    },
    {
      "cell_type": "code",
      "source": [
        "class Furniture:\n",
        "  def __init__(self):\n",
        "    self.quantity = int(input('Количество товара в заказе: ')) # атрибут \n",
        "class Case(Furniture):\n",
        "  def dresser(self): # метод\n",
        "    dresser_cost = 17000\n",
        "    cost = dresser_cost*self.quantity\n",
        "    print('Итоговая стоимость: ', cost)\n",
        "  def table(self): # метод\n",
        "    table_cost = 5000\n",
        "    cost = table_cost*self.quantity\n",
        "    print('Итоговая стоимость: ', cost)\n",
        "  def showcase(self): # метод\n",
        "    showcase_cost = 23000\n",
        "    cost = showcase_cost*self.quantity\n",
        "    print('Итоговая стоимость: ', cost)\n",
        "  def pedestal(self): # метод\n",
        "    pedestal_cost = 2000\n",
        "    cost = pedestal_cost*self.quantity\n",
        "    print('Итоговая стоимость: ', cost)\n",
        "  def wardrobe(self): # метод\n",
        "    wardrobe_cost = 36000\n",
        "    cost = wardrobe_cost*self.quantity\n",
        "    print('Итоговая стоимость: ', cost)\n",
        "class Soft(Furniture):\n",
        "  def sofa(self): # метод\n",
        "    sofa_cost = 40000\n",
        "    cost = sofa_cost*self.quantity\n",
        "    print('Итоговая стоимость: ', cost)\n",
        "  def bed(self): # метод\n",
        "    bed_cost = 36000\n",
        "    cost = bed_cost*self.quantity\n",
        "    print('Итоговая стоимость: ', cost)\n",
        "  def couch(self): # метод\n",
        "    couch_cost = 8000\n",
        "    cost = couch_cost*self.quantity\n",
        "    print('Итоговая стоимость: ', cost)\n",
        "  def chair(self): # метод\n",
        "    chair_cost = 15000\n",
        "    cost = chair_cost*self.quantity\n",
        "    print('Итоговая стоимость: ', cost)\n",
        "class Kitchen(Furniture):\n",
        "  def fridge(self): # метод\n",
        "    fridge_cost = 27000\n",
        "    cost = fridge_cost*self.quantity\n",
        "    print('Итоговая стоимость: ', cost)\n",
        "  def oven(self): # метод\n",
        "    oven_cost = 19000\n",
        "    cost = oven_cost*self.quantity\n",
        "    print('Итоговая стоимость: ', cost)\n",
        "  def cooker(self): # метод\n",
        "    cooker_cost = 9000\n",
        "    cost =cooker_cost*self.quantity\n",
        "    print('Итоговая стоимость: ', cost)\n",
        "  def sink(self): # метод\n",
        "    sink_cost = 6000\n",
        "    cost = sink_cost*self.quantity\n",
        "    print('Итоговая стоимость: ', cost)\n",
        "\n",
        "c = Case()\n",
        "c.table()\n",
        "s = Soft()\n",
        "s.sofa()\n",
        "k = Kitchen()\n",
        "k.fridge()"
      ],
      "metadata": {
        "id": "-TABlKD8XDgz",
        "colab": {
          "base_uri": "https://localhost:8080/"
        },
        "outputId": "19ff957a-7e96-4633-c2d5-4cdcd4105e21"
      },
      "execution_count": null,
      "outputs": [
        {
          "output_type": "stream",
          "name": "stdout",
          "text": [
            "Количество товара в заказе: 7\n",
            "Итоговая стоимость:  35000\n",
            "Количество товара в заказе: 5\n",
            "Итоговая стоимость:  200000\n",
            "Количество товара в заказе: 3\n",
            "Итоговая стоимость:  81000\n"
          ]
        }
      ]
    },
    {
      "cell_type": "markdown",
      "source": [
        "### 2.6. Создайте приложение, в котором необходимо разработать базовый класс man. Объекты этого класса содержат справочную информацию о конкретном человеке (фамилию, инициалы, телефон, адрес, возраст). Создайте два производных от него класса: manager и secretary. Объекты класса manager дополнительно включают номер отдела и количество подчиненных. Объекты  класса manager дополнительно включают номер отдела и количество  подчиненных. Объекты класса secretary дополнительно включают фамилию  начальника. Данные о менеджерах и секретарях введите с клавиатуры и выведите на экран дисплея. "
      ],
      "metadata": {
        "id": "aryv1PdaXEDf"
      }
    },
    {
      "cell_type": "code",
      "source": [
        "class Man:\n",
        "  def __init__(self):\n",
        "    self.surname = input('Введите фамилию: ')\n",
        "    self.initials = input('Введите инициалы: ')\n",
        "    self.phone = input('Введите номер телефона: ')\n",
        "    self.adress = input('Введите адрес: ')\n",
        "    self.age = int(input('Введите возраст: '))\n",
        "class Manager(Man):\n",
        "  def manage(self):\n",
        "    self.number = int(input('Введите номер отдела: '))\n",
        "    self.quantity = int(input('Введите количество подчиненных: '))\n",
        "    print(' ')\n",
        "    print('Информация о менеждере: ')\n",
        "    print('ФИО: ', self.surname, self.initials)\n",
        "    print('Телефон: ', self.phone)\n",
        "    print('Адрес: ', self.adress)\n",
        "    print('Возраст: ',  self.age)\n",
        "    print('Номер отдела и кол-во подчиненных: ',  self.number, '--', self.quantity )\n",
        "\n",
        "class Secretary(Man):\n",
        "  def secret(self):\n",
        "    self.sur = input('Введите фамилию начальника: ')\n",
        "    print(' ')\n",
        "    print('Информация о секретаре: ')\n",
        "    print('ФИО: ', self.surname, self.initials)\n",
        "    print('Телефон: ', self.phone)\n",
        "    print('Адрес: ', self.adress)\n",
        "    print('Возраст: ',  self.age)\n",
        "    print('Фамилия начальника: ', self.sur)\n",
        "\n",
        "m = Manager()\n",
        "m.manage()\n",
        "print(' ')\n",
        "s = Secretary()\n",
        "s.secret()"
      ],
      "metadata": {
        "id": "ofR_0gBGXdNi",
        "colab": {
          "base_uri": "https://localhost:8080/"
        },
        "outputId": "c20c50cf-3643-4962-b636-9f3297691658"
      },
      "execution_count": null,
      "outputs": [
        {
          "output_type": "stream",
          "name": "stdout",
          "text": [
            "Введите фамилию: Иванов \n",
            "Введите инициалы: И. И. \n",
            "Введите номер телефона: +7 9999999999\n",
            "Введите адрес: ул. Ясная, д. 5 \n",
            "Введите возраст: 27\n",
            "Введите номер отдела: 3\n",
            "Введите количество подчиненных: 13\n",
            " \n",
            "Информация о менеждере: \n",
            "ФИО:  Иванов  И. И. \n",
            "Телефон:  +7 9999999999\n",
            "Адрес:  ул. Ясная, д. 5 \n",
            "Возраст:  27\n",
            "Номер отдела и кол-во подчиненных:  3 -- 13\n",
            " \n",
            "Введите фамилию: Петров \n",
            "Введите инициалы: П. П.\n",
            "Введите номер телефона: +7 8887776655\n",
            "Введите адрес: ул. Радужная, д. 35\n",
            "Введите возраст: 23\n",
            "Введите фамилию начальника: Федоров \n",
            " \n",
            "Информация о секретаре: \n",
            "ФИО:  Петров  П. П.\n",
            "Телефон:  +7 8887776655\n",
            "Адрес:  ул. Радужная, д. 35\n",
            "Возраст:  23\n",
            "Фамилия начальника:  Федоров \n"
          ]
        }
      ]
    },
    {
      "cell_type": "markdown",
      "source": [
        "### 2.7. Разработайте приложение, в котором опишите базовый класс building. Он хранит этаж, число комнат в квартире, общую площадь квартиры. Три  производных класса house-k, house-p, house-m наследуют класс building.Каждый из них хранит надбавку к цене квадратного метра площади, зависящую от материала дома. Производный класс office наследует производные классы house-k, house-p, house-m и хранит наличие лоджии и надбавку, связанную с районом города. Вывести на экран стоимость конкретной квартиры. "
      ],
      "metadata": {
        "id": "vmCgU9AgXd4E"
      }
    },
    {
      "cell_type": "code",
      "source": [
        "# 1 - Остоженка\n",
        "# 2 - Арбат\n",
        "# 3 - Тверской\n",
        "# 4 - Якиманка\n",
        "# 5 - Центр Москвы\n",
        "# 6 - Хамовники\n",
        "# 7 - Пресненский\n",
        "# 8 - Красносельский\n",
        "# 9 - Замосквооечье\n",
        "# 10 - Мещанский\n",
        "# 11 - Дорогомилово"
      ],
      "metadata": {
        "id": "Pv90ZADQCnWI"
      },
      "execution_count": null,
      "outputs": []
    },
    {
      "cell_type": "code",
      "source": [],
      "metadata": {
        "id": "7O4gMgaZD00a"
      },
      "execution_count": null,
      "outputs": []
    },
    {
      "cell_type": "code",
      "source": [
        "from abc import ABC, abstractmethod\n",
        "# Пусть существует общая стоимость за квардратный метр - 240600 \n",
        "# Рассматриваем только 17-этажные дома\n",
        "\n",
        "\n",
        "class Building:\n",
        "  @abstractmethod\n",
        "  def __init__(self):\n",
        "    self.price = 240600\n",
        "    self.floor = int(input('Введите этаж: '))\n",
        "    self.rooms = int(input('Введите количество комнат: '))\n",
        "    self.area = int(input('Введите площадь: '))\n",
        "  def osn(self):\n",
        "    self.cost = self.area * self.price\n",
        "    if self.floor == 1 or self.floor == 17:\n",
        "      self.val = self.cost * 0.90\n",
        "    else:\n",
        "      self.val = self.cost\n",
        "    if self.rooms == 1:\n",
        "      self.val = self.val * 1.08\n",
        "    print('Стоимость квартиры вне зависимости от варианта постройки:', self.val)\n",
        "class housek(Building):\n",
        "  def kirp(self):\n",
        "    self.val1 = self.val * 1.05\n",
        "    print('Стоимость квартиры в кирпичном доме: ', self.val1)\n",
        "class housep(Building):\n",
        "  def osn(self):\n",
        "    self.val2 = self.val \n",
        "    print('Стоимость квартиры в панельном доме: ', self.val2)\n",
        "class housem(Building):\n",
        "  def osn(self):\n",
        "    self.val3 = self.val * 1.1\n",
        "    print('Стоимость квартиры в монолитном доме: ', self.val3)\n",
        "\n",
        "\n",
        "A = Building()\n",
        "A.osn()"
      ],
      "metadata": {
        "colab": {
          "base_uri": "https://localhost:8080/"
        },
        "outputId": "cd33b045-928e-43e2-cc58-082721efce84",
        "id": "W8RrkAuaD3Ot"
      },
      "execution_count": null,
      "outputs": [
        {
          "output_type": "stream",
          "name": "stdout",
          "text": [
            "Введите этаж: 1\n",
            "Введите количество комнат: 1\n",
            "Введите площадь: 30\n",
            "Стоимость квартиры вне зависимости от варианта постройки: 7015896.0\n"
          ]
        }
      ]
    },
    {
      "cell_type": "code",
      "source": [],
      "metadata": {
        "id": "k5bNNkJFG_Jd"
      },
      "execution_count": null,
      "outputs": []
    },
    {
      "cell_type": "code",
      "source": [
        "\n",
        "class Building:\n",
        "  def __init__(self):\n",
        "    self.price = 240600\n",
        "    self.floor = int(input('Введите этаж: '))\n",
        "    self.rooms = int(input('Введите количество комнат: '))\n",
        "    self.area = int(input('Введите площадь: '))\n",
        "    self.cost = self.area * self.price\n",
        "    if self.floor == 1 or self.floor == 17:\n",
        "      self.val = self.cost * 0.90\n",
        "    else:\n",
        "      self.val = self.cost\n",
        "    if self.rooms == 1:\n",
        "      self.val = self.val * 1.08\n",
        "    print('Стоимость квартиры вне зависимости от варианта постройки:', self.val)\n",
        "class housek(Building):\n",
        "  def osn(self):\n",
        "    self.val = self.val * 1.05\n",
        "    print('Стоимость квартиры в кирпичном доме: ', self.val)\n",
        "class housep(Building):\n",
        "  def osn(self):\n",
        "    self.val = self.val \n",
        "    print('Стоимость квартиры в панельном доме: ', self.val)\n",
        "class housem(Building):\n",
        "  def osn(self):\n",
        "    self.val = self.val * 1.1\n",
        "    print('Стоимость квартиры в монолитном доме: ', self.val)\n",
        "\n",
        "A = housem()\n",
        "A.osn()"
      ],
      "metadata": {
        "colab": {
          "base_uri": "https://localhost:8080/"
        },
        "id": "nYNB0aBTNlyl",
        "outputId": "554fdd07-b63f-4b2a-cdb3-33a9c41fda3e"
      },
      "execution_count": null,
      "outputs": [
        {
          "output_type": "stream",
          "name": "stdout",
          "text": [
            "Введите этаж: 1\n",
            "Введите количество комнат: 1\n",
            "Введите площадь: 30\n",
            "Стоимость квартиры вне зависимости от варианта постройки: 7015896.0\n",
            "Стоимость квартиры в монолитном доме:  7717485.600000001\n"
          ]
        }
      ]
    },
    {
      "cell_type": "code",
      "source": [
        " "
      ],
      "metadata": {
        "id": "f3U3OQYNvD5b"
      },
      "execution_count": null,
      "outputs": []
    },
    {
      "cell_type": "code",
      "source": [
        "\n",
        "class Building:\n",
        "  def __init__(self):\n",
        "    self.price = 240600\n",
        "    self.floor = int(input('Введите этаж: '))\n",
        "    self.rooms = int(input('Введите количество комнат: '))\n",
        "    self.area = int(input('Введите площадь: '))\n",
        "    self.cost = self.area * self.price\n",
        "    if self.floor == 1 or self.floor == 17:\n",
        "      self.val = self.cost * 0.90\n",
        "    else:\n",
        "      self.val = self.cost\n",
        "    if self.rooms == 1:\n",
        "      self.val = self.val * 1.08\n",
        "    print('Стоимость квартиры вне зависимости от варианта постройки:', self.val)\n",
        "class housek(Building):\n",
        "  def osn(self):\n",
        "    self.val = self.val * 1.05\n",
        "    print('Стоимость квартиры в кирпичном доме: ', self.val)\n",
        "class housep(Building):\n",
        "  def osn(self):\n",
        "    self.val = self.val \n",
        "    print('Стоимость квартиры в панельном доме: ', self.val)\n",
        "class housem(Building):\n",
        "  def osn(self):\n",
        "    self.val = self.val * 1.1\n",
        "    print('Стоимость квартиры в монолитном доме: ', self.val)\n",
        "class office(housek, housep, housem):\n",
        "  def osn(self):\n",
        "    print('Есть ли в квартире лоджия? ')\n",
        "    self.lod = int(input('Введите 1 - если да и 0 - если нет: '))\n",
        "    self.d = int(input('Введите номер района: '))\n",
        "    if self.lod == 1:\n",
        "      self.val = self.val * 1.07\n",
        "    if self.d == 1:\n",
        "      self.val = self.val * 2\n",
        "    if self.d == 2:\n",
        "      self.val = self.val * 1.96\n",
        "    if self.d == 3:\n",
        "      self.val = self.val * 1.92\n",
        "    if self.d == 4:\n",
        "      self.val = self.val * 1.89\n",
        "    if self.d == 5:\n",
        "      self.val = self.val * 1.87\n",
        "    if self.d == 6:\n",
        "      self.val = self.val * 1.82\n",
        "    if self.d == 7:\n",
        "      self.val = self.val * 1.8\n",
        "    if self.d == 8:\n",
        "      self.val = self.val * 1.55\n",
        "    if self.d == 9:\n",
        "      self.val = self.val * 1.53\n",
        "    if self.d == 10:\n",
        "      self.val = self.val * 1.5\n",
        "    if self.d == 11:\n",
        "      self.val = self.val * 1.48  \n",
        "    print('Итоговая стоимость квартиры: ', self.val) \n",
        "A = office()\n",
        "A.osn()"
      ],
      "metadata": {
        "colab": {
          "base_uri": "https://localhost:8080/"
        },
        "outputId": "71f04727-882d-4ec1-9c0d-f8eda951de50",
        "id": "heQMaxDrOPTE"
      },
      "execution_count": null,
      "outputs": [
        {
          "output_type": "stream",
          "name": "stdout",
          "text": [
            "Введите этаж: 1\n",
            "Введите количество комнат: 1\n",
            "Введите площадь: 30\n",
            "Стоимость квартиры вне зависимости от варианта постройки: 7015896.0\n",
            "Есть ли в квартире лоджия? \n",
            "Введите 1 - если да и 0 - если нет: 1\n",
            "Введите номер района: 4\n",
            "Итоговая стоимость квартиры:  14188246.480800001\n"
          ]
        }
      ]
    },
    {
      "cell_type": "markdown",
      "source": [
        "### 2.8. В программе рассчитываются площади треугольника и прямоугольника. С этой целью создается абстрактный класс area, в котором сохраняются две размерности фигуры. В производных классах задайте вид конкретных фигур и возвратите их площади"
      ],
      "metadata": {
        "id": "5DL6E5ykXy6X"
      }
    },
    {
      "cell_type": "code",
      "source": [
        "from abc import ABC, abstractmethod\n",
        "class Area(ABC):\n",
        "  def __init__(self):\n",
        "    self.height = int(input('Введите высоту: '))\n",
        "    self.side = int(input('Введите сторону: '))\n",
        "  @abstractmethod\n",
        "  def area(self):\n",
        "      print('Вычисляем площадь фигуры...')\n",
        "class Triangle(Area):\n",
        "  def area(self):\n",
        "    super().area()\n",
        "    area = 0.5 * self.height * self.side\n",
        "    print('Площадь треугольника = ', area)\n",
        "class Rectangle(Area):\n",
        "  def area(self):\n",
        "    super().area()\n",
        "    area = self.height * self.side\n",
        "    print('Площадь прямоугольника =', area)\n",
        "\n",
        "t = Triangle()\n",
        "t.area()\n",
        "r = Rectangle()\n",
        "r.area()"
      ],
      "metadata": {
        "id": "qLIeyXkFb4DP",
        "colab": {
          "base_uri": "https://localhost:8080/"
        },
        "outputId": "5df1307c-d267-480d-919e-62357a2430ad"
      },
      "execution_count": null,
      "outputs": [
        {
          "output_type": "stream",
          "name": "stdout",
          "text": [
            "Введите высоту: 5\n",
            "Введите сторону: 6\n",
            "Вычисляем площадь фигуры...\n",
            "Площадь треугольника =  15.0\n",
            "Введите высоту: 6\n",
            "Введите сторону: 6\n",
            "Вычисляем площадь фигуры...\n",
            "Площадь прямоугольника = 36\n"
          ]
        }
      ]
    }
  ]
}