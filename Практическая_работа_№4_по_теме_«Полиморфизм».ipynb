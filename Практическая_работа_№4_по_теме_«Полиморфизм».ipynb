{
  "nbformat": 4,
  "nbformat_minor": 0,
  "metadata": {
    "colab": {
      "provenance": [],
      "authorship_tag": "ABX9TyPSq8HWXqNNf4FYIafi5KW1",
      "include_colab_link": true
    },
    "kernelspec": {
      "name": "python3",
      "display_name": "Python 3"
    },
    "language_info": {
      "name": "python"
    }
  },
  "cells": [
    {
      "cell_type": "markdown",
      "metadata": {
        "id": "view-in-github",
        "colab_type": "text"
      },
      "source": [
        "<a href=\"https://colab.research.google.com/github/dzhamalovas/Osnovy_programming/blob/main/%D0%9F%D1%80%D0%B0%D0%BA%D1%82%D0%B8%D1%87%D0%B5%D1%81%D0%BA%D0%B0%D1%8F_%D1%80%D0%B0%D0%B1%D0%BE%D1%82%D0%B0_%E2%84%964_%D0%BF%D0%BE_%D1%82%D0%B5%D0%BC%D0%B5_%C2%AB%D0%9F%D0%BE%D0%BB%D0%B8%D0%BC%D0%BE%D1%80%D1%84%D0%B8%D0%B7%D0%BC%C2%BB.ipynb\" target=\"_parent\"><img src=\"https://colab.research.google.com/assets/colab-badge.svg\" alt=\"Open In Colab\"/></a>"
      ]
    },
    {
      "cell_type": "markdown",
      "source": [
        "## Лекция \n",
        "https://github.com/dzhamalovas/Osnovy_programming/blob/main/%D0%A2%D0%B5%D0%BC%D0%B0_4_%D0%9F%D0%B0%D1%80%D0%B0%D0%B4%D0%B8%D0%B3%D0%BC%D1%8B_%D0%9E%D0%9E%D0%9F_%D0%9F%D0%BE%D0%BB%D0%B8%D0%BC%D0%BE%D1%80%D1%84%D0%B8%D0%B7%D0%BC.ipynb"
      ],
      "metadata": {
        "id": "iA8BnnGb9aH9"
      }
    },
    {
      "cell_type": "markdown",
      "source": [
        "##  Построить класс 1-го уровня с указанными в задании полями и методами: \n",
        "- конструктор, \n",
        "- функция, которая определяет “качество” (Q ) по заданной формуле,\n",
        "- вывод информации об объекте.\n",
        "### Построить класс-потомок, который содержит дополнительное поле P и перекрывает функцию качества (Q ), выполняя вычисление по новой формуле (Qp)\n",
        " Спутниковая антенна (тарелка):\n",
        "- диаметр,\n",
        "- материал,\n",
        "- цена.\n",
        "\n",
        "* Q = диаметр / цена \n",
        "* P: тип подвески\n",
        "(азимутальная, полярная,\n",
        "тороидальная)\n",
        "* Qp= Q, если тип подвески\n",
        "азимутальный,\n",
        "* Qp = 2*Q, если тип подвески\n",
        "полярный,\n",
        "* Qp = 2,5*Q, если тип подвески\n",
        "тороидальный\n",
        "\n",
        "## Настроить ввод данных и исключения"
      ],
      "metadata": {
        "id": "vw57LqnM9Q6h"
      }
    },
    {
      "cell_type": "markdown",
      "source": [
        "Ограничение на диаметр по виду тарелок\n"
      ],
      "metadata": {
        "id": "3MCjniG9Ek7K"
      }
    },
    {
      "cell_type": "code",
      "source": [],
      "metadata": {
        "id": "EDhS0ngUGKub"
      },
      "execution_count": null,
      "outputs": []
    },
    {
      "cell_type": "code",
      "source": [
        "class Satellite:\n",
        "    def __init__(self):\n",
        "      try:\n",
        "#        self.diameter = int(input('Введите диаметр: '))\n",
        "#        self.price = int(input('Введите цену: '))\n",
        "        self.material = input('Введите материал: ')\n",
        "      except:\n",
        "        raise ValueError('Введите корректные данные')\n",
        "    \n",
        "    def quality(self):\n",
        "        return self.diameter / self.price\n",
        "    \n",
        "    def str(self):\n",
        "        print(f\"Спутниковая антенна. Диаметр: {self.diameter} Материал: {self.material} Цена: {self.price}\")\n",
        "        \n",
        "\n",
        "class SatelliteAntenna(Satellite):\n",
        "    def __init__(self):\n",
        "        super().__init__() # позволяет наследовать базовые класс без необходимости явно ссылаться на базовый класс\n",
        "        print('Введите тип подвески: ')\n",
        "        print('азимутальный-1; полярный-2; тороидальный-3')\n",
        "        try:\n",
        "          self.suspension_type = int(input('1/2/3: '))\n",
        "        except:\n",
        "          raise ValueError('Введите число')\n",
        "    def quality(self):\n",
        "#        q = super().quality()\n",
        "#        print('Функция качества без учета типа подвески', self.diameter / self.price)\n",
        "\n",
        "        if self.suspension_type == 1:\n",
        "          self.diameter = int(input('Введите диаметр в диапазоне от 60 до 120: '))\n",
        "          if 59 < self.diameter < 121:\n",
        "            self.price = int(input('Введите цену: '))\n",
        "            return self.diameter / self.price\n",
        "          else:\n",
        "            raise ValueError('Проверьте диапазон')\n",
        "\n",
        "        elif self.suspension_type == 2:\n",
        "          self.diameter = int(input('Введите диаметр в диапазоне от 100 до 300: '))\n",
        "          if 99 < self.diameter < 301:\n",
        "            self.price = int(input('Введите цену: '))\n",
        "            return self.diameter / self.price * 2\n",
        "          else:\n",
        "            raise ValueError('Проверьте диапазон')          \n",
        "\n",
        "\n",
        "        elif self.suspension_type == 3:\n",
        "          self.diameter = int(input('Введите диаметр в диапазоне от 10 до 30: '))\n",
        "          if 9 > self.diameter > 31:\n",
        "            self.price = int(input('Введите цену: '))\n",
        "            return 2.5 * self.diameter / self.price\n",
        "          else:\n",
        "            raise ValueError('Проверьте диапазон')          \n",
        "\n",
        "        else:\n",
        "          print('Введите один из трех параметров')\n",
        "        \n",
        "    def str(self):\n",
        "        print(f\"Спутниковая антенна. Диаметр: {self.diameter} Материал: {self.material} Цена: {self.price} Тип подвески: {self.suspension_type}\")\n",
        "\n",
        "#s = Satellite()\n",
        "#s.str()\n",
        "#print('Функция качества: ',s.quality())\n",
        "\n",
        "sa = SatelliteAntenna()\n",
        "print('Функция качества: ',sa.quality())\n",
        "sa.str()\n"
      ],
      "metadata": {
        "colab": {
          "base_uri": "https://localhost:8080/"
        },
        "outputId": "9baafc2b-8ea3-484f-ec2d-3c1a2d968bb3",
        "id": "ay80arUlGLBO"
      },
      "execution_count": 17,
      "outputs": [
        {
          "output_type": "stream",
          "name": "stdout",
          "text": [
            "Введите материал: aluminum\n",
            "Введите тип подвески: \n",
            "азимутальный-1; полярный-2; тороидальный-3\n",
            "1/2/3: 1\n",
            "Введите диаметр в диапазоне от 60 до 120: 70\n",
            "Введите цену: 5000\n",
            "Функция качества:  0.014\n",
            "Спутниковая антенна. Диаметр: 70 Материал: aluminum Цена: 5000 Тип подвески: 1\n"
          ]
        }
      ]
    },
    {
      "cell_type": "code",
      "source": [],
      "metadata": {
        "id": "HgQ_86Yj_5LE"
      },
      "execution_count": null,
      "outputs": []
    },
    {
      "cell_type": "code",
      "source": [
        "class Satellite:\n",
        "    def __init__(self):\n",
        "      try:\n",
        "        self.diameter = int(input('Введите диаметр: '))\n",
        "        self.material = input('Введите материал: ')\n",
        "        self.price = int(input('Введите цену: '))\n",
        "      except:\n",
        "        raise ValueError('Введите корректные данные')\n",
        "    \n",
        "    def quality(self):\n",
        "        return self.diameter / self.price\n",
        "    \n",
        "    def str(self):\n",
        "        print(f\"Спутниковая антенна. Диаметр: {self.diameter} Материал: {self.material} Цена: {self.price}\")\n",
        "        \n",
        "\n",
        "class SatelliteAntenna(Satellite):\n",
        "    def __init__(self):\n",
        "        super().__init__() # позволяет наследовать базовые класс без необходимости явно ссылаться на базовый класс\n",
        "        print('Введите тип подвески: ')\n",
        "        print('азимутальный-1; полярный-2; тороидальный-3')\n",
        "        try:\n",
        "          self.suspension_type = int(input('1/2/3: '))\n",
        "        except:\n",
        "          raise ValueError('Введите число')\n",
        "    def quality(self):\n",
        "        q = super().quality()\n",
        "        print('Функция качества без учета типа подвески', q)\n",
        "        if self.suspension_type == 1:\n",
        "            return q\n",
        "        elif self.suspension_type == 2:\n",
        "            return 2 * q\n",
        "        elif self.suspension_type == 3:\n",
        "            return 2.5 * q\n",
        "        else:\n",
        "          print('Введите один из трех параметров')\n",
        "        \n",
        "    def str(self):\n",
        "        print(f\"Спутниковая антенна. Диаметр: {self.diameter} Материал: {self.material} Цена: {self.price} Тип подвески: {self.suspension_type}\")\n",
        "\n",
        "#s = Satellite()\n",
        "#s.str()\n",
        "#print('Функция качества: ',s.quality())\n",
        "\n",
        "sa = SatelliteAntenna()\n",
        "sa.str()\n",
        "print('Функция качества: ',sa.quality())\n"
      ],
      "metadata": {
        "colab": {
          "base_uri": "https://localhost:8080/"
        },
        "outputId": "908f2017-7727-46f9-d70b-1f1e44a2f2c7",
        "id": "BOxdRuAo_5ho"
      },
      "execution_count": 12,
      "outputs": [
        {
          "output_type": "stream",
          "name": "stdout",
          "text": [
            "Введите диаметр: 100000000\n",
            "Введите материал: iron\n",
            "Введите цену: 500\n",
            "Введите тип подвески: \n",
            "азимутальный-1; полярный-2; тороидальный-3\n",
            "1/2/3: 3\n",
            "Спутниковая антенна. Диаметр: 100000000 Материал: iron Цена: 500 Тип подвески: 3\n",
            "Функция качества без учета типа подвески 200000.0\n",
            "Функция качества:  500000.0\n"
          ]
        }
      ]
    },
    {
      "cell_type": "code",
      "source": [],
      "metadata": {
        "id": "OPNGf7VJ_5B-"
      },
      "execution_count": null,
      "outputs": []
    },
    {
      "cell_type": "code",
      "source": [
        "class Satellite:\n",
        "    def __init__(self):\n",
        "      try:\n",
        "        self.diameter = int(input('Введите диаметр: '))\n",
        "        self.material = input('Введите материал: ')\n",
        "        self.price = int(input('Введите цену: '))\n",
        "      except:\n",
        "        print('Введите корректные данные')\n",
        "    \n",
        "    def quality(self):\n",
        "        return self.diameter / self.price\n",
        "    \n",
        "    def str(self):\n",
        "        print(f\"Спутниковая антенна. Диаметр: {self.diameter} Материал: {self.material} Цена: {self.price}\")\n",
        "        \n",
        "\n",
        "class SatelliteAntenna(Satellite):\n",
        "    def __init__(self):\n",
        "        super().__init__() # позволяет наследовать базовые класс без необходимости явно ссылаться на базовый класс\n",
        "        print('Введите тип подвески: ')\n",
        "        self.suspension_type = input('азимутальный/полярный/тороидальный: ')\n",
        "    def quality(self):\n",
        "        q = super().quality()\n",
        "        print('Функция качества без учета типа подвески', q)\n",
        "        if self.suspension_type == \"азимутальный\":\n",
        "            return q\n",
        "        elif self.suspension_type == \"полярный\":\n",
        "            return 2 * q\n",
        "        elif self.suspension_type == \"тороидальный\":\n",
        "            return 2.5 * q\n",
        "        else:\n",
        "          print('Введите один из трех параметров')\n",
        "        \n",
        "    def str(self):\n",
        "        print(f\"Спутниковая антенна. Диаметр: {self.diameter} Материал: {self.material} Цена: {self.price} Тип подвески: {self.suspension_type}\")\n",
        "\n",
        "#s = Satellite()\n",
        "#s.str()\n",
        "#print('Функция качества: ',s.quality())\n",
        "\n",
        "sa = SatelliteAntenna()\n",
        "sa.str()\n",
        "print('Функция качества: ',sa.quality())\n"
      ],
      "metadata": {
        "id": "6vAjUSKe-w2o",
        "colab": {
          "base_uri": "https://localhost:8080/"
        },
        "outputId": "c118a1df-a643-422c-f5c7-1d074780cf13"
      },
      "execution_count": 6,
      "outputs": [
        {
          "output_type": "stream",
          "name": "stdout",
          "text": [
            "Введите диаметр: 100000000\n",
            "Введите материал: iron\n",
            "Введите цену: 500\n",
            "Введите тип подвески: \n",
            "азимутальный/полярный/тороидальный: азимутальный\n",
            "Спутниковая антенна. Диаметр: 100000000 Материал: iron Цена: 500 Тип подвески: азимутальный\n",
            "Функция качества без учета типа подвески 200000.0\n",
            "Функция качества:  200000.0\n"
          ]
        }
      ]
    },
    {
      "cell_type": "markdown",
      "source": [
        "### Черновик "
      ],
      "metadata": {
        "id": "zDrTrP1h9yPl"
      }
    },
    {
      "cell_type": "code",
      "source": [
        "class Satellite:\n",
        "    def __init__(self, diameter, material, price):\n",
        "        self.diameter = diameter\n",
        "        self.material = material\n",
        "        self.price = price\n",
        "    \n",
        "    def quality(self):\n",
        "        return self.diameter / self.price\n",
        "    \n",
        "    def str(self):\n",
        "        print(f\"Спутниковая антенна. Диаметр: {self.diameter} Материал: {self.material} Цена: {self.price}\")\n",
        "        \n",
        "\n",
        "class SatelliteAntenna(Satellite):\n",
        "    def __init__(self, diameter, material, price, suspension_type):\n",
        "        super().__init__(diameter, material, price) # позволяет наследовать базовые класс без необходимости явно ссылаться на базовый класс\n",
        "        self.suspension_type = suspension_type\n",
        "        \n",
        "    def quality(self):\n",
        "        q = super().quality()\n",
        "        if self.suspension_type == \"азимутальный\":\n",
        "            return q\n",
        "        elif self.suspension_type == \"полярный\":\n",
        "            return 2 * q\n",
        "        elif self.suspension_type == \"тороидальный\":\n",
        "            return 2.5 * q\n",
        "        \n",
        "    def str(self):\n",
        "#        super().info()\n",
        "        print(f\"Спутниковая антенна. Диаметр: {self.diameter} Материал: {self.material} Цена: {self.price} Тип подвески: {self.suspension_type}\")"
      ],
      "metadata": {
        "id": "zSNMfD9ZCVws"
      },
      "execution_count": null,
      "outputs": []
    },
    {
      "cell_type": "code",
      "source": [
        "s = Satellite(1000000, 'железо', 5000)\n",
        "s.str()\n",
        "print('Функция качества: ',s.quality())"
      ],
      "metadata": {
        "colab": {
          "base_uri": "https://localhost:8080/"
        },
        "outputId": "70567535-6e4f-4f10-9862-ce0f2d00e800",
        "id": "FESnNTNFCVw5"
      },
      "execution_count": null,
      "outputs": [
        {
          "output_type": "stream",
          "name": "stdout",
          "text": [
            "Спутниковая антенна. Диаметр: 1000000 Материал: железо Цена: 5000\n",
            "Функция качества:  200.0\n"
          ]
        }
      ]
    },
    {
      "cell_type": "code",
      "source": [
        "sa = SatelliteAntenna(1000000, 'железо', 5000, \"полярный\")\n",
        "sa.str()\n",
        "\n",
        "print('Функция качества: ',sa.quality())\n"
      ],
      "metadata": {
        "colab": {
          "base_uri": "https://localhost:8080/"
        },
        "outputId": "dee70f69-c04a-488e-91eb-9eddf18f90e7",
        "id": "KthKrZRPCVw5"
      },
      "execution_count": null,
      "outputs": [
        {
          "output_type": "stream",
          "name": "stdout",
          "text": [
            "Спутниковая антенна. Диаметр: 1000000 Материал: железо Цена: 5000 Тип подвески: полярный\n",
            "Функция качества:  400.0\n"
          ]
        }
      ]
    }
  ]
}