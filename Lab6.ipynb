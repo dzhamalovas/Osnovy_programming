{
  "nbformat": 4,
  "nbformat_minor": 0,
  "metadata": {
    "colab": {
      "provenance": [],
      "authorship_tag": "ABX9TyP1+iUaGWij9sNgYm8yNC6G",
      "include_colab_link": true
    },
    "kernelspec": {
      "name": "python3",
      "display_name": "Python 3"
    },
    "language_info": {
      "name": "python"
    }
  },
  "cells": [
    {
      "cell_type": "markdown",
      "metadata": {
        "id": "view-in-github",
        "colab_type": "text"
      },
      "source": [
        "<a href=\"https://colab.research.google.com/github/dzhamalovas/Osnovy_programming/blob/main/Lab6.ipynb\" target=\"_parent\"><img src=\"https://colab.research.google.com/assets/colab-badge.svg\" alt=\"Open In Colab\"/></a>"
      ]
    },
    {
      "cell_type": "code",
      "source": [],
      "metadata": {
        "id": "ibydL4kVxlOy"
      },
      "execution_count": null,
      "outputs": []
    },
    {
      "cell_type": "markdown",
      "source": [
        "# 6.2.1. Оценка сложности алгоритмов\n",
        "Для задач 6.2.1-6.2.7 ответьте на следующие вопросы:\n",
        "\n",
        "1. Что выполняет приведенная функция?\n",
        "\n",
        "2. Какова вычислительная сложность алгоритма (наихудшая оценка, O-нотацию)?\n",
        "\n",
        "Ответы необходимо указать в строке документации с пометкой «Алгоритм» и «Сложность» соответственно. Сложность - один из вариантов:\n",
        "\n",
        "O(1), O(N), O(log(N)), O(N log(N)) или O(N^2).\n",
        "считая, что N - размер входных данных."
      ],
      "metadata": {
        "id": "pCJELL5F9KC2"
      }
    },
    {
      "cell_type": "code",
      "source": [
        "def foo(a):\n",
        "    \"\"\"!!!\n",
        "    1. Располагает числа в порядке возрастания. \n",
        "    Сложность кода: O(N^2)\n",
        "Для оценки вычислительной сложности алгоритмов необходимо знать и учитывать сложности:\n",
        "используемых структур данных;\n",
        "совокупности различных операций. !!!.\n",
        "O(N)*O(N)+O(1)+O(1)+O(1)=O(N^2)+3O(1)=O(N^2)\n",
        "    \"\"\"\n",
        "    for i in range(len(a), 0, -1):    # O(N)+O(1)=O(N)\n",
        "        for j in range(1, i):   # O(N)   \n",
        "            if a[j-1] > a[j]: # O(1)+O(1)=O(1)\n",
        "                a[j-1], a[j] = a[j], a[j-1] # O(1)+O(1)=O(1)\n",
        "    return a    #O(1)\n",
        "\n",
        "\n",
        "a = [1, 2, 3, 4, 2, 1, 3, 4, 3, 5, -2, -2, 2, -2, 65, 2, 2]\n",
        "foo(a)\n"
      ],
      "metadata": {
        "colab": {
          "base_uri": "https://localhost:8080/"
        },
        "id": "qVD92G64-kjY",
        "outputId": "dc7c68d3-7d13-4195-8375-26945782c7b5"
      },
      "execution_count": null,
      "outputs": [
        {
          "output_type": "execute_result",
          "data": {
            "text/plain": [
              "[-2, -2, -2, 1, 1, 2, 2, 2, 2, 2, 3, 3, 3, 4, 4, 5, 65]"
            ]
          },
          "metadata": {},
          "execution_count": 1
        }
      ]
    },
    {
      "cell_type": "markdown",
      "source": [
        "# 6.2.2"
      ],
      "metadata": {
        "id": "Oo_kBpyxM5NV"
      }
    },
    {
      "cell_type": "code",
      "source": [
        "def foo(i):\n",
        "    \"\"\"\n",
        "    1. Преобразует число в строку\n",
        "    Сложность: O(N).\n",
        "    O(1)+O(1)+O(1)+O(1)+O(N)*O(1)+(O(1)+O(1))=4O(1)+O(N)+3O(1)=O(N)\n",
        "    \"\"\"\n",
        "    digits = \"0123456789\"  # O(1)\n",
        "    if i == 0:    # O(1)\n",
        "      return \"0\"    # O(1)\n",
        "    result = \"\"  # O(1)\n",
        "    while i > 0:  # O(N)+О(1)=O(N)\n",
        "      result = digits[i%10] + result  # O(1)+O(1)=O(1)\n",
        "      i = i // 10  # O(1)+O(1)=O(1)\n",
        "    return result  # O(1)\n",
        "\n",
        "\n"
      ],
      "metadata": {
        "id": "Hs7oCNdPM9lp"
      },
      "execution_count": null,
      "outputs": []
    },
    {
      "cell_type": "markdown",
      "source": [
        "# 6.2.3"
      ],
      "metadata": {
        "id": "zYH0zfeTVdoY"
      }
    },
    {
      "cell_type": "code",
      "source": [
        "def foo(s):\n",
        " \"\"\"\n",
        " 1. Функция \"вытаскивает\" все цифры из строки и преобразовывает их в целое число\n",
        "Параметры:\n",
        "- s (str): строка.\n",
        "Сложность: O(N^2).\n",
        "O(1)+O(N)*O(N)+O(1)+O(1)=O(1)+O(N^2)+3O(1)=O(N^2)\n",
        "\"\"\"\n",
        "  val = 0 # O(1)\n",
        "  for c in s: # O(N)\n",
        "    if c.isdigit(): # O(1)+O(N)=O(N)/ O(len(c))\n",
        "     val += int(c) # O(1)\n",
        "  return val # O(1)\n",
        "\n"
      ],
      "metadata": {
        "id": "xSMLkx6EVpsd"
      },
      "execution_count": null,
      "outputs": []
    },
    {
      "cell_type": "markdown",
      "source": [
        "# 6.2.4"
      ],
      "metadata": {
        "id": "0hK7SY8aWBan"
      }
    },
    {
      "cell_type": "code",
      "source": [
        "def foo(n):\n",
        "    \"\"\"!!!\n",
        "  1. Выводит все простые числа до n\n",
        "    Параметры:\n",
        "        - n (int): число.\n",
        "\n",
        "    Сложность: O(N^2).\n",
        "O(1)+O(N)*(O(1)+O(1)+O(N)*O(1))+O(1)+O(1)+O(1)=O(N^2)\n",
        "    \"\"\"\n",
        "    res = [] #O(1)\n",
        "    for i in range(1, n + 1): # O(N)+O(N)+O(1)=O(N)\n",
        "        divisors = 0 # O(1)\n",
        "        j = 2 #O(1)\n",
        "        while j < i and divisors == 0: # O(N)+O(1)+O(N)\n",
        "            if i % j == 0: # O(1)\n",
        "                divisors += 1 # O(1)\n",
        "            j += 1 #O(1)\n",
        "\n",
        "        if divisors == 0: # O(1)+O(1)=O(1)\n",
        "            res.append(i) # O(1)\n",
        "\n",
        "    return res #O(1)\n",
        "\n"
      ],
      "metadata": {
        "id": "Q_9U9gnHWARx"
      },
      "execution_count": null,
      "outputs": []
    },
    {
      "cell_type": "markdown",
      "source": [
        "# 6.2.5"
      ],
      "metadata": {
        "id": "UxMPZQzCmNi-"
      }
    },
    {
      "cell_type": "code",
      "source": [
        "def foo(nums):\n",
        "    \"\"\"!!!\n",
        "  1. Проверяет список на наличие четных цифр внутри него \n",
        "\n",
        "    Параметры:\n",
        "        - nums (list): список.\n",
        "\n",
        "    Сложность: O(N)\n",
        "    O(N)*O(1)+O(1)+O(1)=O(N)+2O(1)=O(N)\n",
        "    \"\"\"\n",
        "    for x in nums: # O(N)\n",
        "        if x % 2 == 0: # O(1)+O(1)=O(1)\n",
        "            return True # O(1)\n",
        "    else:\n",
        "        return False # O(1)\n"
      ],
      "metadata": {
        "id": "wo3VmItomMyd"
      },
      "execution_count": null,
      "outputs": []
    },
    {
      "cell_type": "markdown",
      "source": [
        "# 6.2.6"
      ],
      "metadata": {
        "id": "I3-2MRVhmRe-"
      }
    },
    {
      "cell_type": "code",
      "source": [
        "def foo(nums):\n",
        "    \"\"\"!!!\n",
        "  1. Выводим сумму первого и последнего элементов списка, возведенную в квадрат\n",
        "    Параметры:\n",
        "        - nums (list): список.\n",
        "\n",
        "    Сложность: 0(1)\n",
        "    \"\"\"\n",
        "    return (nums[0] + nums[-1] ** 2) # O(1)+O(1)=O(1)\n"
      ],
      "metadata": {
        "id": "B_e0sZeRmM94"
      },
      "execution_count": null,
      "outputs": []
    },
    {
      "cell_type": "markdown",
      "source": [
        "# 6.2.7"
      ],
      "metadata": {
        "id": "lQ37U4memVhu"
      }
    },
    {
      "cell_type": "code",
      "source": [
        "def foo(low, high):\n",
        "    \"\"\"!!!\n",
        "\n",
        "    Параметры:\n",
        "        - low (int): нижняя граница;\n",
        "        - high (int): верхняя граница.\n",
        "\n",
        "    Сложность: O(N)\n",
        "O(1)+O(N)*(O(1)+O(1)+O(1)+O(1)+O(1)+O(1)+O(1)+O(1)+O(1))+O(1)=O(N)\n",
        "    \"\"\"\n",
        "    guessing = True # O(1)\n",
        "    while guessing: # O(N)\n",
        "        guess = (low + high) // 2 # O(1)+O(1)=O(1)\n",
        "        print(\"Загаданное число {0}?\".format(guess)) # O(1)\n",
        "        pointer = input(\n",
        "            \"Введите '+', если Ваше число меньше.\\n\"\n",
        "            \"Введите '-' если Ваше число больше.\\n\"\n",
        "            \"Введите '=', если я угадал.\\n\").lower() # O(1)\n",
        "        if pointer == \"+\": # O(len(pointer) + O(1) = O(1) + O(1) = O(1)\n",
        "            high = guess # O(1)\n",
        "        elif pointer == \"-\": # O(len(pointer) + O(1) = O(1) + O(1) = O(1)\n",
        "            low = guess   # O(1)\n",
        "        elif pointer == \"=\": # O(len(pointer) + O(1) = O(1) + O(1) = O(1)\n",
        "            guessing = False # O(1)\n",
        "        else:\n",
        "            print(\"Введите '+', '-' или '='.\") # O(1)\n",
        "\n",
        "    return guess # O(1)\n",
        "\n",
        "\n",
        "# ЗАКОММЕНТИРУЙТЕ этот код перед запуском проверки\n",
        "low, high = 0, 100\n",
        "print(\"Пожалуйста, загадайте число от {0} до {1}!\".format(low, high))\n",
        "guess = foo(low, high)\n",
        "print(\"Игра окончена, Вы загадали число: {0}.\".format(guess))\n",
        "\n"
      ],
      "metadata": {
        "colab": {
          "base_uri": "https://localhost:8080/"
        },
        "id": "1ibwWwDcmNHT",
        "outputId": "493b82df-f715-45f2-b72b-8b852d3fd59d"
      },
      "execution_count": null,
      "outputs": [
        {
          "output_type": "stream",
          "name": "stdout",
          "text": [
            "Пожалуйста, загадайте число от 0 до 100!\n",
            "Загаданное число 50?\n",
            "Введите '+', если Ваше число меньше.\n",
            "Введите '-' если Ваше число больше.\n",
            "Введите '=', если я угадал.\n",
            "-\n",
            "Загаданное число 75?\n",
            "Введите '+', если Ваше число меньше.\n",
            "Введите '-' если Ваше число больше.\n",
            "Введите '=', если я угадал.\n",
            "-\n",
            "Загаданное число 87?\n",
            "Введите '+', если Ваше число меньше.\n",
            "Введите '-' если Ваше число больше.\n",
            "Введите '=', если я угадал.\n",
            "+\n",
            "Загаданное число 81?\n",
            "Введите '+', если Ваше число меньше.\n",
            "Введите '-' если Ваше число больше.\n",
            "Введите '=', если я угадал.\n",
            "-\n",
            "Загаданное число 84?\n",
            "Введите '+', если Ваше число меньше.\n",
            "Введите '-' если Ваше число больше.\n",
            "Введите '=', если я угадал.\n",
            "-\n",
            "Загаданное число 85?\n",
            "Введите '+', если Ваше число меньше.\n",
            "Введите '-' если Ваше число больше.\n",
            "Введите '=', если я угадал.\n",
            "=\n",
            "Игра окончена, Вы загадали число: 85.\n"
          ]
        }
      ]
    },
    {
      "cell_type": "markdown",
      "source": [
        "# 6.2.8\n",
        "\n"
      ],
      "metadata": {
        "id": "D8A9tGtNKlMw"
      }
    },
    {
      "cell_type": "code",
      "source": [
        "import random\n",
        "import time"
      ],
      "metadata": {
        "id": "4Z58qSchK2nH"
      },
      "execution_count": null,
      "outputs": []
    },
    {
      "cell_type": "code",
      "source": [
        "\n",
        "def timeit(func, *args, **kw):\n",
        "    \"\"\"Выполнить функицю 'func' с параметрами '*args', '**kw' и\n",
        "    вернуть время выполнения в мс.\"\"\"\n",
        "\n",
        "    time_start = time.time()\n",
        "    res = func(*args, **kw)\n",
        "    time_end = time.time()\n",
        "\n",
        "    return (time_end - time_start) * 1000.0, res\n",
        "\n",
        "\n",
        "def maxmin1(data):\n",
        "  \"\"\"\n",
        "  Вводная переменная - список целых чисел.\n",
        "  Вернуть минимум и максимум из 'data'.\n",
        "\n",
        "  N = len(data)\n",
        "  O(1) + O(N) * O(1) * O(1) + O(1) + O(N) * O(1) = O(N)\n",
        "  Общая сложность: O(N)\n",
        "  \"\"\"\n",
        "  max1 = data[0] # O(1) + O(1) = 2*O(1) = O(1)\n",
        "  for x in data: # O(N)\n",
        "    if x > max1: # 2*O(1) = O(1)\n",
        "      max1 = x # O(1)\n",
        "  \n",
        "  min1 = data[0] # O(1) + O(1) = 2*O(1) = O(1)\n",
        "  for y in data: # O(N)\n",
        "    if y < min1: # O(1) + O(1) = 2*O(1)\n",
        "      min1 = x # O(1)\n",
        "  return max1, min1 # O(1)\n",
        "\n",
        "\n",
        "def maxmin2(data):\n",
        "  \"\"\"\n",
        "  Вводная переменная - список целых чисел.\n",
        "  Вернуть минимум и максимум из 'data'.\n",
        "\n",
        "  N = len(data)\n",
        "  O(N LogN) + 3*O(1) = O(N LogN)\n",
        "  Общая сложность: O(N LogN)\n",
        "  \"\"\"\n",
        "  data.sort() # O(N LogN) (Линейно-логарифмическое время)\n",
        "  max2 = data[-1] # O(1)\n",
        "  min2 = data[0] # O(1)\n",
        "  return max2, min2 # O(1)\n",
        "\n",
        "\n",
        "def maxmin3(data):\n",
        "  \"\"\"\n",
        "  Вводная переменная - список целых чисел.\n",
        "  Вернуть минимум и максимум из 'data'.\n",
        "\n",
        "  N = len(data)\n",
        "  O(N) + O(N) + O(1) = 2*O(N) + O(1) = O(N)\n",
        "  Общая сложность: O(N)\n",
        "  \"\"\"\n",
        "  max3 = max(data) # O(1) + O(N) = O(N)\n",
        "  min3 = min(data) # O(1) + O(N) = O(N)\n",
        "  return max3, min3 # O(1)\n",
        "\n",
        "\n",
        "if __name__ == \"__main__\":\n",
        "    GEN_LIMIT = 1000000\n",
        "    dataset = []\n",
        "    for i in range(4, 7):\n",
        "        dataset.append(random.sample(range(-GEN_LIMIT, GEN_LIMIT), 10**i))\n",
        "\n",
        "    res = [[\"i\", \"1 способ (мс.)\", \"2 способ (мс.)\", \"3 способ (мс.)\"]]\n",
        "    for data in dataset:\n",
        "        res.append([len(data),\n",
        "                   timeit(maxmin1, data)[0],\n",
        "                   timeit(maxmin2, data)[0],\n",
        "                   timeit(maxmin3, data)[0]])\n",
        "\n",
        "    # Вывод\n",
        "    print(\"{:>15} {:>15} {:>15} {:>15}\".format(*res[0]))\n",
        "    for r in res[1:]:\n",
        "        print(\"{:>15} {:>15.2f} {:>15.2f} {:>15.2f}\".format(*r))\n",
        "\n",
        "# -------------\n",
        "# Пример вывода:\n",
        "#\n",
        "#              i  1 способ (мс.)  2 способ (мс.)  3 способ (мс.)\n",
        "#          10000            1.00            5.00            0.00\n",
        "#            ..."
      ],
      "metadata": {
        "id": "DtYcFGrTc6vC",
        "colab": {
          "base_uri": "https://localhost:8080/"
        },
        "outputId": "b84155e7-bcdb-4b12-f170-c738a9f496ea"
      },
      "execution_count": null,
      "outputs": [
        {
          "output_type": "stream",
          "name": "stdout",
          "text": [
            "              i  1 способ (мс.)  2 способ (мс.)  3 способ (мс.)\n",
            "          10000            2.59           10.54            0.46\n",
            "         100000           11.00           44.61           21.24\n",
            "        1000000          504.27          944.49           74.52\n"
          ]
        }
      ]
    }
  ]
}