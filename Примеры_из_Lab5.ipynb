{
  "nbformat": 4,
  "nbformat_minor": 0,
  "metadata": {
    "colab": {
      "provenance": [],
      "authorship_tag": "ABX9TyMtsIfbzkI0H42J0Nctv/uU",
      "include_colab_link": true
    },
    "kernelspec": {
      "name": "python3",
      "display_name": "Python 3"
    },
    "language_info": {
      "name": "python"
    }
  },
  "cells": [
    {
      "cell_type": "markdown",
      "metadata": {
        "id": "view-in-github",
        "colab_type": "text"
      },
      "source": [
        "<a href=\"https://colab.research.google.com/github/dzhamalovas/Osnovy_programming/blob/main/%D0%9F%D1%80%D0%B8%D0%BC%D0%B5%D1%80%D1%8B_%D0%B8%D0%B7_Lab5.ipynb\" target=\"_parent\"><img src=\"https://colab.research.google.com/assets/colab-badge.svg\" alt=\"Open In Colab\"/></a>"
      ]
    },
    {
      "cell_type": "markdown",
      "source": [
        "Листинг 5.1.1 - Пример определения и вызова функции "
      ],
      "metadata": {
        "id": "_kcf1MfYmEKA"
      }
    },
    {
      "cell_type": "code",
      "source": [
        "# Функция для вычисления гипотенузы\n",
        "# Имя: hypot, 2 параметра: x, y\n",
        "# return возвращает результат работы функции вызвавшему\n",
        "def hypot(x, y):\n",
        "    return (x**2 + y**2)**0.5\n",
        "\n",
        "z = hypot(3, 4)  # Передача в функцию 2-х аргументов: 3 и 4\n",
        "print(z)  # 5.0\n",
        "\n",
        "a = 5\n",
        "b = 12\n",
        "print(hypot(a, b))  # 13.0 - результат функции может быть использован сразу"
      ],
      "metadata": {
        "colab": {
          "base_uri": "https://localhost:8080/"
        },
        "id": "dnpxq2_bl3s2",
        "outputId": "fde86323-919f-4d5f-e845-fb877657c836"
      },
      "execution_count": null,
      "outputs": [
        {
          "output_type": "stream",
          "name": "stdout",
          "text": [
            "5.0\n",
            "13.0\n"
          ]
        }
      ]
    },
    {
      "cell_type": "markdown",
      "source": [
        "Листинг 5.1.2 - Четыре типа функций в Python"
      ],
      "metadata": {
        "id": "PwEdZRcsmF-R"
      }
    },
    {
      "cell_type": "code",
      "source": [
        "class Car:\n",
        "    def move(self, x):  # Метод (3)\n",
        "        self.x += x\n",
        "\n",
        "\n",
        "def sum_of_cubes(x, y):  # Глобальная функция (1)\n",
        "\n",
        "    # Локальная функция (2) (ее \"видит\" только код внутри sum_of_cubes())\n",
        "    def cube(a):\n",
        "        return a**3\n",
        "\n",
        "    return cube(x) + cube(y)  # return возвращает результат выполнения тому,\n",
        "                              # кто вызвал эту функцию\n",
        "\n",
        "players = [{\"name\": \"Юрий\", \"rank\": 5},\n",
        "           {\"name\": \"Сергей\", \"rank\": 3},\n",
        "           {\"name\": \"Максим\", \"rank\": 4}]\n",
        "# Анонимная функция (4) (лямбда-выражение)\n",
        "# В функции sorted() используется для определения порядка сортировки\n",
        "\n",
        "print(sorted(players, key=lambda player: player[\"name\"]))  # Сортировка по name\n",
        "# [{'rank': 4, 'name': 'Максим'}, {'rank': 3, 'name': 'Сергей'}, {'rank': 5, 'name': 'Юрий'}]\n",
        "\n",
        "print(sorted(players, key=lambda player: player[\"rank\"]))  # Сортировка по rank\n",
        "# [{'rank': 3, 'name': 'Сергей'}, {'rank': 4, 'name': 'Максим'}, {'rank': 5, 'name': 'Юрий'}]"
      ],
      "metadata": {
        "colab": {
          "base_uri": "https://localhost:8080/"
        },
        "id": "b_FhX4xumAq9",
        "outputId": "9a012d49-db3f-45d4-ea55-77495261f64e"
      },
      "execution_count": null,
      "outputs": [
        {
          "output_type": "stream",
          "name": "stdout",
          "text": [
            "[{'name': 'Максим', 'rank': 4}, {'name': 'Сергей', 'rank': 3}, {'name': 'Юрий', 'rank': 5}]\n",
            "[{'name': 'Сергей', 'rank': 3}, {'name': 'Максим', 'rank': 4}, {'name': 'Юрий', 'rank': 5}]\n"
          ]
        }
      ]
    },
    {
      "cell_type": "markdown",
      "source": [
        "Листинг 5.1.3 - Позиционные и ключевые параметры функций в Python"
      ],
      "metadata": {
        "id": "TKhvnhHVmNhA"
      }
    },
    {
      "cell_type": "code",
      "source": [
        "# Функция выдает запрос и\n",
        "#   - возвращает True в случае положительного ответа\n",
        "#   - возвращает False в случае отрицательного ответа\n",
        "#   - возвращает False если не получает ответ за [retries] попыток\n",
        "\n",
        "def ask_user(prompt, retries=3, hint=\"Ответьте, ДА или НЕТ?\"):\n",
        "    while True:\n",
        "        retries -= 1\n",
        "        ok = input(prompt + \" -> \").upper()\n",
        "\n",
        "        if ok in (\"Д\", \"ДА\"):\n",
        "            return True\n",
        "        elif ok in (\"Н\", \"НЕТ\"):\n",
        "            return False\n",
        "\n",
        "        if retries <= 0:\n",
        "            print(\"Не смог получить нужный ответ, считаю за отказ.\")\n",
        "            return False\n",
        "        print(hint)\n",
        "\n",
        "# С ключевыми параметрами будут доступны также следующие варианты:\n",
        "# ask_user(\"Сохранить файл?\", 0)\n",
        "# ask_user(\"Сохранить файл?\", retries=1)\n",
        "# ask_user(\"Сохранить файл?\", 2, \"Жми Д или Н!!!\")\n",
        "# и др.\n",
        "\n",
        "if ask_user(\"Сохранить файл?\"):\n",
        "    print(\"Сохранил!\")\n",
        "else:\n",
        "    print(\"Не сохранил.\")\n",
        "\n",
        "# -------------\n",
        "# Пример вывода:\n",
        "#\n",
        "# Сохранить файл? -> Не знаю\n",
        "# Ответьте, ДА или НЕТ?\n",
        "# Сохранить файл? -> Да\n",
        "# Сохранил!"
      ],
      "metadata": {
        "colab": {
          "base_uri": "https://localhost:8080/"
        },
        "id": "RWXuaphQmSg_",
        "outputId": "dd7ea0f4-61c4-452e-8a7c-d80ede6c7ec1"
      },
      "execution_count": null,
      "outputs": [
        {
          "output_type": "stream",
          "name": "stdout",
          "text": [
            "Сохранить файл? -> не знаю\n",
            "Ответьте, ДА или НЕТ?\n",
            "Сохранить файл? -> да\n",
            "Сохранил!\n"
          ]
        }
      ]
    },
    {
      "cell_type": "markdown",
      "source": [
        "Листинг 5.1.4 - Упаковка аргументов "
      ],
      "metadata": {
        "id": "KZIq26xhmYpL"
      }
    },
    {
      "cell_type": "code",
      "source": [
        "# При упаковке аргументов все переданные позиционные аргументы\n",
        "# будут собраны в кортеж 'order', а ключевые - в словарь 'info'\n",
        "\n",
        "def print_order(*order, **info):\n",
        "    print(\"Музыкальная библиотека №1\\n\")\n",
        "\n",
        "    # Словарь 'infos' должен содержать ключи 'author' и 'birthday'\n",
        "    for key, value in sorted(info.items()):\n",
        "        print(key, \":\", value)\n",
        "\n",
        "    # Кортеж 'order' содержит все наименования произведений\n",
        "    print(\"Вы выбрали:\")\n",
        "    for item in order:\n",
        "        print(\"  -\", item)\n",
        "\n",
        "    print(\"\\nПриходите еще!\")\n",
        "\n",
        "print_order(\"Славянский марш\", \"Лебединое озеро\", \"Спящая красавица\",\n",
        "            \"Пиковая дама\", \"Щелкунчик\",\n",
        "            author=\"П.И. Чайковский\", birthday=\"07/05/1840\")\n",
        "\n",
        "# -------------\n",
        "# Пример вывода:\n",
        "#\n",
        "# Музыкальная библиотека №1\n",
        "#\n",
        "# author : П.И. Чайковский\n",
        "# birthday : 07/05/1840\n",
        "# Вы выбрали:\n",
        "#   - Славянский марш\n",
        "#   - Лебединое озеро\n",
        "#   - Спящая красавица\n",
        "#   - Пиковая дама\n",
        "#   - Щелкунчик\n",
        "#\n",
        "# Приходите еще!"
      ],
      "metadata": {
        "colab": {
          "base_uri": "https://localhost:8080/"
        },
        "id": "AC1CVvfpmbWW",
        "outputId": "dbe67992-abde-4706-f81d-ec301cf34423"
      },
      "execution_count": null,
      "outputs": [
        {
          "output_type": "stream",
          "name": "stdout",
          "text": [
            "Музыкальная библиотека №1\n",
            "\n",
            "author : П.И. Чайковский\n",
            "birthday : 07/05/1840\n",
            "Вы выбрали:\n",
            "  - Славянский марш\n",
            "  - Лебединое озеро\n",
            "  - Спящая красавица\n",
            "  - Пиковая дама\n",
            "  - Щелкунчик\n",
            "\n",
            "Приходите еще!\n"
          ]
        }
      ]
    },
    {
      "cell_type": "markdown",
      "source": [
        "Листинг 5.1.5 - Распаковка аргументов "
      ],
      "metadata": {
        "id": "hNyvvyObmiHF"
      }
    },
    {
      "cell_type": "code",
      "source": [
        "# Площадь треугольника по формуле Герона\n",
        "#\n",
        "# Данный пример функции предназначен для демонстрации распаковки\n",
        "# Не проектируйте функцию таким образом -\n",
        "# расчетная функция должна возвращать число, а не строку!\n",
        "def heron_area_str(a, b, c, units=\"сантиметры\", print_error=True):\n",
        "    if a + b <= c or a + c <= b or b + c <= a:\n",
        "        if print_error:\n",
        "            return \"Проверьте введенные стороны треугольника!\"\n",
        "        return\n",
        "\n",
        "    p = (a + b + c) / 2\n",
        "    s = (p * (p - a) * (p - b) * (p - c)) ** 0.5\n",
        "    return \"{} {}\".format(s, units)\n",
        "\n",
        "abc = [3, 4, 5]\n",
        "params = dict(print_error=True, units=\"см.\")\n",
        "\n",
        "# При распаковке аргументов список 'abc' будет распакован в\n",
        "# позиционные аргументы, а словарь 'params' - ключевые\n",
        "print(heron_area_str(*abc, **params))\n",
        "\n",
        "# -------------\n",
        "# Пример вывода:\n",
        "#\n",
        "# 6.0 см."
      ],
      "metadata": {
        "id": "QtT9srIemkdI",
        "colab": {
          "base_uri": "https://localhost:8080/"
        },
        "outputId": "941bc156-8903-42d6-b399-1f89845d2bd8"
      },
      "execution_count": 5,
      "outputs": [
        {
          "output_type": "stream",
          "name": "stdout",
          "text": [
            "6.0 см.\n"
          ]
        }
      ]
    },
    {
      "cell_type": "markdown",
      "source": [
        "Листинг 5.1.6 - 4 области видимости в Python"
      ],
      "metadata": {
        "id": "wYab3awUqLwm"
      }
    },
    {
      "cell_type": "code",
      "source": [
        "def min_of_cubes(x, y):\n",
        "\n",
        "    # Идентификаторы 'x' и 'y' являются:\n",
        "    # - локальными для min_of_cubes()\n",
        "    # - нелокальными для cube()\n",
        "\n",
        "    def cube(a):\n",
        "        return a**3  # 'a' - локальный идентификатор функции cube()\n",
        "\n",
        "    return min(cube(x), cube(y), cube(c))  # Функция min() находится\n",
        "                                           # во встроенной области\n",
        "                                           # видимости и видна везде\n",
        "\n",
        "# Идентификаторы 'a', 'b' и 'c' имеют глобальную область видимости\n",
        "a, b, c = 2, 3, 4\n",
        "print(min_of_cubes(a, b))  # 8"
      ],
      "metadata": {
        "id": "NtMahANqqPEJ",
        "colab": {
          "base_uri": "https://localhost:8080/"
        },
        "outputId": "de87fbd5-a915-484f-894e-18f328fbfc95"
      },
      "execution_count": 6,
      "outputs": [
        {
          "output_type": "stream",
          "name": "stdout",
          "text": [
            "8\n"
          ]
        }
      ]
    },
    {
      "cell_type": "markdown",
      "source": [
        "Листинг 5.1.7 (а) - Области видимости в Python (пример)"
      ],
      "metadata": {
        "id": "UtWxjO9uqTZg"
      }
    },
    {
      "cell_type": "code",
      "source": [
        "# Увеличиваем переменную 'a' локально\n",
        "def sum_of_2(a, b):\n",
        "    a += 2\n",
        "    return a + b\n",
        "\n",
        "a, b = 3, 4\n",
        "print(sum_of_2(a, b))  # 9\n",
        "print(a, b)            # 3 4"
      ],
      "metadata": {
        "id": "4OJQ5KnHqXYj",
        "colab": {
          "base_uri": "https://localhost:8080/"
        },
        "outputId": "34ee8941-6ef5-40a6-8d85-2becc84d1da6"
      },
      "execution_count": 7,
      "outputs": [
        {
          "output_type": "stream",
          "name": "stdout",
          "text": [
            "9\n",
            "3 4\n"
          ]
        }
      ]
    },
    {
      "cell_type": "markdown",
      "source": [
        "Листинг 5.1.7 (б) - Области видимости в Python (пример)"
      ],
      "metadata": {
        "id": "eu7ltFHkqaui"
      }
    },
    {
      "cell_type": "code",
      "source": [
        "# Добавляем к сумме локальную переменную 'x'\n",
        "def sum_of_2(a, b):\n",
        "    x = 5\n",
        "    return a + b + x\n",
        "\n",
        "a, b = 3, 4\n",
        "print(sum_of_2(a, b))  # 12\n",
        "print(a, b, x)         # NameError: name 'x' is not defined"
      ],
      "metadata": {
        "id": "2N6GSBLBqc2e",
        "colab": {
          "base_uri": "https://localhost:8080/",
          "height": 217
        },
        "outputId": "3964db9d-6947-4666-9a89-5429759aa4e5"
      },
      "execution_count": 8,
      "outputs": [
        {
          "output_type": "stream",
          "name": "stdout",
          "text": [
            "12\n"
          ]
        },
        {
          "output_type": "error",
          "ename": "NameError",
          "evalue": "ignored",
          "traceback": [
            "\u001b[0;31m---------------------------------------------------------------------------\u001b[0m",
            "\u001b[0;31mNameError\u001b[0m                                 Traceback (most recent call last)",
            "\u001b[0;32m<ipython-input-8-160d2525e8a6>\u001b[0m in \u001b[0;36m<module>\u001b[0;34m\u001b[0m\n\u001b[1;32m      6\u001b[0m \u001b[0ma\u001b[0m\u001b[0;34m,\u001b[0m \u001b[0mb\u001b[0m \u001b[0;34m=\u001b[0m \u001b[0;36m3\u001b[0m\u001b[0;34m,\u001b[0m \u001b[0;36m4\u001b[0m\u001b[0;34m\u001b[0m\u001b[0;34m\u001b[0m\u001b[0m\n\u001b[1;32m      7\u001b[0m \u001b[0mprint\u001b[0m\u001b[0;34m(\u001b[0m\u001b[0msum_of_2\u001b[0m\u001b[0;34m(\u001b[0m\u001b[0ma\u001b[0m\u001b[0;34m,\u001b[0m \u001b[0mb\u001b[0m\u001b[0;34m)\u001b[0m\u001b[0;34m)\u001b[0m  \u001b[0;31m# 12\u001b[0m\u001b[0;34m\u001b[0m\u001b[0;34m\u001b[0m\u001b[0m\n\u001b[0;32m----> 8\u001b[0;31m \u001b[0mprint\u001b[0m\u001b[0;34m(\u001b[0m\u001b[0ma\u001b[0m\u001b[0;34m,\u001b[0m \u001b[0mb\u001b[0m\u001b[0;34m,\u001b[0m \u001b[0mx\u001b[0m\u001b[0;34m)\u001b[0m         \u001b[0;31m# NameError: name 'x' is not defined\u001b[0m\u001b[0;34m\u001b[0m\u001b[0;34m\u001b[0m\u001b[0m\n\u001b[0m",
            "\u001b[0;31mNameError\u001b[0m: name 'x' is not defined"
          ]
        }
      ]
    },
    {
      "cell_type": "markdown",
      "source": [
        "Листинг 5.1.7 (в) - Области видимости в Python (пример)"
      ],
      "metadata": {
        "id": "y5TLEk-0qfG_"
      }
    },
    {
      "cell_type": "code",
      "source": [
        "# Пробуем увеличить глобальную переменную 'c'\n",
        "def sum_of_2(a, b):\n",
        "    c *= 5  # UnboundLocalError: local variable 'c' referenced before assignment\n",
        "    return a + b + с\n",
        "\n",
        "a, b, c = 3, 4, 5\n",
        "print(sum_of_2(a, b))"
      ],
      "metadata": {
        "id": "ivmvF-lLqhas",
        "colab": {
          "base_uri": "https://localhost:8080/",
          "height": 321
        },
        "outputId": "9767c2df-2f7e-4f67-f8a8-e0df181bfe45"
      },
      "execution_count": 9,
      "outputs": [
        {
          "output_type": "error",
          "ename": "UnboundLocalError",
          "evalue": "ignored",
          "traceback": [
            "\u001b[0;31m---------------------------------------------------------------------------\u001b[0m",
            "\u001b[0;31mUnboundLocalError\u001b[0m                         Traceback (most recent call last)",
            "\u001b[0;32m<ipython-input-9-e9dda82734e0>\u001b[0m in \u001b[0;36m<module>\u001b[0;34m\u001b[0m\n\u001b[1;32m      5\u001b[0m \u001b[0;34m\u001b[0m\u001b[0m\n\u001b[1;32m      6\u001b[0m \u001b[0ma\u001b[0m\u001b[0;34m,\u001b[0m \u001b[0mb\u001b[0m\u001b[0;34m,\u001b[0m \u001b[0mc\u001b[0m \u001b[0;34m=\u001b[0m \u001b[0;36m3\u001b[0m\u001b[0;34m,\u001b[0m \u001b[0;36m4\u001b[0m\u001b[0;34m,\u001b[0m \u001b[0;36m5\u001b[0m\u001b[0;34m\u001b[0m\u001b[0;34m\u001b[0m\u001b[0m\n\u001b[0;32m----> 7\u001b[0;31m \u001b[0mprint\u001b[0m\u001b[0;34m(\u001b[0m\u001b[0msum_of_2\u001b[0m\u001b[0;34m(\u001b[0m\u001b[0ma\u001b[0m\u001b[0;34m,\u001b[0m \u001b[0mb\u001b[0m\u001b[0;34m)\u001b[0m\u001b[0;34m)\u001b[0m\u001b[0;34m\u001b[0m\u001b[0;34m\u001b[0m\u001b[0m\n\u001b[0m",
            "\u001b[0;32m<ipython-input-9-e9dda82734e0>\u001b[0m in \u001b[0;36msum_of_2\u001b[0;34m(a, b)\u001b[0m\n\u001b[1;32m      1\u001b[0m \u001b[0;31m# Пробуем увеличить глобальную переменную 'c'\u001b[0m\u001b[0;34m\u001b[0m\u001b[0;34m\u001b[0m\u001b[0;34m\u001b[0m\u001b[0m\n\u001b[1;32m      2\u001b[0m \u001b[0;32mdef\u001b[0m \u001b[0msum_of_2\u001b[0m\u001b[0;34m(\u001b[0m\u001b[0ma\u001b[0m\u001b[0;34m,\u001b[0m \u001b[0mb\u001b[0m\u001b[0;34m)\u001b[0m\u001b[0;34m:\u001b[0m\u001b[0;34m\u001b[0m\u001b[0;34m\u001b[0m\u001b[0m\n\u001b[0;32m----> 3\u001b[0;31m     \u001b[0mc\u001b[0m \u001b[0;34m*=\u001b[0m \u001b[0;36m5\u001b[0m  \u001b[0;31m# UnboundLocalError: local variable 'c' referenced before assignment\u001b[0m\u001b[0;34m\u001b[0m\u001b[0;34m\u001b[0m\u001b[0m\n\u001b[0m\u001b[1;32m      4\u001b[0m     \u001b[0;32mreturn\u001b[0m \u001b[0ma\u001b[0m \u001b[0;34m+\u001b[0m \u001b[0mb\u001b[0m \u001b[0;34m+\u001b[0m \u001b[0mс\u001b[0m\u001b[0;34m\u001b[0m\u001b[0;34m\u001b[0m\u001b[0m\n\u001b[1;32m      5\u001b[0m \u001b[0;34m\u001b[0m\u001b[0m\n",
            "\u001b[0;31mUnboundLocalError\u001b[0m: local variable 'c' referenced before assignment"
          ]
        }
      ]
    },
    {
      "cell_type": "markdown",
      "source": [
        "Листинг 5.1.7 (г) - Области видимости в Python (пример) "
      ],
      "metadata": {
        "id": "fWe0VzZZqk6o"
      }
    },
    {
      "cell_type": "code",
      "source": [
        "# Пробуем изменить глобальную переменную 'c'\n",
        "def sum_of_2(a, b):\n",
        "    с = 10\n",
        "    return a + b + с\n",
        "\n",
        "a, b, c = 3, 4, 5\n",
        "print(sum_of_2(a, b))  # 17\n",
        "print(a, b, c)         # 3 4 5"
      ],
      "metadata": {
        "id": "n-JDXTVuqng0",
        "colab": {
          "base_uri": "https://localhost:8080/"
        },
        "outputId": "01909e42-6c88-4058-f7ea-ab0e07094bbd"
      },
      "execution_count": 10,
      "outputs": [
        {
          "output_type": "stream",
          "name": "stdout",
          "text": [
            "17\n",
            "3 4 5\n"
          ]
        }
      ]
    },
    {
      "cell_type": "markdown",
      "source": [
        "Листинг 5.1.7 (д) - Области видимости в Python (пример)"
      ],
      "metadata": {
        "id": "Zbt0DrrDqqJk"
      }
    },
    {
      "cell_type": "code",
      "source": [
        "# Используем глобальную переменную 'c', не имея соответствующего параметра\n",
        "def sum_of_2(a, b):\n",
        "    return a + b + c\n",
        "\n",
        "a, b, c = 3, 4, 5\n",
        "print(sum_of_2(a, b))  # 12"
      ],
      "metadata": {
        "id": "60wJNKMhqs7D",
        "colab": {
          "base_uri": "https://localhost:8080/"
        },
        "outputId": "86140050-c440-49b7-e812-9eea0014fc24"
      },
      "execution_count": 11,
      "outputs": [
        {
          "output_type": "stream",
          "name": "stdout",
          "text": [
            "12\n"
          ]
        }
      ]
    },
    {
      "cell_type": "markdown",
      "source": [
        "Листинг 5.1.8 - Использование global позволяет менять значение глобальной переменной внутри функции"
      ],
      "metadata": {
        "id": "BuiERQRdrLmH"
      }
    },
    {
      "cell_type": "code",
      "source": [
        "def func():\n",
        "    # 'value' создается как локальный идентификатор\n",
        "    value = 100\n",
        "\n",
        "def func_with_global():\n",
        "    global value\n",
        "    # global указывает, что нужно использовать 'value'\n",
        "    # из глобальной области видимости\n",
        "    value = 100\n",
        "\n",
        "value = 0\n",
        "func()\n",
        "print(value)  # 0\n",
        "\n",
        "func_with_global()\n",
        "print(value)  # 100"
      ],
      "metadata": {
        "id": "6_awJYU8rMNO",
        "colab": {
          "base_uri": "https://localhost:8080/"
        },
        "outputId": "239ac826-a5db-4897-f4e8-00c26fb3e7ef"
      },
      "execution_count": 12,
      "outputs": [
        {
          "output_type": "stream",
          "name": "stdout",
          "text": [
            "0\n",
            "100\n"
          ]
        }
      ]
    },
    {
      "cell_type": "markdown",
      "source": [
        "Листинг 5.1.9 - Использование nonlocal позволяет менять значение нелокальной переменной внутри вложенной функции"
      ],
      "metadata": {
        "id": "2A4PAHMsrOoK"
      }
    },
    {
      "cell_type": "code",
      "source": [
        "def func():\n",
        "\n",
        "    def inner_func():\n",
        "        # 'value' создается как локальный идентификатор inner_func()\n",
        "        value = 100\n",
        "\n",
        "    def inner_func_with_nonlocal():\n",
        "        nonlocal value\n",
        "        # Благодаря nonlocal используется 'value' из func()\n",
        "        value = 100\n",
        "\n",
        "    value = 10\n",
        "    inner_func()\n",
        "    print(value)  # 10\n",
        "\n",
        "    inner_func_with_nonlocal()\n",
        "    print(value)  # 100\n",
        "\n",
        "value = 0\n",
        "func()\n",
        "print(\"global value =\", value)  # 0"
      ],
      "metadata": {
        "id": "rlly3CgbrQqX",
        "colab": {
          "base_uri": "https://localhost:8080/"
        },
        "outputId": "7f9e3000-43c4-4674-cbdd-f3256a9b1bf6"
      },
      "execution_count": 13,
      "outputs": [
        {
          "output_type": "stream",
          "name": "stdout",
          "text": [
            "10\n",
            "100\n",
            "global value = 0\n"
          ]
        }
      ]
    },
    {
      "cell_type": "markdown",
      "source": [
        "Листинг 5.1.10 - Передача мутирующего аргумента в функцию"
      ],
      "metadata": {
        "id": "jOMC3Kais8-C"
      }
    },
    {
      "cell_type": "code",
      "source": [
        "# Функция принимает список, и добавляет сумму элементов в конец списка\n",
        "#\n",
        "# Изменение внутри функции мутирующего объекта приводит к его\n",
        "# изменению и в вызывающем коде\n",
        "def sum_list(lst):\n",
        "    lst.append(sum(lst))\n",
        "\n",
        "my_list = [1, 2, 3, 4, 5]\n",
        "sum_list(my_list)\n",
        "print(my_list)  # [1, 2, 3, 4, 5, 15]"
      ],
      "metadata": {
        "id": "9OFDdUr3s_Gn",
        "colab": {
          "base_uri": "https://localhost:8080/"
        },
        "outputId": "ff514229-d432-4051-e6f5-4278fd77a091"
      },
      "execution_count": 14,
      "outputs": [
        {
          "output_type": "stream",
          "name": "stdout",
          "text": [
            "[1, 2, 3, 4, 5, 15]\n"
          ]
        }
      ]
    },
    {
      "cell_type": "markdown",
      "source": [
        "Листинг 5.1.11 - Мутирующие аргументы сохраняют значения после нескольких вызовов"
      ],
      "metadata": {
        "id": "wxyw1jtEumpf"
      }
    },
    {
      "cell_type": "code",
      "source": [
        "# Функция принимает число и список, к которому его нужно добавить\n",
        "# Если список не передан, число должно оказаться в пустом списке\n",
        "\n",
        "# 1. Данная реализация не учитывает единовременное создание значений\n",
        "#    ключевых аргументов, и приводит к неожиданным эффектам\n",
        "def change_list(a, lst=[]):\n",
        "    lst.append(a)\n",
        "    return lst\n",
        "\n",
        "my_list = change_list(1)\n",
        "my_list = change_list(2)\n",
        "my_list = change_list(3)\n",
        "print(my_list)  # [1, 2, 3]\n",
        "\n",
        "# Та же функция, реализованная правильно\n",
        "def change_list_2(a, lst=None):\n",
        "    if lst is None:\n",
        "        L = []\n",
        "\n",
        "    L.append(a)\n",
        "    return L\n",
        "\n",
        "my_list = change_list_2(1)\n",
        "my_list = change_list_2(2)\n",
        "my_list = change_list_2(3)\n",
        "print(my_list)  # [3]"
      ],
      "metadata": {
        "id": "-8hmWdgGuqRp",
        "colab": {
          "base_uri": "https://localhost:8080/"
        },
        "outputId": "059b80c0-34df-46d8-c2cb-10e7b04bae67"
      },
      "execution_count": 15,
      "outputs": [
        {
          "output_type": "stream",
          "name": "stdout",
          "text": [
            "[1, 2, 3]\n",
            "[3]\n"
          ]
        }
      ]
    },
    {
      "cell_type": "markdown",
      "source": [
        "Листинг 5.1.12 - Возврат нескольких значений в виде кортежа"
      ],
      "metadata": {
        "id": "ZNYmkE4pu2Yq"
      }
    },
    {
      "cell_type": "code",
      "source": [
        "# Функция выполняет решение квадратного уравнения,\n",
        "# сообщая вызывающему коду, сколько решений удалось получить\n",
        "# в формате (num, (x1, ...)),\n",
        "# где в начале идет количество решений, а в отдельном кортеже сами решения\n",
        "def solve_equation(a, b, c):\n",
        "    d = b**2 - 4 * a * c\n",
        "\n",
        "    if d < 0:\n",
        "        return (0, ())\n",
        "    elif d == 0:\n",
        "        x = -b / (2*a)\n",
        "        return (1, (x, ))\n",
        "    else:\n",
        "        x1 = (-b - d**0.5) / (2*a)\n",
        "        x2 = (-b + d**0.5) / (2*a)\n",
        "        return (2, (x1, x2))\n",
        "\n",
        "# Рекурсивный вариант вычисления факториала\n",
        "a = int(input(\"a = \"))\n",
        "b = int(input(\"b = \"))\n",
        "c = int(input(\"c = \"))\n",
        "\n",
        "num, x = solve_equation(a, b, c)\n",
        "\n",
        "print(\"\\nРезультат решения: \", end=\"\")\n",
        "if num == 0:\n",
        "    print(\"решений нет\")\n",
        "elif num == 1:\n",
        "    print(\"x =\", x[0])\n",
        "elif num == 2:\n",
        "    print(\"x1 =\", x[0], \" x2 =\", x[1])\n",
        "else:\n",
        "    print(\"ошибка!\")\n",
        "\n",
        "# -------------\n",
        "# Пример вывода:\n",
        "\n",
        "# a = 1\n",
        "# b = 4\n",
        "# c = 3\n",
        "#\n",
        "# Результат решения: x1 = -3.0  x2 = -1.0"
      ],
      "metadata": {
        "id": "yxYKhOZsu4M-",
        "colab": {
          "base_uri": "https://localhost:8080/"
        },
        "outputId": "9278a7b7-e1eb-477b-e8fb-b71fd9897de0"
      },
      "execution_count": 16,
      "outputs": [
        {
          "output_type": "stream",
          "name": "stdout",
          "text": [
            "a = 1\n",
            "b = 4\n",
            "c = 3\n",
            "\n",
            "Результат решения: x1 = -3.0  x2 = -1.0\n"
          ]
        }
      ]
    },
    {
      "cell_type": "markdown",
      "source": [
        "Листинг 5.1.13 - Рекурсивные функции"
      ],
      "metadata": {
        "id": "fWH3NwYEu6eq"
      }
    },
    {
      "cell_type": "code",
      "source": [
        "# Вычисление факториала, используя цикл\n",
        "def factorial_1(x):\n",
        "    res = 1\n",
        "    for i in range(x):\n",
        "        res *= i + 1\n",
        "    return res\n",
        "\n",
        "# Рекурсивный вариант вычисления факториала\n",
        "def factorial_2(x):\n",
        "    if x == 1:\n",
        "        return 1\n",
        "    else:\n",
        "        return x * factorial_2(x - 1)\n",
        "\n",
        "print(factorial_1(5))  # 120\n",
        "print(factorial_2(5))  # 120"
      ],
      "metadata": {
        "id": "8KAfghr2u8jT",
        "colab": {
          "base_uri": "https://localhost:8080/"
        },
        "outputId": "27028a22-8f5f-4eba-f913-369137b6156a"
      },
      "execution_count": 17,
      "outputs": [
        {
          "output_type": "stream",
          "name": "stdout",
          "text": [
            "120\n",
            "120\n"
          ]
        }
      ]
    },
    {
      "cell_type": "markdown",
      "source": [
        "Листинг 5.1.14 - Документирование функции в Python "
      ],
      "metadata": {
        "id": "av163cR2xrer"
      }
    },
    {
      "cell_type": "code",
      "source": [
        "# Для небольшой функции можно использовать однострочное документирование\n",
        "# Как правило, это описание действия в повелительном наклонении\n",
        "\n",
        "\n",
        "def sqrt(x):\n",
        "    \"\"\"Вернуть квадратный корень из 'x'.\"\"\"\n",
        "    return x**0.5\n",
        "\n",
        "\n",
        "# Если функция объемная, используется многострочное документирование\n",
        "def heron(a, b, c):\n",
        "    \"\"\"Вернуть площадь треугольника по формуле Герона.\n",
        "\n",
        "    Параметры:\n",
        "        - a, b, c (float): стороны треугольника.\n",
        "\n",
        "    Результат:\n",
        "        - float: значение площади.\n",
        "        - None: если треугольник не существует.\n",
        "    \"\"\"\n",
        "    if not (a + b > c and a + c > b and b + c > a):\n",
        "        return\n",
        "\n",
        "    p = (a + b + c) / 2\n",
        "    return sqrt(p * (p - a) * (p - b) * (p - c))\n",
        "\n",
        "\n",
        "# Справочную информацию о функции можно получить 2 способами:\n",
        "# heron.__doc__ или help(heron)\n",
        "print(heron.__doc__)\n",
        "\n",
        "params = [float(x) for x in input('Введите стороны (a b c): ').split()]\n",
        "s = heron(*params)\n",
        "if s:\n",
        "    print('S = {:.2f}'.format(s))\n",
        "else:\n",
        "    print('Треугольник не существует!')\n",
        "\n",
        "# -------------\n",
        "# Пример вывода:\n",
        "\n",
        "# Вернуть площадь треугольника по формуле Герона.\n",
        "#\n",
        "#     Аргументы:\n",
        "#         - a, b, c (float): стороны треугольника.\n",
        "#\n",
        "#     Результат:\n",
        "#         - float: значение площади.\n",
        "#         - None: если треугольник не существует.\n",
        "#\n",
        "# Введите стороны (a b c): 3 4 5\n",
        "# S = 6.00"
      ],
      "metadata": {
        "colab": {
          "base_uri": "https://localhost:8080/"
        },
        "id": "ZAL5FB-zx5Uq",
        "outputId": "3c7d6e24-1794-4180-ff02-6ac4eeccafb7"
      },
      "execution_count": 18,
      "outputs": [
        {
          "output_type": "stream",
          "name": "stdout",
          "text": [
            "Вернуть площадь треугольника по формуле Герона.\n",
            "\n",
            "    Параметры:\n",
            "        - a, b, c (float): стороны треугольника.\n",
            "\n",
            "    Результат:\n",
            "        - float: значение площади.\n",
            "        - None: если треугольник не существует.\n",
            "    \n",
            "Введите стороны (a b c): 3 4 5\n",
            "S = 6.00\n"
          ]
        }
      ]
    },
    {
      "cell_type": "markdown",
      "source": [
        "Листинг 5.1.15 - Лямбда-функции"
      ],
      "metadata": {
        "id": "LoNV-ccix81x"
      }
    },
    {
      "cell_type": "code",
      "source": [
        "# Лямбда-функции, как правило, используются в случаях, где использование\n",
        "# функции не требует наличия у нее имени\n",
        "#\n",
        "# Если это требуется - лучше объявить обычную функцию, используя def\n",
        "\n",
        "# 1. Обычная и лямбда-функция выполняют одно и то же действие,\n",
        "#    разница в синтаксисе\n",
        "def sqr1(x):\n",
        "    return x**2\n",
        "\n",
        "sqr2 = lambda x: x**2  # Если лямбда-выражение привязывается к идентификатору -\n",
        "                       # - оно не нужно; используйте обычные функции\n",
        "\n",
        "print(sqr1(6))  # 36\n",
        "print(sqr2(6))  # 36\n",
        "\n",
        "# 2. Лямбда-выражения удобно использовать для элементов функционального программирования\n",
        "# Эл-ты из таблицы Менделеева (номер группы, порядковый номер, наименование)\n",
        "elements = [(2, 12, \"Mg\"), (1, 11, \"Na\"), (1, 3, \"Li\"), (2, 4, \"Be\")]\n",
        "\n",
        "elements.sort(key=lambda x: x[1])  # Сортировка порядковому номеру\n",
        "print(elements)  # [(1, 3, 'Li'), (2, 4, 'Be'), (1, 11, 'Na'), (2, 12, 'Mg')]\n",
        "\n",
        "# Функции max и min имеют ключевой аргумент key - параметр сортировки\n",
        "# key - ссылка на функцию, имеющую 1 возвращающую значение, по которому следует\n",
        "#       сравнивать величины\n",
        "\n",
        "# 2.1. Используя лямбда-выражение\n",
        "lst = [\"Java\", \"Algol\", \"C++\"]\n",
        "print(max(lst, key=lambda x: x.count(\"a\")))  # Элемент lst, в котором\n",
        "                                             # больше всего \"a\"\n",
        "\n",
        "# 2.2. Тоже самое возможно с использованием обычной функции\n",
        "def find_a(x):\n",
        "    return x.find(\"a\")\n",
        "\n",
        "print(min(lst, key=find_a))   # Элемент lst, в котором\n",
        "                              # \"a\" находится левее"
      ],
      "metadata": {
        "colab": {
          "base_uri": "https://localhost:8080/"
        },
        "id": "AAGeAcmBx_bt",
        "outputId": "ecf21f09-692a-4722-a61b-629fa3d55fd3"
      },
      "execution_count": 19,
      "outputs": [
        {
          "output_type": "stream",
          "name": "stdout",
          "text": [
            "36\n",
            "36\n",
            "[(1, 3, 'Li'), (2, 4, 'Be'), (1, 11, 'Na'), (2, 12, 'Mg')]\n",
            "Java\n",
            "Algol\n"
          ]
        }
      ]
    },
    {
      "cell_type": "markdown",
      "source": [
        "Листинг 5.1.16 - Локализация кода с побочным эффектом в отдельные функции"
      ],
      "metadata": {
        "id": "i3in8vZEyKQN"
      }
    },
    {
      "cell_type": "code",
      "source": [
        "def heron(a, b, c):\n",
        "    \"\"\"Вернуть площадь треугольника по формуле Герона.\n",
        "\n",
        "    Параметры:\n",
        "        - a, b, c (float): стороны треугольника.\n",
        "\n",
        "    Результат:\n",
        "        - float: значение площади.\n",
        "        - None: если треугольник не существует.\n",
        "    \"\"\"\n",
        "    if not (a + b > c and a + c > b and b + c > a):\n",
        "        return\n",
        "\n",
        "    p = (a + b + c) / 2\n",
        "    return (p * (p - a) * (p - b) * (p - c))**0.5\n",
        "\n",
        "\n",
        "def input_data():\n",
        "    \"\"\"Запросить стороны треугольника с клавиатуры.\n",
        "\n",
        "    Результат:\n",
        "        - tuple of float: (a, b, c).\n",
        "\n",
        "    Побочный эффект!\n",
        "    \"\"\"\n",
        "    return (float(x) for x in input('Введите стороны (a b c): ').split())\n",
        "\n",
        "def print_res(res):\n",
        "    \"\"\"Вывести на экран 'res'.\n",
        "\n",
        "    Параметры:\n",
        "        - res (float): площадь треугольника.\n",
        "\n",
        "    Побочный эффект!\n",
        "    \"\"\"\n",
        "    if res:\n",
        "        print('S = {:.2f}'.format(res))\n",
        "    else:\n",
        "        print('Треугольник не существует!')\n",
        "\n",
        "\n",
        "a, b, c = input_data()\n",
        "res = heron(a, b, c)\n",
        "print_res(res)"
      ],
      "metadata": {
        "colab": {
          "base_uri": "https://localhost:8080/"
        },
        "id": "X0Iw8i61yNIp",
        "outputId": "9cb855bb-5c8a-4ac6-a4f8-e3a4843487cc"
      },
      "execution_count": 21,
      "outputs": [
        {
          "output_type": "stream",
          "name": "stdout",
          "text": [
            "Введите стороны (a b c): 1 3 5\n",
            "Треугольник не существует!\n"
          ]
        }
      ]
    }
  ]
}