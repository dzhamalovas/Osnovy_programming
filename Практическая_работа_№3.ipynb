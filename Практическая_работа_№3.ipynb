{
  "nbformat": 4,
  "nbformat_minor": 0,
  "metadata": {
    "colab": {
      "provenance": [],
      "collapsed_sections": [
        "RTAz5CsnIEz3",
        "L6zEDjkNS97V",
        "PSMfyxUbcCZf",
        "SvlLu1DLcurY",
        "4dd66gdweB4q"
      ],
      "authorship_tag": "ABX9TyOxOMD2BitZdOXrhGwuGPYj",
      "include_colab_link": true
    },
    "kernelspec": {
      "name": "python3",
      "display_name": "Python 3"
    },
    "language_info": {
      "name": "python"
    }
  },
  "cells": [
    {
      "cell_type": "markdown",
      "metadata": {
        "id": "view-in-github",
        "colab_type": "text"
      },
      "source": [
        "<a href=\"https://colab.research.google.com/github/dzhamalovas/Osnovy_programming/blob/main/%D0%9F%D1%80%D0%B0%D0%BA%D1%82%D0%B8%D1%87%D0%B5%D1%81%D0%BA%D0%B0%D1%8F_%D1%80%D0%B0%D0%B1%D0%BE%D1%82%D0%B0_%E2%84%963.ipynb\" target=\"_parent\"><img src=\"https://colab.research.google.com/assets/colab-badge.svg\" alt=\"Open In Colab\"/></a>"
      ]
    },
    {
      "cell_type": "markdown",
      "source": [
        "### 3.1. Описать класс, реализующий десятичный счетчик, который может увеличивать или уменьшать свое значение на единицу в заданном диапазоне. Предусмотреть инициализацию счетчика значениями по умолчанию и произвольными значениями. Счетчик имеет два метода: увеличения и уменьшения, — и свойство, позволяющее получить его текущее состояние. При выходе за границы диапазона выбрасываются исключения. Написать программу, демонстрирующую все разработанные элементы класса."
      ],
      "metadata": {
        "id": "RTAz5CsnIEz3"
      }
    },
    {
      "cell_type": "code",
      "execution_count": null,
      "metadata": {
        "colab": {
          "base_uri": "https://localhost:8080/"
        },
        "id": "jzyimyIyH7Ph",
        "outputId": "d76518e6-9f43-4cf9-a56c-60981b461c83"
      },
      "outputs": [
        {
          "output_type": "stream",
          "name": "stdout",
          "text": [
            "1\n",
            "0\n",
            "1\n",
            "2\n",
            "1\n",
            "2\n",
            "3\n",
            "Выход за границу\n"
          ]
        }
      ],
      "source": [
        "class Counter:\n",
        "    current=0\n",
        "    def __init__(self, start, end):\n",
        "        self.start = start\n",
        "        self.end = end\n",
        "\n",
        "    def increase(self):\n",
        "        if self.current < self.end: \n",
        "            self.current += 1\n",
        "            return self.current \n",
        "        else: \n",
        "            return 'Выход за границу'\n",
        "    def decrease(self):\n",
        "        if self.current > self.start: \n",
        "            self.current -= 1\n",
        "            return self.current\n",
        "        else: \n",
        "            return 'Выход за границу'\n",
        "\n",
        "my_count=Counter(start=0, end=3)\n",
        "print(my_count.increase()) # Увеличение --> 1\n",
        "print(my_count.decrease()) # Уменьшение --> 0\n",
        "print(my_count.increase()) # Увеличение --> 1\n",
        "print(my_count.increase()) # Увеличение --> 2\n",
        "print(my_count.decrease()) # Уменьшение --> 1\n",
        "print(my_count.increase()) # Увеличение --> 2\n",
        "print(my_count.increase()) # Увеличение --> 3\n",
        "print(my_count.increase()) # Увеличение --> 'Выход за границу'"
      ]
    },
    {
      "cell_type": "code",
      "execution_count": null,
      "metadata": {
        "colab": {
          "base_uri": "https://localhost:8080/"
        },
        "outputId": "8a59f9b8-5f2d-4bf4-9443-2a6311734eb4",
        "id": "rr2K6igkaOro"
      },
      "outputs": [
        {
          "output_type": "stream",
          "name": "stdout",
          "text": [
            "Введите нижнюю границу: 23\n",
            "Введите верхнюю границу: 27\n",
            "24\n",
            "23\n",
            "24\n",
            "25\n",
            "26\n",
            "27\n",
            "Выход за границу\n"
          ]
        }
      ],
      "source": [
        "#Ввод своих границ\n",
        "class Counter2:\n",
        "    \n",
        "    def __init__(self):\n",
        "      try:\n",
        "        self.start = int(input('Введите нижнюю границу: '))\n",
        "        self.end = int(input('Введите верхнюю границу: '))\n",
        "        self.current = self.start\n",
        "      except:\n",
        "        print('Проверьте введенные данные')\n",
        "\n",
        "    def increase(self):\n",
        "        if self.current < self.end: \n",
        "            self.current += 1\n",
        "            return self.current \n",
        "        else: \n",
        "            return 'Выход за границу'\n",
        "    def decrease(self):\n",
        "        if self.current > self.start: \n",
        "            self.current -= 1\n",
        "            return self.current\n",
        "        else: \n",
        "            return 'Выход за границу'\n",
        "\n",
        "my_count=Counter2()\n",
        "print(my_count.increase()) # Увеличение \n",
        "print(my_count.decrease()) # Уменьшение \n",
        "print(my_count.increase()) # Увеличение \n",
        "print(my_count.increase()) # Увеличение \n",
        "print(my_count.increase()) # Увеличение \n",
        "print(my_count.increase()) # Увеличение \n",
        "print(my_count.increase()) # Увеличение"
      ]
    },
    {
      "cell_type": "markdown",
      "source": [
        "### 3.2. Описать класс, реализующий шестнадцатеричный счетчик, который может увеличивать или уменьшать свое значение на единицу в заданном диапазоне. Предусмотреть инициализацию счетчика значениями по умолчанию и произвольными значениями. Счетчик имеет два метода: увеличения и уменьшения, — и свойство, позволяющее получить его текущее состояние. При выходе за границы диапазона выбрасываются исключения. Написать программу, демонстрирующую все разработанные элементы класса. "
      ],
      "metadata": {
        "id": "L6zEDjkNS97V"
      }
    },
    {
      "cell_type": "code",
      "source": [
        "class HCounter:\n",
        "    \n",
        "    def __init__(self, start, end):\n",
        "        self.start = start\n",
        "        self.end = end\n",
        "        self.current = self.start\n",
        "\n",
        "    def increase(self):\n",
        "        if self.current < self.end: \n",
        "            self.current += 1\n",
        "            self.cur = hex(self.current)\n",
        "            return self.cur\n",
        "        else: \n",
        "            return 'Выход за границу'\n",
        "    def decrease(self):\n",
        "        if self.current > self.start: \n",
        "            self.current -= 1\n",
        "            self.cur = hex(self.current)\n",
        "            return self.cur\n",
        "        else: \n",
        "            return 'Выход за границу'\n",
        "\n",
        "my_count=HCounter(start=8, end=15)\n",
        "print(my_count.increase()) # Увеличение --> 9\n",
        "print(my_count.decrease()) # Уменьшение --> 8\n",
        "print(my_count.increase()) # Увеличение --> 9\n",
        "print(my_count.increase()) # Увеличение --> 10\n",
        "#print(my_count.decrease()) # Уменьшение --> \n",
        "print(my_count.increase()) # Увеличение --> 11\n",
        "print(my_count.increase()) # Увеличение --> 12\n",
        "print(my_count.increase()) # Увеличение --> 13\n",
        "print(my_count.increase()) # Увеличение --> 14\n",
        "print(my_count.increase()) # Увеличение --> 15\n",
        "print(my_count.increase()) # Увеличение --> 'Выход за границу'"
      ],
      "metadata": {
        "colab": {
          "base_uri": "https://localhost:8080/"
        },
        "id": "yhFsYDC_xSwy",
        "outputId": "f0027b30-7466-4c06-af54-8e95558ae422"
      },
      "execution_count": null,
      "outputs": [
        {
          "output_type": "stream",
          "name": "stdout",
          "text": [
            "0x9\n",
            "0x8\n",
            "0x9\n",
            "0xa\n",
            "0xb\n",
            "0xc\n",
            "0xd\n",
            "0xe\n",
            "0xf\n",
            "Выход за границу\n"
          ]
        }
      ]
    },
    {
      "cell_type": "markdown",
      "source": [
        "### 3.3. Описать класс, представляющий треугольник. Предусмотреть методы для создания объектов, перемещения на плоскости, изменения размеров и вращения на заданный угол. Описать свойства для получения состояния объекта. При невозможности построения треугольника выбрасывается исключение. Написать программу, демонстрирующую все разработанные элементы класса. "
      ],
      "metadata": {
        "id": "PSMfyxUbcCZf"
      }
    },
    {
      "cell_type": "code",
      "source": [
        "import math\n",
        "\n",
        "class Triangle:\n",
        "    def __init__(self, x1, y1, x2, y2, x3, y3):\n",
        "        self.a = (x1, y1)\n",
        "        self.b = (x2, y2)\n",
        "        self.c = (x3, y3)\n",
        "      \n",
        "\n",
        "    def validate(self):\n",
        "        a, b, c = self.a, self.b, self.c\n",
        "        if (a[0] == b[0] == c[0]) or (a[1] == b[1] == c[1]):\n",
        "            raise ValueError(\"Не удается создать треугольник с нулевой площадью\")\n",
        "        if (a == b) or (a == c) or (b == c):\n",
        "            raise ValueError(\"Не удается создать треугольник с совпадающими вершинами\")\n",
        "    def pr(self):\n",
        "      print(\"Треугольник с вершинами \" , self.a, self.b, self.c)\n",
        "    # Перемещение на плоскости\n",
        "    def move(self, dx, dy):\n",
        "        self.a = (self.a[0] + dx, self.a[1] + dy)\n",
        "        self.b = (self.b[0] + dx, self.b[1] + dy)\n",
        "        self.c = (self.c[0] + dx, self.c[1] + dy)\n",
        "        print(\"Треугольник с переносом \" , self.a, self.b, self.c)\n",
        "    # Изменение размеров \n",
        "    def resize(self, k):\n",
        "        self.a = (self.a[0]*k, self.a[1]*k)\n",
        "        self.b = (self.b[0]*k, self.b[1]*k)\n",
        "        self.c = (self.c[0]*k, self.c[1]*k)\n",
        "        print(\"Треугольник с измененным размером \" , self.a, self.b, self.c)\n",
        "    # Вращение на заданный угол\n",
        "    # Центр - среднее арифметическое координат вершин\n",
        "    # Для каждой вершины вычисляются новые координаты после поворота и обновляются соответствующие поля объекта.\n",
        "    # Для поворота каждой вершины вычитаем координаты центра, поворачиваем на угол, а затем добавляем их обратно.\n",
        "    def rotate(self, angle):\n",
        "        # Преобразуем угол в радианы\n",
        "        angle = math.radians(angle)\n",
        "        # Найдем центр масс треугольника\n",
        "        cx = (self.a[0] + self.b[0] + self.c[0]) / 3\n",
        "        cy = (self.a[1] + self.b[1] + self.c[1]) / 3\n",
        "        # Переместим каждую точку на центр масс, чтобы повернуть треугольник вокруг него\n",
        "        self.a = ((self.a[0] - cx) * math.cos(angle) - (self.a[1] - cy) * math.sin(angle) + cx,\n",
        "                  (self.a[0] - cx) * math.sin(angle) + (self.a[1] - cy) * math.cos(angle) + cy)\n",
        "        self.b = ((self.b[0] - cx) * math.cos(angle) - (self.b[1] - cy) * math.sin(angle) + cx,\n",
        "                  (self.b[0] - cx) * math.sin(angle) + (self.b[1] - cy) * math.cos(angle) + cy)\n",
        "        self.c = ((self.c[0] - cx) * math.cos(angle) - (self.c[1] - cy) * math.sin(angle) + cx,\n",
        "                  (self.c[0] - cx) * math.sin(angle) + (self.c[1] - cy) * math.cos(angle) + cy)\n",
        "\n",
        "        self.a = (round(self.a[0]),(round(self.a[1])))\n",
        "        self.b = (round(self.b[0]),(round(self.b[1])))\n",
        "        self.c = (round(self.c[0]),(round(self.c[1])))        \n",
        "        print(\"Треугольник с поворотом \" , self.a, self.b, self.c)\n",
        "        \n",
        "    \n",
        "\n",
        "\n",
        "triangle1 = Triangle(0, 0, 3, 0, 0, 4)\n",
        "triangle1.pr()\n",
        "triangle1.move(1, 2)\n",
        "triangle1.resize(2)\n",
        "#triangle2 = Triangle(0, 0, 1, 0, 0, 1)   \n",
        "#triangle2.rotate(45) \n",
        "triangle1.rotate(45) \n",
        "\n",
        "\n",
        "\n",
        "\n",
        "\n"
      ],
      "metadata": {
        "colab": {
          "base_uri": "https://localhost:8080/"
        },
        "id": "q6GIRP1Cr31j",
        "outputId": "d1c5f446-caeb-4837-d2c5-68695331df8f"
      },
      "execution_count": null,
      "outputs": [
        {
          "output_type": "stream",
          "name": "stdout",
          "text": [
            "Треугольник с вершинами  (0, 0) (3, 0) (0, 4)\n",
            "Треугольник с переносом  (1, 2) (4, 2) (1, 6)\n",
            "Треугольник с измененным размером  (2, 4) (8, 4) (2, 12)\n",
            "Треугольник с поворотом  (4, 3) (9, 8) (-1, 9)\n"
          ]
        }
      ]
    },
    {
      "cell_type": "markdown",
      "source": [
        "### 3.4. Построить описание класса, содержащего информацию о почтовом адресе организации. Предусмотреть возможность раздельного изменения составных частей адреса и проверки допустимости вводимых значений. В случае недопустимых значений полей выбрасываются исключения. Написать программу, демонстрирующую все разработанные элементы класса.  "
      ],
      "metadata": {
        "id": "SvlLu1DLcurY"
      }
    },
    {
      "cell_type": "code",
      "source": [
        "class PostAddress:\n",
        "    def __init__(self):\n",
        "        self.country = input('Введите страну: ')\n",
        "        self.city = input('Введите город: ')\n",
        "        try:\n",
        "          self.code = int(input('Введите индекс: '))\n",
        "          if len(str(self.code)) != 6:\n",
        "            print(\"Zip code should contain 6 digits\")\n",
        "        except:\n",
        "          print('Введите число')\n",
        "        self.street = input('Введите улицу: ')\n",
        "        try:\n",
        "          self.house = int(input('Введите дом: '))\n",
        "          self.office = int(input('Введите номер офиса: '))\n",
        "        except:\n",
        "          print('Введите числа')\n",
        "    def set_adress(self):\n",
        "      print('Почтовый адрес организации:', self.country,  ', г.',  self.city, ',', self.code, ', ул.', self.street, ', д.', self.house, ', п.',self.office )\n",
        "\n",
        "\n",
        "t = PostAddress()\n",
        "t.set_adress()\n"
      ],
      "metadata": {
        "colab": {
          "base_uri": "https://localhost:8080/"
        },
        "outputId": "f03ea2bb-1eb3-4dc0-9941-747432ee6135",
        "id": "X0c2uuQ9Zrz5"
      },
      "execution_count": null,
      "outputs": [
        {
          "output_type": "stream",
          "name": "stdout",
          "text": [
            "Введите страну: Россия \n",
            "Введите город: Москва\n",
            "Введите индекс: 123456\n",
            "Введите улицу: Тверская\n",
            "Введите дом: 6\n",
            "Введите номер офиса: 12\n",
            "Почтовый адрес организации: Россия  , г. Москва , 123456 , ул. Тверская , д. 6 , п. 12\n"
          ]
        }
      ]
    },
    {
      "cell_type": "markdown",
      "source": [
        "### 3.5. Составить описание класса для представления комплексных чисел.  Обеспечить выполнение операций сложения, вычитания и умножения комплексных чисел. Написать программу, демонстрирующую все разработанные элементы класса. \n"
      ],
      "metadata": {
        "id": "4dd66gdweB4q"
      }
    },
    {
      "cell_type": "code",
      "source": [
        "class ComplexNumber:\n",
        "    def __init__(self, real_part=0, imaginary_part=0):\n",
        "        self.real_part = real_part   # Действительная часть \n",
        "        self.imaginary_part = imaginary_part # Мнимая часть \n",
        "        \n",
        "    def __add__(self, other):\n",
        "        real = self.real_part + other.real_part\n",
        "        imaginary = self.imaginary_part + other.imaginary_part\n",
        "        return ComplexNumber(real, imaginary)\n",
        "        \n",
        "    def __sub__(self, other):\n",
        "        real = self.real_part - other.real_part\n",
        "        imaginary = self.imaginary_part - other.imaginary_part\n",
        "        return ComplexNumber(real, imaginary)\n",
        "        \n",
        "    def __mul__(self, other):\n",
        "        real = self.real_part * other.real_part - self.imaginary_part * other.imaginary_part\n",
        "        imaginary = self.real_part * other.imaginary_part + self.imaginary_part * other.real_part\n",
        "        return ComplexNumber(real, imaginary)\n",
        "        \n",
        "    def __str__(self):\n",
        "        sign = '+' if self.imaginary_part >= 0 else '-'\n",
        "        return f\"{self.real_part} {sign} {abs(self.imaginary_part)}i\"\n",
        "\n",
        "# Пример использования класса\n",
        "num1 = ComplexNumber(2, 3)\n",
        "num2 = ComplexNumber(4, -5)\n",
        "\n",
        "sum_result = num1 + num2\n",
        "print(\"Результат суммы: \", sum_result)  # Вывод: 6 - 2i\n",
        "\n",
        "sub_result = num1 - num2\n",
        "print(\"Результат вычитания: \",sub_result)  # Вывод: -2 + 8i\n",
        "\n",
        "mul_result = num1 * num2\n",
        "print(\"Результат умножения: \", mul_result)  # Вывод: 23 - 2i\n"
      ],
      "metadata": {
        "id": "wGf0PaaQeNnv",
        "colab": {
          "base_uri": "https://localhost:8080/"
        },
        "outputId": "9a211dfc-0920-4549-8ca1-d3bc4cdce9ac"
      },
      "execution_count": null,
      "outputs": [
        {
          "output_type": "stream",
          "name": "stdout",
          "text": [
            "Результат суммы:  6 - 2i\n",
            "Результат вычитания:  -2 + 8i\n",
            "Результат умножения:  23 + 2i\n"
          ]
        }
      ]
    },
    {
      "cell_type": "markdown",
      "source": [
        "### 3.6. Составить описание класса для вектора, заданного координатами его концов в трехмерном пространстве. Обеспечить операции сложения и вычитания векторов с получением нового вектора (суммы или разности), вычисления скалярного произведения двух векторов, длины вектора, косинуса угла между векторами. Написать программу, демонстрирующую все разработанные элементы класса."
      ],
      "metadata": {
        "id": "5imD45mleo1Y"
      }
    },
    {
      "cell_type": "code",
      "source": [
        "import math\n",
        "\n",
        "class Vector:\n",
        "    def __init__(self, x1, y1, z1, x2, y2, z2):\n",
        "        self.x1 = x1\n",
        "        self.y1 = y1\n",
        "        self.z1 = z1\n",
        "        self.x2 = x2\n",
        "        self.y2 = y2\n",
        "        self.z2 = z2\n",
        "      \n",
        "    def vect(self):\n",
        "      self.a = self.x2-self.x1\n",
        "      self.b = self.y2-self.y1\n",
        "      self.c = self.z2-self.z1\n",
        "\n",
        "      print('{', self.a,';',self.b,';',self.c,'}')\n",
        "\n",
        "    # Сложение векторов\n",
        "    def add(self, other):\n",
        "      print('{', self.a+other.a, ';',self.b+other.b,';',self.c+other.c,'}')\n",
        "    # Вычитание векторов\n",
        "    def sub(self, other):\n",
        "      print('{', self.a-other.a, ';',self.b-other.b,';',self.c-other.c,'}')\n",
        "\n",
        "    # Скалярное произведение векторов\n",
        "    def scalar_product(self, other):\n",
        "        return (self.x2 - self.x1) * (other.x2 - other.x1) + (self.y2 - self.y1) * (other.y2 - other.y1) + (self.z2 - self.z1) * (other.z2 - other.z1)\n",
        "    # Длина вектора \n",
        "    def length(self):\n",
        "        return math.sqrt((self.x2 - self.x1)**2 + (self.y2 - self.y1)**2 + (self.z2 - self.z1)**2)\n",
        "    # Косинус угла между векторами\n",
        "    def cos(self, other):\n",
        "        return self.scalar_product(other) / (self.length() * other.length())\n",
        "\n",
        "\n",
        "\"\"\"\n",
        "Обеспечить операции сложения и вычитания векторов с получением нового вектора (суммы или разности), \n",
        "вычисления скалярного произведения двух векторов, длины вектора, косинуса угла между векторами\n",
        "\"\"\"\n",
        "v1 = Vector(0, 0, 0, 1, 1, 1)\n",
        "v2 = Vector(0, 0, 0, 1, 0, 0)\n",
        "print('Вектор 1: ')\n",
        "v1.vect()\n",
        "print('Вектор 2: ')\n",
        "v2.vect()\n",
        "\n",
        "print('')\n",
        "\n",
        "print('Результат сложения векторов: ')\n",
        "v1.add(v2)\n",
        "\n",
        "print('')\n",
        "\n",
        "print('Результат вычитания векторов: ')\n",
        "v1.sub(v2)\n",
        "\n",
        "print('')\n",
        "\n",
        "scalar_product = v1.scalar_product(v2)\n",
        "print(\"Скалярное произведение векторов: \", scalar_product)\n",
        "\n",
        "print('')\n",
        "\n",
        "print(\"Длина 1 вектора: \", v1.length())\n",
        "print(\"Длина 2 вектора: \", v2.length())\n",
        "\n",
        "print('')\n",
        "\n",
        "cos = v1.cos(v2)\n",
        "print(\"Косинус угла между векторами: \", cos)\n"
      ],
      "metadata": {
        "colab": {
          "base_uri": "https://localhost:8080/"
        },
        "outputId": "bbe2b5e8-4162-4233-9e95-373b861c3954",
        "id": "QZ1EOoVdPhse"
      },
      "execution_count": null,
      "outputs": [
        {
          "output_type": "stream",
          "name": "stdout",
          "text": [
            "Вектор 1: \n",
            "{ 1 ; 1 ; 1 }\n",
            "Вектор 2: \n",
            "{ 1 ; 0 ; 0 }\n",
            "\n",
            "Результат сложения векторов: \n",
            "{ 2 ; 1 ; 1 }\n",
            "\n",
            "Результат вычитания векторов: \n",
            "{ 0 ; 1 ; 1 }\n",
            "\n",
            "Скалярное произведение векторов:  1\n",
            "\n",
            "Длина 1 вектора:  1.7320508075688772\n",
            "Длина 2 вектора:  1.0\n",
            "\n",
            "Косинус угла между векторами:  0.5773502691896258\n"
          ]
        }
      ]
    },
    {
      "cell_type": "markdown",
      "source": [
        "### 3.7. Составить описание класса прямоугольников со сторонами, параллельными осям координат. Предусмотреть возможность перемещения прямоугольников на плоскости, изменение размеров, построение наименьшего прямоугольника, содержащего два заданных прямоугольника, и прямоугольника, являющегося общей частью (пересечением) двух прямоугольников. Написать программу, демонстрирующую все разработанные элементы класса."
      ],
      "metadata": {
        "id": "71K9kCQ0exRA"
      }
    },
    {
      "cell_type": "code",
      "source": [
        "class Rectangle:\n",
        "    def __init__(self, x, y, width, height):  # Точка и ширина, высота\n",
        "        self.x = x\n",
        "        self.y = y\n",
        "        self.width = width\n",
        "        self.height = height\n",
        "\n",
        "    def __str__(self):\n",
        "            return f\"Прямоугольник: x = {self.x}, y = {self.y}, ширина = {self.width}, высота = {self.height}\"\n",
        "    # Перемещение   \n",
        "    def move(self, dx, dy):\n",
        "        self.x += dx\n",
        "        self.y += dy\n",
        "    # Изменение размеров  \n",
        "    def resize(self, dw, dh):\n",
        "        self.width += dw\n",
        "        self.height += dh\n",
        "    # Построение пересечения \n",
        "    def intersection(self, other):\n",
        "        x1 = max(self.x, other.x)\n",
        "        y1 = max(self.y, other.y)\n",
        "        x2 = min(self.x + self.width, other.x + other.width)\n",
        "        y2 = min(self.y + self.height, other.y + other.height)\n",
        "        \n",
        "        if x2 > x1 and y2 > y1:\n",
        "            return f\"Прямоугольник: x = {x1}, y = {y1}, ширина = {x2-x1}, высота = {y2-y1}\"\n",
        "\n",
        "#            return Rectangle(x1, y1, x2 - x1, y2 - y1)\n",
        "        else:\n",
        "            return None\n",
        "    # Построение наименьшего   \n",
        "    def union(self, other):\n",
        "        x1 = min(self.x, other.x)\n",
        "        y1 = min(self.y, other.y)\n",
        "        x2 = max(self.x + self.width, other.x + other.width)\n",
        "        y2 = max(self.y + self.height, other.y + other.height)\n",
        "        return f\"Прямоугольник: x = {x1}, y = {y1}, ширина = {x2-x1}, высота = {y2-y1}\"\n",
        "        \n",
        "#        return Rectangle(x1, y1, x2 - x1, y2 - y1)\n",
        "\n",
        "r1 = Rectangle(0,0,5,10)\n",
        "r2 = Rectangle(2,3,5,3)\n",
        "print(r1)\n",
        "print(r2)\n",
        "\n",
        "r1.move(2,2)\n",
        "r2.move(1,-2)\n",
        "print(r1)\n",
        "print(r2)\n",
        "\n",
        "r1.resize(2,1)\n",
        "r2.resize(1,3)\n",
        "print(r1)\n",
        "print(r2)\n",
        "\n",
        "intersect = r1.intersection(r2)\n",
        "if intersect:\n",
        "    print(\"Пересечение двух прямоугольников:\")\n",
        "    print(intersect)\n",
        "else:\n",
        "    print(\"Нет пересечения\")\n",
        "\n",
        "union = r1.union(r2)\n",
        "print(\"Наименьший прямоугольник, содержащий два заданных прямоугольника:\")\n",
        "print(union)\n",
        "\n"
      ],
      "metadata": {
        "id": "hdPN8c7LfWtE",
        "colab": {
          "base_uri": "https://localhost:8080/"
        },
        "outputId": "54068e1a-b215-4ecb-a673-d1bf678723ff"
      },
      "execution_count": null,
      "outputs": [
        {
          "output_type": "stream",
          "name": "stdout",
          "text": [
            "Прямоугольник: x = 0, y = 0, ширина = 5, высота = 10\n",
            "Прямоугольник: x = 2, y = 3, ширина = 5, высота = 3\n",
            "Прямоугольник: x = 2, y = 2, ширина = 5, высота = 10\n",
            "Прямоугольник: x = 3, y = 1, ширина = 5, высота = 3\n",
            "Прямоугольник: x = 2, y = 2, ширина = 7, высота = 11\n",
            "Прямоугольник: x = 3, y = 1, ширина = 6, высота = 6\n",
            "Пересечение двух прямоугольников:\n",
            "Прямоугольник: x = 3, y = 2, ширина = 6, высота = 5\n",
            "Наименьший прямоугольник, содержащий два заданных прямоугольника:\n",
            "Прямоугольник: x = 2, y = 1, ширина = 7, высота = 12\n"
          ]
        }
      ]
    },
    {
      "cell_type": "markdown",
      "source": [
        "### 3.8. Составить описание класса для представления даты. Предусмотреть возможности установки даты и изменения ее отдельных полей (год, месяц, день) с проверкой допустимости вводимых значений. В случае недопустимых значений полей выбрасываются исключения. Создать методы изменения даты на заданное количество дней, месяцев и лет. Написать программу, демонстрирующую все разработанные элементы класса."
      ],
      "metadata": {
        "id": "lu4iKgWFfW9b"
      }
    },
    {
      "cell_type": "code",
      "source": [
        "class Date:\n",
        "    def __init__(self):\n",
        "      try:\n",
        "        self.year = int(input('Введите год: '))\n",
        "        self.month = int(input('Введите месяц: '))\n",
        "        if self.month < 0  or self.month > 12:\n",
        "          print('Введите конкретный месяц')\n",
        "        self.day = int(input('Введите день: '))\n",
        "        if self.day < 0  or self.day > 31:\n",
        "          print('Введите конкретный день')\n",
        "      except:\n",
        "        print('Введите числа')\n",
        "        \n",
        "    def print(self):\n",
        "        print('Формат ДД/ММ/ГГГГ')\n",
        "        print(self.day,'/',self.month,'/',self.year)\n",
        "\n",
        "    def add_day(self):\n",
        "      try:\n",
        "        self.add_d = int(input('Добавьте следующее количество дней: '))\n",
        "      except:\n",
        "        print('Введите числа')\n",
        "      self.day += self.add_d\n",
        "      while self.day > 31:\n",
        "        self.day = self.day - 31\n",
        "        self.month +=1\n",
        "        while self.month > 12:\n",
        "          self.month -= 12\n",
        "          self.year +=1\n",
        "      print('Формат ДД/ММ/ГГГГ с добавлением дней')\n",
        "      print(self.day,'/',self.month,'/',self.year)\n",
        "\n",
        "    def add_month(self):\n",
        "      try:\n",
        "        self.add_m = int(input('Добавьте следующее количество месяцев: '))\n",
        "      except:\n",
        "        print('Введите числа')\n",
        "      self.month += self.add_m\n",
        "      while self.month > 12:\n",
        "        self.month = self.month - 12\n",
        "        self.year +=1\n",
        "      print('Формат ДД/ММ/ГГГГ с добавлением месяцев')\n",
        "      print(self.day,'/',self.month,'/',self.year)\n",
        "\n",
        "    def add_year(self):\n",
        "      try:\n",
        "        self.add_y = int(input('Добавьте следующее количество лет: '))\n",
        "      except:\n",
        "        print('Введите числа')\n",
        "      self.year += self.add_y\n",
        "      print('Формат ДД/ММ/ГГГГ с добавлением лет')\n",
        "      print(self.day,'/',self.month,'/',self.year)\n",
        "\n",
        "\n",
        "d= Date()\n",
        "d.print()\n",
        "d.add_day()\n",
        "#d.add_month()\n",
        "#d.add_year()\n"
      ],
      "metadata": {
        "colab": {
          "base_uri": "https://localhost:8080/"
        },
        "outputId": "a8af3be1-295a-4985-c525-15a32e714fb6",
        "id": "j3vOL3_7no0X"
      },
      "execution_count": null,
      "outputs": [
        {
          "output_type": "stream",
          "name": "stdout",
          "text": [
            "Введите год: 2005\n",
            "Введите месяц: 12\n",
            "Введите день: 30\n",
            "Формат ДД/ММ/ГГГГ\n",
            "30 / 12 / 2005\n",
            "Добавьте следующее количество дней: 5\n",
            "Формат ДД/ММ/ГГГГ с добавлением дней\n",
            "4 / 1 / 2006\n"
          ]
        }
      ]
    },
    {
      "cell_type": "markdown",
      "source": [
        "### 3.9. Составить описание класса для представления времени. Предусмотреть возможности установки времени и изменения его отдельных полей (час, минута секунда) с проверкой допустимости вводимых значений. В случае недопустимых значений полей выбрасываются исключения. Создать методы изменения времени на заданное количество часов, минут и секунд. Написать программу, демонстрирующую все разработанные элементы класса."
      ],
      "metadata": {
        "id": "n1cF_C4zf2OD"
      }
    },
    {
      "cell_type": "code",
      "source": [
        "class Time:\n",
        "    def __init__(self):\n",
        "        self.hour = int(input('Введите часы: '))\n",
        "        if not (0 <= self.hour <= 23):\n",
        "            print(\"Введите корректное значение\")\n",
        "        self.minute = int(input('Введите минуты: '))\n",
        "        if not (0 <= self.minute <= 59):\n",
        "            print(\"Введите корректное значение\")\n",
        "        self.second = int(input('Введите секунды: '))\n",
        "        if not (0 <= self.second <= 59):\n",
        "            print(\"Введите корректное значение\")\n",
        "\n",
        "    def print(self):\n",
        "        print(self.hour,':',self.minute,':',self.second)\n",
        "\n",
        "    def add_hours(self):\n",
        "      try:\n",
        "        self.add_h = int(input('Добавьте следующее количество часов: '))\n",
        "      except:\n",
        "        print('Введите числа')\n",
        "      self.hour += self.add_h\n",
        "      while self.hour > 23:\n",
        "        self.hour = self.hour - 24\n",
        "      print(\"С добавлением часов\")\n",
        "      print(self.hour,':',self.minute,':',self.second)\n",
        "\n",
        "    \n",
        "    def add_minutes(self):\n",
        "      try:\n",
        "        self.add_m = int(input('Добавьте следующее количество минут: '))\n",
        "      except:\n",
        "        print('Введите числа')\n",
        "      self.minute += self.add_m\n",
        "      while self.minute > 59:\n",
        "        self.minute -= 60\n",
        "        self.hour +=1\n",
        "      while self.hour > 23:\n",
        "        self.hour = self.hour - 24\n",
        "      print(\"С добавлением минут\")\n",
        "      print(self.hour,':',self.minute,':',self.second)\n",
        "\n",
        "    \n",
        "    def add_seconds(self):\n",
        "      try:\n",
        "        self.add_s = int(input('Добавьте следующее количество секунд: '))\n",
        "      except:\n",
        "        print('Введите числа')\n",
        "      self.second += self.add_s\n",
        "      while self.second > 59:\n",
        "        self.second -= 60\n",
        "        self.minute +=1\n",
        "        while self.minute > 59:\n",
        "          self.minute = self.minute - 60\n",
        "          self.hour +=1\n",
        "      while self.hour > 23:\n",
        "        self.hour = self.hour - 24\n",
        "      print(\"С добавлением секунд\")\n",
        "      print(self.hour,':',self.minute,':',self.second)\n",
        "    \n",
        "\n",
        "t = Time()\n",
        "t.print()\n",
        "#t.add_hours()\n",
        "#t.add_minutes()\n",
        "t.add_seconds()"
      ],
      "metadata": {
        "id": "XQNpcPy1gDtX",
        "colab": {
          "base_uri": "https://localhost:8080/"
        },
        "outputId": "0ba8b2e8-cb60-42f8-c3eb-5b888355824f"
      },
      "execution_count": null,
      "outputs": [
        {
          "output_type": "stream",
          "name": "stdout",
          "text": [
            "Введите часы: 23\n",
            "Введите минуты: 59\n",
            "Введите секунды: 59\n",
            "23 : 59 : 59\n",
            "Добавьте следующее количество секунд: 1\n",
            "С добавлением секунд\n",
            "0 : 0 : 0\n"
          ]
        }
      ]
    },
    {
      "cell_type": "markdown",
      "source": [
        "### 3.10. Составить описание класса многочлена вида ах2 + bх + с. Предусмотреть методы, реализующие:\n",
        "* вычисление значения многочлена для заданного аргумента;\n",
        "* операцию сложения, вычитания и умножения многочленов с получением\n",
        "нового объекта-многочлена;\n",
        "* вывод на экран описания многочлена.\n",
        "\n",
        "Написать программу, демонстрирующую все разработанные элементы\n",
        "класса. \n"
      ],
      "metadata": {
        "id": "yRbb0wX7gD-9"
      }
    },
    {
      "cell_type": "code",
      "source": [
        "\n",
        "class Equation:\n",
        "    def __init__(self, a, b, c):\n",
        "        self.a = a\n",
        "        self.b = b\n",
        "        self.c = c\n",
        "    \n",
        "    # вычисление значения многочлена для заданного аргумента\n",
        "    def evaluate(self, x):\n",
        "        return self.a * x**2 + self.b * x + self.c\n",
        "    # операция сложения многочленов\n",
        "    def __add__(self, other):\n",
        "        return Equation(self.a + other.a, self.b + other.b, self.c + other.c)\n",
        "    # операция вычитания многочленов\n",
        "    def __sub__(self, other):\n",
        "        return Equation(self.a - other.a, self.b - other.b, self.c - other.c)\n",
        "    # операция умножения многочленов\n",
        "    def __mul__(self, other):\n",
        "        a = self.a * other.a\n",
        "        b = self.a * other.b + self.b * other.a\n",
        "        c = self.a * other.c + self.b * other.b + self.c * other.a\n",
        "        return Equation(a, b, c)\n",
        "    \n",
        "    def __str__(self):\n",
        "        return f\"{self.a}x^2 + {self.b}x + {self.c}\"\n",
        "\n",
        "p1 = Equation(2, 3, 4)\n",
        "p2 = Equation(1, -2, 3)\n",
        "\n",
        "print(\"Значение 1 многочлена: \", p1.evaluate(1))  \n",
        "print(\"Значение 2 многочлена: \", p2.evaluate(2))  \n",
        "\n",
        "p3 = p1 + p2\n",
        "print(\"Сумма многочленов: \", p3) \n",
        "\n",
        "p4 = p1 - p2\n",
        "print(\"Разность многочленов: \", p4) \n",
        "\n",
        "p5 = p1 * p2\n",
        "print(\"Произведение многочленов: \", p5)  "
      ],
      "metadata": {
        "id": "H7xyHClVgda4",
        "colab": {
          "base_uri": "https://localhost:8080/"
        },
        "outputId": "083f22df-06ab-4d7c-8337-44a56a6a43d5"
      },
      "execution_count": null,
      "outputs": [
        {
          "output_type": "stream",
          "name": "stdout",
          "text": [
            "Значение 1 многочлена:  9\n",
            "Значение 2 многочлена:  3\n",
            "Сумма многочленов:  3x^2 + 1x + 7\n",
            "Разность многочленов:  1x^2 + 5x + 1\n",
            "Произведение многочленов:  2x^2 + -1x + 4\n"
          ]
        }
      ]
    },
    {
      "cell_type": "markdown",
      "source": [
        "### 3.11. Описать класс, представляющий треугольник. Предусмотреть методы для создания объектов, вычисления площади, периметра и точки пересечения медиан. Описать свойства для получения состояния объекта. При невозможности построения треугольника выбрасывается исключение. Написать программу, демонстрирующую все разработанные элементы класса. \n"
      ],
      "metadata": {
        "id": "WOk5Uxv-gdsC"
      }
    },
    {
      "cell_type": "code",
      "source": [
        "import math\n",
        "\n",
        "class Triangle:\n",
        "    def __init__(self, a, b, c):\n",
        "        if a + b > c and a + c > b and b + c > a:\n",
        "          if a > 0:\n",
        "            self.a = a\n",
        "          else:\n",
        "            print(\"Сторона треугольника должна быть положительной.\")\n",
        "          if b > 0:\n",
        "            self.b = b\n",
        "          else:\n",
        "            print(\"Сторона треугольника должна быть положительной.\")\n",
        "          if c > 0:\n",
        "            self.c = c\n",
        "          else:\n",
        "            print(\"Сторона треугольника должна быть положительной.\")\n",
        "        else:\n",
        "            print(\"Треугольник не может быть построен.\")\n",
        "\n",
        "    def median_intersection(self):\n",
        "        print('a = ',self.a)\n",
        "        print('b = ',self.b)\n",
        "        print('c = ',self.c)\n",
        "#        o = ((1/3 * (int(self.c))-0.5))*2\n",
        "        o = ((int(self.c)-0.5)/3)*2\n",
        "        p = ((int(self.b)-0.5)/3)*2\n",
        "        q = ((int(self.c)-0.5)/3)*2\n",
        "\n",
        "\n",
        "        print('Большая часть медианы, проведенной к стороне а: ', o)\n",
        "        print('Большая часть медианы, проведенной к стороне b: ', p)\n",
        "        print('Большая часть медианы, проведенной к стороне c: ', q)\n",
        "\n",
        "t = Triangle(3, 4, 5)\n",
        "\n",
        "t.median_intersection()\n"
      ],
      "metadata": {
        "colab": {
          "base_uri": "https://localhost:8080/"
        },
        "id": "36VK06890Ndh",
        "outputId": "a56a8c72-80b0-4c06-ec2f-9c0aac9c2e57"
      },
      "execution_count": null,
      "outputs": [
        {
          "output_type": "stream",
          "name": "stdout",
          "text": [
            "a =  3\n",
            "b =  4\n",
            "c =  5\n",
            "Большая часть медианы, проведенной к стороне а:  3.0\n",
            "Большая часть медианы, проведенной к стороне b:  2.3333333333333335\n",
            "Большая часть медианы, проведенной к стороне c:  3.0\n"
          ]
        }
      ]
    },
    {
      "cell_type": "code",
      "source": [
        "import math\n",
        "\n",
        "class Triangle:\n",
        "  def __init__(self, x1, y1, x2, y2, x3, y3):\n",
        "    self.a = (x1, y1)\n",
        "    self.b = (x2, y2)\n",
        "    self.c = (x3, y3)\n",
        "    # проверка возможности построения треугольника\n",
        "    if self.area() == 0:\n",
        "        raise ValueError(\"Невозможно построить треугольник\")\n",
        "    \n",
        "  def side(self, p1, p2):\n",
        "      return math.sqrt((p2[0] - p1[0])**2 + (p2[1] - p1[1])**2)\n",
        "\n",
        "  def perimeter(self):\n",
        "      return self.side(self.a, self.b) + self.side(self.b, self.c) + self.side(self.c, self.a)\n",
        "\n",
        "  def area(self):\n",
        "      # вычисляем площадь треугольника по формуле Герона\n",
        "      s = self.perimeter() / 2\n",
        "      return math.sqrt(s * (s - self.side(self.a, self.b)) * (s - self.side(self.b, self.c)) * (s - self.side(self.c, self.a)))\n",
        "\n",
        "  def centroid(self):\n",
        "      # вычисляем координаты точки пересечения медиан\n",
        "      return ((self.a[0] + self.b[0] + self.c[0]) / 3, (self.a[1] + self.b[1] + self.c[1]) / 3)\n",
        "\n",
        "triangle = Triangle(0, 0, 3, 0, 0, 4)\n",
        "print(\"Координаты вершины A: \", triangle.a)  # (0, 0)\n",
        "print(\"Координаты вершины B: \",triangle.b)  # (3, 0)\n",
        "print(\"Координаты вершины C: \",triangle.c)  # (0, 4)\n",
        "print(\"Периметр: \",triangle.perimeter())  # 12.0\n",
        "print(\"Площадь: \",triangle.area())  # 6.0\n",
        "print(\"Координаты точки пересечения медиан: \",triangle.centroid())  # (1.0, 1.3333333333333333)\n",
        "\n"
      ],
      "metadata": {
        "colab": {
          "base_uri": "https://localhost:8080/"
        },
        "id": "-67Vv4HS_Rtn",
        "outputId": "f9407c3c-5846-4a72-918c-fd051b480863"
      },
      "execution_count": null,
      "outputs": [
        {
          "output_type": "stream",
          "name": "stdout",
          "text": [
            "Координаты вершины A:  (0, 0)\n",
            "Координаты вершины B:  (3, 0)\n",
            "Координаты вершины C:  (0, 4)\n",
            "Периметр:  12.0\n",
            "Площадь:  6.0\n",
            "Координаты точки пересечения медиан:  (1.0, 1.3333333333333333)\n"
          ]
        }
      ]
    },
    {
      "cell_type": "markdown",
      "source": [
        "### 3.12. Описать класс, представляющий круг. Предусмотреть методы для создания объектов, вычисления площади круга, длины окружности и проверки попадания заданной точки внутрь круга. Описать свойства для получения состояния объекта. Написать программу, демонстрирующую все разработанные элементы класса. "
      ],
      "metadata": {
        "id": "EMs9rIRMgmg8"
      }
    },
    {
      "cell_type": "code",
      "source": [
        "import math\n",
        "\n",
        "class Circle:\n",
        "    def __init__(self, x, y, r): # Координаты центра и радиус \n",
        "        self.x = x\n",
        "        self.y = y\n",
        "        if r > 0:\n",
        "          self.r = r\n",
        "        else:\n",
        "          print(\"Радиус не может быть отрицательным\")\n",
        "    # Площадь круга\n",
        "    def area(self):\n",
        "        return round(math.pi * self.r ** 2,1)\n",
        "    # Длина окружности\n",
        "    def circumference(self):\n",
        "        return round(2 * math.pi * self.r,1)\n",
        "    # Проверка попадания заданной точки внутрь круга\n",
        "    def is_inside(self, a, b):\n",
        "      if (a - self.x) ** 2 + (b - self.y) ** 2 < self.r ** 2:\n",
        "        print('Точка находится внутри круга')\n",
        "      elif (a - self.x) ** 2 + (b - self.y) ** 2 == self.r ** 2:\n",
        "        print('Точка находится на окружности')\n",
        "      else:\n",
        "        print('Точка находится вне круга')\n",
        "#        return (a - self.x) ** 2 + (b - self.y) ** 2 <= self.r ** 2\n",
        "\n",
        "c = Circle(0, 0, 5)\n",
        "print('Площадь круга: ', c.area())  \n",
        "print('Длина окружности: ', c.circumference())  \n",
        "c.is_inside(3, 4) \n",
        "c.is_inside(7, 8) \n",
        "\n"
      ],
      "metadata": {
        "id": "hETJA8IYgxPl",
        "colab": {
          "base_uri": "https://localhost:8080/"
        },
        "outputId": "483f9968-de87-4264-d776-52580117a2f8"
      },
      "execution_count": null,
      "outputs": [
        {
          "output_type": "stream",
          "name": "stdout",
          "text": [
            "Площадь круга:  78.5\n",
            "Длина окружности:  31.4\n",
            "Точка находится на окружности\n",
            "Точка находится вне круга\n"
          ]
        }
      ]
    },
    {
      "cell_type": "markdown",
      "source": [
        "### 3.13. Описать класс для работы со строкой, позволяющей хранить только двоичное число и выполнять с ним арифметические операции. Предусмотреть инициализацию с проверкой допустимости значений. В случае недопустимых значений выбрасываются исключения. Написать программу, демонстрирующую все разработанные элементы класса."
      ],
      "metadata": {
        "id": "-WD80cI1gxt0"
      }
    },
    {
      "cell_type": "code",
      "source": [
        "class BinaryString:\n",
        "    def __init__(self, binary_string):\n",
        "        if not all(c in '01' for c in binary_string):\n",
        "            raise ValueError('Введите двоичное число')\n",
        "        self.binary_string = binary_string\n",
        "    # Вывод самого числа\n",
        "    def __str__(self):\n",
        "        return self.binary_string\n",
        "    # Сложение\n",
        "    def __add__(self, other):\n",
        "      # перевернуть числа для удобства выполнения операций\n",
        "        a = self.binary_string[::-1]\n",
        "        b = other.binary_string[::-1]\n",
        "        carry = 0\n",
        "        result = []\n",
        "        for i in range(max(len(a), len(b))):\n",
        "            sum = carry\n",
        "            if i < len(a):\n",
        "                sum += int(a[i])\n",
        "            if i < len(b):\n",
        "                sum += int(b[i])\n",
        "            result.append(str(sum % 2))\n",
        "            carry = sum // 2\n",
        "        if carry:\n",
        "            result.append(str(carry))\n",
        "        return BinaryString(''.join(result[::-1]))\n",
        "a = BinaryString('1010')\n",
        "b = BinaryString('1101')\n",
        "print(a)\n",
        "print(b)\n",
        "p3 = a + b\n",
        "print(\"Сумма : \", p3) "
      ],
      "metadata": {
        "colab": {
          "base_uri": "https://localhost:8080/"
        },
        "id": "Z9xyv4DEwusI",
        "outputId": "e81cedda-27b6-4f74-b329-aa58344941f7"
      },
      "execution_count": 20,
      "outputs": [
        {
          "output_type": "stream",
          "name": "stdout",
          "text": [
            "1010\n",
            "1101\n",
            "Сумма :  10111\n"
          ]
        }
      ]
    },
    {
      "cell_type": "markdown",
      "source": [
        "### 3.14. Описать класс дробей – рациональных чисел, являющихся отношением двух целых чисел. Предусмотреть методы сложения, вычитания, умножения и деления дробей. Написать программу, демонстрирующую все разработанные элементы класса."
      ],
      "metadata": {
        "id": "dXrJSn_1hCNo"
      }
    },
    {
      "cell_type": "code",
      "source": [
        "class Fraction:\n",
        "    def __init__(self, numerator, denominator):\n",
        "        self.numerator = numerator\n",
        "        self.denominator = denominator\n",
        "\n",
        "    def __str__(self):\n",
        "        return f\"{self.numerator}/{self.denominator}\"\n",
        "\n",
        "    def __gcd(self, a, b): # наибольший общий делитель двух чисел\n",
        "      if a > b:\n",
        "        x = b\n",
        "      else:\n",
        "        x = a\n",
        "      for i in range(1,x+1):\n",
        "        if (a % i == 0) and (b % i == 0 ):\n",
        "          gcd = i\n",
        "      return gcd\n",
        "\n",
        "    def __lcm(self, a, b):  # наименьшее общее кратное двух чисел\n",
        "        return a * b // self.__gcd(a, b)\n",
        "\n",
        "    def amount(self, other):  # суммa двух дробей\n",
        "        lcm = self.__lcm(self.denominator, other.denominator)\n",
        "        numerator = lcm // self.denominator * self.numerator + lcm // other.denominator * other.numerator\n",
        "        return Fraction(numerator, lcm)\n",
        "\n",
        "    def diff(self, other):  # разность двух дробей\n",
        "        lcm = self.__lcm(self.denominator, other.denominator)\n",
        "        numerator = lcm // self.denominator * self.numerator - lcm // other.denominator * other.numerator\n",
        "        return Fraction(numerator, lcm)\n",
        "    # произведение двух дробей\n",
        "    def mult(self, other):\n",
        "        numerator = self.numerator * other.numerator\n",
        "        denominator = self.denominator * other.denominator\n",
        "        return Fraction(numerator, denominator)\n",
        "    # частное двух дробей\n",
        "    def div(self, other):\n",
        "        numerator = self.numerator * other.denominator\n",
        "        denominator = self.denominator * other.numerator\n",
        "        return Fraction(numerator, denominator)\n",
        "\n",
        "f1 = Fraction(1, 2)\n",
        "f2 = Fraction(3, 4)\n",
        "\n",
        "print(\"Первая дробь =\", f1)  \n",
        "print(\"Вторая дробь =\", f2)  \n",
        "  \n",
        "\n",
        "print('Результат сложения: ', f1.amount(f2))\n",
        "print('Результат вычитания: ', f1.diff(f2))\n",
        "print('Результат умножения: ', f1.mult(f2))\n",
        "print('Результат деления: ', f1.div(f2))\n",
        "\n",
        "#print(f\"f1 + f2 = {f1 + f2}\")  # f1 + f2 = 5/4\n",
        "#print(f\"f1 - f2 = {f1 - f2}\")  # f1 - f2 = -1/4\n",
        "#print(f\"f1 * f2 = {f1 * f2}\")  # f1 * f2 = 3/8\n",
        "#print(f\"f1 / f2 = {f1 / f2}\")  #\n"
      ],
      "metadata": {
        "id": "rYLew9Q7hIf1",
        "colab": {
          "base_uri": "https://localhost:8080/"
        },
        "outputId": "e684fe4f-496e-442d-cd1e-a5e396733120"
      },
      "execution_count": null,
      "outputs": [
        {
          "output_type": "stream",
          "name": "stdout",
          "text": [
            "f1 = 1/2\n",
            "f2 = 3/4\n",
            "Результат сложения:  5/4\n",
            "Результат вычитания:  -1/4\n",
            "Результат умножения:  3/8\n",
            "Результат деления:  4/6\n"
          ]
        }
      ]
    },
    {
      "cell_type": "markdown",
      "source": [
        "### 3.15. Описать класс «файл», содержащий сведения об имени, дате создания и длине файла. Предусмотреть инициализацию с проверкой допустимости значений полей. В случае недопустимых значений полей выбрасываются исключения. Описать метод добавления информации в конец файла и свойства для получения состояния файла. Написать программу, демонстрирующую все разработанные элементы класса."
      ],
      "metadata": {
        "id": "t5JWZFuahIu9"
      }
    },
    {
      "cell_type": "code",
      "source": [
        "class File:\n",
        "    def __init__(self, name, created_date, length):\n",
        "        if not isinstance(name, str):\n",
        "            raise TypeError(\"Имя должно быть строкой\")\n",
        "        if not isinstance(created_date, str):\n",
        "            raise TypeError(\"Дата создания должна быть строкой\")\n",
        "        if not isinstance(length, int):\n",
        "            raise TypeError(\"Длина должна быть числом\")\n",
        "        if length < 0:\n",
        "            raise ValueError(\"Длина не может быть отрицательной\")\n",
        "\n",
        "        self.name = name\n",
        "        self.created_date = created_date\n",
        "        self.length = length\n",
        "        self.content = \"\"\n",
        "\n",
        "    def append(self, text): # добавляет текст в конец файла\n",
        "        self.content += text\n",
        "        self.length += len(text)\n",
        "\n",
        "    def __str__(self):\n",
        "        return f\"Файл: {self.name}, был создан {self.created_date}, размер: {self.length} бит\"\n",
        "\n",
        "f = File(\"example.txt\", \"2022-03-17\", 0)\n",
        "print(f)  \n",
        "\n",
        "f.append(\"Hello, world!\\n\")\n",
        "print(f)  \n",
        "print(f.content) \n",
        "\n"
      ],
      "metadata": {
        "id": "WY4r9rePhZTQ",
        "colab": {
          "base_uri": "https://localhost:8080/"
        },
        "outputId": "0ccb722c-1c8f-4e3c-d149-cf7cd33c8918"
      },
      "execution_count": null,
      "outputs": [
        {
          "output_type": "stream",
          "name": "stdout",
          "text": [
            "Файл: example.txt, был создан 2022-03-17, размер: 0 бит\n",
            "Файл: example.txt, был создан 2022-03-17, размер: 14 бит\n",
            "Hello, world!\n",
            "\n"
          ]
        }
      ]
    },
    {
      "cell_type": "markdown",
      "source": [
        "### 3.16. Описать класс «комната», содержащий сведения о метраже, высоте потолков и количестве окон. Предусмотреть инициализацию с проверкой допустимости значений полей. В случае недопустимых значений полей выбрасываются исключения. Описать методы вычисления площади и объема комнаты и свойства для получения состояния объекта. Написать программу, демонстрирующую все разработанные элементы класса."
      ],
      "metadata": {
        "id": "WLZzQ69thZgv"
      }
    },
    {
      "cell_type": "code",
      "source": [
        "class Room:\n",
        "    def __init__(self, length, width, height, num_windows):\n",
        "        if not isinstance(length, int):\n",
        "            raise TypeError(\"Длина должна быть числом\")\n",
        "        if not isinstance(width, int):\n",
        "            raise TypeError(\"Ширина должна быть числом\")\n",
        "        if not isinstance(height, int):\n",
        "            raise TypeError(\"Высота должна быть числом\")\n",
        "        if not isinstance(num_windows, int):\n",
        "            raise TypeError(\"Количество окон должно быть числом\")\n",
        "        self.lenght = length\n",
        "        self.width = width\n",
        "        self.height = height\n",
        "        self.num_windows = num_windows\n",
        "\n",
        "    def area(self):\n",
        "        self.area = self.width * self.lenght\n",
        "        print('Площадь =', self.area)\n",
        "    \n",
        "    def pr(self):\n",
        "      print('Высота =', self.height,', количество окон =', self.num_windows)\n",
        "\n",
        "    def volume(self):\n",
        "        print('Объем =', self.width * self.lenght * self.height)\n",
        "\n",
        "\n",
        "\n",
        "r = Room(4, 5, 3, 2)\n",
        "r.area()\n",
        "r.pr()\n",
        "print('')\n",
        " \n",
        "r.volume()"
      ],
      "metadata": {
        "id": "fqkFVXVJhe74",
        "colab": {
          "base_uri": "https://localhost:8080/"
        },
        "outputId": "a90399ff-4f53-4ddd-d0ef-fe3a96c79369"
      },
      "execution_count": null,
      "outputs": [
        {
          "output_type": "stream",
          "name": "stdout",
          "text": [
            "Площадь = 20\n",
            "Высота = 3 , количество окон = 2\n",
            "\n",
            "Объем = 60\n"
          ]
        }
      ]
    },
    {
      "cell_type": "markdown",
      "source": [
        "### 3.17. Описать класс, представляющий нелинейное уравнение вида ах - cos(x) = 0. Описать метод, вычисляющий решение этого уравнения на заданном интервале методом деления пополам (см. раздел «Цикл с параметром for») и выбрасывающий исключение в случае отсутствия корня. Описать свойства для получения состояния объекта. Написать программу, демонстрирующую все разработанные элементы класса."
      ],
      "metadata": {
        "id": "MvaUt1RThfKg"
      }
    },
    {
      "cell_type": "code",
      "source": [],
      "metadata": {
        "id": "oXNa3STG3PDW"
      },
      "execution_count": null,
      "outputs": []
    },
    {
      "cell_type": "markdown",
      "source": [
        "### 3.18. Описать класс, представляющий квадратное уравнение вида ах2 +bх + с = 0. Описать метод, вычисляющий решение этого уравнения и выбрасывающий исключение в случае отсутствия корней. Описать свойства для получения состояния объекта. Написать программу, демонстрирующую все разработанные элементы класса."
      ],
      "metadata": {
        "id": "eAu0na9ghlot"
      }
    },
    {
      "cell_type": "code",
      "source": [
        "class QuadraticEquation:\n",
        "    def __init__(self, a, b, c):\n",
        "        self.a = a\n",
        "        self.b = b\n",
        "        self.c = c\n",
        "\n",
        "    def solve(self):\n",
        "        discriminant = self.b**2 - 4*self.a*self.c\n",
        "        if discriminant < 0:\n",
        "            raise ValueError(\"Нет действительных корней\")\n",
        "\n",
        "        root1 = (-self.b + discriminant**0.5) / (2*self.a)\n",
        "        root2 = (-self.b - discriminant**0.5) / (2*self.a)\n",
        "\n",
        "        return root1, root2\n",
        "\n",
        "    def __str__(self):\n",
        "        return f\"{self.a}x^2 + {self.b}x + {self.c} = 0\"\n",
        "\n",
        "\n",
        "q = QuadraticEquation(1, 2, 1)\n",
        "print(\"Уравнение: \", q)  \n",
        "print(\"Корни уравнения: \", q.solve())  \n",
        "\n"
      ],
      "metadata": {
        "id": "TsAeJL-Ths2Q",
        "colab": {
          "base_uri": "https://localhost:8080/"
        },
        "outputId": "37335380-f423-40e8-d2dd-82f6417601fd"
      },
      "execution_count": null,
      "outputs": [
        {
          "output_type": "stream",
          "name": "stdout",
          "text": [
            "Уравнение:  1x^2 + 2x + 1 = 0\n",
            "Корни уравнения:  (-1.0, -1.0)\n"
          ]
        }
      ]
    },
    {
      "cell_type": "markdown",
      "source": [
        "### 3.19. Описать класс «процессор», содержащий сведения о марке, тактовой частоте, объеме кэша и стоимости. Предусмотреть инициализацию с проверкой допустимости значений полей. В случае недопустимых значений полей выбрасываются исключения. Описать свойства для получения состояния объекта. Описать класс «материнская плата», включающий класс «процессор» и объем установленной оперативной памяти. Предусмотреть инициализацию с проверкой допустимости значений поля объема памяти. В случае недопустимых значений поля выбрасывается исключение. Описать свойства для получения состояния объекта. Написать программу, демонстрирующую все разработанные элементы классов."
      ],
      "metadata": {
        "id": "2-sYPOcbhtSD"
      }
    },
    {
      "cell_type": "code",
      "source": [
        "class Processor:\n",
        "    def __init__(self, brand, clock_speed, cache_size, price):\n",
        "        # проверка допустимости значений полей\n",
        "        if not isinstance(brand, str):\n",
        "            raise ValueError(\"Недопустимое значение поля\")\n",
        "        if not isinstance(clock_speed, (int, float)):\n",
        "            raise ValueError(\"Недопустимое значение поля\")\n",
        "        if not isinstance(cache_size, int):\n",
        "            raise ValueError(\"Недопустимое значение поля\")\n",
        "        if not isinstance(price, (int, float)):\n",
        "            raise ValueError(\"Недопустимое значение поля\")\n",
        "        self.brand = brand\n",
        "        self.clock_speed = clock_speed\n",
        "        self.cache_size = cache_size\n",
        "        self.price = price\n",
        "\n",
        "    def __str__(self):\n",
        "        return f\"{self.brand} ({self.clock_speed} ГГц, {self.cache_size} МБ кэша), цена: {self.price} руб.\"\n",
        "\n",
        "\n",
        "class Motherboard(Processor):\n",
        "    def __init__(self, brand, clock_speed, cache_size, price, memory):\n",
        "        # наследование конструктора класса Processor\n",
        "        super().__init__(brand, clock_speed, cache_size, price)\n",
        "        # проверка допустимости значения поля\n",
        "        if not isinstance(memory, int):\n",
        "            raise ValueError(\"Недопустимое значение поля\")\n",
        "        self.memory = memory\n",
        "        if self.memory < 0:\n",
        "          print('!!Объем памяти не может быть отрицательным числом!!')\n",
        "\n",
        "    def __str__(self):\n",
        "        return f\"{self.brand} ({self.clock_speed} ГГц, {self.cache_size} МБ кэша), цена: {self.price} руб. Оперативная память: {self.memory} ГБ\"\n",
        "\n",
        "p1 = Processor(\"Intel\", 3.6, 8, 9000)\n",
        "print(p1)\n",
        "    \n",
        "p2 = Processor(\"Intel\", 2.8, 0, 3000)\n",
        "print(p2)\n",
        "    \n",
        "m1 = Motherboard(\"AMD\", 2.8, 4, 1500, 16)\n",
        "print(m1)\n",
        "\n",
        "m2 = Motherboard(\"Intel\", 4.0, 12, 2500, 8)\n",
        "print(m2)\n",
        "\n",
        "\n",
        "\n",
        "\n",
        "\n",
        "\n",
        "\n"
      ],
      "metadata": {
        "id": "3delfQJth40M",
        "colab": {
          "base_uri": "https://localhost:8080/"
        },
        "outputId": "4d2a31e1-7f1e-4527-a3a2-8a338e8d9a57"
      },
      "execution_count": null,
      "outputs": [
        {
          "output_type": "stream",
          "name": "stdout",
          "text": [
            "Intel (3.6 ГГц, 8 МБ кэша), цена: 9000 руб.\n",
            "Intel (2.8 ГГц, 0 МБ кэша), цена: 3000 руб.\n",
            "AMD (2.8 ГГц, 4 МБ кэша), цена: 1500 руб. Оперативная память: 16 ГБ\n",
            "Intel (4.0 ГГц, 12 МБ кэша), цена: 2500 руб. Оперативная память: 8 ГБ\n"
          ]
        }
      ]
    },
    {
      "cell_type": "markdown",
      "source": [
        "### 3.20. Описать класс «цветная точка». Для точки задаются координаты и цвет. Цвет описывается с помощью трех составляющих (красный, зеленый, синий). Предусмотреть различные методы инициализации объекта с проверкой допустимости значений. Допустимым диапазоном для каждой составляющей является [0, 255]. В случае недопустимых значений полей выбрасываются исключения. Описать свойства для получения состояния объекта и метод изменения цвета. Написать программу, демонстрирующую все разработанные элементы класса."
      ],
      "metadata": {
        "id": "MTYvZEvUh5FY"
      }
    },
    {
      "cell_type": "code",
      "source": [
        "class ColorPoint1:\n",
        "    def __init__(self, x, y, r, g, b):\n",
        "        if not isinstance(x, int):\n",
        "            raise ValueError(\"Недопустимое значение поля\")\n",
        "        if not isinstance(y, int):\n",
        "            raise ValueError(\"Недопустимое значение поля\")\n",
        "        if not isinstance(r, int):\n",
        "            raise ValueError(\"Недопустимое значение поля\")\n",
        "        if not isinstance(g, int):\n",
        "            raise ValueError(\"Недопустимое значение поля\")\n",
        "        if not isinstance(b, int):\n",
        "            raise ValueError(\"Недопустимое значение поля\")\n",
        "\n",
        "        self._x = x\n",
        "        self._y = y\n",
        "        if 0 <= r <= 255:\n",
        "          self._r = r\n",
        "        else:\n",
        "          print('Цвет должен находится в диапазоне [0, 255]')\n",
        "        if 0 <= g <= 255:\n",
        "          self._g = g\n",
        "        else:\n",
        "          print('Цвет должен находится в диапазоне [0, 255]')\n",
        "        if 0 <= r <= 255:\n",
        "          self._b = b\n",
        "        else:\n",
        "          print('Цвет должен находится в диапазоне [0, 255]')\n",
        "\n",
        "\n",
        "    def __str__(self):\n",
        "        return f\"({self._x}, {self._y}) ({self._r}, {self._g}, {self._b})\"\n",
        "\n",
        "point = ColorPoint1(10, 20, 255, 0, 0)\n",
        "\n",
        "print('Координаты точки:', point._x, point._y)  # 10 20\n",
        "print('Описание цвета:',point._r, point._g, point._b)  # 255 0 0\n",
        "\n",
        "# Изменение свойства объекта\n",
        "point._r = 0\n",
        "point._b = 128\n",
        "print('Описание нового цвета:', point._r, point._g, point._b)  # 0 0 128\n",
        "\n",
        "print('Цветная точка:', point)  # (10, 20) (0, 0, 128)"
      ],
      "metadata": {
        "colab": {
          "base_uri": "https://localhost:8080/"
        },
        "id": "YhOPzZA1_BIw",
        "outputId": "67bbc2db-4695-4e69-8573-e5256dc3dfd0"
      },
      "execution_count": null,
      "outputs": [
        {
          "output_type": "stream",
          "name": "stdout",
          "text": [
            "Координаты точки: 10 20\n",
            "Описание цвета: 255 0 0\n",
            "Описание нового цвета: 0 0 128\n",
            "Цветная точка: (10, 20) (0, 0, 128)\n"
          ]
        }
      ]
    },
    {
      "cell_type": "code",
      "source": [
        "class ColorPoint:\n",
        "    def __init__(self, x, y, r, g, b):\n",
        "        self._x = x\n",
        "        self._y = y\n",
        "        if 0 <= r <= 255:\n",
        "          self._r = r\n",
        "        else:\n",
        "          print('Цвет должен находится в диапазоне [0, 255]')\n",
        "        if 0 <= g <= 255:\n",
        "          self._g = g\n",
        "        else:\n",
        "          print('Цвет должен находится в диапазоне [0, 255]')\n",
        "        if 0 <= r <= 255:\n",
        "          self._b = b\n",
        "        else:\n",
        "          print('Цвет должен находится в диапазоне [0, 255]')\n",
        "\n",
        "\n",
        "    def __str__(self):\n",
        "        return f\"({self._x}, {self._y}) ({self._r}, {self._g}, {self._b})\"\n",
        "\n",
        "point = ColorPoint(10, 20, 255, 0, 0)\n",
        "\n",
        "print('Координаты точки:', point._x, point._y)  # 10 20\n",
        "print('Описание цвета:',point._r, point._g, point._b)  # 255 0 0\n",
        "\n",
        "# Изменение свойства объекта\n",
        "point._r = 0\n",
        "point._b = 128\n",
        "print('Описание нового цвета:', point._r, point._g, point._b)  # 0 0 128\n",
        "\n",
        "print('Цветная точка:', point)  # (10, 20) (0, 0, 128)"
      ],
      "metadata": {
        "id": "OPZcKYACiDs0"
      },
      "execution_count": null,
      "outputs": []
    }
  ]
}