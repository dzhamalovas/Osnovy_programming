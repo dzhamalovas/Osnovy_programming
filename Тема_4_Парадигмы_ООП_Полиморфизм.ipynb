{
  "nbformat": 4,
  "nbformat_minor": 0,
  "metadata": {
    "colab": {
      "provenance": [],
      "authorship_tag": "ABX9TyNRUWTtFquCs/bYZaayVRdj",
      "include_colab_link": true
    },
    "kernelspec": {
      "name": "python3",
      "display_name": "Python 3"
    },
    "language_info": {
      "name": "python"
    }
  },
  "cells": [
    {
      "cell_type": "markdown",
      "metadata": {
        "id": "view-in-github",
        "colab_type": "text"
      },
      "source": [
        "<a href=\"https://colab.research.google.com/github/dzhamalovas/Osnovy_programming/blob/main/%D0%A2%D0%B5%D0%BC%D0%B0_4_%D0%9F%D0%B0%D1%80%D0%B0%D0%B4%D0%B8%D0%B3%D0%BC%D1%8B_%D0%9E%D0%9E%D0%9F_%D0%9F%D0%BE%D0%BB%D0%B8%D0%BC%D0%BE%D1%80%D1%84%D0%B8%D0%B7%D0%BC.ipynb\" target=\"_parent\"><img src=\"https://colab.research.google.com/assets/colab-badge.svg\" alt=\"Open In Colab\"/></a>"
      ]
    },
    {
      "cell_type": "markdown",
      "source": [
        "##### Полиморфизм в объектно-ориентированном программировании – это возможность обработки разных типов данных, т. е. принадлежащих к разным классам, с помощью «одно и той же» функции, или метода. На самом деле одинаковым является только имя метода, его исходный код зависит от класса. Кроме того, результаты работы одноименных методов могут существенно различаться. Поэтому в данном контексте под полиморфизмом понимается множество форм одного и того же слова – имени метода. Например, два разных класса содержат метод total, однако инструкции каждого предусматривают совершенно разные операции. Так в классе T1 – это прибавление 10 к аргументу, в T2 – подсчет длины строки символов. В зависимости от того, к объекту какого класса применяется метод total, выполняются те или иные инструкции. "
      ],
      "metadata": {
        "id": "79128sEu7ti3"
      }
    },
    {
      "cell_type": "code",
      "execution_count": 1,
      "metadata": {
        "colab": {
          "base_uri": "https://localhost:8080/"
        },
        "id": "Smluj9Ua7iny",
        "outputId": "6c0e5179-58b5-48cb-afb4-51039916365d"
      },
      "outputs": [
        {
          "output_type": "stream",
          "name": "stdout",
          "text": [
            "55\n",
            "2\n"
          ]
        }
      ],
      "source": [
        "class T1:\n",
        "    n=10\n",
        "    def total(self, N):\n",
        "      self.total = int(self.n) + int(N)\n",
        "\n",
        "class T2:\n",
        "  def total(self,s):\n",
        "    self.total = len(str(s))\n",
        "\n",
        "t1 = T1()\n",
        "t2 = T2()\n",
        "t1.total(45)\n",
        "t2.total(45)\n",
        "print(t1.total) # Вывод: 55\n",
        "print(t2.total) # Вывод: 2 \n"
      ]
    },
    {
      "cell_type": "markdown",
      "source": [
        "##### Создадим объект собственного класса, а потом вывести его на экран, то получим информацию о классе объекта и его адрес в памяти. Такое поведение функции print() по умолчанию по отношению к пользовательским классам запрограммировано на самом верхнем уровне иерархии, где-то в суперклассе, от которого неявно наследуются все остальные. \n"
      ],
      "metadata": {
        "id": "b9jk-pNO8UcD"
      }
    },
    {
      "cell_type": "code",
      "source": [
        "class A:\n",
        "  def __init__(self, v1, v2):\n",
        "    self.field1 = v1\n",
        "    self.field2 = v2\n",
        "a = A(3, 4)\n",
        "print(a) "
      ],
      "metadata": {
        "colab": {
          "base_uri": "https://localhost:8080/"
        },
        "id": "-KysCwZI8hpj",
        "outputId": "61feb990-aec0-42c8-e8c0-830984d4921b"
      },
      "execution_count": 2,
      "outputs": [
        {
          "output_type": "stream",
          "name": "stdout",
          "text": [
            "<__main__.A object at 0x7f6f204d1220>\n"
          ]
        }
      ]
    },
    {
      "cell_type": "markdown",
      "source": [
        "##### Парадигма полиморфизма позволяет вместо объекта базового типа использовать его потомка, при этом не указывая это явно"
      ],
      "metadata": {
        "id": "3RJNPiwf8sMQ"
      }
    },
    {
      "cell_type": "code",
      "source": [
        "class Parent:\n",
        "  def some_method(self):\n",
        "    print(\"This is Parent object\")\n",
        "class Child1(Parent):\n",
        "  def some_method(self):\n",
        "    print(\"This is Child1 object\")\n",
        "class Child2(Parent):\n",
        "  def some_method(self):\n",
        "    print(\"This is Child2 object\")\n",
        "def who_am_i(obj):\n",
        "  obj.some_method()\n",
        "  \n",
        "p = Parent()\n",
        "c1 = Child1()\n",
        "c2 = Child2()\n",
        "who_am_i(p)\n",
        "who_am_i(c1)\n",
        "who_am_i(c2)\n",
        "print() \n"
      ],
      "metadata": {
        "colab": {
          "base_uri": "https://localhost:8080/"
        },
        "id": "q1t-8jG38qwl",
        "outputId": "4e65a0b8-c093-4c23-8b90-db7e5724a6ef"
      },
      "execution_count": 4,
      "outputs": [
        {
          "output_type": "stream",
          "name": "stdout",
          "text": [
            "This is Parent object\n",
            "This is Child1 object\n",
            "This is Child2 object\n",
            "\n"
          ]
        }
      ]
    }
  ]
}