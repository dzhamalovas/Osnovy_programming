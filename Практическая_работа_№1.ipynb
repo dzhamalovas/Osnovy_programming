{
  "cells": [
    {
      "cell_type": "markdown",
      "metadata": {
        "id": "view-in-github",
        "colab_type": "text"
      },
      "source": [
        "<a href=\"https://colab.research.google.com/github/dzhamalovas/Osnovy_programming/blob/main/%D0%9F%D1%80%D0%B0%D0%BA%D1%82%D0%B8%D1%87%D0%B5%D1%81%D0%BA%D0%B0%D1%8F_%D1%80%D0%B0%D0%B1%D0%BE%D1%82%D0%B0_%E2%84%961.ipynb\" target=\"_parent\"><img src=\"https://colab.research.google.com/assets/colab-badge.svg\" alt=\"Open In Colab\"/></a>"
      ]
    },
    {
      "cell_type": "markdown",
      "metadata": {
        "id": "IzJJ1IkQVsp8"
      },
      "source": [
        "### 1.1. В рамках приложения создать класс А с полями а и b и свойством с. Свойство – значение выражения над полями а и b (выражение и типы полей – см. вариант в таблице 2.1). Поля инициализировать при объявлении класса.Конструктор оставить по умолчанию. Проследить, чтобы поля а и b напрямую в других классах были недоступны. Создать класс Programm с одним методом – точкой входа. В теле метода создать объект класса А, вывести на экран значение свойства с\n",
        "float /=,(постфиксный)--,*"
      ]
    },
    {
      "cell_type": "code",
      "execution_count": null,
      "metadata": {
        "colab": {
          "base_uri": "https://localhost:8080/"
        },
        "id": "8Vza1ME8vQST",
        "outputId": "3be1fecb-7ee8-459e-ccf4-4ee22e969ee0"
      },
      "outputs": [
        {
          "name": "stdout",
          "output_type": "stream",
          "text": [
            "5.0\n",
            "3.0\n",
            "6.0\n"
          ]
        }
      ],
      "source": [
        "# a = 10 \n",
        "# b = 2\n",
        "a = 10 / 2\n",
        "b = a - 2\n",
        "c = b * 2\n",
        "print(a)\n",
        "print(b)\n",
        "print(c)"
      ]
    },
    {
      "cell_type": "code",
      "source": [],
      "metadata": {
        "id": "K_gxz_USpSsn"
      },
      "execution_count": null,
      "outputs": []
    },
    {
      "cell_type": "code",
      "execution_count": 7,
      "metadata": {
        "colab": {
          "base_uri": "https://localhost:8080/"
        },
        "id": "HuR32QJVvQjY",
        "outputId": "5c05165c-c5b4-4283-f5c5-d978b7359f51"
      },
      "outputs": [
        {
          "output_type": "stream",
          "name": "stdout",
          "text": [
            "Введите число: 10\n",
            "Введите число: 2\n",
            "5.0\n",
            "3.0\n",
            "6.0\n",
            "None\n"
          ]
        }
      ],
      "source": [
        "class A:\n",
        "  __a = float(input(\"Введите число: \")) # __ - приватность\n",
        "  __b = float(input(\"Введите число: \"))\n",
        "  @property # упрощает объявление свойства\n",
        "  def c(self): \n",
        "    def div():\n",
        "      self.__a /= self.__b\n",
        "      return self.__a\n",
        "    def post():             # -- в python заменяется -=\n",
        "      self.__a -= self.__b\n",
        "      return self.__a\n",
        "    def mult():\n",
        "      return self.__a * self.__b \n",
        "    print(div())\n",
        "    print(post())\n",
        "    print(mult())\n",
        "\n",
        "\n",
        "class Programm:\n",
        "  @staticmethod # статический метод в Python\n",
        "  def main():\n",
        "    obj = A()\n",
        "    print(obj.c)\n",
        "Programm.main()\n",
        "  "
      ]
    },
    {
      "cell_type": "code",
      "execution_count": null,
      "metadata": {
        "colab": {
          "base_uri": "https://localhost:8080/"
        },
        "outputId": "7889f345-a240-41b7-dbd5-d8079a65ca59",
        "id": "f5g-p4hMebaw"
      },
      "outputs": [
        {
          "output_type": "stream",
          "name": "stdout",
          "text": [
            "Введите число: 10\n",
            "Введите число: 2\n",
            "5.0\n",
            "8.0\n",
            "20.0\n",
            "None\n"
          ]
        }
      ],
      "source": [
        "class A:\n",
        "  __a = float(input(\"Введите число: \")) # __ - приватность\n",
        "  __b = float(input(\"Введите число: \")) \n",
        "  @property # упрощает объявление свойства\n",
        "  def c(self): \n",
        "    def div():\n",
        "      return self.__a / self.__b\n",
        "#      return self.__a\n",
        "    def post():             # -- в python заменяется -=\n",
        "      return self.__a - self.__b\n",
        "#      return self.__a\n",
        "    def mult():\n",
        "      return self.__a * self.__b \n",
        "    print(div())\n",
        "    print(post())\n",
        "    print(mult())\n",
        "\n",
        "\n",
        "class Programm:\n",
        "  @staticmethod # статический метод в Python\n",
        "  def main():\n",
        "    obj = A()\n",
        "    print(obj.c)\n",
        "Programm.main()\n",
        "  "
      ]
    },
    {
      "cell_type": "markdown",
      "metadata": {
        "id": "tKvFPJ4JV8xT"
      },
      "source": [
        "### 1.2.1. Заполните пробелы, чтобы код соответствовал поведению, описанному в цитате ниже "
      ]
    },
    {
      "cell_type": "code",
      "execution_count": null,
      "metadata": {
        "colab": {
          "base_uri": "https://localhost:8080/"
        },
        "id": "E9BKeaUGZg4j",
        "outputId": "97bdd727-0501-48f8-d8f2-2b898e4532ed"
      },
      "outputs": [
        {
          "name": "stdout",
          "output_type": "stream",
          "text": [
            "Johanna has 2 apples and Martin has 1 apples\n",
            "Johanna has 2 ideas and Martin has 2 ideas\n"
          ]
        }
      ],
      "source": [
        "# “Если у тебя есть яблоко, а у меня есть яблоко, и мы\n",
        "# обменяемся этими яблоками, тогда\n",
        "# у нас с тобой по-прежнему будет по одному яблоку. Но если у\n",
        "# вас есть идея, а у меня есть\n",
        "# идея, и мы обмениваемся этими идеями, тогда у каждого из нас\n",
        "# будет по две идеи”.\n",
        "# Джордж Бернард Шоу\n",
        "class Person:\n",
        "  apples = 0\n",
        "  ideas = 0\n",
        "johanna = Person()\n",
        "johanna.apples = 1\n",
        "johanna.ideas = 1\n",
        "\n",
        "martin = Person()\n",
        "martin.apples = 2\n",
        "martin.ideas = 1\n",
        "def exchange_apples(you, me):\n",
        "# Здесь, несмотря на цитату Дж.Б. Шоу, наши персонажи начали с\n",
        "# разного количества яблок, чтобы лучше понять результат.\n",
        "#Мы собираемся попросить Мартина и Джоанну обменяться ВСЕМИ своими яблоками друг с другом.\n",
        "  add = you.apples           # add - временная (дополнительная переменная)\n",
        "  you.apples = me.apples     # Если я - Джоанна, то Мартин отдает яблоки Джоанне \n",
        "  me.apples = add            # Если я Джоанна, то Джоанна отдает яблоки Мартину\n",
        "  return you.apples, me.apples\n",
        "def exchange_ideas(you, me):\n",
        "# \"ты\" и \"я\" обменяемся своими идеями друг с другом.\n",
        "#Какие операции необходимо выполнить, чтобы каждый объект получал\n",
        "#общее количество идей?\n",
        "#Подсказка: как бы вы распределили общее количество идей по\n",
        "#атрибут каждой идеи? Вам нужна временная переменная для хранения\n",
        "# суммы идей, или вы можете найти другой способ?\n",
        "#Используйте здесь столько строк кода, сколько вам нужно.\n",
        "  add = you.ideas        # add - временная (дополнительная переменная)\n",
        "  you.ideas += me.ideas   #  Складываем идеи\n",
        "  me.ideas += add        # Складываем идеи\n",
        "  return you.ideas, me.ideas\n",
        "exchange_apples(johanna, martin)\n",
        "print(\"Johanna has {} apples and Martin has {} apples\".format(johanna.apples, martin.apples))\n",
        "exchange_ideas(johanna, martin)\n",
        "print(\"Johanna has {} ideas and Martin has {} ideas\".format(johanna.ideas, martin.ideas)) \n"
      ]
    },
    {
      "cell_type": "code",
      "execution_count": null,
      "metadata": {
        "id": "9v05f2ZwWYYv"
      },
      "outputs": [],
      "source": [
        "# “Если у тебя есть яблоко, а у меня есть яблоко, и мы\n",
        "# обменяемся этими яблоками, тогда\n",
        "# у нас с тобой по-прежнему будет по одному яблоку. Но если у\n",
        "# вас есть идея, а у меня есть\n",
        "# идея, и мы обмениваемся этими идеями, тогда у каждого из нас\n",
        "# будет по две идеи”.\n",
        "# Джордж Бернард Шоу\n",
        "class Person:\n",
        "  apples = 0\n",
        "  ideas = 0\n",
        "johanna = Person()\n",
        "johanna.apples = 1\n",
        "johanna.ideas = 1\n",
        "martin = Person()\n",
        "martin.apples = 2\n",
        "martin.ideas = 1\n",
        "def exchange_apples(you, me):\n",
        "# Здесь, несмотря на цитату Дж.Б. Шоу, наши персонажи начали с\n",
        "# разного количества яблок, чтобы лучше понять результат.\n",
        "#Мы собираемся попросить Мартина и Джоанну обменяться ВСЕМИ своими яблоками друг с другом.\n",
        "  ___\n",
        "  return you.apples, me.apples\n",
        "def exchange_ideas(you, me):\n",
        "# \"ты\" и \"я\" обменяемся своими идеями друг с другом.\n",
        "#Какие операции необходимо выполнить, чтобы каждый объект получал\n",
        "#общее количество идей?\n",
        "#Подсказка: как бы вы распределили общее количество идей по\n",
        "#атрибут каждой идеи? Вам нужна временная переменная для хранения\n",
        "# суммы идей, или вы можете найти другой способ?\n",
        "#Используйте здесь столько строк кода, сколько вам нужно.\n",
        "  you.ideas ___\n",
        "  me.ideas ___\n",
        "  return you.ideas, me.ideas\n",
        "exchange_apples(johanna, martin)\n",
        "print(\"Johanna has {} apples and Martin has {} apples\".format(johanna.apples, martin.apples))\n",
        "exchange_ideas(johanna, martin)\n",
        "print(\"Johanna has {} ideas and Martin has {} ideas\".format(johanna.ideas, martin.ideas)) \n"
      ]
    },
    {
      "cell_type": "markdown",
      "metadata": {
        "id": "QIrjOqV4Wine"
      },
      "source": [
        "### 1.2.2 Класс City имеет следующие атрибуты: имя, страна (где расположен город), высота (измеряется в метрах) и население (приблизительно, согласно недавней статистике). Заполните пробелы в функции max_elevation_city, чтобы вернуть название города и его страну (разделенные запятой) при сравнении трех определенных экземпляров для указанной минимальной численности населения. Например, вызов функции для минимального населения в 1 миллион: max_elevation_city (1000000) должен вернуть «София, Болгария». "
      ]
    },
    {
      "cell_type": "code",
      "execution_count": null,
      "metadata": {
        "colab": {
          "base_uri": "https://localhost:8080/"
        },
        "id": "N2P1LxnXW06q",
        "outputId": "c008caf5-ec3e-43ed-c6ee-1e767f38a9dc"
      },
      "outputs": [
        {
          "name": "stdout",
          "output_type": "stream",
          "text": [
            "Sofia, Bulgaria\n"
          ]
        }
      ],
      "source": [
        "# определите базовый класс города\n",
        "class City:\n",
        " name = \"\"\n",
        " country = \"\"\n",
        " elevation = 0\n",
        " population = 0\n",
        "# создайте новый экземпляр класса City и\n",
        "# определите каждый атрибут\n",
        "city1 = City()\n",
        "city1.name = \"Cusco\"\n",
        "city1.country = \"Peru\"\n",
        "city1.elevation = 3399\n",
        "city1.population = 358052\n",
        "# создайте новый экземпляр класса City и\n",
        "# определите каждый атрибут\n",
        "city2 = City()\n",
        "city2.name = \"Sofia\"\n",
        "city2.country = \"Bulgaria\"\n",
        "city2.elevation = 2290\n",
        "city2.population = 1241675\n",
        "# создайте новый экземпляр класса City и\n",
        "# определите каждый атрибут\n",
        "city3 = City()\n",
        "city3.name = \"Seoul\"\n",
        "city3.country = \"South Korea\"\n",
        "city3.elevation = 38\n",
        "city3.population = 9733509\n",
        "def max_elevation_city(min_population):\n",
        "  # Инициализируйте переменную, которая будет содержать\n",
        "  # информация о городе с\n",
        "  # самой высокой возвышенностью\n",
        "  return_city = City()\n",
        "  # Оцените 1-й экземпляр на соответствие требованиям:\n",
        "  # есть ли в городе #1 хотя бы минимальное население и\n",
        "  # является ли его возвышенность самой высокой из оцененных на данный момент?\n",
        "  if city1.population >= min_population:\n",
        "    return_city = city1\n",
        "#  if city1.elevation > return_city.elevation:\n",
        "#    return_city = city1\n",
        "# Оцените 2-й экземпляр на соответствие требованиям:\n",
        "# есть ли в городе #2 хотя бы минимальное население и\n",
        "# является ли его возвышенность самой высокой из оцененных на данный момент?\n",
        "  if city2.population >= min_population and city2.elevation > return_city.elevation:\n",
        "    return_city = city2\n",
        "# Оцените 3-й экземпляр на соответствие требованиям:\n",
        "# есть ли в городе #3 хотя бы минимальное население и\n",
        "# является ли его возвышенность самой высокой из оцененных на данный момент?\n",
        "  if city3.population >= min_population and city3.elevation > return_city.elevation:\n",
        "    return_city = city3\n",
        " #Форматирование возвращаемой строки\n",
        "  if return_city.name:\n",
        "    return \"{}, {}\".format(return_city.name, return_city.country)  # иначе будет следующий вывод: ('Sofia', 'Bulgaria')\n",
        "  else:\n",
        "    return \"\"\n",
        "#print(max_elevation_city(100000))\n",
        "# Вывод на экран \"Cusco, Peru\"\n",
        "print(max_elevation_city(1000000))\n",
        "# Вывод на экран \"Sofia, Bulgaria\"\n",
        "#print(max_elevation_city(10000000))\n",
        "# Вывод на экран \"\" \n"
      ]
    },
    {
      "cell_type": "markdown",
      "metadata": {
        "id": "NCfrS9DfXAx9"
      },
      "source": [
        "### 1.2.3 У нас есть два предмета мебели: коричневый деревянный стол и красный кожаный диван. Заполните пустые поля после создания каждого экземпляра класса Furniture, чтобы функция describe_furniture могла отформатировать предложение, описывающее эти элементы, следующим образом: «Этот предмет мебели изготовлен из {color} {material}». \n"
      ]
    },
    {
      "cell_type": "code",
      "execution_count": null,
      "metadata": {
        "colab": {
          "base_uri": "https://localhost:8080/"
        },
        "id": "qNEdI9OEXGSf",
        "outputId": "17c9220a-bd09-4abd-eef7-43ccd5f80c5c"
      },
      "outputs": [
        {
          "name": "stdout",
          "output_type": "stream",
          "text": [
            "Этот предмет мебели изготовлен из коричневого дерева\n",
            "Этот предмет мебели изготовлен из красной кожи\n"
          ]
        }
      ],
      "source": [
        "class Furniture:\n",
        "  color = \"\"\n",
        "  material = \"\"\n",
        "table = Furniture()\n",
        "table.color = \"коричневого\" \n",
        "table.material = \"дерева\" \n",
        "couch = Furniture()\n",
        "couch.color = \"красной\" \n",
        "couch.material = \"кожи\" \n",
        "\n",
        "def describe_furniture(piece):\n",
        "  return (\"Этот предмет мебели изготовлен из {} {}\".format(piece.color, piece.material))\n",
        "print(describe_furniture(table))\n",
        "# Вывод на экран\" Этот предмет мебели сделан из коричневого дерева \"\n",
        "print(describe_furniture(couch))\n",
        "# Вывод на экран\" Этот предмет мебели сделан из красной кожи \" "
      ]
    },
    {
      "cell_type": "markdown",
      "metadata": {
        "id": "NhTyCLj5XLn9"
      },
      "source": [
        "### 1.3.1 Создайте для класса «студент» функцию, которая считает средний балл по трем дисциплинам, оценки по которым вводятся пользователям. Реализуйте программу двумя способами: без использования конструктора __ init __ и с ним. "
      ]
    },
    {
      "cell_type": "code",
      "execution_count": null,
      "metadata": {
        "colab": {
          "base_uri": "https://localhost:8080/"
        },
        "id": "5X7DsV0hXytS",
        "outputId": "73f1c8c8-66ef-4ead-f68e-334e1e7c34f9"
      },
      "outputs": [
        {
          "name": "stdout",
          "output_type": "stream",
          "text": [
            "Math\n",
            "4\n",
            "PE\n",
            "5\n",
            "Science \n",
            "3\n",
            "4.0\n"
          ]
        }
      ],
      "source": [
        "class Student:\n",
        "  def input(self):\n",
        "    self.subject = input()\n",
        "    self.mark = int(input())\n",
        "sub1 = Student()\n",
        "sub1.subject = input()\n",
        "sub1.mark = int(input())\n",
        "\n",
        "sub2 = Student()\n",
        "sub2.subject = input()\n",
        "sub2.mark = int(input())\n",
        "\n",
        "sub3 = Student()\n",
        "sub3.subject = input()\n",
        "sub3.mark = int(input())\n",
        "\n",
        "def average(score):\n",
        "  score = (sub1.mark + sub2.mark + sub3.mark)/3\n",
        "  print(score)\n",
        "average(score)\n"
      ]
    },
    {
      "cell_type": "code",
      "execution_count": null,
      "metadata": {
        "colab": {
          "base_uri": "https://localhost:8080/"
        },
        "id": "cejKUxnC2n32",
        "outputId": "aab1de75-b068-4d59-b698-a37745f34136"
      },
      "outputs": [
        {
          "name": "stdout",
          "output_type": "stream",
          "text": [
            "Math \n",
            "4\n",
            "PE\n",
            "5\n",
            "Science\n",
            "3\n",
            "4.0\n"
          ]
        }
      ],
      "source": [
        "class Student:\n",
        "  def __init__(self):\n",
        "    self.subject = input()\n",
        "    self.mark = int(input())\n",
        "  def average(score):\n",
        "    score = (sub1.mark + sub2.mark + sub3.mark)/3\n",
        "     # print(score)\n",
        "sub1 = Student()\n",
        "sub2 = Student()\n",
        "sub3 = Student()\n",
        "Student.average(score)\n",
        "#sub2.average()\n",
        "#sub3.average()\n",
        "\n",
        "#def average(score):\n",
        "#  score = (sub1.mark + sub2.mark + sub3.mark)/3\n",
        "#    print(score)\n",
        "average(score)"
      ]
    },
    {
      "cell_type": "markdown",
      "metadata": {
        "id": "CgIlRKJCXzB7"
      },
      "source": [
        "### 1.3.2 Создайте функцию, которая считает и выводит в файл заработную плату сотрудника склада в зависимости от количества отработанных дней в месяце. Оклад является защищаемым атрибутом класса «сотрудник». "
      ]
    },
    {
      "cell_type": "code",
      "execution_count": null,
      "metadata": {
        "colab": {
          "base_uri": "https://localhost:8080/"
        },
        "id": "xgZVGUF2IpPK",
        "outputId": "518e436f-8727-47f0-9b8d-b2a5233654e5"
      },
      "outputs": [
        {
          "name": "stdout",
          "output_type": "stream",
          "text": [
            "21000.0\n"
          ]
        }
      ],
      "source": [
        "# Без вывода в файл \n",
        "# Пусть оклад = 22 тысячи рублей\n",
        "# Пусть количество рабочих дней в месяце = 22  (для удобства расчетов)\n",
        "class Employee:\n",
        "  def __init__(self, name, days):\n",
        "    self.name = name\n",
        "    self.days = days\n",
        "  def protected_fee(self):\n",
        "    self._fee = 22000 # _ - защищенный атрибут класса\n",
        "    self.days_in_month = 22\n",
        "    self.salary = self._fee/self.days_in_month * self.days\n",
        "    print(self.salary)   \n",
        "per1 = Employee('Alice', 21)\n",
        "per1.protected_fee()\n",
        "# print(per1.name)\n"
      ]
    },
    {
      "cell_type": "code",
      "execution_count": null,
      "metadata": {
        "id": "oZa96k3NN54M"
      },
      "outputs": [],
      "source": [
        "from contextlib import redirect_stdout \n",
        "# Пусть оклад = 22 тысячи рублей\n",
        "# Пусть количество рабочих дней в месяце = 22  (для удобства расчетов)\n",
        "class Employee:\n",
        "  def __init__(self, name, days):\n",
        "    self.name = name\n",
        "    self.days = days\n",
        "  def protected_fee(self):\n",
        "    self._fee = 22000 # _ - защищенный атрибут класса\n",
        "    self.days_in_month = 22\n",
        "    self.salary = self._fee/self.days_in_month * self.days\n",
        "    print(self.name)\n",
        "    print(self.salary)   \n",
        "per1 = Employee('Alice', 21)\n",
        "\n",
        "with open('fee', 'w') as f: \n",
        "    with redirect_stdout(f): \n",
        "        per1.protected_fee()"
      ]
    },
    {
      "cell_type": "markdown",
      "metadata": {
        "id": "siT_l8Q8X8Ia"
      },
      "source": [
        "### 1.3.3 Используя результат предыдущего задания, создайте функцию начисления премии сотруднику, вычисляемую как 1% от уровня заработной платы. \n"
      ]
    },
    {
      "cell_type": "code",
      "execution_count": null,
      "metadata": {
        "id": "huns9OO1YEDw"
      },
      "outputs": [],
      "source": []
    },
    {
      "cell_type": "code",
      "execution_count": null,
      "metadata": {
        "id": "DLixtkNtBmFn"
      },
      "outputs": [],
      "source": [
        "from contextlib import redirect_stdout \n",
        "# Пусть оклад = 22 тысячи рублей\n",
        "# Пусть количество рабочих дней в месяце = 22  (для удобства расчетов)\n",
        "class Employee:\n",
        "  def __init__(self, name, days):\n",
        "    self.name = name\n",
        "    self.days = days\n",
        "  def protected_fee(self):\n",
        "    self._fee = 22000 # _ - защищенный атрибут класса\n",
        "    self.days_in_month = 22\n",
        "    self.salary = self._fee/self.days_in_month * self.days\n",
        "    print(self.name)\n",
        "    print('Зарплата без доплат: ')\n",
        "    print(self.salary)\n",
        "  def prize(self):\n",
        "    self.prize = self.salary*0.01\n",
        "    print('Премия: ')\n",
        "    print(self.prize)\n",
        "  def full(self):\n",
        "    self.full_salary = self.salary + self.prize\n",
        "    print('Зарплата с премией: ')\n",
        "    print(self.full_salary) \n",
        "    \n",
        "per1 = Employee('Alice', 21)\n",
        "\n",
        "with open('salary', 'w') as f: \n",
        "    with redirect_stdout(f): \n",
        "        per1.protected_fee()\n",
        "    f.write(str() + \"\\n\")\n",
        "    with redirect_stdout(f): \n",
        "      per1.prize()\n",
        "    f.write(str() + \"\\n\")\n",
        "    with redirect_stdout(f): \n",
        "      per1.full()"
      ]
    },
    {
      "cell_type": "markdown",
      "metadata": {
        "id": "4HonvFCGYEwf"
      },
      "source": [
        "### 1.3.4 Модифицируйте предыдущую программу, позволяющую вычислять заработную плату, премию для сотрудников и определять величину общего фонда заработной платы как сумму заработной платы и премий, деленную на коэффициент 0,7. Данные о сотрудниках вводятся через цикл while и записываются в соответствующий файл .txt или .xlsx. \n"
      ]
    },
    {
      "cell_type": "code",
      "source": [
        "class Employee:  \n",
        "    \"\"\"Базовый класс для всех сотрудников\"\"\"  \n",
        "    emp_count = 0  \n",
        "  \n",
        "    def __init__(self, name, salary):  \n",
        "        self.name = name  \n",
        "        self.salary = salary  \n",
        "        Employee.emp_count += 1  \n",
        "  \n",
        "    def display_count(self):  \n",
        "        print('Всего сотрудников: %d' % Employee.empCount)  \n",
        "  \n",
        "    def display_employee(self):  \n",
        "        print('Имя: {}. Зарплата: {}'.format(self.name, self.salary))\n",
        "# Это создаст первый объект класса Employee  \n",
        "emp1 = Employee(\"Андрей\", 2000)  \n",
        "# Это создаст второй объект класса Employee  \n",
        "emp2 = Employee(\"Мария\", 5000) \n",
        "emp1.display_employee()  \n",
        "emp2.display_employee()  \n",
        "print(\"Всего сотрудников: %d\" % Employee.emp_count)"
      ],
      "metadata": {
        "colab": {
          "base_uri": "https://localhost:8080/"
        },
        "id": "aS__TuzOOt6b",
        "outputId": "2043d97d-a196-44fb-ae35-be14f2c73918"
      },
      "execution_count": null,
      "outputs": [
        {
          "output_type": "stream",
          "name": "stdout",
          "text": [
            "Имя: Андрей. Зарплата: 2000\n",
            "Имя: Мария. Зарплата: 5000\n",
            "Всего сотрудников: 2\n"
          ]
        }
      ]
    },
    {
      "cell_type": "code",
      "execution_count": null,
      "metadata": {
        "id": "9LW3U95AYLYb"
      },
      "outputs": [],
      "source": [
        "while True:\n",
        "    line = input()\n",
        "    if line == 'end':\n",
        "        break"
      ]
    },
    {
      "cell_type": "code",
      "source": [
        "class Student:\n",
        "  def __init__(self):\n",
        "    self.subject = input()\n",
        "    self.mark = int(input())\n",
        "  def average(score):\n",
        "    score = (sub1.mark + sub2.mark + sub3.mark)/3\n",
        "sub1 = Student()\n",
        "sub2 = Student()\n",
        "sub3 = Student()\n",
        "Student.average(score)\n",
        "\n",
        "average(score)"
      ],
      "metadata": {
        "colab": {
          "base_uri": "https://localhost:8080/",
          "height": 391
        },
        "id": "DWfhB6YlJgZE",
        "outputId": "1debc1c6-9ba0-4304-dd3b-ea6b033caf50"
      },
      "execution_count": null,
      "outputs": [
        {
          "name": "stdout",
          "output_type": "stream",
          "text": [
            "Jh\n",
            "Jh\n"
          ]
        },
        {
          "output_type": "error",
          "ename": "ValueError",
          "evalue": "ignored",
          "traceback": [
            "\u001b[0;31m---------------------------------------------------------------------------\u001b[0m",
            "\u001b[0;31mValueError\u001b[0m                                Traceback (most recent call last)",
            "\u001b[0;32m<ipython-input-25-959b1db15490>\u001b[0m in \u001b[0;36m<module>\u001b[0;34m\u001b[0m\n\u001b[1;32m      5\u001b[0m   \u001b[0;32mdef\u001b[0m \u001b[0maverage\u001b[0m\u001b[0;34m(\u001b[0m\u001b[0mscore\u001b[0m\u001b[0;34m)\u001b[0m\u001b[0;34m:\u001b[0m\u001b[0;34m\u001b[0m\u001b[0;34m\u001b[0m\u001b[0m\n\u001b[1;32m      6\u001b[0m     \u001b[0mscore\u001b[0m \u001b[0;34m=\u001b[0m \u001b[0;34m(\u001b[0m\u001b[0msub1\u001b[0m\u001b[0;34m.\u001b[0m\u001b[0mmark\u001b[0m \u001b[0;34m+\u001b[0m \u001b[0msub2\u001b[0m\u001b[0;34m.\u001b[0m\u001b[0mmark\u001b[0m \u001b[0;34m+\u001b[0m \u001b[0msub3\u001b[0m\u001b[0;34m.\u001b[0m\u001b[0mmark\u001b[0m\u001b[0;34m)\u001b[0m\u001b[0;34m/\u001b[0m\u001b[0;36m3\u001b[0m\u001b[0;34m\u001b[0m\u001b[0;34m\u001b[0m\u001b[0m\n\u001b[0;32m----> 7\u001b[0;31m \u001b[0msub1\u001b[0m \u001b[0;34m=\u001b[0m \u001b[0mStudent\u001b[0m\u001b[0;34m(\u001b[0m\u001b[0;34m)\u001b[0m\u001b[0;34m\u001b[0m\u001b[0;34m\u001b[0m\u001b[0m\n\u001b[0m\u001b[1;32m      8\u001b[0m \u001b[0msub2\u001b[0m \u001b[0;34m=\u001b[0m \u001b[0mStudent\u001b[0m\u001b[0;34m(\u001b[0m\u001b[0;34m)\u001b[0m\u001b[0;34m\u001b[0m\u001b[0;34m\u001b[0m\u001b[0m\n\u001b[1;32m      9\u001b[0m \u001b[0msub3\u001b[0m \u001b[0;34m=\u001b[0m \u001b[0mStudent\u001b[0m\u001b[0;34m(\u001b[0m\u001b[0;34m)\u001b[0m\u001b[0;34m\u001b[0m\u001b[0;34m\u001b[0m\u001b[0m\n",
            "\u001b[0;32m<ipython-input-25-959b1db15490>\u001b[0m in \u001b[0;36m__init__\u001b[0;34m(self)\u001b[0m\n\u001b[1;32m      2\u001b[0m   \u001b[0;32mdef\u001b[0m \u001b[0m__init__\u001b[0m\u001b[0;34m(\u001b[0m\u001b[0mself\u001b[0m\u001b[0;34m)\u001b[0m\u001b[0;34m:\u001b[0m\u001b[0;34m\u001b[0m\u001b[0;34m\u001b[0m\u001b[0m\n\u001b[1;32m      3\u001b[0m     \u001b[0mself\u001b[0m\u001b[0;34m.\u001b[0m\u001b[0msubject\u001b[0m \u001b[0;34m=\u001b[0m \u001b[0minput\u001b[0m\u001b[0;34m(\u001b[0m\u001b[0;34m)\u001b[0m\u001b[0;34m\u001b[0m\u001b[0;34m\u001b[0m\u001b[0m\n\u001b[0;32m----> 4\u001b[0;31m     \u001b[0mself\u001b[0m\u001b[0;34m.\u001b[0m\u001b[0mmark\u001b[0m \u001b[0;34m=\u001b[0m \u001b[0mint\u001b[0m\u001b[0;34m(\u001b[0m\u001b[0minput\u001b[0m\u001b[0;34m(\u001b[0m\u001b[0;34m)\u001b[0m\u001b[0;34m)\u001b[0m\u001b[0;34m\u001b[0m\u001b[0;34m\u001b[0m\u001b[0m\n\u001b[0m\u001b[1;32m      5\u001b[0m   \u001b[0;32mdef\u001b[0m \u001b[0maverage\u001b[0m\u001b[0;34m(\u001b[0m\u001b[0mscore\u001b[0m\u001b[0;34m)\u001b[0m\u001b[0;34m:\u001b[0m\u001b[0;34m\u001b[0m\u001b[0;34m\u001b[0m\u001b[0m\n\u001b[1;32m      6\u001b[0m     \u001b[0mscore\u001b[0m \u001b[0;34m=\u001b[0m \u001b[0;34m(\u001b[0m\u001b[0msub1\u001b[0m\u001b[0;34m.\u001b[0m\u001b[0mmark\u001b[0m \u001b[0;34m+\u001b[0m \u001b[0msub2\u001b[0m\u001b[0;34m.\u001b[0m\u001b[0mmark\u001b[0m \u001b[0;34m+\u001b[0m \u001b[0msub3\u001b[0m\u001b[0;34m.\u001b[0m\u001b[0mmark\u001b[0m\u001b[0;34m)\u001b[0m\u001b[0;34m/\u001b[0m\u001b[0;36m3\u001b[0m\u001b[0;34m\u001b[0m\u001b[0;34m\u001b[0m\u001b[0m\n",
            "\u001b[0;31mValueError\u001b[0m: invalid literal for int() with base 10: 'Jh'"
          ]
        }
      ]
    },
    {
      "cell_type": "code",
      "source": [
        "class test:  \n",
        "    def __init__(self):     \n",
        "       self.email = self.get_name()\n",
        "\n",
        "    def get_name(self) :\n",
        "       while True:\n",
        "          x = input(\"Enter your email: \")\n",
        "          if ((r'[\\w.-]+@[\\w.-]+.\\w+', x)) :\n",
        "            return x\n",
        "re = test()"
      ],
      "metadata": {
        "colab": {
          "base_uri": "https://localhost:8080/"
        },
        "id": "No-5VcTIjsHr",
        "outputId": "2ec52c2d-ab23-4b68-a908-a31325cd9595"
      },
      "execution_count": null,
      "outputs": [
        {
          "name": "stdout",
          "output_type": "stream",
          "text": [
            "Enter your email: r@r\n"
          ]
        }
      ]
    },
    {
      "cell_type": "code",
      "source": [
        "class human:\n",
        "  def __init__(self):\n",
        "    self.name = input()\n",
        "    self.age = int(input())\n",
        "\n",
        "hum=human()\n",
        "while hum.age < 18:\n",
        "  hum=human()\n",
        "  print(hum.name, hum.age)\n",
        "  repr(hum)"
      ],
      "metadata": {
        "colab": {
          "base_uri": "https://localhost:8080/"
        },
        "id": "LD5TrVV88xRc",
        "outputId": "87a6ef22-cbeb-4884-8c20-f24478822498"
      },
      "execution_count": null,
      "outputs": [
        {
          "output_type": "stream",
          "name": "stdout",
          "text": [
            "H\n",
            "12\n",
            "G\n",
            "13\n",
            "G 13\n",
            "G\n",
            "14\n",
            "G 14\n",
            "Y\n",
            "15\n",
            "Y 15\n",
            "P \n",
            "19\n",
            "P  19\n"
          ]
        }
      ]
    },
    {
      "cell_type": "code",
      "source": [],
      "metadata": {
        "id": "iMfYb0GfQBZP"
      },
      "execution_count": null,
      "outputs": []
    },
    {
      "cell_type": "code",
      "execution_count": null,
      "metadata": {
        "colab": {
          "base_uri": "https://localhost:8080/",
          "height": 460
        },
        "id": "kLAUd4H4QH6Y",
        "outputId": "f951543d-240a-4372-d633-2a7113672122"
      },
      "outputs": [
        {
          "name": "stdout",
          "output_type": "stream",
          "text": [
            "H\n",
            "2\n",
            "h\n",
            "21\n",
            " \n",
            " \n"
          ]
        },
        {
          "output_type": "error",
          "ename": "AttributeError",
          "evalue": "ignored",
          "traceback": [
            "\u001b[0;31m---------------------------------------------------------------------------\u001b[0m",
            "\u001b[0;31mAttributeError\u001b[0m                            Traceback (most recent call last)",
            "\u001b[0;32m<ipython-input-53-8e3f7db4ab87>\u001b[0m in \u001b[0;36m<module>\u001b[0;34m\u001b[0m\n\u001b[1;32m     31\u001b[0m \u001b[0;32mwhile\u001b[0m \u001b[0mper\u001b[0m\u001b[0;34m.\u001b[0m\u001b[0mdays\u001b[0m \u001b[0;34m>\u001b[0m \u001b[0;36m0\u001b[0m\u001b[0;34m:\u001b[0m\u001b[0;34m\u001b[0m\u001b[0;34m\u001b[0m\u001b[0m\n\u001b[1;32m     32\u001b[0m   \u001b[0mper\u001b[0m \u001b[0;34m=\u001b[0m \u001b[0mEmployee\u001b[0m\u001b[0;34m(\u001b[0m\u001b[0;34m)\u001b[0m\u001b[0;34m\u001b[0m\u001b[0;34m\u001b[0m\u001b[0m\n\u001b[0;32m---> 33\u001b[0;31m   \u001b[0mprint\u001b[0m\u001b[0;34m(\u001b[0m\u001b[0mper\u001b[0m\u001b[0;34m.\u001b[0m\u001b[0mprotected_fee\u001b[0m\u001b[0;34m(\u001b[0m\u001b[0;34m)\u001b[0m\u001b[0;34m)\u001b[0m\u001b[0;34m\u001b[0m\u001b[0;34m\u001b[0m\u001b[0m\n\u001b[0m\u001b[1;32m     34\u001b[0m   \u001b[0mrepr\u001b[0m\u001b[0;34m(\u001b[0m\u001b[0mhum\u001b[0m\u001b[0;34m)\u001b[0m\u001b[0;34m\u001b[0m\u001b[0;34m\u001b[0m\u001b[0m\n\u001b[1;32m     35\u001b[0m \u001b[0;34m\u001b[0m\u001b[0m\n",
            "\u001b[0;32m<ipython-input-53-8e3f7db4ab87>\u001b[0m in \u001b[0;36mprotected_fee\u001b[0;34m(self)\u001b[0m\n\u001b[1;32m     15\u001b[0m     \u001b[0mself\u001b[0m\u001b[0;34m.\u001b[0m\u001b[0m_fee\u001b[0m \u001b[0;34m=\u001b[0m \u001b[0;36m22000\u001b[0m \u001b[0;31m# _ - защищенный атрибут класса\u001b[0m\u001b[0;34m\u001b[0m\u001b[0;34m\u001b[0m\u001b[0m\n\u001b[1;32m     16\u001b[0m     \u001b[0mself\u001b[0m\u001b[0;34m.\u001b[0m\u001b[0mdays_in_month\u001b[0m \u001b[0;34m=\u001b[0m \u001b[0;36m22\u001b[0m\u001b[0;34m\u001b[0m\u001b[0;34m\u001b[0m\u001b[0m\n\u001b[0;32m---> 17\u001b[0;31m     \u001b[0mself\u001b[0m\u001b[0;34m.\u001b[0m\u001b[0msalary\u001b[0m \u001b[0;34m=\u001b[0m \u001b[0mself\u001b[0m\u001b[0;34m.\u001b[0m\u001b[0m_fee\u001b[0m\u001b[0;34m/\u001b[0m\u001b[0mself\u001b[0m\u001b[0;34m.\u001b[0m\u001b[0mdays_in_month\u001b[0m \u001b[0;34m*\u001b[0m \u001b[0mself\u001b[0m\u001b[0;34m.\u001b[0m\u001b[0mdays\u001b[0m\u001b[0;34m\u001b[0m\u001b[0;34m\u001b[0m\u001b[0m\n\u001b[0m\u001b[1;32m     18\u001b[0m     \u001b[0mprint\u001b[0m\u001b[0;34m(\u001b[0m\u001b[0mself\u001b[0m\u001b[0;34m.\u001b[0m\u001b[0mname\u001b[0m\u001b[0;34m)\u001b[0m\u001b[0;34m\u001b[0m\u001b[0;34m\u001b[0m\u001b[0m\n\u001b[1;32m     19\u001b[0m     \u001b[0mprint\u001b[0m\u001b[0;34m(\u001b[0m\u001b[0;34m'Зарплата без доплат: '\u001b[0m\u001b[0;34m)\u001b[0m\u001b[0;34m\u001b[0m\u001b[0;34m\u001b[0m\u001b[0m\n",
            "\u001b[0;31mAttributeError\u001b[0m: 'Employee' object has no attribute 'days'"
          ]
        }
      ],
      "source": [
        "from contextlib import redirect_stdout \n",
        "# Пусть оклад = 22 тысячи рублей\n",
        "# Пусть количество рабочих дней в месяце = 22  (для удобства расчетов)\n",
        "class Employee:\n",
        "  def __init__(self):\n",
        "    while True:\n",
        "      self.name = input()\n",
        "      if self.name == \" \":\n",
        "        break\n",
        "      self.days = int(input())\n",
        "#      if self.days == 0:\n",
        "#        break\n",
        "\n",
        "  def protected_fee(self):\n",
        "    self._fee = 22000 # _ - защищенный атрибут класса\n",
        "    self.days_in_month = 22\n",
        "    self.salary = self._fee/self.days_in_month * self.days\n",
        "    print(self.name)\n",
        "    print('Зарплата без доплат: ')\n",
        "    print(self.salary)\n",
        "  def prize(self):\n",
        "    self.prize = self.salary*0.01\n",
        "    print('Премия: ')\n",
        "    print(self.prize)\n",
        "  def full(self):\n",
        "    self.full_salary = self.salary + self.prize\n",
        "    print('Зарплата с премией: ')\n",
        "    print(self.full_salary) \n",
        "    \n",
        "per = Employee()\n",
        "while per.days > 0:\n",
        "  per = Employee()\n",
        "  print(per.protected_fee())\n",
        "  repr(hum)\n",
        "\n",
        "\n",
        "#with open('salary', 'w') as f: \n",
        "#    with redirect_stdout(f): \n",
        "#        per1.protected_fee()\n",
        "#    f.write(str() + \"\\n\")\n",
        "#    with redirect_stdout(f): \n",
        "#      per1.prize()\n",
        "#    f.write(str() + \"\\n\")\n",
        "#    with redirect_stdout(f): \n",
        "#      per1.full()"
      ]
    },
    {
      "cell_type": "code",
      "execution_count": null,
      "metadata": {
        "colab": {
          "base_uri": "https://localhost:8080/",
          "height": 339
        },
        "id": "upecHAelnLsF",
        "outputId": "0e3f20a8-8af5-411b-af7e-57b38b4ed4e0"
      },
      "outputs": [
        {
          "name": "stdout",
          "output_type": "stream",
          "text": [
            "h\n",
            "h\n",
            " \n",
            "6\n",
            "21\n",
            "0\n"
          ]
        },
        {
          "output_type": "error",
          "ename": "AttributeError",
          "evalue": "ignored",
          "traceback": [
            "\u001b[0;31m---------------------------------------------------------------------------\u001b[0m",
            "\u001b[0;31mAttributeError\u001b[0m                            Traceback (most recent call last)",
            "\u001b[0;32m<ipython-input-22-27a00a2058ea>\u001b[0m in \u001b[0;36m<module>\u001b[0;34m\u001b[0m\n\u001b[1;32m     47\u001b[0m     \u001b[0mf\u001b[0m\u001b[0;34m.\u001b[0m\u001b[0mwrite\u001b[0m\u001b[0;34m(\u001b[0m\u001b[0mstr\u001b[0m\u001b[0;34m(\u001b[0m\u001b[0;34m)\u001b[0m \u001b[0;34m+\u001b[0m \u001b[0;34m\"\\n\"\u001b[0m\u001b[0;34m)\u001b[0m\u001b[0;34m\u001b[0m\u001b[0;34m\u001b[0m\u001b[0m\n\u001b[1;32m     48\u001b[0m \u001b[0;31m#    with redirect_stdout(f):\u001b[0m\u001b[0;34m\u001b[0m\u001b[0;34m\u001b[0m\u001b[0;34m\u001b[0m\u001b[0m\n\u001b[0;32m---> 49\u001b[0;31m     \u001b[0mf\u001b[0m\u001b[0;34m.\u001b[0m\u001b[0mwrite\u001b[0m\u001b[0;34m(\u001b[0m\u001b[0mstr\u001b[0m\u001b[0;34m(\u001b[0m\u001b[0mper1\u001b[0m\u001b[0;34m.\u001b[0m\u001b[0mprize\u001b[0m\u001b[0;34m(\u001b[0m\u001b[0;34m)\u001b[0m\u001b[0;34m)\u001b[0m \u001b[0;34m+\u001b[0m \u001b[0;34m\"\\n\"\u001b[0m\u001b[0;34m)\u001b[0m\u001b[0;34m\u001b[0m\u001b[0;34m\u001b[0m\u001b[0m\n\u001b[0m\u001b[1;32m     50\u001b[0m \u001b[0;34m\u001b[0m\u001b[0m\n\u001b[1;32m     51\u001b[0m \u001b[0;31m#      per1.prize()\u001b[0m\u001b[0;34m\u001b[0m\u001b[0;34m\u001b[0m\u001b[0;34m\u001b[0m\u001b[0m\n",
            "\u001b[0;31mAttributeError\u001b[0m: 'int' object has no attribute 'prize'"
          ]
        }
      ],
      "source": [
        "from contextlib import redirect_stdout \n",
        "# Пусть оклад = 22 тысячи рублей\n",
        "# Пусть количество рабочих дней в месяце = 22  (для удобства расчетов)\n",
        "class Employee:\n",
        "#  N=int(input('Введите количество переменных: ')) \n",
        "#  n=[]\n",
        "#  for i in range(N):\n",
        "#    n.append(input('Введите значение: '))\n",
        "#  print(n)\n",
        "  def __init__(self):\n",
        "#    self.N=int(input('Введите количество переменных: ')) \n",
        "#    n=[]\n",
        "#    for i in range(self.N):\n",
        "#      n.append(input('Введите значение: '))\n",
        "#      print(n)\n",
        "    while True:\n",
        "      self.name = input()\n",
        "      if self.name == \" \":\n",
        "        break\n",
        "    while True:\n",
        "      self.days = int(input())\n",
        "      if self.days == 0:\n",
        "        break\n",
        "\n",
        "#    self.days = days\n",
        "  def protected_fee(self):\n",
        "    self._fee = 22000 # _ - защищенный атрибут класса\n",
        "    self.days_in_month = 22\n",
        "    self.salary = self._fee/self.days_in_month * self.days\n",
        "    print('Зарплата без доплат: ')\n",
        "    print(self.salary)\n",
        "  def prize(self):\n",
        "    self.prize = self.salary*0.01\n",
        "    print('Премия: ')\n",
        "    print(self.prize)\n",
        "  def full(self):\n",
        "    self.full_salary = self.salary + self.prize\n",
        "    print('Зарплата с премией: ')\n",
        "    print(self.full_salary)\n",
        "\n",
        "per1 = Employee()\n",
        "for per1 in range(len(per.name)):\n",
        "  with open('salary', 'w') as f: \n",
        "#    with redirect_stdout(f): \n",
        "#        per1.protected_fee()\n",
        "\n",
        "    f.write(str() + \"\\n\")\n",
        "#    with redirect_stdout(f): \n",
        "    f.write(str(per1.prize()) + \"\\n\")\n",
        "\n",
        "#      per1.prize()\n",
        "\n",
        "    f.write(str() + \"\\n\")\n",
        "    with redirect_stdout(f): \n",
        "      per1.full()\n",
        "    f.write(str() + \"\\n\")\n",
        "\n",
        "\n",
        "\n",
        "\n",
        "\n",
        "\"\"\"\n",
        "for per in range(len(per.name)):\n",
        "\n",
        "  with open('fund', 'w') as f:\n",
        "    with redirect_stdout(f):\n",
        "      per.protected_fee()\n",
        "    f.write(str() + \"\\n\")\n",
        "    with redirect_stdout(f):\n",
        "      per.prize()\n",
        "    f.write(str() + \"\\n\")\n",
        "    with redirect_stdout(f):\n",
        "      per.full()\n",
        "    del per\n",
        "#  def fund(self):\n",
        "\n",
        "#per = Employee()\n",
        "#while per in range(per.N):\n",
        "#  per.name = input()\n",
        "#  per.days = int(input())\n",
        "\n",
        "  \n",
        "#per.protected_fee()\n",
        "#per.prize()\n",
        "#per.full()\n",
        "\n",
        "\n",
        "#with open('salary', 'w') as f: \n",
        "#    with redirect_stdout(f): \n",
        "#        per1.protected_fee()\n",
        "#    f.write(str() + \"\\n\")\n",
        "#    with redirect_stdout(f): \n",
        "#      per1.prize()\n",
        "#    f.write(str() + \"\\n\")\n",
        "#    with redirect_stdout(f): \n",
        "#      per1.full() \"\"\""
      ]
    },
    {
      "cell_type": "markdown",
      "metadata": {
        "id": "fyIRTy3cYLwa"
      },
      "source": [
        "### 1.3.5 Используя технологию перегрузки операторов, измените __ truediv __(деление) так, чтобы числителем был знаменатель и наоборот. Аналогичные процедуры осуществите для операторов __ floordiv __(целочисленное деление), __ mod __(остаток от деления). Числа вводят пользователи. Предусмотрите отработку исключений. \n"
      ]
    }
  ],
  "metadata": {
    "colab": {
      "provenance": [],
      "authorship_tag": "ABX9TyOY90rrOD+MMVvdej/ayhIi",
      "include_colab_link": true
    },
    "kernelspec": {
      "display_name": "Python 3",
      "name": "python3"
    },
    "language_info": {
      "name": "python"
    }
  },
  "nbformat": 4,
  "nbformat_minor": 0
}