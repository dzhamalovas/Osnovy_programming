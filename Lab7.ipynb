{
  "nbformat": 4,
  "nbformat_minor": 0,
  "metadata": {
    "colab": {
      "provenance": [],
      "authorship_tag": "ABX9TyMCiImw+A4OZ4esUaioSvoh",
      "include_colab_link": true
    },
    "kernelspec": {
      "name": "python3",
      "display_name": "Python 3"
    },
    "language_info": {
      "name": "python"
    }
  },
  "cells": [
    {
      "cell_type": "markdown",
      "metadata": {
        "id": "view-in-github",
        "colab_type": "text"
      },
      "source": [
        "<a href=\"https://colab.research.google.com/github/dzhamalovas/Osnovy_programming/blob/main/Lab7.ipynb\" target=\"_parent\"><img src=\"https://colab.research.google.com/assets/colab-badge.svg\" alt=\"Open In Colab\"/></a>"
      ]
    },
    {
      "cell_type": "markdown",
      "source": [
        "# Программирование на языке высокого уровня (Python).\n",
        "# https://www.yuripetrov.ru/edu/python\n",
        "# Выполнил: Джамалова С. Ш.\n",
        "# Группа: АДЭУ-221\n",
        "# E-mail: jamalovasabina@yandex.ru\n",
        "\n"
      ],
      "metadata": {
        "id": "ljQN1ysyLpWR"
      }
    },
    {
      "cell_type": "markdown",
      "source": [
        "# 7.2.1\n"
      ],
      "metadata": {
        "id": "zUX8Uz-ASShJ"
      }
    },
    {
      "cell_type": "code",
      "source": [
        "\"\"\"\n",
        "Ошибки (номера строк через пробел, данная строка - №2):\n",
        " 15. Необходимо искать остаток от деления, а не целочисленное деление.\n",
        " 17. Необходимо найти сумму, а не количество \n",
        " 19. Выводит не сумму, а нам необходима именно она\n",
        "\n",
        "\"\"\"\n",
        "\n",
        "\n",
        "def sum_of_digits(n):\n",
        "    \"\"\"Returns the sum of digits less than 5 for a positive integer n.\n",
        "     If there are no such digits, it returns 0.\"\"\"\n",
        "    c = 0\n",
        "    while n > 0:\n",
        "      digit = n % 10\n",
        "      if digit < 5:\n",
        "          c = c + digit\n",
        "      n //= 10\n",
        "    return c\n"
      ],
      "metadata": {
        "id": "ifgLtPf1yGyK"
      },
      "execution_count": null,
      "outputs": []
    },
    {
      "cell_type": "code",
      "source": [
        "sum_of_digits(14)"
      ],
      "metadata": {
        "colab": {
          "base_uri": "https://localhost:8080/"
        },
        "id": "1-5B45cH04FC",
        "outputId": "5f0b3c87-a5a6-469f-b4ae-651c25ba1cb6"
      },
      "execution_count": null,
      "outputs": [
        {
          "output_type": "execute_result",
          "data": {
            "text/plain": [
              "5"
            ]
          },
          "metadata": {},
          "execution_count": 32
        }
      ]
    },
    {
      "cell_type": "code",
      "source": [
        "help(sum_of_digits)"
      ],
      "metadata": {
        "colab": {
          "base_uri": "https://localhost:8080/"
        },
        "id": "7bLB6dr950tD",
        "outputId": "7aab14e0-68a4-4256-ff2e-a41f525e26e4"
      },
      "execution_count": null,
      "outputs": [
        {
          "output_type": "stream",
          "name": "stdout",
          "text": [
            "Help on function sum_of_digits in module __main__:\n",
            "\n",
            "sum_of_digits(n)\n",
            "    Returns the sum of digits less than 5 for a positive integer n.\n",
            "    If there are no such digits, it returns 0.\n",
            "\n"
          ]
        }
      ]
    },
    {
      "cell_type": "markdown",
      "source": [
        "# 7.2.2"
      ],
      "metadata": {
        "id": "4at1rzgQSZLO"
      }
    },
    {
      "cell_type": "code",
      "source": [
        "\"\"\"\n",
        "Ошибки (номера строк через пробел, данная строка - №2): \n",
        "14. Range не учитывает число, обозначенное за конечное\n",
        "15. Range не учитывает число, обозначенное за конечное\n",
        "18. Не входит во второй цикл for (Табуляция)\n",
        "20. Необходимо рассмотреть иные случаи\n",
        "\"\"\"\n",
        "\n",
        "\n",
        "def primes(a, b):\n",
        "    \"\"\"Returns a list of primes between 'a' and 'b'.\"\"\"\n",
        "    res = []\n",
        "    c = 0\n",
        "    for i in range(a, b+1):\n",
        "        for j in range(i+1):\n",
        "            if i % (j + 1) == 0:\n",
        "                c += 1\n",
        "        if c == 2:\n",
        "          res.append(i)\n",
        "        else:\n",
        "          c = 0\n",
        "    return res\n",
        "\n"
      ],
      "metadata": {
        "id": "hnmEm0n0TD4c"
      },
      "execution_count": null,
      "outputs": []
    },
    {
      "cell_type": "code",
      "source": [
        "primes(101,135)"
      ],
      "metadata": {
        "colab": {
          "base_uri": "https://localhost:8080/"
        },
        "id": "Y6JZwX71MrBP",
        "outputId": "e1abe93c-a003-4d36-d579-7112fd7914b3"
      },
      "execution_count": null,
      "outputs": [
        {
          "output_type": "execute_result",
          "data": {
            "text/plain": [
              "[101, 103, 107, 109, 113, 127, 131]"
            ]
          },
          "metadata": {},
          "execution_count": 47
        }
      ]
    },
    {
      "cell_type": "code",
      "source": [
        "help(primes)"
      ],
      "metadata": {
        "colab": {
          "base_uri": "https://localhost:8080/"
        },
        "id": "0wqI3oGsU-F1",
        "outputId": "42b6f5cf-df9f-44df-8386-cd03ab80aced"
      },
      "execution_count": null,
      "outputs": [
        {
          "output_type": "stream",
          "name": "stdout",
          "text": [
            "Help on function primes in module __main__:\n",
            "\n",
            "primes(a, b)\n",
            "    Returns a list of primes between 'a' and 'b'.\n",
            "\n"
          ]
        }
      ]
    },
    {
      "cell_type": "markdown",
      "source": [
        "# 7.2.3"
      ],
      "metadata": {
        "id": "70sIwYdOVKBJ"
      }
    },
    {
      "cell_type": "code",
      "source": [
        "\"\"\"\n",
        "Ошибки (номера строк через пробел, данная строка - №2): \n",
        "23. Не может быть равно  \n",
        "24. +1\n",
        "\"\"\"\n",
        "\n",
        "\n",
        "def first_vacant_row(seats):\n",
        "    \"\"\"Returns the first row with the most empty seats and how many of them. \n",
        "    Row numbering starting from 1. If there are no empty seats, return 0, 0.\n",
        "\n",
        "    Options:\n",
        "        - seats (list of list): information about sold tickets\n",
        "                                (1 - sold, 0 - not).\n",
        "\n",
        "   Result:\n",
        "        - tuple (row, number of seats).\n",
        "    \"\"\"\n",
        "    max_count = 0\n",
        "    max_row = 0\n",
        "    for row_index, row in enumerate(seats):\n",
        "        available_seats_count = row.count(0)  # 0 - пусто\n",
        "        if available_seats_count > max_count:\n",
        "            max_row = row_index + 1\n",
        "            max_count = available_seats_count\n",
        "\n",
        "    return max_row, max_count\n",
        "\n",
        "\n",
        "\n"
      ],
      "metadata": {
        "id": "SiopyUfaVMi8"
      },
      "execution_count": null,
      "outputs": []
    },
    {
      "cell_type": "code",
      "source": [
        "import random\n",
        "random.seed(50)\n",
        "\n",
        "ROWS_MAX = 10\n",
        "SEATS_MAX = 5\n",
        "\n",
        "seats = [[random.randint(0, 1) for seat in range(SEATS_MAX)]\n",
        "                                for row in range(ROWS_MAX)]\n",
        "for seat in seats:\n",
        "    print(seat)\n",
        "\n",
        "print(first_vacant_row(seats))"
      ],
      "metadata": {
        "colab": {
          "base_uri": "https://localhost:8080/"
        },
        "id": "1uhMhRaosLXC",
        "outputId": "da20c211-3961-4b4a-cd18-dcbbdb34ab12"
      },
      "execution_count": null,
      "outputs": [
        {
          "output_type": "stream",
          "name": "stdout",
          "text": [
            "[1, 1, 1, 0, 1]\n",
            "[1, 0, 1, 0, 0]\n",
            "[0, 1, 0, 1, 1]\n",
            "[0, 0, 0, 1, 1]\n",
            "[0, 0, 1, 1, 0]\n",
            "[0, 1, 1, 1, 0]\n",
            "[0, 1, 1, 1, 0]\n",
            "[1, 0, 0, 1, 0]\n",
            "[1, 1, 0, 1, 1]\n",
            "[0, 1, 0, 0, 1]\n",
            "(2, 3)\n"
          ]
        }
      ]
    },
    {
      "cell_type": "code",
      "source": [
        "help(first_vacant_row)"
      ],
      "metadata": {
        "colab": {
          "base_uri": "https://localhost:8080/"
        },
        "id": "XHN1SKdMutd_",
        "outputId": "3edc27bc-fe8f-49a7-8a7a-b1bf230140f1"
      },
      "execution_count": null,
      "outputs": [
        {
          "output_type": "stream",
          "name": "stdout",
          "text": [
            "Help on function first_vacant_row in module __main__:\n",
            "\n",
            "first_vacant_row(seats)\n",
            "    Returns the first row with the most empty seats and how many of them. \n",
            "     Row numbering starting from 1. If there are no empty seats, return 0, 0.\n",
            "    \n",
            "     Options:\n",
            "         - seats (list of list): information about sold tickets\n",
            "                                 (1 - sold, 0 - not).\n",
            "    \n",
            "    Result:\n",
            "         - tuple (row, number of seats).\n",
            "\n"
          ]
        }
      ]
    },
    {
      "cell_type": "markdown",
      "source": [
        "# 7.2.4"
      ],
      "metadata": {
        "id": "DKPJDZt_XY9A"
      }
    },
    {
      "cell_type": "code",
      "source": [
        "\"\"\"\n",
        "Ошибки (номера строк через пробел, данная строка - №2): 8 9 10 12\n",
        "\"\"\"\n",
        "\n",
        "\n",
        "def min_pair(nums):\n",
        "    \"\"\"Returns the minimum sum of adjacent 2 numbers in the 'nums'.\"\"\"\n",
        "    min1 = nums[0] + nums[1]\n",
        "    for i in range(2, len(nums) - 1):\n",
        "        min1 = min(nums[i] + nums[i + 1], min1)\n",
        "\n",
        "    return min1\n"
      ],
      "metadata": {
        "id": "piTZzQbsXqWV"
      },
      "execution_count": null,
      "outputs": []
    },
    {
      "cell_type": "code",
      "source": [
        "import random\n",
        "\n",
        "random.seed(50)\n",
        "\n",
        "N_MAX = 10\n",
        "RANGE_MIN = 1\n",
        "RANGE_MAX = 100\n",
        "nums = random.sample(range(RANGE_MIN, RANGE_MAX), N_MAX)\n",
        "\n",
        "print(nums)\n",
        "print(min_pair(nums))"
      ],
      "metadata": {
        "id": "vuCAIfPIX0ho",
        "colab": {
          "base_uri": "https://localhost:8080/"
        },
        "outputId": "6a010c80-a8b8-408f-e9a1-4310aed632d5"
      },
      "execution_count": null,
      "outputs": [
        {
          "output_type": "stream",
          "name": "stdout",
          "text": [
            "[64, 35, 47, 82, 32, 89, 61, 99, 43, 11]\n",
            "54\n"
          ]
        }
      ]
    },
    {
      "cell_type": "markdown",
      "source": [
        "# 2 способ решения 7.2.4\n",
        "Необходим, когда происходит нехватка данных"
      ],
      "metadata": {
        "id": "LUs-23X419KP"
      }
    },
    {
      "cell_type": "code",
      "source": [
        "\n",
        "def min_pair(nums):\n",
        "    try:\n",
        "        \"\"\"Returns the minimum sum of adjacent 2 numbers in the 'nums'.\"\"\"\n",
        "        min1 = nums[0] * nums[1]\n",
        "        for i in range(1, len(nums) - 1):\n",
        "            min1 = min(nums[i] + nums[i + 1], min1)\n",
        "    \n",
        "        return min1\n",
        "    except IndexError:\n",
        "        print(\"Limited data\")\n",
        "        return\n",
        "    "
      ],
      "metadata": {
        "id": "bpqPSphtX5Vu"
      },
      "execution_count": null,
      "outputs": []
    },
    {
      "cell_type": "code",
      "source": [
        "import random\n",
        "\n",
        "random.seed(50)\n",
        "\n",
        "N_MAX = 10\n",
        "RANGE_MIN = 1\n",
        "RANGE_MAX = 100\n",
        "nums = random.sample(range(RANGE_MIN, RANGE_MAX), N_MAX)\n",
        "\n",
        "print(nums)\n",
        "print(min_pair(nums))"
      ],
      "metadata": {
        "colab": {
          "base_uri": "https://localhost:8080/"
        },
        "outputId": "7cad0f0e-3d79-4415-b9cf-52b59dfcc7d6",
        "id": "w2pIsP0g2yc_"
      },
      "execution_count": null,
      "outputs": [
        {
          "output_type": "stream",
          "name": "stdout",
          "text": [
            "[64, 35, 47, 82, 32, 89, 61, 99, 43, 11]\n",
            "54\n"
          ]
        }
      ]
    },
    {
      "cell_type": "code",
      "source": [
        "help(min_pair)"
      ],
      "metadata": {
        "colab": {
          "base_uri": "https://localhost:8080/"
        },
        "id": "A5YeMi3N385F",
        "outputId": "32d0691b-0522-4db3-e21a-20d3a9810f28"
      },
      "execution_count": null,
      "outputs": [
        {
          "output_type": "stream",
          "name": "stdout",
          "text": [
            "Help on function min_pair in module __main__:\n",
            "\n",
            "min_pair(nums)\n",
            "    Returns the minimum sum of adjacent 2 numbers in the 'nums'.\n",
            "\n"
          ]
        }
      ]
    },
    {
      "cell_type": "markdown",
      "source": [
        "# 7.2.5"
      ],
      "metadata": {
        "id": "CXlTM4IR4YgW"
      }
    },
    {
      "cell_type": "code",
      "source": [
        "\"\"\"\n",
        "Ошибки (номера строк через пробел, данная строка - №2): 9-14\n",
        "\"\"\"\n",
        "\n",
        "\n",
        "def non_negatives(nums):\n",
        "    \"\"\"Removes negative elements from the list of numbers 'nums' and returns\n",
        "    modified list.\"\"\"\n",
        "    i = 0\n",
        "    try:\n",
        "        while i < len(nums):\n",
        "            if nums[i] < 0:\n",
        "                del nums[i]\n",
        "            else:\n",
        "                i += 1\n",
        "        return nums\n",
        "    except ValueError:\n",
        "        return\n",
        "\n",
        "\n"
      ],
      "metadata": {
        "id": "sx1ANgQC4bwv"
      },
      "execution_count": null,
      "outputs": []
    },
    {
      "cell_type": "code",
      "source": [
        "import random\n",
        "\n",
        "n = 10\n",
        "nums = [round(random.uniform(-10, 10), 2) for i in range(n)]\n",
        "print(nums)\n",
        "\n",
        "non_negatives(nums)\n",
        "print(nums)\n",
        "\n",
        "\n",
        "    "
      ],
      "metadata": {
        "colab": {
          "base_uri": "https://localhost:8080/"
        },
        "id": "UGRL1Qakuf1f",
        "outputId": "5644a042-cb7c-4c97-94b1-8d423b1a3977"
      },
      "execution_count": null,
      "outputs": [
        {
          "output_type": "stream",
          "name": "stdout",
          "text": [
            "[-1.46, 0.35, 0.64, 3.48, -0.01, 6.53, -3.99, 7.15, 5.16, -7.0]\n",
            "[0.35, 0.64, 3.48, 6.53, 7.15, 5.16]\n"
          ]
        }
      ]
    },
    {
      "cell_type": "code",
      "source": [
        "help(non_negatives)"
      ],
      "metadata": {
        "colab": {
          "base_uri": "https://localhost:8080/"
        },
        "id": "pF6T9UxuCz4p",
        "outputId": "bf989478-be5b-4836-90be-e803b01efad4"
      },
      "execution_count": null,
      "outputs": [
        {
          "output_type": "stream",
          "name": "stdout",
          "text": [
            "Help on function non_negatives in module __main__:\n",
            "\n",
            "non_negatives(nums)\n",
            "    Removes negative elements from the list of numbers 'nums' and returns\n",
            "    modified list.\n",
            "\n"
          ]
        }
      ]
    },
    {
      "cell_type": "markdown",
      "source": [
        "# 7.2.6"
      ],
      "metadata": {
        "id": "j3ZSIognGjrt"
      }
    },
    {
      "cell_type": "code",
      "source": [
        "\"\"\"\n",
        "Ошибки (номера строк через пробел, данная строка - №2): 9-10 12-13 15 20-21\n",
        "\"\"\"\n",
        "\n",
        "\n",
        "def unemployment_rate(unemployed, employed):\n",
        "    \"\"\"Return the unemployment rate (UB) in fractions of 1.\n",
        "      Calculation according to the formula: UB = Unemployed / (Employed + Unemployed).\n",
        "    \"\"\"\n",
        "    if unemployed >= 0 and employed >= 0:\n",
        "      return unemployed / (unemployed + employed)\n",
        "    else:\n",
        "      raise ValueError('Check your data')\n",
        "\n",
        "try:\n",
        "  unemployed = int(input(\"Enter the number of unemployed (people): \"))\n",
        "  employed = int(input(\"Enter the number of employees (people): \"))\n",
        "  rate = unemployment_rate(unemployed, employed)\n",
        "  print(\"Unemployment rate = {:.1%}\".format(rate))\n",
        "except ValueError:\n",
        "  print('Check your data')\n"
      ],
      "metadata": {
        "colab": {
          "base_uri": "https://localhost:8080/"
        },
        "id": "XPkZ-54XGwt2",
        "outputId": "9080d742-9f9f-4938-cfb4-dba20876ac25"
      },
      "execution_count": null,
      "outputs": [
        {
          "output_type": "stream",
          "name": "stdout",
          "text": [
            "Enter the number of unemployed (people): 8\n",
            "Enter the number of employees (people): 24\n",
            "Unemployment rate = 25.0%\n"
          ]
        }
      ]
    },
    {
      "cell_type": "code",
      "source": [
        "help(unemployment_rate)"
      ],
      "metadata": {
        "colab": {
          "base_uri": "https://localhost:8080/"
        },
        "id": "7ZT94ZTfYxD5",
        "outputId": "73de02c8-cbac-4819-fe3e-be1826be3eb5"
      },
      "execution_count": null,
      "outputs": [
        {
          "output_type": "stream",
          "name": "stdout",
          "text": [
            "Help on function unemployment_rate in module __main__:\n",
            "\n",
            "unemployment_rate(unemployed, employed)\n",
            "    Return the unemployment rate (UB) in fractions of 1.\n",
            "    Calculation according to the formula: UB = Unemployed / (Employed + Unemployed).\n",
            "\n"
          ]
        }
      ]
    },
    {
      "cell_type": "markdown",
      "source": [
        "# 7.2.7\n"
      ],
      "metadata": {
        "id": "jXltjRJLcESC"
      }
    },
    {
      "cell_type": "code",
      "source": [
        "\"\"\"\n",
        "Ошибки (номера строк через пробел, данная строка - №2): 11 17 20\n",
        "\"\"\"\n",
        "\n",
        "\n",
        "def power(x, y=2):\n",
        "    \"\"\"Returns x^y.\"\"\"\n",
        "    if y == 0:\n",
        "        return 1\n",
        "    elif y < 0:\n",
        "      raise ValueError('y can not have negative value')\n",
        "    else:\n",
        "        return x ** y\n",
        "\n",
        "try:\n",
        "  x = int(input(\"x=\"))\n",
        "  y = int(input(\"y=\"))\n",
        "  print(power(x, y))\n",
        "except ValueError:\n",
        "  print('y can not have negative value')\n",
        "\n",
        "\n"
      ],
      "metadata": {
        "colab": {
          "base_uri": "https://localhost:8080/"
        },
        "id": "7dv9STZocISK",
        "outputId": "f2ee6bc7-116a-4a19-ecad-5240e55c3d88"
      },
      "execution_count": null,
      "outputs": [
        {
          "output_type": "stream",
          "name": "stdout",
          "text": [
            "x=4\n",
            "y=2\n",
            "16\n"
          ]
        }
      ]
    },
    {
      "cell_type": "code",
      "source": [
        "help(power)"
      ],
      "metadata": {
        "colab": {
          "base_uri": "https://localhost:8080/"
        },
        "id": "njsZaNEr1czR",
        "outputId": "fb07d196-e7a3-422f-e121-3c9a85fd7502"
      },
      "execution_count": null,
      "outputs": [
        {
          "output_type": "stream",
          "name": "stdout",
          "text": [
            "Help on function power in module __main__:\n",
            "\n",
            "power(x, y=2)\n",
            "    Returns x^y.\n",
            "\n"
          ]
        }
      ]
    },
    {
      "cell_type": "markdown",
      "source": [
        "# 7.2.8"
      ],
      "metadata": {
        "id": "EwjID-VI3CTn"
      }
    },
    {
      "cell_type": "code",
      "source": [
        "\"\"\"\n",
        "Ошибки (номера строк через пробел, данная строка - №2): 9 14 19\n",
        "\"\"\"\n",
        "\n",
        "\n",
        "# Дан список ФИО. Найти наиболее часто встречаемое отчество.\n",
        "# Если отчества нет, человек не учитывается в подсчете.\n",
        "\n",
        "n = int(input(\"Введите кол-во человек: \"))\n",
        "\n",
        "middle_names = {}\n",
        "for i in range(n):\n",
        "    fio = input(\"Введите ФИО через пробел: \").split()\n",
        "    try:\n",
        "      middle_name = fio[2]\n",
        "      middle_names[middle_name] = middle_names.get(middle_name, 0) + 1\n",
        "    except IndentationError:\n",
        "      pass\n",
        "\n",
        "print(sorted(middle_names.items(), key=lambda item: item[1])[-1][0])\n",
        "print(\"В расчете участвовало человек:\", n)\n"
      ],
      "metadata": {
        "colab": {
          "base_uri": "https://localhost:8080/"
        },
        "id": "SvM-2cjA34EL",
        "outputId": "039db11f-1fc7-40af-ca86-5b0220701033"
      },
      "execution_count": null,
      "outputs": [
        {
          "output_type": "stream",
          "name": "stdout",
          "text": [
            "Введите кол-во человек: 3 \n",
            "Введите ФИО через пробел: Иванов Павел Викторович \n",
            "Введите ФИО через пробел: Павлов Константин Иванович \n",
            "Введите ФИО через пробел: Юрьев Иван Викторович \n",
            "Викторович\n",
            "В расчете участвовало человек: 3\n"
          ]
        }
      ]
    },
    {
      "cell_type": "markdown",
      "source": [
        "# 7.2.9\n"
      ],
      "metadata": {
        "id": "UUFJOepvB3yL"
      }
    },
    {
      "cell_type": "code",
      "source": [
        "\"\"\"\n",
        "Ошибки (номера строк через пробел, данная строка - №2): 26 29 30\n",
        "\"\"\"\n",
        "\n",
        "\n",
        "def f(x):\n",
        "    \"\"\"Return the value of the function.\n",
        "\n",
        "    The function does not handle exceptions.\n",
        "    \"\"\"\n",
        "    return x**2 / (x + 2) - 3\n",
        "\n",
        "try:\n",
        "    k = int(input(\"Enter the interval boundary [-k; k]: \"))\n",
        "    h = float(input(\"Enter the tab step: \"))\n",
        "\n",
        "    x = -k\n",
        "    print(\"{:>10} {:>10}\".format(\"x\", \"f(x)\"))\n",
        "    while x <= k:\n",
        "      # Если во время вычисления функции возникнет ошибка,\n",
        "      # при выводе необходимо указать прочерк \"-\"\n",
        "      # Данный случай должен обрабатывать второй вложенный блок try\n",
        "      try:\n",
        "        print(\"{:10.2f} {:10.2f}\".format(x, f(x)))\n",
        "      except:\n",
        "        print(\"{:10.2f} {:>10s}\".format(x, '-'))\n",
        "      x += h\n",
        "\n",
        "except ValueError:\n",
        " print('Check your data ')\n",
        "\n",
        "# --------------\n",
        "# Пример вывода:\n",
        "#\n",
        "# Введите границу интервала [-k; k]: 5\n",
        "# Введите шаг табуляции: 0.5\n",
        "#          x       f(x)\n",
        "#      -5.00     -11.33\n",
        "#      -4.50     -11.10\n",
        "#      -4.00     -11.00\n",
        "#      -3.50     -11.17\n",
        "#      -3.00     -12.00\n",
        "#      -2.50     -15.50\n",
        "#      -2.00          -\n",
        "#      -1.50       1.50\n",
        "#      -1.00      -2.00\n",
        "#      -0.50      -2.83\n",
        "#       0.00      -3.00\n",
        "#       0.50      -2.90\n",
        "#       1.00      -2.67\n",
        "#       1.50      -2.36\n",
        "#       2.00      -2.00\n",
        "#       2.50      -1.61\n",
        "#       3.00      -1.20\n",
        "#       3.50      -0.77\n",
        "#       4.00      -0.33\n",
        "#       4.50       0.12\n",
        "#       5.00       0.57\n"
      ],
      "metadata": {
        "id": "kbUYdyCSB9LY",
        "colab": {
          "base_uri": "https://localhost:8080/"
        },
        "outputId": "d7cec311-ef60-4e6c-a222-772513267177"
      },
      "execution_count": null,
      "outputs": [
        {
          "output_type": "stream",
          "name": "stdout",
          "text": [
            "Enter the interval boundary [-k; k]: 5\n",
            "Enter the tab step: 0.5\n",
            "         x       f(x)\n",
            "     -5.00     -11.33\n",
            "     -4.50     -11.10\n",
            "     -4.00     -11.00\n",
            "     -3.50     -11.17\n",
            "     -3.00     -12.00\n",
            "     -2.50     -15.50\n",
            "     -2.00          -\n",
            "     -1.50       1.50\n",
            "     -1.00      -2.00\n",
            "     -0.50      -2.83\n",
            "      0.00      -3.00\n",
            "      0.50      -2.90\n",
            "      1.00      -2.67\n",
            "      1.50      -2.36\n",
            "      2.00      -2.00\n",
            "      2.50      -1.61\n",
            "      3.00      -1.20\n",
            "      3.50      -0.77\n",
            "      4.00      -0.33\n",
            "      4.50       0.12\n",
            "      5.00       0.57\n"
          ]
        }
      ]
    },
    {
      "cell_type": "code",
      "source": [
        "help(f)"
      ],
      "metadata": {
        "colab": {
          "base_uri": "https://localhost:8080/"
        },
        "id": "Xcb9UofZhA2H",
        "outputId": "5ef19047-a037-4658-bf68-5b446759bcbb"
      },
      "execution_count": null,
      "outputs": [
        {
          "output_type": "stream",
          "name": "stdout",
          "text": [
            "Help on function f in module __main__:\n",
            "\n",
            "f(x)\n",
            "    Return the value of the function.\n",
            "    \n",
            "    The function does not handle exceptions.\n",
            "\n"
          ]
        }
      ]
    },
    {
      "cell_type": "markdown",
      "source": [
        "# 7.2.10"
      ],
      "metadata": {
        "id": "rmG1u3-Igmcj"
      }
    },
    {
      "cell_type": "code",
      "source": [
        "\"\"\"\n",
        "Ошибки (номера строк через пробел, данная строка - №2): 28 39\n",
        "\"\"\"\n",
        "\n",
        "\n",
        "# В программе хранится словарь вступительных экзаменов вида Предмет=Баллы.\n",
        "# Узнать, проходит ли абитуриент на специальность, если нужно сдать\n",
        "# все перечисленные экзамены с не меньшим количеством баллов.\n",
        "\n",
        "необходимые_экзамены = {\n",
        "    \"Информатика\": 80,\n",
        "    \"Математика\": 85,\n",
        "    \"Русский язык\": 75\n",
        "}\n",
        "\n",
        "print(\"\"\"Для определения возможности поступления, необходима информация о Вас.\n",
        "\n",
        "Для ввода экзамена и баллов введите их через |: Химия | 40.\n",
        "Для завершения ввода нажмите Enter.\n",
        "\"\"\")\n",
        "\n",
        "сданные_экзамены = {}\n",
        "while True:\n",
        "    ввод = input(\"\").strip()\n",
        "    if ввод == \"\":\n",
        "        break\n",
        "    try:\n",
        "      экзамен, балл = [x.strip() for x in ввод.split(\"|\")]\n",
        "      сданные_экзамены[экзамен] = int(балл)\n",
        "    except ValueError:\n",
        "      print('Неккоректный ввод данных')\n",
        "\n",
        "print(\"Ваши экзамены:\")\n",
        "for i, (экзамен, балл) in enumerate(сданные_экзамены.items(), start=1):\n",
        "    print(\"{}) {} {}\".format(i, экзамен, балл))\n",
        "\n",
        "ok = False\n",
        "for необходимый_экзамен, баллы in необходимые_экзамены.items():\n",
        "    if сданные_экзамены[необходимый_экзамен] < баллы:\n",
        "        break\n",
        "else:\n",
        "    ok = True\n",
        "\n",
        "print(\"Вы можете к нам поступить!\" if ok else \"Увы...\")\n"
      ],
      "metadata": {
        "colab": {
          "base_uri": "https://localhost:8080/"
        },
        "id": "4zSZp0tZgrMC",
        "outputId": "e054d375-3af8-47de-aa79-5ab6c90ed2c4"
      },
      "execution_count": null,
      "outputs": [
        {
          "output_type": "stream",
          "name": "stdout",
          "text": [
            "Для определения возможности поступления, необходима информация о Вас.\n",
            "\n",
            "Для ввода экзамена и баллов введите их через |: Химия | 40.\n",
            "Для завершения ввода нажмите Enter.\n",
            "\n",
            "Математика | 88\n",
            "Русский язык | 80\n",
            "Информатика | 88\n",
            "\n",
            "Ваши экзамены:\n",
            "1) Математика 88\n",
            "2) Русский язык 80\n",
            "3) Информатика 88\n",
            "Вы можете к нам поступить!\n"
          ]
        }
      ]
    },
    {
      "cell_type": "markdown",
      "source": [
        "# 7.2.11"
      ],
      "metadata": {
        "id": "QP7Zb-COkWY7"
      }
    },
    {
      "cell_type": "code",
      "source": [
        "\"\"\"\n",
        "Ошибки (номера строк через пробел, данная строка - №2): !!!\n",
        "\"\"\"\n",
        "\n",
        "\n",
        "class NoMoneyToWithdrawError(Exception):\n",
        "    def __init__(self, message):\n",
        "        super().__init__(message)\n",
        "\n",
        "\n",
        "class PaymentError(Exception):\n",
        "    def __init__(self, message):\n",
        "        super().__init__(message)\n",
        "\n",
        "\n",
        "def print_accounts(accounts):\n",
        "    \"\"\"Печать аккаунтов.\"\"\"\n",
        "    print(\"Список клиентов ({}): \".format(len(accounts)))\n",
        "    for i, (name, value) in enumerate(accounts.items(), start=1):\n",
        "        print(\"{}. {} {}\".format(i, name, value))\n",
        "\n",
        "\n",
        "def transfer_money(accounts, account_from, account_to, value):\n",
        "    \"\"\"Выполнить перевод 'value' денег со счета 'account_from' на 'account_to'.\n",
        "\n",
        "    При переводе денежных средств необходимо учитывать:\n",
        "        - хватает ли денег на счету, с которого осуществляется перевод;\n",
        "        - перевод состоит из уменьшения баланса первого счета и увеличения\n",
        "          баланса второго; если хотя бы на одном этапе происходит ошибка,\n",
        "          аккаунты должны быть приведены в первоначальное состояние\n",
        "          (механизм транзакции)\n",
        "          см. https://ru.wikipedia.org/wiki/Транзакция_(информатика).\n",
        "\n",
        "    Исключения (raise):\n",
        "        - NoMoneyToWithdrawError: на счету 'account_from'\n",
        "                                  не хватает денег для перевода;\n",
        "        - PaymentError: ошибка при переводе.\n",
        "    \"\"\"\n",
        "    # Удалите комментарий и допишите код\n",
        "\n",
        "\n",
        "if __name__ == \"__main__\":\n",
        "    accounts = {\n",
        "        \"Василий Иванов\": 100,\n",
        "        \"Екатерина Белых\": 1500,\n",
        "        \"Михаил Лермонтов\": 400\n",
        "    }\n",
        "    print_accounts(accounts)\n",
        "\n",
        "    payment_info = {\n",
        "        \"account_from\": \"Екатерина Белых\",\n",
        "        \"account_to\": \"Василий Иванов\"\n",
        "    }\n",
        "\n",
        "    print(\"Перевод от {account_from} для {account_to}...\".\n",
        "          format(**payment_info))\n",
        "\n",
        "    payment_info[\"value\"] = int(input(\"Сумма = \"))\n",
        "\n",
        "    transfer_money(accounts, **payment_info)\n",
        "\n",
        "    print(\"OK!\")\n",
        "\n",
        "    print_accounts(accounts)\n",
        "\n"
      ],
      "metadata": {
        "id": "_m_XdKKukYjG"
      },
      "execution_count": null,
      "outputs": []
    }
  ]
}