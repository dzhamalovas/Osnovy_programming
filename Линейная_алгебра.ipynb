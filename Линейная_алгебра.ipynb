{
  "nbformat": 4,
  "nbformat_minor": 0,
  "metadata": {
    "colab": {
      "provenance": [],
      "collapsed_sections": [
        "iScqu4g_274m",
        "nev5xvDz-KwN"
      ],
      "authorship_tag": "ABX9TyPBvpWhUSFryPM0CZzq9Yy2",
      "include_colab_link": true
    },
    "kernelspec": {
      "name": "python3",
      "display_name": "Python 3"
    },
    "language_info": {
      "name": "python"
    }
  },
  "cells": [
    {
      "cell_type": "markdown",
      "metadata": {
        "id": "view-in-github",
        "colab_type": "text"
      },
      "source": [
        "<a href=\"https://colab.research.google.com/github/dzhamalovas/Osnovy_programming/blob/main/%D0%9B%D0%B8%D0%BD%D0%B5%D0%B9%D0%BD%D0%B0%D1%8F_%D0%B0%D0%BB%D0%B3%D0%B5%D0%B1%D1%80%D0%B0.ipynb\" target=\"_parent\"><img src=\"https://colab.research.google.com/assets/colab-badge.svg\" alt=\"Open In Colab\"/></a>"
      ]
    },
    {
      "cell_type": "markdown",
      "source": [
        "# Нахождение обратной матрицы с помощью одной формулы\n",
        "В данном случае можно изменить код и ввести свои элементы матрицы. Программа автоматически найдет матрицу, обратную к данной"
      ],
      "metadata": {
        "id": "iScqu4g_274m"
      }
    },
    {
      "cell_type": "code",
      "source": [
        "from numpy import matrix\n",
        "from numpy import linalg"
      ],
      "metadata": {
        "id": "pgL5u2hU1lwl"
      },
      "execution_count": null,
      "outputs": []
    },
    {
      "cell_type": "code",
      "source": [
        "A = matrix( [[0,2,-1],[-1,5,-3],[-1,8,-5]]) #Создание матрицы\n",
        "\n",
        "print (A.I)                             #Вывод обратной \n"
      ],
      "metadata": {
        "colab": {
          "base_uri": "https://localhost:8080/"
        },
        "id": "aLh5OWBC1fD1",
        "outputId": "f3dca594-5ac3-4e3d-a46e-1ee124096e45"
      },
      "execution_count": null,
      "outputs": [
        {
          "output_type": "stream",
          "name": "stdout",
          "text": [
            "[[ 1. -2.  1.]\n",
            " [ 2.  1. -1.]\n",
            " [ 3.  2. -2.]]\n"
          ]
        }
      ]
    },
    {
      "cell_type": "markdown",
      "source": [
        "# Нахождение матрицы, обратной данной\n",
        "В данной программе можно ввести свою матрицу любой размерности, а программа автоматически найдет обратную "
      ],
      "metadata": {
        "id": "nev5xvDz-KwN"
      }
    },
    {
      "cell_type": "code",
      "source": [
        "# Загрузка библиотеки\n",
        "import numpy as np\n",
        "\n",
        "\n",
        "row = int(input(\"Введите количество строк: \"))  \n",
        "column = int(input(\"Введите количество столбцов: \"))  \n",
        "\n",
        "matrix = []     # Создание пустой матрицы \n",
        "print(\"Построчно введите элементы матрицы: \")   # Ввод элементов матрицы\n",
        " \n",
        " \n",
        "for i in range(row):        # Внешний цикл for для записей строк\n",
        "   a =[]  \n",
        "   for j in range(column):    # Внутренний цикл for для записей столбцов\n",
        "      a.append(int(input()))  \n",
        "   matrix.append(a)  \n",
        " \n",
        "# Вывод исходной матрицы\n",
        "for i in range(row):  \n",
        "   for j in range(column):  \n",
        "      print(matrix[i][j], end = \" \")  \n",
        "   print()  \n",
        "\n",
        "\n",
        "# Нахождение и вывод обратной матрицы\n",
        "arr = np.array(matrix)    # Создание одномерного массива\n",
        "inverse_array = np.linalg.inv(arr)    # В NumPy обратные матрицы вычисляются с помощью функции numpy.linalg.inv(a), где a — исходная матрица.\n",
        "print(\"Обратная матрица: \")\n",
        "print(inverse_array)\n",
        "print()\n"
      ],
      "metadata": {
        "colab": {
          "base_uri": "https://localhost:8080/"
        },
        "id": "bwTHbXgf5siB",
        "outputId": "d09832ed-f110-4f88-bccc-f15b6662a25e"
      },
      "execution_count": null,
      "outputs": [
        {
          "output_type": "stream",
          "name": "stdout",
          "text": [
            "Введите количество строк: 2\n",
            "Введите количество столбцов: 2\n",
            "Построчно введите элементы матрицы: \n",
            "5\n",
            "6\n",
            "7\n",
            "8\n",
            "5 6 \n",
            "7 8 \n",
            "Обратная матрица: \n",
            "[[-4.   3. ]\n",
            " [ 3.5 -2.5]]\n",
            "\n"
          ]
        }
      ]
    },
    {
      "cell_type": "markdown",
      "source": [
        "# Решение матричных уравнений A*X = B\n",
        "Пользователь вводит матрицу А и В, а программа находит Х. "
      ],
      "metadata": {
        "id": "TiuMapvt623d"
      }
    },
    {
      "cell_type": "code",
      "source": [
        "# Загрузка библиотеки\n",
        "import numpy as np\n",
        "\n",
        "\n",
        "row_a = int(input(\"Введите количество строк матрицы А: \"))  \n",
        "column_a = int(input(\"Введите количество столбцов матрицы А: \"))  \n",
        "\n",
        "matrix_a = []     # Создание пустой матрицы \n",
        "print(\"Построчно введите элементы матрицы А: \")   # Ввод элементов матрицы\n",
        " \n",
        " \n",
        "for i in range(row_a):        # Внешний цикл for для записей строк\n",
        "   a =[]  \n",
        "   for j in range(column_a):    # Внутренний цикл for для записей столбцов\n",
        "      a.append(int(input()))  \n",
        "   matrix_a.append(a)  \n",
        " \n",
        "# Вывод исходной матрицы\n",
        "for i in range(row_a):  \n",
        "   for j in range(column_a):  \n",
        "      print(matrix_a[i][j], end = \" \")  \n",
        "   print()  \n",
        "\n",
        "row_b = int(input(\"Введите количество строк матрицы В: \"))  \n",
        "column_b = int(input(\"Введите количество столбцов матрицы В: \"))  \n",
        "\n",
        "matrix_b = []     # Создание пустой матрицы \n",
        "print(\"Построчно введите элементы матрицы В: \")   # Ввод элементов матрицы\n",
        " \n",
        " \n",
        "for i in range(row_b):        # Внешний цикл for для записей строк\n",
        "   a =[]  \n",
        "   for j in range(column_b):    # Внутренний цикл for для записей столбцов\n",
        "      a.append(int(input()))  \n",
        "   matrix_b.append(a)  \n",
        " \n",
        "# Вывод исходной матрицы\n",
        "for i in range(row_b):  \n",
        "   for j in range(column_b):  \n",
        "      print(matrix_b[i][j], end = \" \") \n",
        "   print()  \n",
        "\n",
        "# Нахождение и вывод обратной матрицы\n",
        "arr = np.array(matrix_a)    # Создание одномерного массива\n",
        "inverse_array = np.linalg.inv(arr)    # В NumPy обратные матрицы вычисляются с помощью функции numpy.linalg.inv(a), где a — исходная матрица.\n",
        "print(\"Обратная матрица: \")\n",
        "print(inverse_array)\n",
        "print()\n",
        "\n",
        "r = np.dot(inverse_array, matrix_b) # Функция умножения матриц\n",
        "print(\"Х:\")\n",
        "print(r)"
      ],
      "metadata": {
        "colab": {
          "base_uri": "https://localhost:8080/"
        },
        "outputId": "f7d5274e-1b42-489d-f653-5159480d3568",
        "id": "cMfWU6Zk7-Jb"
      },
      "execution_count": null,
      "outputs": [
        {
          "output_type": "stream",
          "name": "stdout",
          "text": [
            "Введите количество строк матрицы А: 3\n",
            "Введите количество столбцов матрицы А: 3\n",
            "Построчно введите элементы матрицы А: \n",
            "1\n",
            "2\n",
            "3\n",
            "0\n",
            "1\n",
            "2\n",
            "0\n",
            "0\n",
            "1\n",
            "1 2 3 \n",
            "0 1 2 \n",
            "0 0 1 \n",
            "Введите количество строк матрицы В: 3\n",
            "Введите количество столбцов матрицы В: 3\n",
            "Построчно введите элементы матрицы В: \n",
            "14\n",
            "11\n",
            "9\n",
            "8\n",
            "7\n",
            "4\n",
            "3\n",
            "2\n",
            "1\n",
            "14 11 9 \n",
            "8 7 4 \n",
            "3 2 1 \n",
            "Обратная матрица: \n",
            "[[ 1. -2.  1.]\n",
            " [ 0.  1. -2.]\n",
            " [ 0.  0.  1.]]\n",
            "\n",
            "Х:\n",
            "[[ 1. -1.  2.]\n",
            " [ 2.  3.  2.]\n",
            " [ 3.  2.  1.]]\n"
          ]
        }
      ]
    }
  ]
}