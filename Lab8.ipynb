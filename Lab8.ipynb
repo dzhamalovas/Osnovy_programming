{
  "nbformat": 4,
  "nbformat_minor": 0,
  "metadata": {
    "colab": {
      "provenance": [],
      "authorship_tag": "ABX9TyOCoiom+GWkxg4/YN6HC16V",
      "include_colab_link": true
    },
    "kernelspec": {
      "name": "python3",
      "display_name": "Python 3"
    },
    "language_info": {
      "name": "python"
    }
  },
  "cells": [
    {
      "cell_type": "markdown",
      "metadata": {
        "id": "view-in-github",
        "colab_type": "text"
      },
      "source": [
        "<a href=\"https://colab.research.google.com/github/dzhamalovas/Osnovy_programming/blob/main/Lab8.ipynb\" target=\"_parent\"><img src=\"https://colab.research.google.com/assets/colab-badge.svg\" alt=\"Open In Colab\"/></a>"
      ]
    },
    {
      "cell_type": "markdown",
      "source": [
        "# Выполнил: Джамалова С.Ш.\n",
        "# Группа: АДЭУ-221\n",
        "# E-mail: jamalovasabina@yandex.ru\n",
        "\n"
      ],
      "metadata": {
        "id": "H9dC-WmW9ilq"
      }
    },
    {
      "cell_type": "markdown",
      "source": [
        "# НЕ ЗАБУДЬ ПРО 8.2.3\n"
      ],
      "metadata": {
        "id": "Hzu66m6gI1zN"
      }
    },
    {
      "cell_type": "markdown",
      "source": [
        "# 8.2.1\n",
        "\n",
        "С клавиатуры в одной строке вводится произвольное количество вещественных чисел. Запишите их в файл, расположив каждое число на отдельной строке."
      ],
      "metadata": {
        "id": "aogyNabvdvGX"
      }
    },
    {
      "cell_type": "code",
      "source": [
        "def load_data():\n",
        "    \"\"\"Вернуть список вещественных чисел, введенных с клавиатуры.\n",
        "\n",
        "    Числа вводятся в одной строке.\"\"\"\n",
        "    a = list(map(float, input().split()))\n",
        "    return a\n",
        "\n",
        "def save_data(values, filename):\n",
        "    \"\"\"Записать данные в файл.\n",
        "\n",
        "    Параметры:\n",
        "        - values (list of float): список вещественных чисел;\n",
        "        - filename (str): имя файла.\n",
        "\n",
        "    Функция не обрабатывает исключения.\n",
        "    \"\"\"\n",
        "    # Удалите комментарий и допишите код\n",
        "    f = open(filename, 'w')\n",
        "    for i in values:\n",
        "      f.write(str(i) + \"\\n\")\n",
        "    f.close()\n",
        "\n",
        "\n",
        "\n",
        "try:\n",
        "    filename = \"8_2_1.txt\"\n",
        "    values = load_data()\n",
        "    save_data(values, filename)\n",
        "\n",
        "except ValueError as err:\n",
        "    print(\"Числа были введены с ошибкой.\")\n",
        "\n",
        "except (OSError, IOError) as err:\n",
        "    print(\"Ошибка при сохранении файла с данными:\", err)\n",
        "\n",
        "except Exception as err:\n",
        "    print(\"Произошла ошибка!\")\n",
        "    print(\"Тип:\", type(err))\n",
        "    print(\"Описание:\", err)\n"
      ],
      "metadata": {
        "colab": {
          "base_uri": "https://localhost:8080/"
        },
        "id": "mYKRWdWuCSvG",
        "outputId": "5713420f-0831-4f52-bfc3-89e34b7afa14"
      },
      "execution_count": null,
      "outputs": [
        {
          "name": "stdout",
          "output_type": "stream",
          "text": [
            "6 5 6 7 8 6\n"
          ]
        }
      ]
    },
    {
      "cell_type": "markdown",
      "source": [
        "# 8.2.2\n",
        "\n",
        "Дан файл, полученный на выходе задачи № 8.2.1:\n",
        "\n",
        "загрузите список чисел;\n",
        "\n",
        "вычислите их сумму и максимум и допишите их в файл.\n",
        "\n",
        "Выполнив программу несколько раз, убедитесь, что новые значения учитываются при подсчете."
      ],
      "metadata": {
        "id": "zyT-3qAId8eE"
      }
    },
    {
      "cell_type": "code",
      "source": [
        "def load_data(filename):\n",
        "    \"\"\"Загрузить список вещественных чисел из файла 'filename'.\n",
        "\n",
        "    Функция не обрабатывает исключения.\"\"\"\n",
        "    f = open(filename, \"r\")\n",
        "    lst = []\n",
        "    for i in f:\n",
        "      lst.append(float(i))\n",
        "    f.close()\n",
        "    return lst\n",
        "      \n",
        "\n",
        "\n",
        "def append_to_file(values, filename):\n",
        "    \"\"\"Дописать данные в файл.\n",
        "\n",
        "    Параметры:\n",
        "        - values (list of float): список вещественных чисел;\n",
        "        - filename (str): имя файла.\n",
        "    \"\"\"\n",
        "    f = open(filename, \"a\")\n",
        "    f.write(str() + \"\\n\")\n",
        "    f.write(str(sum(values)) + \"\\n\")\n",
        "    f.write(str(max(values)) + \"\\n\")\n",
        "    f.close()\n",
        "\n",
        "\n",
        "try:\n",
        "    filename = \"8_2_1.txt\"\n",
        "    values = load_data(filename)\n",
        "    \n",
        "    append_to_file(values, filename)\n",
        "\n",
        "except FileNotFoundError as err:\n",
        "    print(\"Указанный файл не существует.\")\n",
        "\n",
        "except (IOError, ValueError) as err:\n",
        "    print(\"Ошибка при чтении/сохранении файла с данными:\", err)\n",
        "\n",
        "except Exception as err:\n",
        "    print(\"Произошла ошибка!\")\n",
        "    print(\"Тип:\", type(err))\n",
        "    print(\"Описание:\", err)\n"
      ],
      "metadata": {
        "id": "vKidfes0gDxL"
      },
      "execution_count": null,
      "outputs": []
    },
    {
      "cell_type": "markdown",
      "source": [
        "#  8.2.3\n",
        "\n",
        "Измените задачу № 8.2.2 так, чтобы вне зависимости от ошибок чтения файла, программа выполняла подсчет суммы и максимума."
      ],
      "metadata": {
        "id": "4yW2WXd8eGkD"
      }
    },
    {
      "cell_type": "code",
      "source": [
        "def load_data(filename):\n",
        "    \"\"\"Загрузить список вещественных чисел из файла 'filename'.\n",
        "\n",
        "    Функция не обрабатывает исключения.\"\"\"\n",
        "    f = open(filename, \"r\")\n",
        "    lst = []\n",
        "    for i in f:\n",
        "      if i[0].isdigit():  # Метод isdigit() возвращает True или False.\n",
        "        for j in range(len(i)-1):\n",
        "          if i[j].isdigit() or i[j] == \".\": # Метод isdigit() возвращает True или False.\n",
        "            pass\n",
        "          else:\n",
        "            break\n",
        "        else:\n",
        "          lst.append(float(i))\n",
        "    f.close()\n",
        "    return lst\n",
        "          \n",
        "\n",
        "\n",
        "def append_to_file(values, filename):\n",
        "    \"\"\"Дописать данные в файл.\n",
        "\n",
        "    Параметры:\n",
        "        - values (list of float): список вещественных чисел;\n",
        "        - filename (str): имя файла.\n",
        "    \"\"\"\n",
        "    f = open(filename, \"a\")\n",
        "    f.write(str() + \"\\n\")\n",
        "    f.write(str(sum(values)) + \"\\n\")\n",
        "    f.write(str(max(values)) + \"\\n\")\n",
        "    f.close()\n",
        "\n",
        "\n",
        "try:\n",
        "    filename = \"8_2_1.txt\"\n",
        "    values = load_data(filename)\n",
        "\n",
        "    # Удалите комментарий и допишите код\n",
        "    append_to_file(values, filename)\n",
        "\n",
        "except FileNotFoundError as err:\n",
        "    print(\"Указанный файл не существует.\")\n",
        "\n",
        "except IOError as err:\n",
        "    print(\"Ошибка при чтении/сохранении файла с данными:\", err)\n",
        "\n",
        "except Exception as err:\n",
        "    print(\"Произошла ошибка!\")\n",
        "    print(\"Тип:\", type(err))\n",
        "    print(\"Описание:\", err)\n"
      ],
      "metadata": {
        "id": "6_mRiteQDG9z"
      },
      "execution_count": null,
      "outputs": []
    },
    {
      "cell_type": "code",
      "source": [
        "#Не готово\n",
        "def load_data(filename):\n",
        "    \"\"\"Загрузить список вещественных чисел из файла 'filename'.\n",
        "\n",
        "    Функция не обрабатывает исключения.\"\"\"\n",
        "    f = open(filename, \"r\")\n",
        "    lst = []\n",
        "    for i in f:\n",
        "      lst.append(float(i))\n",
        "    f.close()\n",
        "    return lst\n",
        "\n",
        "\n",
        "def append_to_file(values, filename):\n",
        "    \"\"\"Дописать данные в файл.\n",
        "\n",
        "    Параметры:\n",
        "        - values (list of float): список вещественных чисел;\n",
        "        - filename (str): имя файла.\n",
        "    \"\"\"\n",
        "    f = open(filename, \"a\")\n",
        "    f.write(str() + \"\\n\")\n",
        "    f.write(str(sum(values)) + \"\\n\")\n",
        "    f.write(str(max(values)) + \"\\n\")\n",
        "    f.close()\n",
        "\n",
        "\n",
        "\n",
        "try:\n",
        "    filename = \"8_2_3.txt\"\n",
        "    values = load_data(filename)\n",
        "\n",
        "    # Удалите комментарий и допишите код\n",
        "    append_to_file(values, filename)\n",
        "\n",
        "except FileNotFoundError as err:\n",
        "    print(\"Указанный файл не существует.\")\n",
        "\n",
        "except IOError as err:\n",
        "    print(\"Ошибка при чтении/сохранении файла с данными:\", err)\n",
        "\n",
        "except Exception as err:\n",
        "    print(\"Произошла ошибка!\")\n",
        "    print(\"Тип:\", type(err))\n",
        "    print(\"Описание:\", err)\n",
        "\n"
      ],
      "metadata": {
        "id": "ws3yuWRXeEyL"
      },
      "execution_count": null,
      "outputs": []
    },
    {
      "cell_type": "markdown",
      "source": [
        "# 8.2.4\n",
        "\n",
        "В файле записано стихотворение. Выведите его на экран, а также укажите, каких слов в нем больше: начинающихся на гласную или на согласную букву (регистр не учитывается)?"
      ],
      "metadata": {
        "id": "9YjBQNqweNLk"
      }
    },
    {
      "cell_type": "code",
      "source": [],
      "metadata": {
        "id": "rOcJEdra-Ng-"
      },
      "execution_count": null,
      "outputs": []
    },
    {
      "cell_type": "code",
      "source": [
        "\n",
        "def load_text(filename):\n",
        "    \"\"\"Загрузить стихотворение из файла 'filename'.\n",
        "\n",
        "    Функция не обрабатывает исключения.\"\"\"\n",
        "    f = open(filename, \"r\")\n",
        "    txt = \"\"\n",
        "    for i in f:\n",
        "      txt += i\n",
        "    f.close()  \n",
        "    return txt.replace(\"\\n\", \" \")\n",
        "    \n",
        "\n",
        "\n",
        "def letters_stats(text):\n",
        "    \"\"\"Вернуть словарь, содержащий количество гласных/согласных букв.\n",
        "\n",
        "    Параметры:\n",
        "        - text (str): стихотворение.\n",
        "\n",
        "    Результат:\n",
        "        - dict: словарь, содержащий количество гласных/согласных букв:\n",
        "                    {\n",
        "                        \"гласные\": 10,\n",
        "                        \"согласные\": 11\n",
        "                    }\n",
        "    \"\"\"\n",
        "    text = text.split()  # разбиение строк\n",
        "    dictionary = {\n",
        "                        \"гласные\": 0,\n",
        "                        \"согласные\": 0\n",
        "                    }\n",
        "    g = \"ауоиэыяюеё\"\n",
        "    s = \"бвгджзйклмнпрстфхцчшщ\"\n",
        "    for i in text:\n",
        "      if i[0].lower() in g:   # lower() возвращает новую строку полностью в нижнем регистре\n",
        "        dictionary[\"гласные\"] += 1\n",
        "      elif i[0].lower() in s:\n",
        "        dictionary[\"согласные\"] += 1\n",
        "    return dictionary\n",
        "\n",
        "\n",
        "\n",
        "\n",
        "\n",
        "# Добавьте в код обработку исключений\n",
        "try:\n",
        "  filename = input(\"Введите имя файла: \")\n",
        "  text = load_text(filename)\n",
        "\n",
        "  file1 = open(filename, \"r\")\n",
        "\n",
        "  while True:       \n",
        "    line = file1.readline()  # считываем строку\n",
        "    if not line:  # прерываем цикл, если строка пустая\n",
        "        break\n",
        "    \n",
        "    print(line.strip()) # выводим строку\n",
        "  file1.close\n",
        "\n",
        "\n",
        "  stats = letters_stats(text)\n",
        "  print(stats)\n",
        "\n",
        "except FileNotFoundError as err:\n",
        "    print(\"Указанный файл не существует.\")\n",
        "\n",
        "except IOError as err:\n",
        "    print(\"Ошибка при чтении/сохранении файла с данными:\", err)\n",
        "\n",
        "except Exception as err:\n",
        "    print(\"Произошла ошибка!\")\n",
        "    print(\"Тип:\", type(err))\n",
        "    print(\"Описание:\", err)\n"
      ],
      "metadata": {
        "id": "Vm3Ham0sQe54",
        "colab": {
          "base_uri": "https://localhost:8080/"
        },
        "outputId": "5fe218f0-d53e-4020-bc59-807a5f548aec"
      },
      "execution_count": null,
      "outputs": [
        {
          "output_type": "stream",
          "name": "stdout",
          "text": [
            "Введите имя файла: data.txt\n",
            "Указанный файл не существует.\n"
          ]
        }
      ]
    },
    {
      "cell_type": "markdown",
      "source": [
        "# 8.2.5\n",
        "\n",
        "Информация о занятости мест в зрительном зале кинотеатра хранится в текстовом файле:\\\n",
        "\n",
        "\n",
        "```\n",
        "0 0 1 1\n",
        "0 0 0 1 1\n",
        "1 1 0 1\n",
        "```\n",
        "\n",
        "где строка обозначает ряд, столбец - место (0 - свободно, 1 - занято).\n",
        "\n",
        "Напишите программу, которая позволит пользователю увидеть количество свободных мест, а также, введя номер ряда и места, получить информацию - свободно оно или нет.\n",
        "\n",
        "Частичное решение: № 4.2.32."
      ],
      "metadata": {
        "id": "zlQDeFxb6zDv"
      }
    },
    {
      "cell_type": "code",
      "source": [
        "class NoSuchSeatError(Exception):\n",
        "    def __init__(self, message):\n",
        "        super().__init__(message)\n",
        "\n",
        "\n",
        "def load_seats(filename):\n",
        "    \"\"\"Загрузить данные о местах в зале из файла 'filename'.\n",
        "\n",
        "    Результат: list of list вида:\n",
        "\n",
        "        [\n",
        "            [0, 0, 1],     # 1 ряд, первые 2 места свободны\n",
        "            [1, 1, 1, 1],  # 2 ряд, все места заняты\n",
        "            ...\n",
        "        ]\n",
        "\n",
        "    Функция не обрабатывает исключения.\"\"\"\n",
        "    # Удалите комментарий и допишите код\n",
        "    f = open(filename, \"r\")\n",
        "    lst = []\n",
        "    for i in f:\n",
        "      lst.append(i)\n",
        "    f.close()\n",
        "    return lst\n",
        "\n",
        "def vacant_seats(lst):\n",
        "    \"\"\"Вернуть количество свободных мест в 'seats'.\n",
        "\n",
        "    Параметры:\n",
        "        - seats (list of list): данные из load_seats().\n",
        "\n",
        "    Результат:\n",
        "        - int: количество свободных мест.\n",
        "    \"\"\"\n",
        "    count = 0\n",
        "    for row in range(len(lst)):\n",
        "        for col in range(len(lst[row])):\n",
        "            if lst[row][col] == '0':\n",
        "                count += 1\n",
        "    return count\n",
        "\n",
        "\n",
        "def is_seat_vacant(lst, col, row):\n",
        "    \"\"\"Вернуть True, если место свободно.\n",
        "\n",
        "    Параметры:\n",
        "        - seats (list of list): данные из load_seats();\n",
        "        - n_p (int): номер ряда (индексация с 0);\n",
        "        - m_p (int): номер места (индексация с 0).\n",
        "\n",
        "    Результат:\n",
        "        - True/False: место свободно/нет.\n",
        "\n",
        "    Исключения:\n",
        "        - NoSuchSeatError: если места с указанными параметрами не существует.\n",
        "    \"\"\"\n",
        "\n",
        "    if 0 <= row-1 <= len(lst) and 0 <= col-1 <= len(lst[row-1]):\n",
        "        return lst[row-1][col-1]\n",
        "    else:\n",
        "        return False\n",
        "\n",
        "try:\n",
        "# Добавьте в код обработку исключений\n",
        "  filename = input(\"Введите имя файла: \")\n",
        "  seats = load_seats(filename)\n",
        "\n",
        "  count = vacant_seats(seats)\n",
        "  print(\"Всего свободных мест: {}\".format(count))\n",
        "\n",
        "\n",
        "  n_p, m_p = [int(item) for item in\n",
        "              input(\"Введите ряд и место через пробел: \").split()]\n",
        "\n",
        "  print(\"Место свободно:\",\n",
        "        \"Да\" if is_seat_vacant(seats, n_p - 1, m_p - 1) else \"Нет\")\n",
        "\n",
        "except FileNotFoundError as err:\n",
        "    print(\"Указанный файл не существует.\")\n",
        "\n",
        "except IOError as err:\n",
        "    print(\"Ошибка при чтении/сохранении файла с данными:\", err)\n",
        "\n",
        "except Exception as err:\n",
        "    print(\"Произошла ошибка!\")\n",
        "    print(\"Тип:\", type(err))\n",
        "    print(\"Описание:\", err)\n"
      ],
      "metadata": {
        "colab": {
          "base_uri": "https://localhost:8080/"
        },
        "id": "k7MyYCc6Qx-2",
        "outputId": "07914664-57b8-4429-a9f2-c8cb41aafefe"
      },
      "execution_count": null,
      "outputs": [
        {
          "output_type": "stream",
          "name": "stdout",
          "text": [
            "Введите имя файла: 5.txt\n",
            "Всего свободных мест: 5\n",
            "Введите ряд и место через пробел: 4 1\n",
            "Место свободно: Нет\n"
          ]
        }
      ]
    },
    {
      "cell_type": "markdown",
      "source": [
        "# 8.2.6\n",
        "Дан файл с результатами голосования на выборах в виде:\n",
        "\n",
        "\n",
        "\n",
        "\n",
        "```\n",
        "1 3 14 10 2 3 -1 ...\n",
        "```\n",
        "\n",
        "\n",
        "где номер (через пробел) определяет голос за партию из списка:\n",
        "\n",
        "```\n",
        "1. Партия №1.\n",
        "2. Партия №2.\n",
        "3. Партия №3.\n",
        "4. Партия №4.\n",
        "5. Партия №5.\n",
        "-1. Испорченный бланк.\n",
        "\n",
        "```\n",
        "Если при чтении файла какое-либо значение не распознается (не является целым числом) или партии с таким номером не существует, считается, что бланк испорчен (-1).\n",
        "\n",
        "Подведите итоги выборов, выведя на экран список партий в соответствии с убыванием количества полученных голосов и их процентным соотношением:\n",
        "\n",
        "1. Партия №2 | 1111 | 58.21%\n",
        "2. Партия №4 |  999 | 38.14%\n",
        "...\n",
        "Частичное решение: № 5.2.13."
      ],
      "metadata": {
        "id": "D495yj4u7Hrh"
      }
    },
    {
      "cell_type": "code",
      "source": [
        "CORRUPTED = -1\n",
        "\n",
        "parties = {\n",
        "    1: \"Партия №1\", 2: \"Партия №2\", 3: \"Партия №3\",\n",
        "    4: \"Партия №4\", 5: \"Партия №5\", CORRUPTED: \"Испорчено\"\n",
        "}\n",
        "\n",
        "\n",
        "def load_votes(filename):\n",
        "    \"\"\"Загрузить результаты голосования.\n",
        "\n",
        "    Если отдельное значение не распознается (не является целым числом),\n",
        "    считается, что бланк испорчен (-1).\n",
        "\n",
        "    Параметры:\n",
        "        - filename (str): имя файла.\n",
        "\n",
        "    Результат:\n",
        "        - list of int\n",
        "\n",
        "    Функция не обрабатывает исключения.\"\"\"\n",
        "    f = open(filename, 'r')\n",
        "    b = f.readline().split()\n",
        "    f.close()\n",
        "    lst = []\n",
        "    for i in b:\n",
        "        if i.isdigit():\n",
        "            lst.append(int(i))\n",
        "        else:\n",
        "            lst.append(CORRUPTED)\n",
        "    return lst\n",
        "\n",
        "\n",
        "def parties_votes(parties, votes):\n",
        "    \"\"\"Вернуть информацию о голосах 'votes', отданных за партии 'parties'.\n",
        "    Испорченные бланки также присутствуют в результате.\n",
        "\n",
        "    Если среди голосов найдены партии, не присутствующие в списке\n",
        "    'parties', они записываются в группу \"Испорчено\".\n",
        "\n",
        "    Параметры:\n",
        "        - parties (dict): информация о партиях (номер голоса: название);\n",
        "        - votes (list): номера голосов.\n",
        "\n",
        "    Результат:\n",
        "        dict: название: кол-во отданных голосов.\"\"\"\n",
        "    dictionary = {}\n",
        "    for i in parties:\n",
        "        dictionary[parties[i]] = 0\n",
        "    for i in votes:\n",
        "        if i in parties:\n",
        "            dictionary[parties[i]] += 1\n",
        "        else:\n",
        "            dictionary['Испорчено'] += 1\n",
        "    return dictionary\n",
        "\n",
        "\n",
        "def print_results(votes_for_p):\n",
        "    \"\"\"Вывести результаты голосования в формате:\n",
        "\n",
        "    1. Партия №2 | 1111 | 58.21%\n",
        "    2. Партия №4 |  999 | 38.14%\n",
        "\n",
        "    Кол-во голосов и % выровнены по правому краю.\n",
        "\n",
        "    Параметры:\n",
        "        - votes_for_p (dict): результат функции parties_votes().\n",
        "    \"\"\"\n",
        "    new_sorted_dict = {}\n",
        "    a = sorted(votes_for_p.values(), reverse=True)\n",
        "    count = 0\n",
        "    for i in a:\n",
        "        for k in votes_for_p.keys():\n",
        "            if votes_for_p[k] == i:\n",
        "                new_sorted_dict[k] = votes_for_p[k]\n",
        "                if k != 'Испорчено':\n",
        "                    count += votes_for_p[k]\n",
        "                break\n",
        "    k = 1\n",
        "    for i in new_sorted_dict:\n",
        "        if i != 'Испорчено':\n",
        "            print(\n",
        "                '%3d.%10s | %4d | %5.2f' % (k, i, new_sorted_dict[i], round(100 * new_sorted_dict[i] / count, 2)) + '%')\n",
        "            k += 1\n",
        "\n",
        "\n",
        "try:\n",
        "    # Добавьте в код обработку исключений\n",
        "    filename = input('Введите название файла: ')\n",
        "    votes = load_votes(filename)\n",
        "    votes_for_p = parties_votes(parties, votes)\n",
        "    print_results(votes_for_p)\n",
        "\n",
        "except FileNotFoundError as err:\n",
        "    print(\"Указанный файл не существует.\")\n",
        "\n",
        "except IOError as err:\n",
        "    print(\"Ошибка при чтении/сохранении файла с данными:\", err)\n",
        "\n",
        "except Exception as err:\n",
        "    print(\"Произошла ошибка!\")\n",
        "    print(\"Тип:\", type(err))\n",
        "    print(\"Описание:\", err)\n"
      ],
      "metadata": {
        "id": "6YhOrE7ixBIW",
        "colab": {
          "base_uri": "https://localhost:8080/"
        },
        "outputId": "0fc68fb5-19c1-45a2-a036-daadc3b63d12"
      },
      "execution_count": null,
      "outputs": [
        {
          "output_type": "stream",
          "name": "stdout",
          "text": [
            "Введите название файла: votes.txt\n",
            "  1. Партия №3 |   27 | 28.42%\n",
            "  2. Партия №1 |   22 | 23.16%\n",
            "  3. Партия №2 |   20 | 21.05%\n",
            "  4. Партия №5 |   14 | 14.74%\n",
            "  5. Партия №4 |   12 | 12.63%\n"
          ]
        }
      ]
    },
    {
      "cell_type": "markdown",
      "source": [
        "# 8.2.7\n",
        "\n",
        "На сайте Всемирного банка (WB) в разделе Data доступна экономическая статистика о валовом внутреннем продукте (ВВП) на душу населения в долларах США 1.\n",
        "\n",
        "Используя подготовленный CSV-файл, реализуйте:\n",
        "\n",
        "загрузку данных;\n",
        "\n",
        "поиск государства по названию, а также государства с максимальным, минимальным ВВП на душу населения;\n",
        "\n",
        "сохранение данных в новый CSV-файл с фильтром по определенному условию (например, топ-10 государств по объему ВВП на душу населения)."
      ],
      "metadata": {
        "id": "ph5YAcsP7hEB"
      }
    },
    {
      "cell_type": "code",
      "source": [],
      "metadata": {
        "id": "UjUAmMFl7oX_"
      },
      "execution_count": null,
      "outputs": []
    },
    {
      "cell_type": "markdown",
      "source": [
        "# 8.2.8\n",
        "\n",
        "Федеральная служба государственной статистики приводит данные о заболеваемости населения по основным классам болезней 2.\n",
        "\n",
        "Подготовленный CSV-файл содержит данные по детям (0-14 лет) и взрослым (15 лет и старше) за период 2000-2015 гг. в отношении на 1000 человек:\n",
        "```\n",
        "Класс,2000,2001,2002,2003,2004,2005,2006,2007,2008,2009,2010,2011,2012,2013,2014,2015,Возраст\n",
        "болезни глаза и его придаточного аппарата,\"31,9\",\"32,4\",\"33,5\",33,\"34,2\",\"33,6\",\"35,7\",\"34,8\",34,\"33,5\",33,\"33,3\",\"35,2\",35,\"34,7\",\"33,3\",Взрослые\n",
        "болезни глаза и его придаточного аппарата,\"4,67\",\"4,81\",\"5,32\",\"5,13\",\"5,43\",\"5,58\",\"5,5\",\"5,68\",\"5,7\",\"5,68\",\"5,81\",\"5,87\",\"6,12\",\"6,03\",6,\"5,91\",Дети\n",
        "...\n",
        "```\n",
        "Предоставив пользователю выбрать 2 различных года для сравнения, сформируйте JSON-файл, который содержит абсолютные значения (для второго года) и изменения по количеству заболеваний в процентах (округление до 2-х знаков после запятой). Значения должны быть сгруппированы по категории Возраст и идти по убыванию."
      ],
      "metadata": {
        "id": "cs86dZ_t8EEs"
      }
    },
    {
      "cell_type": "code",
      "source": [],
      "metadata": {
        "id": "dfC1ItN_8WPf"
      },
      "execution_count": null,
      "outputs": []
    },
    {
      "cell_type": "markdown",
      "source": [
        "# 8.2.9\n",
        "На официальном сайте международной федерации хоккея на льду доступна информация об участниках прошедших чемпионатов мира (ЧМ).\n",
        "\n",
        "Используя подготовленный JSON-файл с данными игроков сборной России на ЧМ 2016 г. реализуйте:\n",
        "\n",
        "загрузку данных;\n",
        "\n",
        "сохранение в CSV-файл группировки по выбранному параметру в формате (на примере имени)\n",
        "\n"
      ],
      "metadata": {
        "id": "cRKbJQVX8aNJ"
      }
    },
    {
      "cell_type": "code",
      "source": [],
      "metadata": {
        "id": "I2n40UyH8wnJ"
      },
      "execution_count": null,
      "outputs": []
    },
    {
      "cell_type": "markdown",
      "source": [
        "# 8.2.10\n",
        "\n",
        "Дан телефонный справочник в формате JSON.\n",
        "Программа должна позволять (предоставлять функции):\n",
        "\n",
        "* загружать информацию из справочника;\n",
        "\n",
        "* выполнять поиск контактов по номеру телефона;\n",
        "\n",
        "* выполнять поиск контактов по имени;\n",
        "\n",
        "* добавлять контакт;\n",
        "\n",
        "* удалять контакты по имени;\n",
        "\n",
        "* удалять номер телефона из контактов;\n",
        "\n",
        "* сохранять справочник в файл."
      ],
      "metadata": {
        "id": "E0nHBy0L8xfW"
      }
    },
    {
      "cell_type": "code",
      "source": [],
      "metadata": {
        "id": "AYGnDlj39Ozq"
      },
      "execution_count": null,
      "outputs": []
    }
  ]
}