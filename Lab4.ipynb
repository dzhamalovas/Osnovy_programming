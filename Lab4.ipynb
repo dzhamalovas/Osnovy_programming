{
  "nbformat": 4,
  "nbformat_minor": 0,
  "metadata": {
    "colab": {
      "provenance": [],
      "collapsed_sections": [],
      "authorship_tag": "ABX9TyNt+OT55FXus7nWS+gZqwSs",
      "include_colab_link": true
    },
    "kernelspec": {
      "name": "python3",
      "display_name": "Python 3"
    },
    "language_info": {
      "name": "python"
    }
  },
  "cells": [
    {
      "cell_type": "markdown",
      "metadata": {
        "id": "view-in-github",
        "colab_type": "text"
      },
      "source": [
        "<a href=\"https://colab.research.google.com/github/dzhamalovas/Osnovy_programming/blob/main/Lab4.ipynb\" target=\"_parent\"><img src=\"https://colab.research.google.com/assets/colab-badge.svg\" alt=\"Open In Colab\"/></a>"
      ]
    },
    {
      "cell_type": "markdown",
      "source": [
        "\n",
        "# Задание task_04_02_01.\n",
        "\n",
        " Выполнил: Джамалова С.Ш.\n",
        " Группа: АДЭУ-221\n",
        " E-mail: jamalovasabina@yandex.ru\n"
      ],
      "metadata": {
        "id": "fm5WFNmj2JFe"
      }
    },
    {
      "cell_type": "markdown",
      "source": [
        "Рассчитать значение f при заданном значении вещественного числа x:![image.png](data:image/png;base64,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)\n",
        ",при x⩾0,в противном случае.\n",
        "При выводе на экран оставьте 2 знака после запятой."
      ],
      "metadata": {
        "id": "AITzulFkz3m1"
      }
    },
    {
      "cell_type": "code",
      "source": [
        "x = int(input(\"Введите число:\")) #Ввод целого числа\n",
        "\n",
        "if x >= 0: #условное ветвление\n",
        "    f = (x**(1/2))+(x**2)\n",
        "else: #иначе\n",
        "    f = 1/x\n",
        "\n",
        "print('f =', round(f, 2)) #вывод данных\n",
        "\n",
        "# --------------\n",
        "# Пример вывода:\n",
        "#\n",
        "# Введите число x: -10\n",
        "# f = -0.10\n",
        "\n",
        "# Введите число x: 0\n",
        "# f = 0.00\n",
        "\n",
        "# Введите число x: 10\n",
        "# f = 103.16"
      ],
      "metadata": {
        "colab": {
          "base_uri": "https://localhost:8080/"
        },
        "id": "VHRmfUD_eB-e",
        "outputId": "8b6595c6-8fbe-4eac-ca44-bd67a8b030b4"
      },
      "execution_count": 1,
      "outputs": [
        {
          "output_type": "stream",
          "name": "stdout",
          "text": [
            "Введите число:10\n",
            "f = 103.16\n"
          ]
        }
      ]
    },
    {
      "cell_type": "markdown",
      "source": [
        "# № 4.2.2\n",
        "\n",
        "Определите максимальное и минимальное значения из двух различных целых чисел."
      ],
      "metadata": {
        "id": "OJrjEFqC0jZg"
      }
    },
    {
      "cell_type": "code",
      "source": [
        "a1 = int(input('Введите первое число:')) #Ввод целого числа\n",
        "a2 = int(input('Введите второе число:' )) #Ввод целого числа\n",
        "\n",
        "\n",
        "print('Максимум:', max(a1, a2), ',' ' минимум:', min(a1, a2)) #вывод данных\n",
        "\n",
        "# --------------\n",
        "# Пример вывода:\n",
        "#\n",
        "# Введите первое число: 1\n",
        "# Введите второе число: 2\n",
        "# Максимум: 2, минимум: 1\n",
        "\n",
        "# Введите первое число: 5\n",
        "# Введите второе число: 5\n",
        "# Максимум: 5, минимум: 5\n",
        "\n",
        "# Введите первое число: 100\n",
        "# Введите второе число: -1\n",
        "# Максимум: 100, минимум: -1"
      ],
      "metadata": {
        "colab": {
          "base_uri": "https://localhost:8080/"
        },
        "id": "PeWIKVYFhcFz",
        "outputId": "f3bbb97f-48a3-47b5-f68e-ca382c06a92e"
      },
      "execution_count": 37,
      "outputs": [
        {
          "output_type": "stream",
          "name": "stdout",
          "text": [
            "Введите первое число:100\n",
            "Введите второе число:-1\n",
            "Максимум: 100 , минимум: -1\n"
          ]
        }
      ]
    },
    {
      "cell_type": "markdown",
      "source": [
        "# № 4.2.3\n",
        "\n",
        "Вася пытается высунуть голову в форточку размерами a и b см. Приняв условно, что его голова - круглая диаметром d см, определите, сможет ли Вася сделать это. Для прохождения головы в форточку необходим зазор в 1 см. с каждой стороны."
      ],
      "metadata": {
        "id": "eZtN_gdg0pVC"
      }
    },
    {
      "cell_type": "code",
      "source": [
        "a = int(input('Ширина форточки: ')) #Ввод целого числа\n",
        "b = int(input('Высота форточки: ')) #Ввод целого числа\n",
        "d = int(input('Диаметр головы: ')) #Ввод целого числа\n",
        "\n",
        "if ((a or b or d) < 0): #условное ветвление\n",
        "    print('Проверьте ввод') #вывод данных\n",
        "else: #иначе\n",
        "    if ((a-1>=d) and (b-1>=d)): #условное ветвление\n",
        "  \n",
        "        print('Да') #вывод данных\n",
        "    else: #иначе\n",
        "        print('Нет') #вывод данных\n",
        "\n",
        "# --------------\n",
        "# Пример вывода:\n",
        "#\n",
        "# Ширина форточки: 5\n",
        "# Высота форточки: 6\n",
        "# Диаметр головы: 6\n",
        "# Нет\n",
        "\n",
        "# Ширина форточки: 6\n",
        "# Высота форточки: 7\n",
        "# Диаметр головы: 4\n",
        "# Да"
      ],
      "metadata": {
        "colab": {
          "base_uri": "https://localhost:8080/"
        },
        "id": "_cPl-6r6jVa3",
        "outputId": "8b0d4a6e-427c-4a84-e1e3-700321bdb49e"
      },
      "execution_count": 38,
      "outputs": [
        {
          "output_type": "stream",
          "name": "stdout",
          "text": [
            "Ширина форточки: 6\n",
            "Высота форточки: 7\n",
            "Диаметр головы: 4\n",
            "Да\n"
          ]
        }
      ]
    },
    {
      "cell_type": "markdown",
      "source": [
        "# № 4.2.4\n",
        "\n",
        "Известны год и номер месяца сегодняшнего дня, а также год и номер месяца рождения человека (нумерация месяцев с 1: январь - 1 и т.д.). Определите возраст человека (число полных лет)."
      ],
      "metadata": {
        "id": "89FxzlQV0tE2"
      }
    },
    {
      "cell_type": "code",
      "source": [
        "year_today = int(input('Введите текущий год: ')) #Ввод целого числа\n",
        "month_today = int(input('Введите текущий месяц: ')) #Ввод целого числа\n",
        "year = int(input('Введите год рождения: ')) #Ввод целого числа \n",
        "month = int(input('Введите месяц рождения: ')) #Ввод целого числа\n",
        "\n",
        "age = year_today-year #Формула (нынешний год-год рождения)\n",
        "\n",
        "if month>month_today: #условие для вычисления полных лет\n",
        "  print('Число полных лет:', age-1)\n",
        "else:\n",
        " print('Число полных лет:', age)\n",
        "\n",
        "# --------------\n",
        "# Пример вывода:\n",
        "#\n",
        "# Введите текущий год: 2017\n",
        "# Введите текущий месяц: 5\n",
        "# Введите год рождения: 2000\n",
        "# Введите месяц рождения: 1\n",
        "# Число полных лет:  17\n",
        "#\n",
        "# Введите текущий год: 2015\n",
        "# Введите текущий месяц: 6\n",
        "# Введите год рождения: 2010\n",
        "# Введите месяц рождения: 8\n",
        "# Число полных лет:  4\n",
        "#\n",
        "# Введите текущий год: 2020\n",
        "# Введите текущий месяц: 5\n",
        "# Введите год рождения: 2000\n",
        "# Введите месяц рождения: 5\n",
        "# Число полных лет:  20"
      ],
      "metadata": {
        "colab": {
          "base_uri": "https://localhost:8080/"
        },
        "id": "_cD3Itx7oFZs",
        "outputId": "7ed06139-f867-4c2d-84da-3bb90b36b5f3"
      },
      "execution_count": 67,
      "outputs": [
        {
          "output_type": "stream",
          "name": "stdout",
          "text": [
            "Введите текущий год: 2020\n",
            "Введите текущий месяц: 5\n",
            "Введите год рождения: 2000\n",
            "Введите месяц рождения: 5\n",
            "Число полных лет: 20\n"
          ]
        }
      ]
    },
    {
      "cell_type": "markdown",
      "source": [
        "# № 4.2.5\n",
        "\n",
        "Дана точка с целыми ненулевыми координатами (x;y). Определить номер четверти координатной плоскости, которой она принадлежит."
      ],
      "metadata": {
        "id": "eRgILGp10yZ_"
      }
    },
    {
      "cell_type": "code",
      "source": [
        "x = int(input('Введите координату х: ')) #Ввод целого числа\n",
        "y = int(input('Введите координату у: ')) #Ввод целого числа\n",
        "\n",
        "if (x>0 and y>0):\n",
        "    print('1-я четверть')\n",
        "elif (x<0 and y>0):\n",
        "    print('2-я четверть')\n",
        "elif (x<0 and y<0):\n",
        "    print('3-я четверть')\n",
        "elif (x>0 and y<0):\n",
        "    print('4-я четверть') #условия по расположению чисел на координатной плоскости\n",
        "\n",
        "# --------------\n",
        "# Пример вывода:\n",
        "#\n",
        "# Введите координату x: 5\n",
        "# Введите координату y: 7\n",
        "# 1-я четверть\n"
      ],
      "metadata": {
        "colab": {
          "base_uri": "https://localhost:8080/"
        },
        "id": "wqUpkRZ0ylCO",
        "outputId": "5396dec2-3ba5-4504-ff24-4685155e6cdf"
      },
      "execution_count": 34,
      "outputs": [
        {
          "output_type": "stream",
          "name": "stdout",
          "text": [
            "Введите координату х: 5\n",
            "Введите координату у: 7\n",
            "1-я четверть\n"
          ]
        }
      ]
    },
    {
      "cell_type": "markdown",
      "source": [
        "# № 4.2.6\n",
        "\n",
        "Даны вещественные числа a, b, c (a≠0).\n",
        "\n",
        "Решите уравнение ax2+bx+c=0. При выводе значений оставьте 1 знак после запятой."
      ],
      "metadata": {
        "id": "rUvXbcQP0yit"
      }
    },
    {
      "cell_type": "code",
      "source": [
        "a = float(input('a= ')) #Ввод вещественного числа\n",
        "b = float(input('b= ')) #Ввод вещественного числа\n",
        "c = float(input('c= ')) #Ввод вещественного числа\n",
        "d = ((b**2)-(4*a*c)) #формула дискриминанта\n",
        "if a==0:\n",
        "  print('Решений нет')\n",
        "\n",
        "elif d<0:\n",
        "    print('Решений нет')\n",
        "elif d==0:\n",
        "    x1 = ((-1*b)/2*a)\n",
        "    print('x = ', x1)\n",
        "elif d>0:\n",
        "    x2 = (((-1*b)+(d**(1/2)))/2*a)\n",
        "    x1 = (((-1*b)-(d**(1/2)))/2*a)\n",
        "    print('x1 =',x1,',' ' x2 =',x2)\n",
        "\n",
        "# --------------\n",
        "# Пример вывода:\n",
        "#\n",
        "# a = 1\n",
        "# b = 2\n",
        "# c = 3\n",
        "# Решений нет\n",
        "#\n",
        "# a = 1\n",
        "# b = 2\n",
        "# c = 1\n",
        "# x = -1.0\n",
        "#\n",
        "# a = 1\n",
        "# b = 3\n",
        "# c = -4\n",
        "# x1 = -4.0, x2 = 1.0"
      ],
      "metadata": {
        "colab": {
          "base_uri": "https://localhost:8080/"
        },
        "id": "4l2S5xFm1I0q",
        "outputId": "16bf1b37-da50-4c9a-9953-8cd00fe4494f"
      },
      "execution_count": 81,
      "outputs": [
        {
          "output_type": "stream",
          "name": "stdout",
          "text": [
            "a= 1\n",
            "b= 2\n",
            "c= 3\n",
            "Решений нет\n"
          ]
        }
      ]
    },
    {
      "cell_type": "markdown",
      "source": [
        "# 4.2.2. Цикл с условием\n",
        "# № 4.2.7\n",
        "\n",
        "Дана непустая последовательность целых чисел, оканчивающаяся нулем. Найти сумму и количество введенных чисел."
      ],
      "metadata": {
        "id": "AB67IDPI0ylt"
      }
    },
    {
      "cell_type": "code",
      "source": [
        "nums_sum = 0  \n",
        "nums_count = 0 \n",
        "\n",
        "x = int(input('Введите 1-e число: '))  #Ввод целого числа\n",
        "a=[] #пустой список\n",
        "\n",
        "while x!= 0: #цикл с условием\n",
        "    nums_count = nums_count+1 #количество увеличивается на 1\n",
        "    a.append(x) #добавление в список\n",
        "    nums_sum = nums_sum+x #сумма\n",
        "    x = int(input('Введите следующеe число: ')) #ввод целого числа\n",
        "    \n",
        "print('Сумма = ', nums_sum)\n",
        "print('Количество = ',nums_count)\n",
        "\n",
        "\n",
        "# --------------\n",
        "# Пример вывода:\n",
        "#\n",
        "# Введите 1-е число: 1\n",
        "# Введите 2-е число: 2\n",
        "# Введите 3-е число: 3\n",
        "# Введите 4-е число: 4\n",
        "# Введите 5-е число: 0\n",
        "# Сумма = 10\n",
        "# Количество = 4\n",
        "#\n",
        "# Введите 1-е число: 0\n",
        "# Сумма = 0\n",
        "# Количество = 0"
      ],
      "metadata": {
        "colab": {
          "base_uri": "https://localhost:8080/"
        },
        "outputId": "e57b44fd-0aca-4436-cd73-b7dbc4a10c3d",
        "id": "c47J1oEn4L6z"
      },
      "execution_count": null,
      "outputs": [
        {
          "output_type": "stream",
          "name": "stdout",
          "text": [
            "Введите 1-e число: 1\n",
            "Введите следующеe число: 2\n",
            "Введите следующеe число: 3\n",
            "Введите следующеe число: 4\n",
            "Введите следующеe число: 0\n",
            "Сумма =  10\n",
            "Количество =  4\n"
          ]
        }
      ]
    },
    {
      "cell_type": "markdown",
      "source": [
        "# № 4.2.8\n",
        "\n",
        "Дано число n. Из чисел 0,5,10,15,20,25,... напечатать те, которые не превышают n."
      ],
      "metadata": {
        "id": "wH8xygMm0yr8"
      }
    },
    {
      "cell_type": "code",
      "source": [
        "n = int(input('n = '))  #Ввод целого числа\n",
        "\n",
        "a = 0\n",
        "b = list() #Список\n",
        "b.append(a) # Добавление элемента в конец списка\n",
        "\n",
        "while a<=n:\n",
        "    a = a+5\n",
        "    b.append(a) #Добавляет элемент в конец списка\n",
        "\n",
        "b.pop() #Pop вычитает последний элемент из списка\n",
        "print(b)\n",
        "\n",
        "\n",
        "# --------------\n",
        "# Пример вывода:\n",
        "#\n",
        "# n = 0\n",
        "# 0\n",
        "#\n",
        "# n = 10\n",
        "# 0\n",
        "# 5\n",
        "# 10\n",
        "#\n",
        "# n = 12\n",
        "# 0\n",
        "# 5\n",
        "# 10"
      ],
      "metadata": {
        "colab": {
          "base_uri": "https://localhost:8080/"
        },
        "id": "zIsvVbTYyYAq",
        "outputId": "4da18eb0-da02-4b44-ff8f-3b6ef7dd5599"
      },
      "execution_count": null,
      "outputs": [
        {
          "output_type": "stream",
          "name": "stdout",
          "text": [
            "n = 12\n",
            "[0, 5, 10]\n"
          ]
        }
      ]
    },
    {
      "cell_type": "markdown",
      "source": [
        "# № 4.2.9\n",
        "\n",
        "Дано вещественное число a. Найдите наименьшее натуральное n, для которого верно\n",
        "![image.png](data:image/png;base64,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)"
      ],
      "metadata": {
        "id": "JJJpujIS0yy1"
      }
    },
    {
      "cell_type": "code",
      "source": [
        "a = float(input('a= '))  #Ввод вещественного числа\n",
        "\n",
        "n = 1 \n",
        "x_sum = list() #список\n",
        "x_sum.append(n) #добавление элемента \n",
        "\n",
        "while sum(x_sum)<=a: #цикл с условием\n",
        "    n = n+1\n",
        "    g = 1/n\n",
        "    x_sum.append(g) #добавление элемента\n",
        "\n",
        "print('n=', n)\n",
        "\n",
        "\n",
        "# --------------\n",
        "# Пример вывода:\n",
        "#\n",
        "# a = 1.5\n",
        "# n = 3\n",
        "#\n",
        "# a = 2\n",
        "# n = 4"
      ],
      "metadata": {
        "colab": {
          "base_uri": "https://localhost:8080/"
        },
        "id": "q4yzJDtVzoQe",
        "outputId": "5ee6ede9-083e-4c13-ad19-b8ee30276adf"
      },
      "execution_count": null,
      "outputs": [
        {
          "output_type": "stream",
          "name": "stdout",
          "text": [
            "a= 2\n",
            "n= 4\n"
          ]
        }
      ]
    },
    {
      "cell_type": "markdown",
      "source": [
        "# № 4.2.10\n",
        "\n",
        "Дано натуральное число. Определите сумму и количество его цифр."
      ],
      "metadata": {
        "id": "RKMofkpR0y2B"
      }
    },
    {
      "cell_type": "code",
      "source": [
        "n = list(map(int, input('n = '))) #Ввод данных\n",
        "#map использует каждый элемент введенного числа.\n",
        "#list - список\n",
        "\n",
        "\n",
        "\n",
        "n_sum = sum(n) #сумма всех элементов\n",
        "n_count = len(n) #количество элементов\n",
        "\n",
        "print('Сумма =', n_sum)\n",
        "print('Количество =', n_count)\n",
        "\n",
        "\n",
        "# --------------\n",
        "# Пример вывода:\n",
        "#\n",
        "# n = 12345\n",
        "# Сумма = 15\n",
        "# Количество = 5"
      ],
      "metadata": {
        "colab": {
          "base_uri": "https://localhost:8080/"
        },
        "id": "Pw4LVsI011SG",
        "outputId": "e0d121a2-767d-4fbf-9ce6-e978a43dd7bd"
      },
      "execution_count": null,
      "outputs": [
        {
          "output_type": "stream",
          "name": "stdout",
          "text": [
            "n = 12345\n",
            "Сумма = 15\n",
            "Количество = 5\n"
          ]
        }
      ]
    },
    {
      "cell_type": "markdown",
      "source": [
        "#№ 4.2.11\n",
        "\n",
        "Вывести в строку 10 первых натуральных чисел, оканчивающихся на цифру k, кратных числу s и находящихся в интервале, левая граница которого равна start."
      ],
      "metadata": {
        "id": "1mIlVUTt0y5H"
      }
    },
    {
      "cell_type": "code",
      "source": [
        "start = int(input('start = '))  #Ввод целого числа\n",
        "k = int(input('k = ')) #Ввод целого числа \n",
        "s = int(input('s = ')) #Ввод целого числа\n",
        "\n",
        "need = list() #список\n",
        "\n",
        "while start%s!=0: #цикл с условием \n",
        "    start += 1\n",
        "else:\n",
        "    for x in range(99):\n",
        "        start += 1\n",
        "        while start%s!=0:\n",
        "            start += 1\n",
        "        else:\n",
        "            if start%10==k:\n",
        "                need.append(start) #добавление элемента\n",
        "\n",
        "print(need[:10])\n",
        "\n",
        "# --------------\n",
        "# Пример вывода:\n",
        "#\n",
        "# start = 100\n",
        "# k = 7\n",
        "# s = 9\n",
        "# 117 207 297 387 477 567 657 747 837 927"
      ],
      "metadata": {
        "colab": {
          "base_uri": "https://localhost:8080/"
        },
        "id": "Z5xnr8GLA9uR",
        "outputId": "940f2e26-82ae-49d3-e61d-925b4f8058cb"
      },
      "execution_count": null,
      "outputs": [
        {
          "output_type": "stream",
          "name": "stdout",
          "text": [
            "start = 100\n",
            "k = 7\n",
            "s = 9\n",
            "[117, 207, 297, 387, 477, 567, 657, 747, 837, 927]\n"
          ]
        }
      ]
    },
    {
      "cell_type": "markdown",
      "source": [
        "# № 4.2.12\n",
        "\n",
        "Даны целые числа a и b (a может быть больше b). Напечатайте:\n",
        "\n",
        "числа от минимального до максимального в строчку (разделяя пробелом);\n",
        "\n",
        "числа от максимального до минимального «столбиком»."
      ],
      "metadata": {
        "id": "5wOssk3F0TP4"
      }
    },
    {
      "cell_type": "code",
      "source": [
        "a = int(input('a = ')) #Ввод целого числа\n",
        "b = int(input('b = ')) #Ввод целого числа\n",
        "\n",
        "с = list(range(a,b+1,1)) #список\n",
        "print(с)\n",
        "\n",
        "\n",
        "с.reverse() #переворот списка\n",
        "print(\"\\n\".join(map(str, с))) #str - строковые данные\n",
        "\n",
        "# --------------\n",
        "# Пример вывода:\n",
        "#\n",
        "# a = 1\n",
        "# b = 5\n",
        "# 1 2 3 4 5\n",
        "# 5\n",
        "# 4\n",
        "# 3\n",
        "# 2\n",
        "# 1"
      ],
      "metadata": {
        "colab": {
          "base_uri": "https://localhost:8080/"
        },
        "id": "_AHIKLGtB9Kh",
        "outputId": "9b6a30ca-4237-4d6c-d88b-cda46b5f4ed6"
      },
      "execution_count": null,
      "outputs": [
        {
          "output_type": "stream",
          "name": "stdout",
          "text": [
            "a = 1\n",
            "b = 5\n",
            "[1, 2, 3, 4, 5]\n",
            "5\n",
            "4\n",
            "3\n",
            "2\n",
            "1\n"
          ]
        }
      ]
    },
    {
      "cell_type": "markdown",
      "source": [
        "# № 4.2.13\n",
        "\n",
        "Для введенных с клавиатуры положительных целых чисел a и b (a≤b) определите:\n",
        "\n",
        "сумму всех целых чисел от a до b;\n",
        "\n",
        "произведение всех целых чисел от a до b;\n",
        "\n",
        "среднее арифметическое всех целых чисел от a до b;\n",
        "\n",
        "среднее геометрическое нечетных чисел от a до b.\n",
        "\n",
        "Отрезок поиска включает сами числа a и b. При выводе вещественных результатов оставьте два знака после запятой."
      ],
      "metadata": {
        "id": "W13fsYIf0ggf"
      }
    },
    {
      "cell_type": "code",
      "source": [
        "a = int(input('a = ')) #Ввод целого числа\n",
        "b = int(input('b = ')) #Ввод целого числа\n",
        "\n",
        "ls = list(range(a,b+1,1))  #список\n",
        "n_sum = sum(ls) #сумма\n",
        "\n",
        "n_mult = 1\n",
        "a = 1\n",
        "while a<len(ls):\n",
        "    n_mult = n_mult*ls[a]\n",
        "    a += 1\n",
        "\n",
        "n_avg = n_sum/len(ls)\n",
        "b = 1\n",
        "c = 0\n",
        "n_avg_geom = 1\n",
        "while b<len(ls):\n",
        "    if ls[b]%2==1:\n",
        "        n_avg_geom = n_avg_geom*ls[b]\n",
        "        b += 2\n",
        "        c += 1\n",
        "    else:\n",
        "        b += 1\n",
        "\n",
        "c += 1\n",
        "n_avg_geom = round((n_avg_geom**(1/c)),2)\n",
        "print('Сумма =', n_sum)\n",
        "print('Произведение =', n_mult)\n",
        "print('Среднее арифметическое =', n_avg)\n",
        "print('Среднее геометрическое нечетных чисел =', n_avg_geom)\n",
        "\n",
        "# --------------\n",
        "# Пример вывода:\n",
        "#\n",
        "# a = 1\n",
        "# b = 5\n",
        "# Сумма = 15\n",
        "# Произведение = 120\n",
        "# Среднее арифметическое = 3.00\n",
        "# Среднее геометрическое нечетных чисел = 2.47"
      ],
      "metadata": {
        "colab": {
          "base_uri": "https://localhost:8080/"
        },
        "id": "d0g7jCvACjkq",
        "outputId": "849490a2-11a9-44ef-bb39-8b1d215b0c66"
      },
      "execution_count": null,
      "outputs": [
        {
          "output_type": "stream",
          "name": "stdout",
          "text": [
            "a = 1\n",
            "b = 5\n",
            "Сумма = 15\n",
            "Произведение = 120\n",
            "Среднее арифметическое = 3.0\n",
            "Среднее геометрическое нечетных чисел = 2.47\n"
          ]
        }
      ]
    },
    {
      "cell_type": "markdown",
      "source": [
        "# № 4.2.14\n",
        "\n",
        "Начав тренировки, лыжник в первый день пробежал s км. (s>0, вещественное число). Каждый следующий день он увеличивал пробег на p % (0<p≤100, вещественное число) от пробега предыдущего дня. Определите:\n",
        "\n",
        "пробег лыжника за второй, третий, …, десятый день тренировок;\n",
        "\n",
        "какой суммарный путь он пробежал за первые 10 дней тренировок.\n",
        "\n",
        "При выводе вещественных результатов оставьте один знак после запятой"
      ],
      "metadata": {
        "id": "Iu100Urb0oIC"
      }
    },
    {
      "cell_type": "code",
      "source": [
        "s = float(input('Пробег за 1-й день (км.) = '))  #Ввод вещественного числа\n",
        "p = float(input('На сколько увеличивает пробег (%) = '))  #Ввод вещественного числа\n",
        "\n",
        "tot = list() #список\n",
        "tot.append(s) #добавление элемента\n",
        "\n",
        "g = 0 \n",
        "f = 1\n",
        "for x in range(9): #повторение цикла 9 раз \n",
        "    s = ((s*(p/100))+s)+0.0001\n",
        "    f += 1\n",
        "    tot.append(s)\n",
        "    print('Пробег за',f,'день:', round(s,1), 'км.')\n",
        "\n",
        "total = sum(tot)\n",
        "print(\"Суммарный пробег:\", round(total,1), 'км.')\n",
        "\n",
        "# --------------\n",
        "# Пример вывода:\n",
        "#\n",
        "# Пробег за 1-й день (км.) = 5\n",
        "# На сколько увеличивает пробег (%) = 10\n",
        "# Пробег за 2-й день: 5.5 км.\n",
        "# Пробег за 3-й день: 6.1 км.\n",
        "# Пробег за 4-й день: 6.7 км.\n",
        "# Пробег за 5-й день: 7.3 км.\n",
        "# Пробег за 6-й день: 8.1 км.\n",
        "# Пробег за 7-й день: 8.9 км.\n",
        "# Пробег за 8-й день: 9.7 км.\n",
        "# Пробег за 9-й день: 10.7 км.\n",
        "# Пробег за 10-й день: 11.8 км.\n",
        "# Суммарный пробег: 79.7 км."
      ],
      "metadata": {
        "colab": {
          "base_uri": "https://localhost:8080/"
        },
        "id": "Hln0e-HmDimR",
        "outputId": "248221e6-7a83-4849-8699-7e51fbba6910"
      },
      "execution_count": null,
      "outputs": [
        {
          "output_type": "stream",
          "name": "stdout",
          "text": [
            "Пробег за 1-й день (км.) = 5\n",
            "На сколько увеличивает пробег (%) = 10\n",
            "Пробег за 2 день: 5.5 км.\n",
            "Пробег за 3 день: 6.1 км.\n",
            "Пробег за 4 день: 6.7 км.\n",
            "Пробег за 5 день: 7.3 км.\n",
            "Пробег за 6 день: 8.1 км.\n",
            "Пробег за 7 день: 8.9 км.\n",
            "Пробег за 8 день: 9.7 км.\n",
            "Пробег за 9 день: 10.7 км.\n",
            "Пробег за 10 день: 11.8 км.\n",
            "Суммарный пробег: 79.7 км.\n"
          ]
        }
      ]
    },
    {
      "cell_type": "markdown",
      "source": [
        "# № 4.2.15\n",
        "\n",
        "Известна масса каждого предмета в кг., загружаемого в грузовик. Определить, возможна ли перевозка груза, если грузоподъемность грузовика равна p кг."
      ],
      "metadata": {
        "id": "Ge8XG93D0vFs"
      }
    },
    {
      "cell_type": "code",
      "source": [
        "p = int(input('Грузоподъемность грузовика (кг.) = ')) #Ввод целого числа\n",
        "n = int(input('Количество предметов (шт.) = ')) #Ввод целого числа\n",
        "\n",
        "amount = list() #список\n",
        "for x in range(n): #для х в рамках диапазона n\n",
        "    f = int(input('Масса предмета (кг.) = ')) #ввод целого числа\n",
        "    amount.append(f) #добавление элемента \n",
        "\n",
        "if sum(amount)>=p: #проверка данных через if-else\n",
        "    print('Нет')\n",
        "else:\n",
        "    print('Да')\n",
        "\n",
        "# --------------\n",
        "# Пример вывода:\n",
        "#\n",
        "# Грузоподъемность грузовика (кг.) = 10\n",
        "# Количество предметов = 2\n",
        "# Масса 1-го предмета (кг.) = 3\n",
        "# Масса 2-го предмета (кг.) = 3\n",
        "# Да"
      ],
      "metadata": {
        "colab": {
          "base_uri": "https://localhost:8080/"
        },
        "id": "ipFk33SNF1MS",
        "outputId": "61e6d89e-5794-49d5-c8c1-b843442c7365"
      },
      "execution_count": null,
      "outputs": [
        {
          "output_type": "stream",
          "name": "stdout",
          "text": [
            "Грузоподъемность грузовика (кг.) = 10\n",
            "Количество предметов (шт.) = 2\n",
            "Масса предмета (кг.) = 3\n",
            "Масса предмета (кг.) = 3\n",
            "Да\n"
          ]
        }
      ]
    },
    {
      "cell_type": "markdown",
      "source": [
        "# № 4.2.16\n",
        "\n",
        "В области несколько районов. Заданы площади, засеваемые пшеницей (га.), и средняя урожайность (ц/га) в каждом районе.\n",
        "\n",
        "Определите количество пшеницы, собранное по области. При выводе вещественных результатов оставьте один знак после запятой."
      ],
      "metadata": {
        "id": "cLCER2FG004O"
      }
    },
    {
      "cell_type": "code",
      "source": [
        "n = int(input('Количество районов = ')) #Ввод целого числа\n",
        "\n",
        "total = list() #список\n",
        "for x in range(n):\n",
        "    s = float(input('Площадь района (га) = ')) #ввод вещественного числа\n",
        "    p = float(input('Урожайность в районе (ц/га.) = ')) #ввод вещественного числа\n",
        "    g = p*s\n",
        "    total.append(g) #добавление элемента\n",
        "    \n",
        "\n",
        "print('Собрано пшеницы:' , round(sum(total), 1), 'ц.')\n",
        "\n",
        "# --------------\n",
        "# Пример вывода:\n",
        "#\n",
        "# Количество районов = 3\n",
        "# Площадь 1-го района (га) = 4\n",
        "# Урожайность в 1-м районе (ц/га.) = 2\n",
        "# Площадь 2-го района (га) = 7\n",
        "# Урожайность в 2-м районе (ц/га.) = 3\n",
        "# Площадь 3-го района (га) = 9\n",
        "# Урожайность в 3-м районе (ц/га.) = 4\n",
        "# Собрано пшеницы: 65.0 ц."
      ],
      "metadata": {
        "id": "GhJfAchrGpb_",
        "colab": {
          "base_uri": "https://localhost:8080/"
        },
        "outputId": "7104288c-fb51-4b79-93c3-ffb80d1d7b12"
      },
      "execution_count": 47,
      "outputs": [
        {
          "output_type": "stream",
          "name": "stdout",
          "text": [
            "Количество районов = 3\n",
            "Площадь района (га) = 4\n",
            "Урожайность в районе (ц/га.) = 2\n",
            "Площадь района (га) = 7\n",
            "Урожайность в районе (ц/га.) = 3\n",
            "Площадь района (га) = 9\n",
            "Урожайность в районе (ц/га.) = 4\n",
            "Собрано пшеницы: 0 ц.\n"
          ]
        }
      ]
    },
    {
      "cell_type": "markdown",
      "source": [
        "# № 4.2.17\n",
        "\n",
        "Решите задачу № 4.2.7, организовав бесконечный цикл, который бы прерывался при выполнении условия, используя оператор break.\n",
        "\n",
        "Совет"
      ],
      "metadata": {
        "id": "tZw7kPfT0415"
      }
    },
    {
      "cell_type": "code",
      "source": [
        "nums_sum = 0  \n",
        "nums_count = 0  \n",
        "\n",
        "x = int(input('Введите 1-е число: ')) #Ввод целого числа\n",
        "a = list() #список\n",
        "\n",
        "while x!=0: #цикл с условием\n",
        "    nums_count = nums_count+1\n",
        "    a.append(x)\n",
        "    nums_sum = nums_sum+x\n",
        "    x = int(input('Введите новое число: '))\n",
        "    if x==0:\n",
        "        break\n",
        "\n",
        "print('Сумма = ', nums_sum)\n",
        "print('Количество = ',nums_count)\n",
        "\n",
        "# --------------\n",
        "# Пример вывода:\n",
        "#\n",
        "# Введите 1-е число: 1\n",
        "# Введите 2-е число: 2\n",
        "# Введите 3-е число: 3\n",
        "# Введите 4-е число: 4\n",
        "# Введите 5-е число: 0\n",
        "# Сумма = 10\n",
        "# Количество = 4\n",
        "#\n",
        "# Введите 1-е число: 0\n",
        "# Сумма = 0\n",
        "# Количество = 0"
      ],
      "metadata": {
        "colab": {
          "base_uri": "https://localhost:8080/"
        },
        "id": "G6X7wboh2gla",
        "outputId": "0041c3df-cc14-4eb8-a3fa-6576502a4c34"
      },
      "execution_count": 23,
      "outputs": [
        {
          "output_type": "stream",
          "name": "stdout",
          "text": [
            "Введите 1-е число: 1\n",
            "Введите новое число: 2\n",
            "Введите новое число: 3\n",
            "Введите новое число: 4\n",
            "Введите новое число: 0\n",
            "Сумма =  10\n",
            "Количество =  4\n"
          ]
        }
      ]
    },
    {
      "cell_type": "markdown",
      "source": [
        "# № 4.2.18\n",
        "\n",
        "Предложение, введенное с клавиатуры, содержит слова из гласных и согласных букв кириллицы (регистр может быть различный), а также пробелы.\n",
        "\n",
        "Определите количество гласных и согласных букв в предложении. Для пропуска пробелов используйте оператор continue."
      ],
      "metadata": {
        "id": "QBfkZecK083C"
      }
    },
    {
      "cell_type": "code",
      "source": [
        "sentence = input('Введите предложение: ')  #Ввод с клавиатуры\n",
        "\n",
        "gl = 0  # Кол-во гласных\n",
        "sogl = 0  # Кол-во согласных\n",
        "\n",
        "for x in sentence: # Дополнительное условие на гласные\n",
        "    sth = x.lower()\n",
        "    if sth == \"а\" or sth == \"я\" or sth == \"у\" or\\\n",
        "       sth == \"ю\" or sth == \"о\" or sth == \"е\" or\\\n",
        "       sth == \"ё\" or sth == \"э\" or sth == \"и\" or\\\n",
        "       sth == \"ы\":\n",
        "        gl += 1\n",
        "    else: \n",
        "        sogl += 1\n",
        "\n",
        "s1 = \"гласных -\"\n",
        "s2 = \"согласных -\"\n",
        "print('Кол-во букв в предложении: ', \"{} {}, {} {}\".format(s1, gl, s2, sogl)) #вывод данных\n",
        "\n",
        "# --------------\n",
        "# Пример вывода:\n",
        "#\n",
        "# Введите предложение: Программирование\n",
        "# Кол-во букв в предложении: гласных - 7, согласных - 9"
      ],
      "metadata": {
        "colab": {
          "base_uri": "https://localhost:8080/"
        },
        "id": "7N8ZggKf_pht",
        "outputId": "5818ad6a-f40c-4f3d-d5ef-af1c6fc545f1"
      },
      "execution_count": 28,
      "outputs": [
        {
          "output_type": "stream",
          "name": "stdout",
          "text": [
            "Введите предложение: Программирование\n",
            "Кол-во букв в предложении:  гласных - 7, согласных - 9\n"
          ]
        }
      ]
    },
    {
      "cell_type": "markdown",
      "source": [
        "# № 4.2.19\n",
        "\n",
        "Выведите на экран (в строку) все целые числа от a до b, кратные некоторому числу c."
      ],
      "metadata": {
        "id": "advSIGfv1BJR"
      }
    },
    {
      "cell_type": "code",
      "source": [
        "a = int(input(\"а = \")) #Ввод целого числа\n",
        "b = int(input(\"b = \")) #Ввод целого числа\n",
        "c = int(input(\"с = \")) #Ввод целого числа\n",
        "\n",
        "g = list() #список\n",
        "\n",
        "for y in range(a,b+1):\n",
        "    if y%c==0:\n",
        "        g.append(y)\n",
        "\n",
        "print(g)\n",
        "\n",
        "\n",
        "# --------------\n",
        "# Пример вывода:\n",
        "#\n",
        "# a = 1\n",
        "# b = 10\n",
        "# c = 2\n",
        "# 2 4 6 8 10"
      ],
      "metadata": {
        "colab": {
          "base_uri": "https://localhost:8080/"
        },
        "id": "Tf_S8a68AFOV",
        "outputId": "db239031-007f-4ff4-b2d8-4b88e7c8f7f6"
      },
      "execution_count": null,
      "outputs": [
        {
          "output_type": "stream",
          "name": "stdout",
          "text": [
            "а = 1\n",
            "b = 10\n",
            "с = 2\n",
            "[2, 4, 6, 8, 10]\n"
          ]
        }
      ]
    },
    {
      "cell_type": "markdown",
      "source": [
        "# № 4.2.20\n",
        "\n",
        "Выведите на экран (в строку) все трехзначные натуральные числа, сумма цифр которых равна целому числу n (0<n≤27)."
      ],
      "metadata": {
        "id": "nAXlcvms1JH2"
      }
    },
    {
      "cell_type": "code",
      "source": [
        "n = int(input('n = ')) #Ввод целого числа\n",
        "\n",
        "g = list()\n",
        "\n",
        "for x in range(100, 1000): # 3-значные числа \n",
        "    a = sum(int(e) for e in str(x))\n",
        "    if a==n:\n",
        "        g.append(x)\n",
        "\n",
        "print(g)\n",
        "\n",
        "# --------------\n",
        "# Пример вывода:\n",
        "#\n",
        "# n = 3\n",
        "# 102 111 120 201 210 300"
      ],
      "metadata": {
        "colab": {
          "base_uri": "https://localhost:8080/"
        },
        "id": "GJWiV9INIKiG",
        "outputId": "8f3407a3-d7ad-4bbd-ec68-cb9428ef37c6"
      },
      "execution_count": null,
      "outputs": [
        {
          "output_type": "stream",
          "name": "stdout",
          "text": [
            "n = 3\n",
            "[102, 111, 120, 201, 210, 300]\n"
          ]
        }
      ]
    },
    {
      "cell_type": "markdown",
      "source": [
        "# № 4.2.21\n",
        "\n",
        "Известно количество учеников в классе и их рост (см.); рост мальчиков условно задан отрицательными числами. Определите средний рост мальчиков и средний рост девочек."
      ],
      "metadata": {
        "id": "MQ3EthAv1RUk"
      }
    },
    {
      "cell_type": "code",
      "source": [
        "n = int(input('n = ')) #Ввод целого числа\n",
        "\n",
        "a = 0\n",
        "b = 0\n",
        "c = 0\n",
        "f = 1\n",
        "\n",
        "for x in range(n):\n",
        "    rost = int(input('Pост ученика: ')) #ввод целого числа\n",
        "    f += 1\n",
        "    if rost<0:\n",
        "        a += 1\n",
        "        b -= rost\n",
        "    else:\n",
        "        c += rost\n",
        "\n",
        "r_sr_m = b / a #средний рост мальчиков\n",
        "r_sr_d = c / (n - a) #средний рост девочек\n",
        "\n",
        "print(\"Средний рост мальчиков: {:.1f}\".format(r_sr_m))\n",
        "print(\"Средний рост девочек: {:.1f}\".format(r_sr_d))\n",
        "\n",
        "# --------------\n",
        "# Пример вывода:\n",
        "#\n",
        "# n = 5\n",
        "# Рост 1-го ученика = 150\n",
        "# Рост 2-го ученика = -150\n",
        "# Рост 3-го ученика = 160\n",
        "# Рост 4-го ученика = 170\n",
        "# Рост 5-го ученика = 180\n",
        "# Средний рост мальчиков: 150.0\n",
        "# Средний рост девочек: 165.0"
      ],
      "metadata": {
        "colab": {
          "base_uri": "https://localhost:8080/"
        },
        "id": "f2fI3hNCJlmO",
        "outputId": "9f088110-3cdc-4cf1-e478-57a311340b16"
      },
      "execution_count": 49,
      "outputs": [
        {
          "output_type": "stream",
          "name": "stdout",
          "text": [
            "n = 5\n",
            "Pост ученика: 150\n",
            "Pост ученика: -150\n",
            "Pост ученика: 160\n",
            "Pост ученика: 170\n",
            "Pост ученика: 180\n",
            "Средний рост мальчиков: 150.0\n",
            "Средний рост девочек: 165.0\n"
          ]
        }
      ]
    },
    {
      "cell_type": "markdown",
      "source": [
        "# № 4.2.22\n",
        "\n",
        "Даны n вещественных чисел. Определите максимальное и минимальное из них.\n",
        "\n",
        "При выводе вещественных результатов оставьте два знака после запятой."
      ],
      "metadata": {
        "id": "jrlHsmVI1X1J"
      }
    },
    {
      "cell_type": "code",
      "source": [
        "\n",
        "n = int(input('n = ')) #Ввод целого числа\n",
        "\n",
        "g = list() \n",
        "\n",
        "for x in range(n):\n",
        "    a = float(input('Число = '))\n",
        "    g.append(a)\n",
        "\n",
        "f = max(g) #максимальное число\n",
        "k = min(g) #минимальное число\n",
        "\n",
        "print('Максимум:', f)\n",
        "print('Минимум: ', k)\n",
        "\n",
        "# --------------\n",
        "# Пример вывода:\n",
        "#\n",
        "# n = 4\n",
        "# 1-е число = 6.2\n",
        "# 2-е число = 3.8\n",
        "# 3-е число = 1.1\n",
        "# 4-е число = 9.66\n",
        "# Максимум: 9.66\n",
        "# Минимум: 1.10"
      ],
      "metadata": {
        "colab": {
          "base_uri": "https://localhost:8080/"
        },
        "id": "R288ZU0yL43n",
        "outputId": "dfa89ecf-5db1-40fb-8147-bd797f272012"
      },
      "execution_count": 16,
      "outputs": [
        {
          "output_type": "stream",
          "name": "stdout",
          "text": [
            "n = 4\n",
            "Число = 6.2\n",
            "Число = 3.8\n",
            "Число = 1.1\n",
            "Число = 9.66\n",
            "Максимум: 9.66\n",
            "Минимум:  1.1\n"
          ]
        }
      ]
    },
    {
      "cell_type": "markdown",
      "source": [
        "# № 4.2.23\n",
        "\n",
        "Дано натуральное число n. Определите, является ли оно членом последовательности Фибоначчи "
      ],
      "metadata": {
        "id": "2l_C9Cbx1etz"
      }
    },
    {
      "cell_type": "code",
      "source": [
        "n = int(input('n = ')) #Ввод целого числа\n",
        "\n",
        "f1 = 1\n",
        "f2 = 1\n",
        "k = 1\n",
        "\n",
        "while n!=f1: #цикл с условием\n",
        "    if n<f1:\n",
        "        print('Не является')\n",
        "        break\n",
        "    else:\n",
        "        k = f1\n",
        "        f1 += f2\n",
        "        f2 = k\n",
        "else:\n",
        "    print('Является')\n",
        "\n",
        "# --------------\n",
        "# Пример вывода:\n",
        "#\n",
        "# n = 7\n",
        "# Не является\n",
        "#\n",
        "# n = 8\n",
        "# Является"
      ],
      "metadata": {
        "colab": {
          "base_uri": "https://localhost:8080/"
        },
        "id": "0cHJSrpDMYUu",
        "outputId": "c103cc5f-ac69-4cbe-e1a2-b945e7f58bab"
      },
      "execution_count": null,
      "outputs": [
        {
          "output_type": "stream",
          "name": "stdout",
          "text": [
            "n = 8\n",
            "Является\n"
          ]
        }
      ]
    },
    {
      "cell_type": "markdown",
      "source": [
        "# № 4.2.24\n",
        "\n",
        "Дано n вещественных чисел. Определите, является ли последовательность упорядоченной по возрастанию. В случае отрицательного ответа выведите порядковый номер числа, нарушающего такую упорядоченность."
      ],
      "metadata": {
        "id": "Q08odQ2D1las"
      }
    },
    {
      "cell_type": "code",
      "source": [
        "n = int(input('n = ')) #Ввод целого числа\n",
        "\n",
        "g = list() #список\n",
        "a = float(input('1-е число = ')) #ввод вещественного числа\n",
        "g.append(a)\n",
        "k = 1\n",
        "\n",
        "for x in range(n-1):\n",
        "    k += 1\n",
        "    a = float(input('Следующее число = '))\n",
        "    if a<=g[-1]:\n",
        "        print(k)\n",
        "        break\n",
        "\n",
        "\n",
        "if a>g[-1]:\n",
        "    print('Является')\n",
        "\n",
        "# --------------\n",
        "# Пример вывода:\n",
        "#\n",
        "# n = 4\n",
        "# 1-е число = 2\n",
        "# 2-е число = 4.6\n",
        "# 3-е число = 6\n",
        "# 4-е число = 8.3\n",
        "# Является\n",
        "#\n",
        "# n = 3\n",
        "# 1-е число = 3\n",
        "# 2-е число = 3\n",
        "# 2"
      ],
      "metadata": {
        "colab": {
          "base_uri": "https://localhost:8080/"
        },
        "id": "2NUhtBzcOgQe",
        "outputId": "9615fbb6-d0b7-43a4-8598-8383de974912"
      },
      "execution_count": 10,
      "outputs": [
        {
          "output_type": "stream",
          "name": "stdout",
          "text": [
            "n = 3\n",
            "1-е число = 3\n",
            "Следующее число = 3\n",
            "2\n"
          ]
        }
      ]
    },
    {
      "cell_type": "markdown",
      "source": [
        "# № 4.2.25\n",
        "\n",
        "Выведите на экран таблицу умножения на n (2<n≤9) в виде:\n",
        "\n",
        "1 х 1 = 1     1 х 2 = 2      ...   1 х n = ...\n",
        "2 х 1 = 2     2 х 2 = 4      ...   2 х n = ...\n",
        "...           ...            ...   ...\n",
        "n х 1 = ...   n х 2 = ...    ...   n х n = ..."
      ],
      "metadata": {
        "id": "Zp303Wh31rc-"
      }
    },
    {
      "cell_type": "code",
      "source": [
        "n = int(input('n = ')) #Ввод целого числа\n",
        "\n",
        "for x in range(1, n+1):\n",
        "    for y in range(1, n+1):\n",
        "        print(f'{x} * {y} = {x * y}\\t', end=' ')\n",
        "    print('')\n",
        "# --------------\n",
        "# Пример вывода:\n",
        "#\n",
        "# n = 5\n",
        "# 1 * 1 =  1  1 * 2 =  2  1 * 3 =  3  1 * 4 =  4  1 * 5 =  5\n",
        "# 2 * 1 =  2  2 * 2 =  4  2 * 3 =  6  2 * 4 =  8  2 * 5 = 10\n",
        "# 3 * 1 =  3  3 * 2 =  6  3 * 3 =  9  3 * 4 = 12  3 * 5 = 15\n",
        "# 4 * 1 =  4  4 * 2 =  8  4 * 3 = 12  4 * 4 = 16  4 * 5 = 20\n",
        "# 5 * 1 =  5  5 * 2 = 10  5 * 3 = 15  5 * 4 = 20  5 * 5 = 25"
      ],
      "metadata": {
        "colab": {
          "base_uri": "https://localhost:8080/"
        },
        "id": "NRwMWnLVRyg6",
        "outputId": "1194a761-b7f2-48b8-d340-09f678c0f1c4"
      },
      "execution_count": 46,
      "outputs": [
        {
          "output_type": "stream",
          "name": "stdout",
          "text": [
            "n = 5\n",
            "1 * 1 = 1\t 1 * 2 = 2\t 1 * 3 = 3\t 1 * 4 = 4\t 1 * 5 = 5\t \n",
            "2 * 1 = 2\t 2 * 2 = 4\t 2 * 3 = 6\t 2 * 4 = 8\t 2 * 5 = 10\t \n",
            "3 * 1 = 3\t 3 * 2 = 6\t 3 * 3 = 9\t 3 * 4 = 12\t 3 * 5 = 15\t \n",
            "4 * 1 = 4\t 4 * 2 = 8\t 4 * 3 = 12\t 4 * 4 = 16\t 4 * 5 = 20\t \n",
            "5 * 1 = 5\t 5 * 2 = 10\t 5 * 3 = 15\t 5 * 4 = 20\t 5 * 5 = 25\t \n"
          ]
        }
      ]
    },
    {
      "cell_type": "markdown",
      "source": [
        "# № 4.2.26\n",
        "\n",
        "Выведите графическое изображения делимости чисел от 1 до n (значение n вводится с клавиатуры) - в каждой строке напечатайте очередное число и столько символов *, сколько делителей у этого числа.\n",
        "\n",
        "Например, если n=4, на экране должно быть напечатано:\n",
        "\n",
        "1 *\n",
        "2 **\n",
        "3 **\n",
        "4 ***"
      ],
      "metadata": {
        "id": "BbDDwhga2Esj"
      }
    },
    {
      "cell_type": "code",
      "source": [
        "n = int(input('Введите число: ')) #Ввод целого числа\n",
        "\n",
        "for f in range(2,n+1):\n",
        "    a = 2\n",
        "    g = 2\n",
        "    while (g*g<=f): #цикл с условием\n",
        "        if f%g==0:\n",
        "            a += 1\n",
        "            b = f//g\n",
        "            if b != g:\n",
        "                a += 1\n",
        "        g += 1\n",
        "        \n",
        "    print(f,a*\"*\")\n",
        "\n",
        "\n",
        "# --------------\n",
        "# Пример вывода:\n",
        "#\n",
        "# n = 10\n",
        "# 1 *\n",
        "# 2 **\n",
        "# 3 **\n",
        "# 4 ***\n",
        "# 5 **\n",
        "# 6 ****\n",
        "# 7 **\n",
        "# 8 ****\n",
        "# 9 ***\n",
        "# 10 ****"
      ],
      "metadata": {
        "colab": {
          "base_uri": "https://localhost:8080/"
        },
        "id": "vh8f35nQVtb1",
        "outputId": "b1474913-cbfd-4831-a8fe-6a99235cee90"
      },
      "execution_count": 44,
      "outputs": [
        {
          "output_type": "stream",
          "name": "stdout",
          "text": [
            "Введите число: 10\n",
            "2 **\n",
            "3 **\n",
            "4 ***\n",
            "5 **\n",
            "6 ****\n",
            "7 **\n",
            "8 ****\n",
            "9 ***\n",
            "10 ****\n"
          ]
        }
      ]
    },
    {
      "cell_type": "markdown",
      "source": [
        "# № 4.2.27\n",
        "\n",
        "Выведите на экран (в строку) n первых простых чисел."
      ],
      "metadata": {
        "id": "ZzO6G6TP2JDb"
      }
    },
    {
      "cell_type": "code",
      "source": [
        "n = int(input('Введите целое число: '))*3 #Ввод целого числа\n",
        "a = 1\n",
        "g = list() #список\n",
        "\n",
        "for x in range(1, n+1):\n",
        "    c = 0\n",
        "    for y in range(1, a+1):\n",
        "        b = a % y\n",
        "        if b == 0:\n",
        "            c = c + 1\n",
        "    if c == 2:\n",
        "        g.append(a)\n",
        "    else:\n",
        "        x = x - 1\n",
        "    a = a + 1\n",
        "\n",
        "print(g)\n",
        "\n",
        "# --------------\n",
        "# Пример вывода:\n",
        "#\n",
        "# n = 10\n",
        "# 2 3 5 7 11 13 17 19 23 29"
      ],
      "metadata": {
        "colab": {
          "base_uri": "https://localhost:8080/"
        },
        "id": "b1lkJkgnV4Pp",
        "outputId": "43e27add-4585-460d-8231-3dbda2608310"
      },
      "execution_count": 8,
      "outputs": [
        {
          "output_type": "stream",
          "name": "stdout",
          "text": [
            "Введите целое число: 10\n",
            "[2, 3, 5, 7, 11, 13, 17, 19, 23, 29]\n"
          ]
        }
      ]
    },
    {
      "cell_type": "markdown",
      "source": [
        "# № 4.2.28\n",
        "\n",
        "Составьте программу для нахождения всех натуральных решений уравнения x2+y2+z2=k2, где x,y,z∈[1,30], а k вводится с клавиатуры."
      ],
      "metadata": {
        "id": "xxEE1x9A2OcX"
      }
    },
    {
      "cell_type": "code",
      "source": [
        "k = int(input('k = '))  #Ввод целого числа\n",
        "\n",
        "for x in range(1, 31):\n",
        "    for y in range(1, 31):\n",
        "        for z in range(1, 31):\n",
        "            if x*x+y*y+z*z==k*k:\n",
        "                print(f'x = {x}, y = {y}, z = {z}')\n",
        "\n",
        "# --------------\n",
        "# Пример вывода:\n",
        "#\n",
        "# k = 30\n",
        "# x =  4, y = 10, z = 28\n",
        "# x =  4, y = 20, z = 22\n",
        "# x =  4, y = 22, z = 20\n",
        "# x =  4, y = 28, z = 10\n",
        "# x = 10, y =  4, z = 28\n",
        "# x = 10, y = 20, z = 20\n",
        "# x = 10, y = 28, z =  4\n",
        "# x = 20, y =  4, z = 22\n",
        "# x = 20, y = 10, z = 20\n",
        "# x = 20, y = 20, z = 10\n",
        "# x = 20, y = 22, z =  4\n",
        "# x = 22, y =  4, z = 20\n",
        "# x = 22, y = 20, z =  4\n",
        "# x = 28, y =  4, z = 10\n",
        "# x = 28, y = 10, z =  4"
      ],
      "metadata": {
        "colab": {
          "base_uri": "https://localhost:8080/"
        },
        "id": "yAHXBO_XrsGH",
        "outputId": "d2c6c7de-b117-46bb-fbcb-c44864c82933"
      },
      "execution_count": 41,
      "outputs": [
        {
          "output_type": "stream",
          "name": "stdout",
          "text": [
            "k = 30\n",
            "x = 4, y = 10, z = 28\n",
            "x = 4, y = 20, z = 22\n",
            "x = 4, y = 22, z = 20\n",
            "x = 4, y = 28, z = 10\n",
            "x = 10, y = 4, z = 28\n",
            "x = 10, y = 20, z = 20\n",
            "x = 10, y = 28, z = 4\n",
            "x = 20, y = 4, z = 22\n",
            "x = 20, y = 10, z = 20\n",
            "x = 20, y = 20, z = 10\n",
            "x = 20, y = 22, z = 4\n",
            "x = 22, y = 4, z = 20\n",
            "x = 22, y = 20, z = 4\n",
            "x = 28, y = 4, z = 10\n",
            "x = 28, y = 10, z = 4\n"
          ]
        }
      ]
    },
    {
      "cell_type": "markdown",
      "source": [
        "# № 4.2.29\n",
        "\n",
        "Дан список из n вещественных чисел, введенных с клавиатуры (среди чисел есть по крайней мере одно положительное и отрицательное число).\n",
        "\n",
        "Сформируйте из него 2 списка:\n",
        "\n",
        "положительных чисел, используя списковые включения;\n",
        "\n",
        "отрицательных чисел, не используя списковые включения.\n",
        "\n",
        "Выведите на экран:\n",
        "\n",
        "исходный список;\n",
        "\n",
        "получившиеся списки;\n",
        "\n",
        "среднее арифметическое первого списка и среднее геометрическое второго списка.\n",
        "\n",
        "При выводе вещественных результатов оставьте два знака после запятой."
      ],
      "metadata": {
        "id": "HdrfNvM22SVW"
      }
    },
    {
      "cell_type": "markdown",
      "source": [
        "# № 4.2.30\n",
        "\n",
        "Дан список целых чисел, введенных с клавиатуры (длина неизвестна). Ответьте на вопросы:\n",
        "\n",
        "являются ли все элементы положительными числами?\n",
        "\n",
        "есть ли хотя бы один нулевой элемент в списке?\n",
        "\n",
        "являются ли все элементы четными числами?\n",
        "\n",
        "есть ли хотя бы один нечетный элемент в списке?\n",
        "\n",
        "Каждый из пунктов выполните дважды: используя стандартный проход в цикле (например, через алгоритм с флажком), и используя функции any() и/или all()."
      ],
      "metadata": {
        "id": "69TWKvJB2YPY"
      }
    },
    {
      "cell_type": "code",
      "source": [
        "nums = [int(item) for item in input().split()]\n",
        "\n",
        "# 1. Все положительные\n",
        "for item in nums:\n",
        "    if item <= 0:\n",
        "        all_pos_1 = False\n",
        "        break\n",
        "else:\n",
        "    all_pos_1 = True\n",
        "\n",
        "all_pos_2 = all([item > 0 for item in nums])\n",
        "\n",
        "# 2. Хотя бы 1 нулевой элемент\n",
        "for item in nums:\n",
        "    if item == 0:\n",
        "        any_zero_1 = True\n",
        "        break\n",
        "else:\n",
        "    any_zero_1 = False\n",
        "\n",
        "any_zero_2 = any([item == 0 for item in nums])\n",
        "\n",
        "# 3. Все четные\n",
        "for item in nums:\n",
        "    if item % 2 == 1:\n",
        "        all_even_1 = False\n",
        "        break\n",
        "else:\n",
        "    all_even_1 = True\n",
        "\n",
        "all_even_2 = all([item %2 == 0 for item in nums])\n",
        "\n",
        "# 4. Хотя бы 1 нечетный элемент\n",
        "for item in nums:\n",
        "    if item % 2 == 1:\n",
        "        any_odd_1 = True\n",
        "        break\n",
        "else:\n",
        "    any_odd_1 = False\n",
        "\n",
        "any_odd_2 = any([item % 2 == 1 for item in nums])\n",
        "\n",
        "\n",
        "print(\"Все положительные:\", all_pos_1, all_pos_2)\n",
        "print(\"Хотя бы 1 нулевой элемент:\", any_zero_1, any_zero_2)\n",
        "print(\"Все четные:\", all_even_1, all_even_2)\n",
        "print(\"Хотя бы 1 нечетный элемент:\", any_odd_1, any_odd_2)\n",
        "\n",
        "# --------------\n",
        "# Пример вывода:\n",
        "#\n",
        "# -1 1 100 0\n",
        "# Все положительные: False False\n",
        "# Хотя бы 1 нулевой элемент: True True\n",
        "# Все четные: False False\n",
        "# Хотя бы 1 нечетный элемент: True True"
      ],
      "metadata": {
        "colab": {
          "base_uri": "https://localhost:8080/"
        },
        "id": "qypj7Yi7E4JW",
        "outputId": "c4081e19-78b1-4364-d60e-eea41cefa34f"
      },
      "execution_count": 6,
      "outputs": [
        {
          "output_type": "stream",
          "name": "stdout",
          "text": [
            "-1 1 100 0\n",
            "Все положительные: False False\n",
            "Хотя бы 1 нулевой элемент: True True\n",
            "Все четные: False False\n",
            "Хотя бы 1 нечетный элемент: True True\n"
          ]
        }
      ]
    },
    {
      "cell_type": "markdown",
      "source": [
        "# № 4.2.31\n",
        "\n",
        "Дано предложение. Выведите его на экран, удалив из него все слова, содержащие произвольную букву (вводится с клавиатуры)."
      ],
      "metadata": {
        "id": "f28EGinb2c-E"
      }
    },
    {
      "cell_type": "code",
      "source": [
        "\n",
        "# --------------\n",
        "# Пример вывода:\n",
        "#\n",
        "# Введите предложение = МАМА мыла РаМу\n",
        "# Введите букву = р\n",
        "# МАМА мыла\n",
        "\n"
      ],
      "metadata": {
        "id": "M1U_Hw-K0LZ8"
      },
      "execution_count": 64,
      "outputs": []
    },
    {
      "cell_type": "markdown",
      "source": [
        "# № 4.2.32\n",
        "\n",
        "В зрительном зале кинотеатра n рядов, количество мест в которых может меняться. Разработчик смоделировал занятость мест как двумерный массив (список из списков), где каждый вложенный список содержит информацию о проданных местах в соответствующем ряду (1 - занято, 0 - свободно):\n",
        "\n",
        "[\n",
        "    [0, 0, 1],     # 1 ряд, первые 2 места свободны\n",
        "    [1, 1, 1, 1],  # 2 ряд, все места заняты\n",
        "    ...\n",
        "]\n",
        "Напишите программу, которая позволит пользователю увидеть количество свободных мест, а также, введя номер ряда и места, получить информацию - свободно оно или нет. Данные о занятости мест вводятся с клавиатуры (набор из 0 и 1 для каждого ряда)."
      ],
      "metadata": {
        "id": "8RQVjwiY2g5G"
      }
    },
    {
      "cell_type": "markdown",
      "source": [
        "# № 4.2.33\n",
        "\n",
        "Вводится список из n сотрудников в формате:\n",
        "\n",
        "Фамилия Имя Отчество Пол Стаж\n",
        "где:\n",
        "\n",
        "все значения разделены пробелом и сами не содержат пробелов;\n",
        "\n",
        "Пол: \"М\" или \"Ж\";\n",
        "\n",
        "Стаж: количество полных лет, отработанных в компании.\n",
        "\n",
        "Сохраните введенные задания в виде списка списков:\n",
        "\n",
        "[\n",
        "    [\"Петрова\", \"Анна\", \"Алексеевна\", \"Ж\", 5],\n",
        "    [\"Семенов\", \"Николай\", \"Михайлович\", \"М\", 2],\n",
        "    ...\n",
        "]\n",
        "Далее:\n",
        "\n",
        "определите самого «молодого» и самого «старого» сотрудника, используя функцию sorted();\n",
        "\n",
        "сформируйте 2 отельных списка: мужчин и женщин и ответьте, в каком из списков больше имен, начинающихся на букву k (вводится с клавиатуры)."
      ],
      "metadata": {
        "id": "n0aSLiDl2mnw"
      }
    },
    {
      "cell_type": "code",
      "source": [
        "\n",
        "# Используйте данный список для собственных тестов,\n",
        "# чтобы избежать постоянного ввода значений\n",
        "# Перед автоматической проверкой удалите/закомментируйте его\n",
        "# и используйте ввод с клавиатуры\n",
        "e = [\n",
        "    ['Петрова Анна Алексеевна Ж', 5],\n",
        "    ['Семёнов Николай Михайлович М', 2],\n",
        "    ['Михайлов Игорь Васильевич М', 3]\n",
        "            ]\n",
        "\n",
        "n = int(input('Количество сотрудников = '))\n",
        "\n",
        "\n",
        "# --------------\n",
        "# Пример вывода:\n",
        "#\n",
        "# Количество сотрудников = 3\n",
        "# Петрова Анна Алексеевна Ж 5\n",
        "# Семенов Николай Михайлович М 2\n",
        "# Михайлов Игорь Васильевич М 3\n",
        "# Cамый \"молодой\": Семенов Николай Михайлович\n",
        "# Cамый \"старый\": Петрова Анна Алексеевна\n",
        "# Введите букву начала имени = а\n",
        "# У женщин таких имен больше\n",
        "#\n",
        "# Количество сотрудников = 3\n",
        "# Петрова Анна Алексеевна Ж 5\n",
        "# Семенов Николай Михайлович М 2\n",
        "# Михайлов Игорь Васильевич М 3\n",
        "# Cамый \"молодой\": Семенов Николай Михайлович\n",
        "# Cамый \"старый\": Петрова Анна Алексеевна\n",
        "# Введите букву начала имени = и\n",
        "# У мужчин таких имен больше\n",
        "#\n",
        "# Количество сотрудников = 3 \n",
        "# Петрова Анна Алексеевна Ж 5\n",
        "# Семенов Николай Михайлович М 2\n",
        "# Михайлов Алексей Васильевич М 3\n",
        "# Cамый \"молодой\": Семенов Николай Михайлович\n",
        "# Cамый \"старый\": Петрова Анна Алексеевна\n",
        "# Введите букву начала имени = а\n",
        "# Таких имен поровну у мужчин и женщин\n"
      ],
      "metadata": {
        "colab": {
          "base_uri": "https://localhost:8080/"
        },
        "id": "srcKRaOcES11",
        "outputId": "7fc26f5f-fd11-4ebf-cefe-d843e81f9e3b"
      },
      "execution_count": 65,
      "outputs": [
        {
          "name": "stdout",
          "output_type": "stream",
          "text": [
            "Количество сотрудников = 3\n"
          ]
        }
      ]
    },
    {
      "cell_type": "markdown",
      "source": [
        "# № 4.2.34\n",
        "\n",
        "Вводится список из n годовых вкладов, предлагаемых банками, в формате:\n",
        "\n",
        "Банк Сумма Процент\n",
        "где:\n",
        "\n",
        "все значения разделены пробелом и сами не содержат пробелов;\n",
        "\n",
        "наименование банка уникально;\n",
        "\n",
        "Сумма: сумма для открытия вклада в руб. (целое число, >0);\n",
        "\n",
        "Процент: годовой процент по вкладу (вещественное число, (0,100]).\n",
        "\n",
        "Сохраните введенные данные в виде списка словарей:\n",
        "\n",
        "[\n",
        "    {\"name\": \"Банк 1\", \"initial_sum\": 50000, \"rate\": 5.2},\n",
        "    ...\n",
        "]\n",
        "Далее определите (гарантируется, что искомый банк - один):\n",
        "\n",
        "самый доступный банк (с наименьшей первоначальной суммой);\n",
        "\n",
        "самый выгодный банк, принимая, что за год прибыль = сумма * процент / 100.\n",
        "\n",
        "При выводе финансовых значений оставьте два знака после запятой."
      ],
      "metadata": {
        "id": "oLGrIk-f2v8-"
      }
    }
  ]
}