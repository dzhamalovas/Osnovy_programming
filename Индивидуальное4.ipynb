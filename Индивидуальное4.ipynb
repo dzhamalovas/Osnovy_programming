{
  "nbformat": 4,
  "nbformat_minor": 0,
  "metadata": {
    "colab": {
      "provenance": [],
      "authorship_tag": "ABX9TyPnq2xP7D7qBKxmEbbCE5W5",
      "include_colab_link": true
    },
    "kernelspec": {
      "name": "python3",
      "display_name": "Python 3"
    },
    "language_info": {
      "name": "python"
    }
  },
  "cells": [
    {
      "cell_type": "markdown",
      "metadata": {
        "id": "view-in-github",
        "colab_type": "text"
      },
      "source": [
        "<a href=\"https://colab.research.google.com/github/dzhamalovas/Osnovy_programming/blob/main/%D0%98%D0%BD%D0%B4%D0%B8%D0%B2%D0%B8%D0%B4%D1%83%D0%B0%D0%BB%D1%8C%D0%BD%D0%BE%D0%B54.ipynb\" target=\"_parent\"><img src=\"https://colab.research.google.com/assets/colab-badge.svg\" alt=\"Open In Colab\"/></a>"
      ]
    },
    {
      "cell_type": "markdown",
      "source": [
        "# Задача 1"
      ],
      "metadata": {
        "id": "blweItqYDvkQ"
      }
    },
    {
      "cell_type": "code",
      "source": [
        "import time\n",
        "import sys\n",
        "start_time = time.time()\n",
        "\n",
        "def recursive_sum(*args):\n",
        "  if not args:\n",
        "    return 0\n",
        "  else:\n",
        "    return args[0] + recursive_sum(*args[1:])\n",
        "\n",
        "result = recursive_sum(1, 2, 3, 4)\n",
        "end_time = time.time()\n",
        "total_time = end_time - start_time\n",
        "memory_usage =  sys.getsizeof(recursive_sum) + sys.getsizeof(start_time) + sys.getsizeof(end_time)\n",
        "print(\"Результат:\", result)\n",
        "print(\"Время выполнения программы: \", total_time, \"секунд\")\n",
        "print(\"Использовано памяти:\", memory_usage, \"байт\")"
      ],
      "metadata": {
        "colab": {
          "base_uri": "https://localhost:8080/"
        },
        "outputId": "eba53ca9-ae7e-48d0-9375-6b53c8a585d4",
        "id": "8kMYUqECPYTY"
      },
      "execution_count": 8,
      "outputs": [
        {
          "output_type": "stream",
          "name": "stdout",
          "text": [
            "Результат: 10\n",
            "Время выполнения программы:  0.00011444091796875 секунд\n",
            "Использовано памяти: 192 байт\n"
          ]
        }
      ]
    },
    {
      "cell_type": "code",
      "source": [
        "def recursive_sum(*args):\n",
        "  if not args:\n",
        "    return 0\n",
        "  else:\n",
        "    return args[0] + recursive_sum(*args[1:])\n",
        "recursive_sum(1, 2, 3, 4)"
      ],
      "metadata": {
        "colab": {
          "base_uri": "https://localhost:8080/"
        },
        "id": "YPVkfLOaEI50",
        "outputId": "ca18a0b3-e498-4b03-94cf-0f8c788f5921"
      },
      "execution_count": 9,
      "outputs": [
        {
          "output_type": "execute_result",
          "data": {
            "text/plain": [
              "10"
            ]
          },
          "metadata": {},
          "execution_count": 9
        }
      ]
    },
    {
      "cell_type": "markdown",
      "source": [
        "## Пример 1"
      ],
      "metadata": {
        "id": "fNGQvzymEWUl"
      }
    },
    {
      "cell_type": "code",
      "source": [
        "import time\n",
        "import sys\n",
        "start_time = time.time()\n",
        "\n",
        "def recursive_sum(*args):\n",
        "  if not args:\n",
        "    return 0\n",
        "  else:\n",
        "    return args[0] + recursive_sum(*args[1:])\n",
        "\n",
        "result = recursive_sum(1, 2, 3)\n",
        "end_time = time.time()\n",
        "total_time = end_time - start_time\n",
        "\n",
        "memory_usage = sys.getsizeof(recursive_sum) + sys.getsizeof(start_time) + sys.getsizeof(end_time)\n",
        "print(\"Результат:\", result)\n",
        "print(\"Время выполнения программы: \", total_time, \"секунд\")\n",
        "print(\"Использовано памяти:\", memory_usage, \"байт\")"
      ],
      "metadata": {
        "colab": {
          "base_uri": "https://localhost:8080/"
        },
        "outputId": "d7b45d6e-5127-42c6-ef86-3efc7f4acebd",
        "id": "2HY1FBrqH7i8"
      },
      "execution_count": 12,
      "outputs": [
        {
          "output_type": "stream",
          "name": "stdout",
          "text": [
            "Результат: 6\n",
            "Время выполнения программы:  0.00015544891357421875 секунд\n",
            "Использовано памяти: 192 байт\n"
          ]
        }
      ]
    },
    {
      "cell_type": "markdown",
      "source": [
        "## Пример 2"
      ],
      "metadata": {
        "id": "XrioryqaEY_Y"
      }
    },
    {
      "cell_type": "code",
      "source": [
        "import time\n",
        "import sys\n",
        "start_time = time.time()\n",
        "\n",
        "def recursive_sum(*args):\n",
        "  if not args:\n",
        "    return 0\n",
        "  else:\n",
        "    return args[0] + recursive_sum(*args[1:])\n",
        "\n",
        "result = recursive_sum(7, 1, 3, 2, 10)\n",
        "end_time = time.time()\n",
        "total_time = end_time - start_time\n",
        "\n",
        "memory_usage = sys.getsizeof(recursive_sum) + sys.getsizeof(start_time) + sys.getsizeof(end_time)\n",
        "\n",
        "print(\"Результат:\", result)\n",
        "print(\"Время выполнения программы: \", total_time, \"секунд\")\n",
        "print(\"Использовано памяти:\", memory_usage, \"байт\")"
      ],
      "metadata": {
        "colab": {
          "base_uri": "https://localhost:8080/"
        },
        "id": "7deyzvU9INAk",
        "outputId": "4662709b-2781-4760-fc07-3fa136c5a02a"
      },
      "execution_count": 13,
      "outputs": [
        {
          "output_type": "stream",
          "name": "stdout",
          "text": [
            "Результат: 23\n",
            "Время выполнения программы:  0.00013875961303710938 секунд\n",
            "Использовано памяти: 192 байт\n"
          ]
        }
      ]
    },
    {
      "cell_type": "markdown",
      "source": [
        "# Задача 2"
      ],
      "metadata": {
        "id": "9yDlKVTjEoIq"
      }
    },
    {
      "cell_type": "code",
      "source": [
        "def answer(func):\n",
        "    def wrapper(*args, **kwargs):\n",
        "        result = func(*args, **kwargs)\n",
        "        return f\"Результат функции: {result}\"\n",
        "    return wrapper"
      ],
      "metadata": {
        "id": "mnCvWF14E_QH"
      },
      "execution_count": null,
      "outputs": []
    },
    {
      "cell_type": "markdown",
      "source": [
        "## Пример 1"
      ],
      "metadata": {
        "id": "JzZAmNXiE_5n"
      }
    },
    {
      "cell_type": "code",
      "source": [
        "import time\n",
        "import sys\n",
        "start_time = time.time()\n",
        "\n",
        "def answer(func):\n",
        "    def wrapper(*args, **kwargs):\n",
        "        result = func(*args, **kwargs)\n",
        "        return f\"Результат функции: {result}\"\n",
        "    return wrapper\n",
        "@answer\n",
        "def a_plus_b(a, b):\n",
        "  return a + b\n",
        "print(a_plus_b(3, 5))\n",
        "print(a_plus_b(7, 9))\n",
        "\n",
        "end_time = time.time()\n",
        "total_time = end_time - start_time\n",
        "\n",
        "memory_usage = sys.getsizeof(start_time) + sys.getsizeof(end_time) + sys.getsizeof(answer) + sys.getsizeof(a_plus_b)\n",
        "print(\"Время выполнения программы: \", total_time, \"секунд\")\n",
        "print(\"Использовано памяти:\", memory_usage, \"байт\")"
      ],
      "metadata": {
        "colab": {
          "base_uri": "https://localhost:8080/"
        },
        "outputId": "b635b03a-e663-4e2f-968b-f3b8ce216ef8",
        "id": "smM2PmEGPxmo"
      },
      "execution_count": 14,
      "outputs": [
        {
          "output_type": "stream",
          "name": "stdout",
          "text": [
            "Результат функции: 8\n",
            "Результат функции: 16\n",
            "Время выполнения программы:  0.00035572052001953125 секунд\n",
            "Использовано памяти: 336 байт\n"
          ]
        }
      ]
    },
    {
      "cell_type": "code",
      "source": [
        "def answer(func):\n",
        "    def wrapper(*args, **kwargs):\n",
        "        result = func(*args, **kwargs)\n",
        "        return f\"Результат функции: {result}\"\n",
        "    return wrapper\n",
        "@answer\n",
        "def a_plus_b(a, b):\n",
        "  return a + b\n",
        "print(a_plus_b(3, 5))\n",
        "print(a_plus_b(7, 9))"
      ],
      "metadata": {
        "colab": {
          "base_uri": "https://localhost:8080/"
        },
        "outputId": "e9276041-c993-4e93-e9a8-cba8716154e8",
        "id": "Hk9RWC7TKkWh"
      },
      "execution_count": null,
      "outputs": [
        {
          "output_type": "stream",
          "name": "stdout",
          "text": [
            "Результат функции: 8\n",
            "Результат функции: 16\n"
          ]
        }
      ]
    },
    {
      "cell_type": "markdown",
      "source": [
        "## Пример 2"
      ],
      "metadata": {
        "id": "pklgjJadFCSj"
      }
    },
    {
      "cell_type": "code",
      "source": [],
      "metadata": {
        "id": "f5Dq7XzyRqoX"
      },
      "execution_count": null,
      "outputs": []
    },
    {
      "cell_type": "code",
      "source": [
        "import time\n",
        "import sys\n",
        "start_time = time.time()\n",
        "\n",
        "def answer(func):\n",
        "    def wrapper(*args, **kwargs):\n",
        "        result = func(*args, **kwargs)\n",
        "        return f\"Результат функции: {result}\"\n",
        "    return wrapper\n",
        "\n",
        "@answer\n",
        "def get_letters(text: str) -> str:\n",
        "  return ''.join(sorted(set(filter(str.isalpha, text.lower()))))\n",
        "print(get_letters('Hello, world!'))\n",
        "print(get_letters('Декораторы это круто =)'))\n",
        "\n",
        "\n",
        "end_time = time.time()\n",
        "total_time = end_time - start_time\n",
        "memory_usage = sys.getsizeof(start_time) + sys.getsizeof(end_time) + sys.getsizeof(answer) + sys.getsizeof(get_letters)\n",
        "\n",
        "print(\"Время выполнения программы: \", total_time, \"секунд\")\n",
        "print(\"Использовано памяти:\", memory_usage, \"байт\")"
      ],
      "metadata": {
        "colab": {
          "base_uri": "https://localhost:8080/"
        },
        "outputId": "eb8e6391-9996-439a-94e5-38ec03137566",
        "id": "2lfLbC5JRq8I"
      },
      "execution_count": 15,
      "outputs": [
        {
          "output_type": "stream",
          "name": "stdout",
          "text": [
            "Результат функции: dehlorw\n",
            "Результат функции: адекортуыэ\n",
            "Время выполнения программы:  0.0009965896606445312 секунд\n",
            "Использовано памяти: 336 байт\n"
          ]
        }
      ]
    },
    {
      "cell_type": "code",
      "source": [
        "def answer(func):\n",
        "    def wrapper(*args, **kwargs):\n",
        "        result = func(*args, **kwargs)\n",
        "        return f\"Результат функции: {result}\"\n",
        "    return wrapper\n",
        "\n",
        "@answer\n",
        "def get_letters(text: str) -> str:\n",
        "  return ''.join(sorted(set(filter(str.isalpha, text.lower()))))\n",
        "print(get_letters('Hello, world!'))\n",
        "print(get_letters('Декораторы это круто =)'))\n"
      ],
      "metadata": {
        "colab": {
          "base_uri": "https://localhost:8080/"
        },
        "outputId": "080470c8-0936-4662-e30c-bc25bf362b1b",
        "id": "G5oNGAyfNS0l"
      },
      "execution_count": 16,
      "outputs": [
        {
          "output_type": "stream",
          "name": "stdout",
          "text": [
            "Результат функции: dehlorw\n",
            "Результат функции: адекортуыэ\n"
          ]
        }
      ]
    },
    {
      "cell_type": "markdown",
      "source": [
        "# Задача 3"
      ],
      "metadata": {
        "id": "ATfgjldTRWD0"
      }
    },
    {
      "cell_type": "code",
      "source": [
        "def text_decor(func):\n",
        "    def wrapper(*args, **kwargs):\n",
        "        print(\"Hello\")\n",
        "        result = func(*args, **kwargs)\n",
        "        print(\"Goodbye!\")\n",
        "        return result\n",
        "    return wrapper"
      ],
      "metadata": {
        "id": "5HgPAHWsRYDy"
      },
      "execution_count": null,
      "outputs": []
    },
    {
      "cell_type": "markdown",
      "source": [
        "## Пример 1"
      ],
      "metadata": {
        "id": "DEriIxZWSMso"
      }
    },
    {
      "cell_type": "code",
      "source": [
        "import time\n",
        "import sys\n",
        "start_time = time.time()\n",
        "\n",
        "def text_decor(func):\n",
        "    def wrapper(*args, **kwargs):\n",
        "        print(\"Hello\")\n",
        "        result = func(*args, **kwargs)\n",
        "        print(\"Goodbye!\")\n",
        "        return result\n",
        "    return wrapper\n",
        "    \n",
        "@text_decor\n",
        "def simple_func():\n",
        "  print('I just simple python func')\n",
        "simple_func()\n",
        "\n",
        "\n",
        "end_time = time.time()\n",
        "total_time = end_time - start_time\n",
        "\n",
        "memory_usage = sys.getsizeof(simple_func) + sys.getsizeof(start_time) + sys.getsizeof(end_time) + sys.getsizeof(text_decor)\n",
        "print(\"Время выполнения программы: \", total_time, \"секунд\")\n",
        "print(\"Использовано памяти:\", memory_usage, \"байт\")"
      ],
      "metadata": {
        "colab": {
          "base_uri": "https://localhost:8080/"
        },
        "outputId": "0f7f4b1b-8916-4139-fa0c-1d06eb73641c",
        "id": "ZpIrjrDiS-Bi"
      },
      "execution_count": 17,
      "outputs": [
        {
          "output_type": "stream",
          "name": "stdout",
          "text": [
            "Hello\n",
            "I just simple python func\n",
            "Goodbye!\n",
            "Время выполнения программы:  0.00070953369140625 секунд\n",
            "Использовано памяти: 336 байт\n"
          ]
        }
      ]
    },
    {
      "cell_type": "code",
      "source": [
        "def text_decor(func):\n",
        "    def wrapper(*args, **kwargs):\n",
        "        print(\"Hello\")\n",
        "        result = func(*args, **kwargs)\n",
        "        print(\"Goodbye!\")\n",
        "        return result\n",
        "    return wrapper\n",
        "    \n",
        "@text_decor\n",
        "def simple_func():\n",
        "  print('I just simple python func')\n",
        "simple_func()"
      ],
      "metadata": {
        "colab": {
          "base_uri": "https://localhost:8080/"
        },
        "id": "s4m30ZLCR_FZ",
        "outputId": "80d11f1b-04a9-4443-dfba-45409463d857"
      },
      "execution_count": null,
      "outputs": [
        {
          "output_type": "stream",
          "name": "stdout",
          "text": [
            "Hello\n",
            "I just simple python func\n",
            "Goodbye!\n"
          ]
        }
      ]
    },
    {
      "cell_type": "markdown",
      "source": [
        "## Пример 2"
      ],
      "metadata": {
        "id": "ONVCjVOgSQwH"
      }
    },
    {
      "cell_type": "code",
      "source": [
        "import time\n",
        "import sys\n",
        "start_time = time.time()\n",
        "\n",
        "def text_decor(func):\n",
        "    def wrapper(*args, **kwargs):\n",
        "        print(\"Hello\")\n",
        "        result = func(*args, **kwargs)\n",
        "        print(\"Goodbye!\")\n",
        "        return result\n",
        "    return wrapper\n",
        "    \n",
        "@text_decor\n",
        "def multiply(num1, num2):\n",
        "  print(num1 * num2)\n",
        "multiply(3, 5)\n",
        "\n",
        "\n",
        "end_time = time.time()\n",
        "total_time = end_time - start_time\n",
        "memory_usage = sys.getsizeof(start_time) + sys.getsizeof(end_time) + sys.getsizeof(text_decor) + sys.getsizeof(multiply)\n",
        "\n",
        "memory_usage = sys.getsizeof(multiply)\n",
        "print(\"Время выполнения программы: \", total_time, \"секунд\")\n",
        "print(\"Использовано памяти:\", memory_usage, \"байт\")"
      ],
      "metadata": {
        "colab": {
          "base_uri": "https://localhost:8080/"
        },
        "outputId": "b32e676b-65e8-4013-ca91-20b098d1a7f3",
        "id": "00RpoO8ATHAQ"
      },
      "execution_count": 18,
      "outputs": [
        {
          "output_type": "stream",
          "name": "stdout",
          "text": [
            "Hello\n",
            "15\n",
            "Goodbye!\n",
            "Время выполнения программы:  0.0002987384796142578 секунд\n",
            "Использовано памяти: 144 байт\n"
          ]
        }
      ]
    },
    {
      "cell_type": "code",
      "source": [
        "def text_decor(func):\n",
        "    def wrapper(*args, **kwargs):\n",
        "        print(\"Hello\")\n",
        "        result = func(*args, **kwargs)\n",
        "        print(\"Goodbye!\")\n",
        "        return result\n",
        "    return wrapper\n",
        "\n",
        "@text_decor\n",
        "def multiply(num1, num2):\n",
        "  print(num1 * num2)\n",
        "multiply(3, 5)"
      ],
      "metadata": {
        "colab": {
          "base_uri": "https://localhost:8080/"
        },
        "id": "NTq2684gSIQC",
        "outputId": "dc7b7397-bc34-4942-edc3-d95ba13bd84c"
      },
      "execution_count": null,
      "outputs": [
        {
          "output_type": "stream",
          "name": "stdout",
          "text": [
            "Hello\n",
            "15\n",
            "Goodbye!\n"
          ]
        }
      ]
    },
    {
      "cell_type": "markdown",
      "source": [
        "# Задача 4"
      ],
      "metadata": {
        "id": "uhwDEpmkTPLc"
      }
    },
    {
      "cell_type": "code",
      "source": [
        "def repeater(func):\n",
        "    def wrapper(*args, **kwargs):\n",
        "      func(*args, **kwargs)\n",
        "      func(*args, **kwargs)\n",
        "    return wrapper"
      ],
      "metadata": {
        "id": "LUZOWy7CXR3x"
      },
      "execution_count": null,
      "outputs": []
    },
    {
      "cell_type": "markdown",
      "source": [
        "## Пример "
      ],
      "metadata": {
        "id": "OyKbMq4ATVgV"
      }
    },
    {
      "cell_type": "code",
      "source": [
        "import time\n",
        "import sys\n",
        "start_time = time.time()\n",
        "\n",
        "def repeater(func):\n",
        "    def wrapper(*args, **kwargs):\n",
        "      func(*args, **kwargs)\n",
        "      func(*args, **kwargs)\n",
        "    return wrapper\n",
        "\n",
        "@repeater\n",
        "def multiply(num1, num2):\n",
        "    print(num1 * num2)\n",
        "\n",
        "multiply(2, 7)\n",
        "multiply(5, 3)\n",
        "\n",
        "end_time = time.time()\n",
        "total_time = end_time - start_time\n",
        "\n",
        "memory_usage = sys.getsizeof(multiply) + sys.getsizeof(start_time) + sys.getsizeof(end_time) + sys.getsizeof(repeater)\n",
        "print(\"Время выполнения программы: \", total_time, \"секунд\")\n",
        "print(\"Использовано памяти:\", memory_usage, \"байт\")"
      ],
      "metadata": {
        "colab": {
          "base_uri": "https://localhost:8080/"
        },
        "outputId": "113a9d44-2273-4faa-9b3f-2779e7e41a68",
        "id": "Dsz7INiVXVP1"
      },
      "execution_count": 19,
      "outputs": [
        {
          "output_type": "stream",
          "name": "stdout",
          "text": [
            "14\n",
            "14\n",
            "15\n",
            "15\n",
            "Время выполнения программы:  0.0014007091522216797 секунд\n",
            "Использовано памяти: 336 байт\n"
          ]
        }
      ]
    },
    {
      "cell_type": "code",
      "source": [
        "def repeater(func):\n",
        "    def wrapper(*args, **kwargs):\n",
        "      func(*args, **kwargs)\n",
        "      func(*args, **kwargs)\n",
        "    return wrapper\n",
        "\n",
        "@repeater\n",
        "def multiply(num1, num2):\n",
        "    print(num1 * num2)\n",
        "\n",
        "multiply(2, 7)\n",
        "multiply(5, 3)\n"
      ],
      "metadata": {
        "colab": {
          "base_uri": "https://localhost:8080/"
        },
        "outputId": "90087af4-c014-4c52-fc0f-f7263813412c",
        "id": "3l-t3PqSXMaD"
      },
      "execution_count": null,
      "outputs": [
        {
          "output_type": "stream",
          "name": "stdout",
          "text": [
            "14\n",
            "14\n",
            "15\n",
            "15\n"
          ]
        }
      ]
    },
    {
      "cell_type": "markdown",
      "source": [
        "# Задача 5"
      ],
      "metadata": {
        "id": "F-YGWs-cXcc6"
      }
    },
    {
      "cell_type": "code",
      "source": [
        "def double_it(func):\n",
        "    def wrapper(*args, **kwargs):\n",
        "        result = func(*args, **kwargs)\n",
        "        return result *2\n",
        "    return wrapper"
      ],
      "metadata": {
        "id": "XtHLkl9yYQXc"
      },
      "execution_count": null,
      "outputs": []
    },
    {
      "cell_type": "markdown",
      "source": [
        "## Пример 1"
      ],
      "metadata": {
        "id": "N8gPBKwfXtnQ"
      }
    },
    {
      "cell_type": "code",
      "source": [
        "import time\n",
        "import sys\n",
        "start_time = time.time()\n",
        "\n",
        "def double_it(func):\n",
        "    def wrapper(*args, **kwargs):\n",
        "        result = func(*args, **kwargs)\n",
        "        return result *2\n",
        "    return wrapper\n",
        "    \n",
        "@double_it\n",
        "def multiply(num1, num2):\n",
        "  return num1 * num2\n",
        "res = multiply(9, 4) \n",
        "print(res)\n",
        "\n",
        "end_time = time.time()\n",
        "total_time = end_time - start_time\n",
        "\n",
        "memory_usage = sys.getsizeof(multiply) + sys.getsizeof(start_time) + sys.getsizeof(end_time) + sys.getsizeof(double_it)\n",
        "print(\"Время выполнения программы: \", total_time, \"секунд\")\n",
        "print(\"Использовано памяти:\", memory_usage, \"байт\")"
      ],
      "metadata": {
        "colab": {
          "base_uri": "https://localhost:8080/"
        },
        "outputId": "d58a311f-b15c-4145-c0c9-fadbab8c7916",
        "id": "t1gaTL_MYw4l"
      },
      "execution_count": 20,
      "outputs": [
        {
          "output_type": "stream",
          "name": "stdout",
          "text": [
            "72\n",
            "Время выполнения программы:  0.0013513565063476562 секунд\n",
            "Использовано памяти: 336 байт\n"
          ]
        }
      ]
    },
    {
      "cell_type": "code",
      "source": [
        "def double_it(func):\n",
        "    def wrapper(*args, **kwargs):\n",
        "        result = func(*args, **kwargs)\n",
        "        return result *2\n",
        "    return wrapper\n",
        "    \n",
        "@double_it\n",
        "def multiply(num1, num2):\n",
        "  return num1 * num2\n",
        "res = multiply(9, 4) \n",
        "print(res)"
      ],
      "metadata": {
        "colab": {
          "base_uri": "https://localhost:8080/"
        },
        "id": "XbqJwVKDX1MS",
        "outputId": "07e61f38-049e-42b6-9f80-92688a041445"
      },
      "execution_count": null,
      "outputs": [
        {
          "output_type": "stream",
          "name": "stdout",
          "text": [
            "72\n"
          ]
        }
      ]
    },
    {
      "cell_type": "markdown",
      "source": [
        "## Пример 2"
      ],
      "metadata": {
        "id": "qXHXuVZZXycn"
      }
    },
    {
      "cell_type": "code",
      "source": [
        "import time\n",
        "import sys\n",
        "start_time = time.time()\n",
        "\n",
        "def double_it(func):\n",
        "    def wrapper(*args, **kwargs):\n",
        "        result = func(*args, **kwargs)\n",
        "        return result *2\n",
        "    return wrapper\n",
        "    \n",
        "@double_it\n",
        "def get_sum(*args):\n",
        "  return sum(args)\n",
        "res = get_sum(1, 2, 3, 4, 5)\n",
        "print(res) \n",
        "end_time = time.time()\n",
        "total_time = end_time - start_time\n",
        "\n",
        "memory_usage = sys.getsizeof(get_sum) + sys.getsizeof(start_time) + sys.getsizeof(end_time) + sys.getsizeof(double_it)\n",
        "print(\"Время выполнения программы: \", total_time, \"секунд\")\n",
        "print(\"Использовано памяти:\", memory_usage, \"байт\")"
      ],
      "metadata": {
        "colab": {
          "base_uri": "https://localhost:8080/"
        },
        "outputId": "ee47752d-197e-4050-b3ca-3f7c38fd80f1",
        "id": "vq0253PmY5ZX"
      },
      "execution_count": 21,
      "outputs": [
        {
          "output_type": "stream",
          "name": "stdout",
          "text": [
            "30\n",
            "Время выполнения программы:  0.00025463104248046875 секунд\n",
            "Использовано памяти: 336 байт\n"
          ]
        }
      ]
    },
    {
      "cell_type": "code",
      "source": [
        "def double_it(func):\n",
        "    def wrapper(*args, **kwargs):\n",
        "        result = func(*args, **kwargs)\n",
        "        return result *2\n",
        "    return wrapper\n",
        "\n",
        "@double_it\n",
        "def get_sum(*args):\n",
        "  return sum(args)\n",
        "res = get_sum(1, 2, 3, 4, 5)\n",
        "print(res) "
      ],
      "metadata": {
        "colab": {
          "base_uri": "https://localhost:8080/"
        },
        "id": "VljsO2d0X1l6",
        "outputId": "6ecb4b02-d3f3-443e-f4d1-1ac3ee8136c1"
      },
      "execution_count": null,
      "outputs": [
        {
          "output_type": "stream",
          "name": "stdout",
          "text": [
            "30\n"
          ]
        }
      ]
    },
    {
      "cell_type": "markdown",
      "source": [
        "# Задача 6"
      ],
      "metadata": {
        "id": "fnvcTWKKZMA9"
      }
    },
    {
      "cell_type": "code",
      "source": [
        "def decorator(func):\n",
        "  def wrapper(*args):\n",
        "    args = [begin] + list(args) + [end]\n",
        "    return func(*args)\n",
        "  return wrapper\n"
      ],
      "metadata": {
        "id": "_u9ISWeha28z"
      },
      "execution_count": null,
      "outputs": []
    },
    {
      "cell_type": "markdown",
      "source": [
        "## Пример"
      ],
      "metadata": {
        "id": "eGflxfBoZPiQ"
      }
    },
    {
      "cell_type": "code",
      "source": [
        "import time\n",
        "import sys\n",
        "start_time = time.time()\n",
        "\n",
        "def add_args(begin, end):\n",
        "    def decorator(func):\n",
        "        def wrapper(*args):\n",
        "            args = [begin] + list(args) + [end]\n",
        "            return func(*args)\n",
        "        return wrapper\n",
        "    return decorator\n",
        "\n",
        "@add_args(\"begin\", \"end\")\n",
        "def my_function(*args):\n",
        "    return \", \".join(args)\n",
        "\n",
        "result = my_function(\"hello\", \"world\", \"my\", \"name is\", \"Artem\")\n",
        "print(result)\n",
        "end_time = time.time()\n",
        "total_time = end_time - start_time\n",
        "\n",
        "memory_usage = sys.getsizeof(my_function) + sys.getsizeof(start_time) + sys.getsizeof(end_time) + sys.getsizeof(add_args)\n",
        "print(\"Время выполнения программы: \", total_time, \"секунд\")\n",
        "print(\"Использовано памяти:\", memory_usage, \"байт\")"
      ],
      "metadata": {
        "colab": {
          "base_uri": "https://localhost:8080/"
        },
        "outputId": "363c617c-0304-4dc1-e637-d41518c34725",
        "id": "uzEMCRwocLyf"
      },
      "execution_count": null,
      "outputs": [
        {
          "output_type": "stream",
          "name": "stdout",
          "text": [
            "begin, hello, world, my, name is, Artem, end\n",
            "Время выполнения программы:  0.0019435882568359375 секунд\n",
            "Использовано памяти: 336 байт\n"
          ]
        }
      ]
    },
    {
      "cell_type": "code",
      "source": [
        "def add_args(begin, end):\n",
        "    def decorator(func):\n",
        "        def wrapper(*args):\n",
        "            args = [begin] + list(args) + [end]\n",
        "            return func(*args)\n",
        "        return wrapper\n",
        "    return decorator\n",
        "\n",
        "@add_args(\"begin\", \"end\")\n",
        "def my_function(*args):\n",
        "    return \", \".join(args)\n",
        "\n",
        "result = my_function(\"hello\", \"world\", \"my\", \"name is\", \"Artem\")\n",
        "print(result)\n"
      ],
      "metadata": {
        "colab": {
          "base_uri": "https://localhost:8080/"
        },
        "id": "DtWcA8c2aMWy",
        "outputId": "16825c30-1827-4efc-ddc3-6ce40f223694"
      },
      "execution_count": null,
      "outputs": [
        {
          "output_type": "stream",
          "name": "stdout",
          "text": [
            "begin, hello, world, my, name is, Artem, end\n"
          ]
        }
      ]
    },
    {
      "cell_type": "markdown",
      "source": [
        "# Задача 7"
      ],
      "metadata": {
        "id": "mBgh_zzsZTm9"
      }
    },
    {
      "cell_type": "code",
      "source": [
        "def validate_args(func):\n",
        "    def wrapper(*args):\n",
        "        if len(args) < 2: \n",
        "          return \"Not enough arguments\" \n",
        "        elif len(args) > 2:\n",
        "            return \"Too many arguments\"\n",
        "        else:\n",
        "          if not all(isinstance(arg, int) for arg in args):\n",
        "            return \"Wrong types\"\n",
        "          return func(*args)\n",
        "    return wrapper"
      ],
      "metadata": {
        "id": "mt-Iq8bsZTm-"
      },
      "execution_count": null,
      "outputs": []
    },
    {
      "cell_type": "markdown",
      "source": [
        "## Пример"
      ],
      "metadata": {
        "id": "R2sbFqWyZTm-"
      }
    },
    {
      "cell_type": "code",
      "source": [
        "import time\n",
        "import sys\n",
        "start_time = time.time()\n",
        "\n",
        "def validate_args(func):\n",
        "    def wrapper(*args):\n",
        "        if len(args) < 2: \n",
        "          return \"Not enough arguments\" \n",
        "        elif len(args) > 2:\n",
        "            return \"Too many arguments\"\n",
        "        else:\n",
        "          if not all(isinstance(arg, int) for arg in args):\n",
        "            return \"Wrong types\"\n",
        "          return func(*args)\n",
        "    return wrapper\n",
        "\n",
        "@validate_args\n",
        "def multiply(num1, num2):\n",
        "    return num1 * num2\n",
        "\n",
        "result1 = multiply(3)\n",
        "print(result1) \n",
        "\n",
        "result2 = multiply(2, 10)\n",
        "print(result2)  \n",
        "\n",
        "result3 = multiply(2, 3, 4)\n",
        "print(result3)  \n",
        "\n",
        "result4 = multiply(2, 'jj')\n",
        "print(result4) \n",
        "end_time = time.time()\n",
        "total_time = end_time - start_time\n",
        "\n",
        "memory_usage = sys.getsizeof(multiply) + sys.getsizeof(start_time) + sys.getsizeof(end_time) + sys.getsizeof(validate_args) + sys.getsizeof(result1) + sys.getsizeof(result2) + sys.getsizeof(result3) + sys.getsizeof(result4)\n",
        "print(\"Время выполнения программы: \", total_time, \"секунд\")\n",
        "print(\"Использовано памяти:\", memory_usage, \"байт\")"
      ],
      "metadata": {
        "colab": {
          "base_uri": "https://localhost:8080/"
        },
        "outputId": "f5b3e4d3-f895-4ae1-f49c-6276c90520f9",
        "id": "VwyFX9Yne2ST"
      },
      "execution_count": 22,
      "outputs": [
        {
          "output_type": "stream",
          "name": "stdout",
          "text": [
            "Not enough arguments\n",
            "20\n",
            "Too many arguments\n",
            "Wrong types\n",
            "Время выполнения программы:  0.0027153491973876953 секунд\n",
            "Использовано памяти: 560 байт\n"
          ]
        }
      ]
    },
    {
      "cell_type": "code",
      "source": [
        "def validate_args(func):\n",
        "    def wrapper(*args):\n",
        "        if len(args) < 2: \n",
        "          return \"Not enough arguments\" \n",
        "        elif len(args) > 2:\n",
        "            return \"Too many arguments\"\n",
        "        else:\n",
        "          if not all(isinstance(arg, int) for arg in args):\n",
        "            return \"Wrong types\"\n",
        "          return func(*args)\n",
        "    return wrapper\n",
        "\n",
        "@validate_args\n",
        "def multiply(num1, num2):\n",
        "    return num1 * num2\n",
        "\n",
        "result1 = multiply(3)\n",
        "print(result1) \n",
        "\n",
        "result2 = multiply(2, 10)\n",
        "print(result2)  \n",
        "\n",
        "result3 = multiply(2, 3, 4)\n",
        "print(result3)  \n",
        "\n",
        "result4 = multiply(2, 'jj')\n",
        "print(result4)  \n"
      ],
      "metadata": {
        "colab": {
          "base_uri": "https://localhost:8080/"
        },
        "id": "tgGpbispdP2Q",
        "outputId": "ac7de9f7-b9f9-42c8-8d3e-6b29b31bed29"
      },
      "execution_count": null,
      "outputs": [
        {
          "output_type": "stream",
          "name": "stdout",
          "text": [
            "Not enough arguments\n",
            "20\n",
            "Too many arguments\n",
            "Wrong types\n"
          ]
        }
      ]
    }
  ]
}