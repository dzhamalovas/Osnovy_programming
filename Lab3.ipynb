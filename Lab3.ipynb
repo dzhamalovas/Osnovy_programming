{
  "nbformat": 4,
  "nbformat_minor": 0,
  "metadata": {
    "colab": {
      "provenance": [],
      "toc_visible": true,
      "name": "Lab3.ipynb",
      "authorship_tag": "ABX9TyPSxMd27FhB7lQacxnY3TtS",
      "include_colab_link": true
    },
    "kernelspec": {
      "name": "python3",
      "display_name": "Python 3"
    },
    "language_info": {
      "name": "python"
    }
  },
  "cells": [
    {
      "cell_type": "markdown",
      "metadata": {
        "id": "view-in-github",
        "colab_type": "text"
      },
      "source": [
        "<a href=\"https://colab.research.google.com/github/dzhamalovas/Osnovy_programming/blob/main/Lab3.ipynb\" target=\"_parent\"><img src=\"https://colab.research.google.com/assets/colab-badge.svg\" alt=\"Open In Colab\"/></a>"
      ]
    },
    {
      "cell_type": "markdown",
      "source": [
        "# Задание task_03_02_01.\n",
        "\n",
        "Выполнил: Джамалова С. Ш.\n",
        " Группа: АДЭУ-221\n",
        " E-mail: jamalovasabina@yandex.ru"
      ],
      "metadata": {
        "id": "S5VuT5F3nMyr"
      }
    },
    {
      "cell_type": "markdown",
      "source": [
        "# 3.2.1. Числа\n",
        "# № 3.2.1\n",
        "\n",
        "Составьте программу, которая запрашивает у пользователя 2 целых числа и выполняет операции:\n",
        "\n",
        "арифметические: +, -, * , / , // , %, **;\n",
        "\n",
        "сравнение: <, <=, >, >=, !=, ==,\n",
        "\n",
        "выводя на экран результат каждого действия. В случае получение вещественного результата, округлите его до 2-х знаков после запятой (используя функцию round())."
      ],
      "metadata": {
        "id": "ConMUwVh6qBZ"
      }
    },
    {
      "cell_type": "code",
      "source": [
        "\n",
        "a = int(input(\"a=\"))\n",
        "b = int(input(\"b=\"))\n",
        "\n",
        "print(a + b)\n",
        "print(a - b)\n",
        "print(a * b)\n",
        "print(round(a / b, 2))\n",
        "print(a // b)\n",
        "print(a % b)\n",
        "print(a ** b)\n",
        "\n",
        "\n",
        "print(a < b)\n",
        "print(a <= b)\n",
        "print(a > b)\n",
        "print(a >= b)\n",
        "print(a != b)\n",
        "print(a == b)\n",
        "\n",
        "# —------------\n",
        "# Пример вывода:\n",
        "#\n",
        "# a=2\n",
        "# b=3\n",
        "# 5\n",
        "# -1\n",
        "# 6\n",
        "# 0.67\n",
        "# 0\n",
        "# 2\n",
        "# 8\n",
        "# True\n",
        "# True\n",
        "# False\n",
        "# False\n",
        "# True\n",
        "# False\n"
      ],
      "metadata": {
        "colab": {
          "base_uri": "https://localhost:8080/"
        },
        "id": "Ol83ht_o66Tw",
        "outputId": "06974f9f-7d88-46a4-f8a6-d6e9362ff6d6"
      },
      "execution_count": null,
      "outputs": [
        {
          "output_type": "stream",
          "name": "stdout",
          "text": [
            "a=2\n",
            "b=3\n",
            "5\n",
            "-1\n",
            "6\n",
            "0.67\n",
            "0\n",
            "2\n",
            "8\n",
            "True\n",
            "True\n",
            "False\n",
            "False\n",
            "True\n",
            "False\n"
          ]
        }
      ]
    },
    {
      "cell_type": "markdown",
      "source": [
        "# № 3.2.2\n",
        "\n",
        "Вычислите значение следующего выражения (аргументы - целые числа и вводятся с клавиатуры):\n",
        "![Снимок экрана 2022-09-09 213149.jpg](data:image/jpeg;base64,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)\n",
        "Округлите результат до 3-х знаков после запятой, используя функцию round()."
      ],
      "metadata": {
        "id": "EDK6czH3BJCz"
      }
    },
    {
      "cell_type": "code",
      "source": [
        "\n",
        "x = int(input(\"x=\"))\n",
        "y = int(input(\"y=\"))\n",
        "z = int(input(\"z=\"))\n",
        "\n",
        "t1=x**5+7\n",
        "t2=abs(-6)*y\n",
        "t3=7 - (z%y)\n",
        "t4=(t1/t2)**1/3\n",
        "t5=t4/t3\n",
        "res1 = ((x**5+7)/(abs(-6)*y))**(1/3)\n",
        "res2 = 7 - (z%y)\n",
        "res = res1/res2\n",
        "print(round(res,2))\n",
        "\n",
        "# —------------\n",
        "# Пример вывода:\n",
        "#\n",
        "# x=0\n",
        "# y=1\n",
        "# z=2\n",
        "# 0.15"
      ],
      "metadata": {
        "colab": {
          "base_uri": "https://localhost:8080/"
        },
        "id": "w4yBMnWiCZW4",
        "outputId": "4cbb19a2-a100-4636-9259-28ae5477c607"
      },
      "execution_count": null,
      "outputs": [
        {
          "output_type": "stream",
          "name": "stdout",
          "text": [
            "x=0\n",
            "y=1\n",
            "z=2\n",
            "0.15\n"
          ]
        }
      ]
    },
    {
      "cell_type": "markdown",
      "source": [
        "# № 3.2.3\n",
        "\n",
        "Дана электрическая цепь, состоящая из 2-х последовательно соединенных проводников (сопротивление каждого известно). Найти общее сопротивление цепи (округление результата необходимо выполнить до 1-го знака после запятой).\n",
        "\n",
        "Решение (начало и общий ход мыслей):\n",
        "\n",
        "Аналитическое решение.\n",
        "\n",
        "Проводники соединены последовательно, поэтому общее сопротивление цепи будет равно сумме их сопротивлений. Сопротивление может быть вещественным числом, поэтому для его хранения необходимо выбрать тип float.\n",
        "\n",
        "Алгоритм.\n",
        "\n",
        "- ввести 2 вещественных значения - сопротивления проводников;\n",
        "- вычислить их сумму;\n",
        "- вывести ответ на экран.\n"
      ],
      "metadata": {
        "id": "w4DLK_ABEwlD"
      }
    },
    {
      "cell_type": "code",
      "source": [
        "\n",
        "r1 = float(input(\"r1=\"))\n",
        "r2 = float(input(\"r2=\"))\n",
        "r =r1+r2\n",
        "print(round(r,1))\n",
        "\n",
        "# —------------\n",
        "# Пример вывода:\n",
        "#\n",
        "# r1=12.2\n",
        "# r2=16.1\n",
        "# 28.3"
      ],
      "metadata": {
        "colab": {
          "base_uri": "https://localhost:8080/"
        },
        "id": "sLNwMoN5FCBG",
        "outputId": "f9806f62-5b14-47dd-814c-f8f71835e6b6"
      },
      "execution_count": null,
      "outputs": [
        {
          "output_type": "stream",
          "name": "stdout",
          "text": [
            "r1=12.2\n",
            "r2=16.1\n",
            "28.3\n"
          ]
        }
      ]
    },
    {
      "cell_type": "markdown",
      "source": [
        "# № 3.2.4\n",
        "\n",
        "Дано двузначное и трехзначное число. Для каждого выведите на экран сумму и произведение цифр"
      ],
      "metadata": {
        "id": "WUWNQzEzFhNQ"
      }
    },
    {
      "cell_type": "code",
      "source": [
        "num2 = int(input(\"num2=\"))\n",
        "num3 = int(input(\"num3=\"))\n",
        "\n",
        "num2_1=(num2//10)\n",
        "num2_2=(num2%10)\n",
        "\n",
        "num2_s=(num2_1+num2_2)\n",
        "num2_p=(num2_1*num2_2)\n",
        "\n",
        "num3_1=(num3//100)\n",
        "num3_2=((num3%100)//10)\n",
        "num3_3=(num3%10)\n",
        "\n",
        "num3_s=(num3_1+num3_2+num3_3)\n",
        "num3_p=(num3_1*num3_2*num3_3)\n",
        "\n",
        "print(num2_s)\n",
        "print(num2_p)\n",
        "print(num3_s)\n",
        "print(num3_p)\n",
        "\n",
        "# —----------— \n",
        "# Пример вывода: \n",
        "# \n",
        "# Двузначное число: 45 \n",
        "# Трехзначное число: 456 \n",
        "# Сумма и произведение цифр двузначного числа: 9 20 \n",
        "# Сумма и произведение цифр трехзначного числа: 15 120"
      ],
      "metadata": {
        "colab": {
          "base_uri": "https://localhost:8080/"
        },
        "id": "F0751vpLGbmt",
        "outputId": "b9cb6baa-c37b-45d5-f01d-e5b604749ed8"
      },
      "execution_count": null,
      "outputs": [
        {
          "output_type": "stream",
          "name": "stdout",
          "text": [
            "num2=45\n",
            "num3=456\n",
            "9\n",
            "20\n",
            "15\n",
            "120\n"
          ]
        }
      ]
    },
    {
      "cell_type": "markdown",
      "source": [
        "# № 3.2.5\n",
        "\n",
        "С начала суток прошло m минут (0<m≤24∗60). Определите:\n",
        "\n",
        "целое количество часов, прошедших с начала суток;\n",
        "\n",
        "количество минут, прошедших с момента начала последнего часа."
      ],
      "metadata": {
        "id": "Po5OMKIdIE5H"
      }
    },
    {
      "cell_type": "code",
      "source": [
        "m = int(input(\"Количество минут, прошедшее с начала суток:\"))\n",
        "\n",
        "h = m % (60 * 24) // 60\n",
        "m2 = m % 60\n",
        "\n",
        "print(\"Количество часов, прошедших с начала суток:\", h)\n",
        "print(\"Количество минут, прошедших с момента начала последнего часа:\", m2)\n",
        "\n",
        "\n",
        "\n",
        "# --------------\n",
        "# Пример вывода:\n",
        "#\n",
        "# Количество минут, прошедшее с начала суток: 123\n",
        "# Количество часов, прошедших с начала суток: 2\n",
        "# Количество минут, прошедших с момента начала последнего часа: 3\n"
      ],
      "metadata": {
        "colab": {
          "base_uri": "https://localhost:8080/"
        },
        "id": "0mffAFLCy6ss",
        "outputId": "36e8de54-f54d-47fc-d4f7-ec12f2701cd3"
      },
      "execution_count": null,
      "outputs": [
        {
          "output_type": "stream",
          "name": "stdout",
          "text": [
            "Количество минут, прошедшее с начала суток:123\n",
            "Количество часов, прошедших с начала суток: 2\n",
            "Количество минут, прошедших с момента начала последнего часа: 3\n"
          ]
        }
      ]
    },
    {
      "cell_type": "markdown",
      "source": [
        "# № 3.2.6\n",
        "\n",
        "Дано уравнение ax + b = 0 и отрезок [m;n]. Ответьте на вопрос, попадает ли решение уравнения в указанный отрезок.\n",
        "\n",
        "Решение (начало и общий ход мыслей):\n",
        "\n",
        "Аналитическое решение.\n",
        "\n",
        "Коэффициенты уравнения и величина отрезка - произвольны, возьмем целые числа. Решение x при этом может быть дробным. После определения x составим логическое выражение попадания в отрезок, что и будет ответом.\n",
        "\n",
        "Алгоритм.\n",
        "\n",
        "- ввести все неизвестные величины;\n",
        "- определить корень уравнения;\n",
        "- составить логическое выражение попадания корня в область;\n",
        "- вывести результат попадания на экран"
      ],
      "metadata": {
        "id": "tU9EXWlYI6ap"
      }
    },
    {
      "cell_type": "code",
      "source": [
        "a = int(input(\"a=\"))\n",
        "b = int(input(\"b=\"))\n",
        "m = int(input(\"m=\"))\n",
        "n = int(input(\"n=\"))\n",
        "\n",
        "\n",
        "x = -b//a\n",
        "\n",
        "is_ok = bool((x>=m) and (x<=n))\n",
        "\n",
        "print(\"Попадает:\", is_ok)\n",
        "\n",
        "\n",
        "\n",
        "# --------------\n",
        "# Пример вывода:\n",
        "#\n",
        "# Введите a = 1\n",
        "# Введите b = 2\n",
        "# Введите m = -5\n",
        "# Введите n = 5\n",
        "# Попадает: True\n"
      ],
      "metadata": {
        "id": "Y5OjjiM7JBaZ",
        "colab": {
          "base_uri": "https://localhost:8080/"
        },
        "outputId": "bdbdf5fe-f942-4d7a-c3c4-3d7dc384b6be"
      },
      "execution_count": null,
      "outputs": [
        {
          "output_type": "stream",
          "name": "stdout",
          "text": [
            "a=1\n",
            "b=2\n",
            "m=-5\n",
            "n=5\n",
            "Попадает: True\n"
          ]
        }
      ]
    },
    {
      "cell_type": "markdown",
      "source": [
        "# 3.2.2. Строки\n",
        "# № 3.2.7\n",
        "\n",
        "Составьте программу, которая запрашивает название футбольной команды и повторяет его на экране со словами\n",
        "\n",
        "... - чемпион!\n",
        "После этого выполните:\n",
        "\n",
        "используя операцию дублирования, нарисуйте черту (набор \"-\"), длиной, равной размеру названия команды;\n",
        "\n",
        "преобразуйте строку в нижний регистр и выведите на экран:\n",
        "\n",
        "длину наименования команды;\n",
        "\n",
        "есть ли в наименовании команды буква \"п\" (True/False)?\n",
        "\n",
        "сколько раз повторяется буква \"а\"?"
      ],
      "metadata": {
        "id": "T5_909FzmVeG"
      }
    },
    {
      "cell_type": "code",
      "source": [
        "team = input(\"Введите название команды: \")\n",
        "\n",
        "print((team)+\"-чемпион!\")\n",
        "\n",
        "team_lowercase =  print(team.lower())\n",
        "print(\"Символов в названии команды: \", len(team))\n",
        "print(\"Буква 'п' есть:\", bool(\"п\" in team))\n",
        "print(\"Количество букв 'a':\",team.find('а'))\n",
        "\n",
        "\n",
        "# --------------\n",
        "# Пример вывода:\n",
        "#\n",
        "# Введите название команды: Спартак\n",
        "# Спартак - чемпион!\n",
        "# -------\n",
        "# Символов в названии команды: 7\n",
        "# Буква \"п\" есть: True\n",
        "# Количество букв \"а\": 2\n"
      ],
      "metadata": {
        "colab": {
          "base_uri": "https://localhost:8080/"
        },
        "id": "KBCmDqOFnEPD",
        "outputId": "9d82486c-b3a2-49df-830c-2807dbf649ac"
      },
      "execution_count": null,
      "outputs": [
        {
          "output_type": "stream",
          "name": "stdout",
          "text": [
            "Введите название команды: Спартак\n",
            "Спартак-чемпион!\n",
            "спартак\n",
            "Символов в названии команды:  7\n",
            "Буква 'п' есть: True\n",
            "Количество букв 'a': 2\n"
          ]
        }
      ]
    },
    {
      "cell_type": "markdown",
      "source": [
        "# № 3.2.8\n",
        "\n",
        "Составьте программу, которая запрашивает название государства и его столицы, а затем выводит сообщение:\n",
        "\n",
        "Государство - ..., столица - ...\n",
        "На месте многоточий должны быть выведены соответствующие значения."
      ],
      "metadata": {
        "id": "Gg6CvLRfsNSE"
      }
    },
    {
      "cell_type": "code",
      "source": [
        "country =input(\"Введите название государства:\")\n",
        "capital = input(\"Введите название столицы:\")\n",
        "\n",
        "print('Государство -',country,', столица -',capital)\n",
        "# --------------\n",
        "# Пример вывода:\n",
        "#\n",
        "# Введите название государства: Россия\n",
        "# Введите название столицы: Москва\n",
        "# Государство - Россия, столица - Москва"
      ],
      "metadata": {
        "colab": {
          "base_uri": "https://localhost:8080/"
        },
        "id": "BVRy-oVBs7rn",
        "outputId": "5936b904-73b4-480e-bdaf-80a864c0b1ce"
      },
      "execution_count": null,
      "outputs": [
        {
          "output_type": "stream",
          "name": "stdout",
          "text": [
            "Введите название государства:Россия\n",
            "Введите название столицы:Москва\n",
            "Государство - Россия , столица - Москва\n"
          ]
        }
      ]
    },
    {
      "cell_type": "markdown",
      "source": [
        "# № 3.2.9\n",
        "\n",
        "Дано слово объектно-ориентированный. Используя индексацию и срезы составьте из него слова объект, ориентир, тир, кот, рента и выведите их на экран."
      ],
      "metadata": {
        "id": "n-fjuerjvSXK"
      }
    },
    {
      "cell_type": "code",
      "source": [
        "word = \"объектно-ориентированный\"\n",
        "\n",
        "w1 = word[:6]\n",
        "w2 = word[9:17]\n",
        "w3 = word[14:17]\n",
        "w4 = word[4]+word[7]+word[5]\n",
        "w5 = word[10]+word[12:15]+word[19]\n",
        "\n",
        "print(w1, w2, w3, w4, w5, sep=\"\\n\")"
      ],
      "metadata": {
        "colab": {
          "base_uri": "https://localhost:8080/"
        },
        "id": "1GK9THTpvlan",
        "outputId": "066b2471-5908-46ce-a01a-f2aedf3a155d"
      },
      "execution_count": null,
      "outputs": [
        {
          "output_type": "stream",
          "name": "stdout",
          "text": [
            "объект\n",
            "ориентир\n",
            "тир\n",
            "кот\n",
            "рента\n"
          ]
        }
      ]
    },
    {
      "cell_type": "markdown",
      "source": [
        "# № 3.2.10\n",
        "\n",
        "Создайте 2 пустых списка и выполните операции, описанные в заготовке."
      ],
      "metadata": {
        "id": "7OIymK_51bRV"
      }
    },
    {
      "cell_type": "markdown",
      "source": [
        "# № 3.2.11\n",
        "\n",
        "Создайте пустой словарь для хранения информации о себе и выполните операции, описанные в заготовке."
      ],
      "metadata": {
        "id": "l-ZaXEND1dnu"
      }
    }
  ]
}