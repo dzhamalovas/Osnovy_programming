{
  "nbformat": 4,
  "nbformat_minor": 0,
  "metadata": {
    "colab": {
      "provenance": [],
      "authorship_tag": "ABX9TyOXzO0PPAybfO6m+XnM+D/n",
      "include_colab_link": true
    },
    "kernelspec": {
      "name": "python3",
      "display_name": "Python 3"
    },
    "language_info": {
      "name": "python"
    }
  },
  "cells": [
    {
      "cell_type": "markdown",
      "metadata": {
        "id": "view-in-github",
        "colab_type": "text"
      },
      "source": [
        "<a href=\"https://colab.research.google.com/github/dzhamalovas/Osnovy_programming/blob/main/%D0%9B%D0%B0%D0%B16.ipynb\" target=\"_parent\"><img src=\"https://colab.research.google.com/assets/colab-badge.svg\" alt=\"Open In Colab\"/></a>"
      ]
    },
    {
      "cell_type": "markdown",
      "source": [
        "6.2.1"
      ],
      "metadata": {
        "id": "wVmUUdODBGiU"
      }
    },
    {
      "cell_type": "code",
      "source": [
        "def foo(a):\n",
        "    \"\"\"!!!\n",
        "    1. Располагает числа в порядке возрастания. \n",
        "    Сложность кода: O(N^2)\n",
        "Для оценки вычислительной сложности алгоритмов необходимо знать и учитывать сложности:\n",
        "используемых структур данных;\n",
        "совокупности различных операций. !!!.\n",
        "    \"\"\"\n",
        "    for i in range(len(a), 0, -1):    #O(N)+O(1)=O(N)\n",
        "        for j in range(1, i):   #O(N)   \n",
        "            if a[j-1] > a[j]: #O(len(a))+O(1)=O(len(a))\n",
        "                a[j-1], a[j] = a[j], a[j-1] #O(1)+O(1)+O(1)=O(1)\n",
        "    return a    #O(1)\n",
        "\n",
        "\n",
        "a = [1, 2, 3, 4, 2, 1, 3, 4, 3, 5, -2, -2, 2, -2, 65, 2, 2]\n",
        "foo(a)\n"
      ],
      "metadata": {
        "colab": {
          "base_uri": "https://localhost:8080/"
        },
        "id": "qVD92G64-kjY",
        "outputId": "8e207a96-cc93-4125-833b-4dcba5efbb3f"
      },
      "execution_count": null,
      "outputs": [
        {
          "output_type": "execute_result",
          "data": {
            "text/plain": [
              "[-2, -2, -2, 1, 1, 2, 2, 2, 2, 2, 3, 3, 3, 4, 4, 5, 65]"
            ]
          },
          "metadata": {},
          "execution_count": 1
        }
      ]
    },
    {
      "cell_type": "markdown",
      "source": [
        "6.2.2"
      ],
      "metadata": {
        "id": "UEMsI-8VBD4P"
      }
    },
    {
      "cell_type": "code",
      "source": [
        "def foo(i):\n",
        "    \"\"\"\n",
        "    1. Преобразует число в строку\n",
        "    Сложность: O(N).\n",
        "    \"\"\"\n",
        "    digits = \"0123456789\"  #O(len(n))\n",
        "    if i == 0:    #O(1)\n",
        "      return \"0\"    #O(1)\n",
        "    result = \"\"  #O(1)\n",
        "    while i > 0:  # O(N)\n",
        "      result = digits[i%10] + result  #O(1)\n",
        "      i = i // 10  #O(1)+O(1)=O(1)\n",
        "    return result  #O(1)\n",
        "\n",
        "\n"
      ],
      "metadata": {
        "id": "Hs7oCNdPM9lp"
      },
      "execution_count": null,
      "outputs": []
    },
    {
      "cell_type": "markdown",
      "source": [
        "6.2.3\n"
      ],
      "metadata": {
        "id": "Mqm_YCveBQ5f"
      }
    },
    {
      "cell_type": "code",
      "source": [
        "def foo(s):\n",
        " \"\"\"\n",
        " 1. Функция \"вытаскивает\" все цифры из строки и преобразовывает их в целое число\n",
        "Параметры:\n",
        "- s (str): строка.\n",
        "Сложность: O(N^2).\n",
        "\"\"\"\n",
        "  val = 0 #O(1)\n",
        "  for c in s: #O(N)\n",
        "    if c.isdigit(): #O(N)+O(N)/ O(len(c))\n",
        "     val += int(c) #O(1)\n",
        "  return val #O(1)\n",
        "\n"
      ],
      "metadata": {
        "id": "xSMLkx6EVpsd"
      },
      "execution_count": null,
      "outputs": []
    },
    {
      "cell_type": "markdown",
      "source": [
        "6.2.4"
      ],
      "metadata": {
        "id": "5_yr1AxKBbe9"
      }
    },
    {
      "cell_type": "code",
      "source": [
        "\n",
        "def foo(n):\n",
        "    \"\"\"!!!\n",
        "  1. Выводит все простые числа до n\n",
        "    Параметры:\n",
        "        - n (int): число.\n",
        "\n",
        "    Сложность: O(N^2).\n",
        "    \"\"\"\n",
        "    res = [] #O(1)\n",
        "    for i in range(1, n + 1): #O(N)+O(N)+O(1)=O(N)\n",
        "        divisors = 0 #O(1)\n",
        "        j = 2 #O(1)\n",
        "        while j < i and divisors == 0: #O(N)+O(1)+O(N)\n",
        "            if i % j == 0: #O(1)\n",
        "                divisors += 1 #O(1)\n",
        "            j += 1 #o(1)\n",
        "\n",
        "        if divisors == 0: #O(1)+O(1)=O(1)\n",
        "            res.append(i) #O(1)\n",
        "\n",
        "    return res #O(1)\n",
        "\n"
      ],
      "metadata": {
        "id": "Q_9U9gnHWARx"
      },
      "execution_count": null,
      "outputs": []
    },
    {
      "cell_type": "markdown",
      "source": [
        "6.2.6"
      ],
      "metadata": {
        "id": "tsv-PM-DBWCk"
      }
    },
    {
      "cell_type": "code",
      "source": [
        "def foo(nums):\n",
        "    \"\"\"!!!\n",
        "  1. Проверяет список на наличие четных цифр внутри него \n",
        "\n",
        "    Параметры:\n",
        "        - nums (list): список.\n",
        "\n",
        "    Сложность: O(N)\n",
        "    \"\"\"\n",
        "    for x in nums: #O(N)\n",
        "        if x % 2 == 0: #O(1)\n",
        "            return True #O(1)\n",
        "    else:\n",
        "        return False #O(1)\n"
      ],
      "metadata": {
        "id": "wo3VmItomMyd"
      },
      "execution_count": null,
      "outputs": []
    }
  ]
}