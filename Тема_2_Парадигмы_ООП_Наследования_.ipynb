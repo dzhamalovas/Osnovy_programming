{
  "nbformat": 4,
  "nbformat_minor": 0,
  "metadata": {
    "colab": {
      "provenance": [],
      "authorship_tag": "ABX9TyOcYYLjiBg+rkE5KhBC1anZ",
      "include_colab_link": true
    },
    "kernelspec": {
      "name": "python3",
      "display_name": "Python 3"
    },
    "language_info": {
      "name": "python"
    }
  },
  "cells": [
    {
      "cell_type": "markdown",
      "metadata": {
        "id": "view-in-github",
        "colab_type": "text"
      },
      "source": [
        "<a href=\"https://colab.research.google.com/github/dzhamalovas/Osnovy_programming/blob/main/%D0%A2%D0%B5%D0%BC%D0%B0_2_%D0%9F%D0%B0%D1%80%D0%B0%D0%B4%D0%B8%D0%B3%D0%BC%D1%8B_%D0%9E%D0%9E%D0%9F_%D0%9D%D0%B0%D1%81%D0%BB%D0%B5%D0%B4%D0%BE%D0%B2%D0%B0%D0%BD%D0%B8%D1%8F_.ipynb\" target=\"_parent\"><img src=\"https://colab.research.google.com/assets/colab-badge.svg\" alt=\"Open In Colab\"/></a>"
      ]
    },
    {
      "cell_type": "markdown",
      "source": [
        "# Пример построения иерархии классов, представленных на рисунке 2.1"
      ],
      "metadata": {
        "id": "MuLOBpWOxg-c"
      }
    },
    {
      "cell_type": "code",
      "execution_count": null,
      "metadata": {
        "colab": {
          "base_uri": "https://localhost:8080/"
        },
        "id": "JjPwulUVxUR_",
        "outputId": "056b0ebf-d474-4109-836e-8fd398a3e93d"
      },
      "outputs": [
        {
          "output_type": "stream",
          "name": "stdout",
          "text": [
            "Петр говорит\n",
            "Человек без имени говорит\n",
            "Елена говорит\n"
          ]
        }
      ],
      "source": [
        "class Person:\n",
        "  def __init__(self, nаmе='Человек без имени'):\n",
        "    self.nаmе = nаmе\n",
        "    self.age = 0\n",
        "  def say(self):\n",
        "    print(\"{0} говорит\".format(self.nаmе))\n",
        "# Person - родительский класс\n",
        "class Employee(Person):\n",
        "  def set_job(self, job_title='Безработный'):\n",
        "    self.job_title = job_title\n",
        "  def get_job(self):\n",
        "    print(self.job_title)\n",
        "class Customer(Person):\n",
        "  def set_email(self, email='Heт почты'):\n",
        "    self.email = email\n",
        "  def get_email(self):\n",
        "    print(self.email)\n",
        "# создаем человека с именем 'Петр':\n",
        "person = Person('Петр')\n",
        "# просим человека что-нибудь сказать:\n",
        "person.say()\n",
        "# создаем работника без имени:\n",
        "emp = Employee()\n",
        "emp.say() # метод наследовался из класса Person\n",
        "# хотим, чтобы в момент создания Employee\n",
        "# заполнялась должность\n",
        "cust = Customer('Елена')\n",
        "cust.say()\n",
        "# метод наследовался из класса Person\n",
        "# хотим, чтобы в момент создания Customer\n",
        "# заполнялась почта \n"
      ]
    },
    {
      "cell_type": "markdown",
      "source": [
        "## В примере по умолчанию наследуется конструктор базового класса Person, но в нем не определяются атрибуты дочерних классов. Исправим ситуацию путем переопределения конструктора в дочерних классах"
      ],
      "metadata": {
        "id": "RSRXHtYGyFrf"
      }
    },
    {
      "cell_type": "code",
      "source": [],
      "metadata": {
        "id": "j2HoFToeLX1h"
      },
      "execution_count": null,
      "outputs": []
    },
    {
      "cell_type": "code",
      "source": [
        "class Person:\n",
        "  def __init__(self, name='Человек без имени'):\n",
        "    self.name = name\n",
        "    self.age = 0\n",
        "  def say(self):\n",
        "    print(\"{0} говорит\".format(self.name))\n",
        "class Employee(Person):\n",
        "  # переопределяем конструктор:\n",
        "  def __init__(self, name):\n",
        "    # вызываем конструктор базового класса:\n",
        "    Person.__init__(self)\n",
        "    # определяем атрибут по умолчанию:\n",
        "    self.job_title = 'безработный'\n",
        "  def set_job(self, job_title='безработный'):\n",
        "    self.job_title = job_title\n",
        "  def get_job(self):\n",
        "    print('Игорь', self.job_title)\n",
        "\n",
        "class Customer(Person):\n",
        "  def __init__(self, name):\n",
        "    Person.__init__(self)\n",
        "    self.email = 'не имеет почты'\n",
        "  def set_email(self, email='не имеет почты'):\n",
        "    self.email = email\n",
        "  def get_email(self):\n",
        "    print('Петр', self.email)\n",
        "person = Person('Иван')\n",
        "person.say()\n",
        "emp = Employee('Игорь')\n",
        "# emp.say()\n",
        "emp.get_job()\n",
        "cust = Customer('Петр')\n",
        "# cust.say()\n",
        "cust.get_email()"
      ],
      "metadata": {
        "colab": {
          "base_uri": "https://localhost:8080/"
        },
        "outputId": "23143e06-33b7-4022-949b-7cd261bc3ecc",
        "id": "iUYnxTDWSavh"
      },
      "execution_count": null,
      "outputs": [
        {
          "output_type": "stream",
          "name": "stdout",
          "text": [
            "Иван говорит\n",
            "Игорь безработный\n",
            "Петр не имеет почты\n"
          ]
        }
      ]
    },
    {
      "cell_type": "code",
      "source": [
        "class Person:\n",
        "  def __init__(self, name='Человек без имени'):\n",
        "    self.name = name\n",
        "    self.age = 0\n",
        "  def say(self):\n",
        "    print(\"{0} говорит\".format(self.name))\n",
        "class Employee(Person):\n",
        "  # переопределяем конструктор:\n",
        "  def __init__(self, name):\n",
        "    # вызываем конструктор базового класса:\n",
        "    Person.__init__(self)\n",
        "    # определяем атрибут по умолчанию:\n",
        "    self.job_title = 'Безработный'\n",
        "  def set_job(self, job_title='Безработный'):\n",
        "    self.job_title = job_title\n",
        "  def get_job(self):\n",
        "    print(self.name, self.job_title)\n",
        "\n",
        "class Customer(Person):\n",
        "  def __init__(self, name):\n",
        "    Person.__init__(self)\n",
        "    self.email = 'Нет почты'\n",
        "  def set_email(self, email='Нет почты'):\n",
        "    self.email = email\n",
        "  def get_email(self):\n",
        "    print(self.name, self.email)\n",
        "person = Person('Иван')\n",
        "person.say()\n",
        "emp = Employee('Игорь')\n",
        "# emp.say()\n",
        "emp.get_job()\n",
        "cust = Customer('Петр')\n",
        "# cust.say()\n",
        "cust.get_email()"
      ],
      "metadata": {
        "colab": {
          "base_uri": "https://localhost:8080/"
        },
        "id": "ZiRI5UvfyJdL",
        "outputId": "7708f447-332f-45b6-a1f8-95795d46d9b8"
      },
      "execution_count": null,
      "outputs": [
        {
          "output_type": "stream",
          "name": "stdout",
          "text": [
            "Иван говорит\n",
            "Человек без имени Безработный\n",
            "Человек без имени Нет почты\n"
          ]
        }
      ]
    },
    {
      "cell_type": "markdown",
      "source": [
        "## Если язык программирования поддерживает множественное наследование, то у одного класса-потомка, может быть, несколько родительских классов. Язык Python поддерживает множественное наследование. Поля родительского класса при наследовании переходят к классу-потомку. Кроме того, поля родительского класса могут переопределены у потомка."
      ],
      "metadata": {
        "id": "2eMCr5rdzQo8"
      }
    },
    {
      "cell_type": "code",
      "source": [
        "class A:\n",
        "  def some_function(self):\n",
        "    print(\"First function\")\n",
        "  def other_function(self):\n",
        "    print(\"Second function\")\n",
        "class B:\n",
        "  def method_in_B(self):\n",
        "    print(\"Third function\")\n",
        "class C(A):\n",
        "  def other_function(self):\n",
        "    print(\"Replaced function\")\n",
        "class D(B, C):\n",
        "  pass\n",
        "# Посмотрим все атрибуты класса, не являющиеся служебными\n",
        "print(\"A:\\t\", list(filter(lambda x: \"__\" not in x, dir(A)))) # \\t - (tab) табуляция\n",
        "print(\"B:\\t\", list(filter(lambda x: \"__\" not in x, dir(B)))) # \\t - (tab) табуляция\n",
        "print(\"C(A):\\t\", list(filter(lambda x: \"__\" not in x, dir(C)))) # \\t - (tab) табуляция\n",
        "print(\"D(B,C):\\t\", list(filter(lambda x: \"__\" not in x, dir(D)))) # \\t - (tab) табуляция\n",
        "print()\n",
        "# Посмотрим на реализацию функции в D\n",
        "d = D()\n",
        "d.method_in_B()\n",
        "d.some_function()\n",
        "d.other_function()\n",
        "print() \n"
      ],
      "metadata": {
        "colab": {
          "base_uri": "https://localhost:8080/"
        },
        "id": "ipgtySQIzl4s",
        "outputId": "f42b8e5a-11d5-425a-e239-d908bf7a486a"
      },
      "execution_count": null,
      "outputs": [
        {
          "output_type": "stream",
          "name": "stdout",
          "text": [
            "A:\t ['other_function', 'some_function']\n",
            "B:\t ['method_in_B']\n",
            "C(A):\t ['other_function', 'some_function']\n",
            "D(B,C):\t ['method_in_B', 'other_function', 'some_function']\n",
            "\n",
            "Third function\n",
            "First function\n",
            "Replaced function\n",
            "\n"
          ]
        }
      ]
    },
    {
      "cell_type": "markdown",
      "source": [
        "# Наследование – одна из самых важных и мощных парадигм ООП. При наследовании мы оперируем такими понятиями, как родительский класс и класс потомок. Класс-потомок наследует методы и переменные, определенные в родительском классе."
      ],
      "metadata": {
        "id": "-uzSMYX30yxC"
      }
    },
    {
      "cell_type": "code",
      "source": [
        "class A:\n",
        "  var_A = 1\n",
        "  def method_A(self):\n",
        "    print(\"A\")\n",
        "class B(A):\n",
        "  var_B = 2\n",
        "  def method_B(self):\n",
        "    print(\"B\")\n",
        "class C(B):\n",
        "  var_C = 3\n",
        "  def method_C(self):\n",
        "    print(\"C\")\n",
        "print(\"A:\\t\", list(filter(lambda x: \"__\" not in x, dir(A))))\n",
        "print(\"B(A):\\t\", list(filter(lambda x: \"__\" not in x, dir(B))))\n",
        "print(\"C(B):\\t\", list(filter(lambda x: \"__\" not in x, dir(C))))\n",
        "print()\n"
      ],
      "metadata": {
        "colab": {
          "base_uri": "https://localhost:8080/"
        },
        "id": "UBSUigH1020O",
        "outputId": "d9b0b707-363e-44ab-990a-d02eabaa65ff"
      },
      "execution_count": null,
      "outputs": [
        {
          "output_type": "stream",
          "name": "stdout",
          "text": [
            "A:\t ['method_A', 'var_A']\n",
            "B(A):\t ['method_A', 'method_B', 'var_A', 'var_B']\n",
            "C(B):\t ['method_A', 'method_B', 'method_C', 'var_A', 'var_B', 'var_C']\n",
            "\n"
          ]
        }
      ]
    },
    {
      "cell_type": "markdown",
      "source": [
        "## При наследовании класс-потомок может переопределять методы и переменные родительского класса:"
      ],
      "metadata": {
        "id": "kItEEF991a_m"
      }
    },
    {
      "cell_type": "code",
      "source": [
        "class A:\n",
        "  value = 13\n",
        "  def some_method(self):\n",
        "    print(f\"Method in A, value = {self.value}\")\n",
        "class B(A):\n",
        "  def some_method(self):\n",
        "    print(f\"Method in B, value = {self.value}\")\n",
        "class C(B):\n",
        "  value = 6\n",
        "  def some_method(self):\n",
        "    print(f\"Method in C, value = {self.value}\")\n",
        "A().some_method()\n",
        "B().some_method()\n",
        "C().some_method()\n",
        "print()\n"
      ],
      "metadata": {
        "colab": {
          "base_uri": "https://localhost:8080/"
        },
        "id": "dlOtFtJO1x-X",
        "outputId": "dad2dbb6-5539-4be7-8207-e1ae0887985a"
      },
      "execution_count": null,
      "outputs": [
        {
          "output_type": "stream",
          "name": "stdout",
          "text": [
            "Method in A, value = 13\n",
            "Method in B, value = 13\n",
            "Method in C, value = 6\n",
            "\n"
          ]
        }
      ]
    },
    {
      "cell_type": "markdown",
      "source": [
        "## Множественное наследование позволяет получить доступ к атрибутам нескольких родительских классов."
      ],
      "metadata": {
        "id": "e-3okUfa13Gq"
      }
    },
    {
      "cell_type": "code",
      "source": [
        "class A:\n",
        "  def some_function(self):\n",
        "    print(\"First function\")\n",
        "  def other_function(self):\n",
        "    print(\"Second function\")\n",
        "class B:\n",
        "  def method_in_B(self):\n",
        "    print(\"Third function\")\n",
        "class С(A, B):\n",
        "  pass\n",
        "# Посмотрим все атрибуты класса, не являющиеся служебными\n",
        "print(\"A:\\t\", list(filter(lambda x: \"__\" not in x, dir(A))))\n",
        "print(\"B:\\t\", list(filter(lambda x: \"__\" not in x, dir(B))))\n",
        "print(\"С(A,B):\\t\", list(filter(lambda x: \"__\" not in x, dir(С))))\n",
        "print() \n"
      ],
      "metadata": {
        "colab": {
          "base_uri": "https://localhost:8080/"
        },
        "id": "aXqvJ1Dv19To",
        "outputId": "fbe201d8-6530-42c6-d2e7-b5deb660ce37"
      },
      "execution_count": null,
      "outputs": [
        {
          "output_type": "stream",
          "name": "stdout",
          "text": [
            "A:\t ['other_function', 'some_function']\n",
            "B:\t ['method_in_B']\n",
            "С(A,B):\t ['method_in_B', 'other_function', 'some_function']\n",
            "\n"
          ]
        }
      ]
    },
    {
      "cell_type": "markdown",
      "source": [
        "# Ромб смерти"
      ],
      "metadata": {
        "id": "8DYiID-f2gt_"
      }
    },
    {
      "cell_type": "markdown",
      "source": [
        "Одна из проблем множественного наследования – Ромб Смерти.\n",
        "![image.png](data:image/png;base64,iVBORw0KGgoAAAANSUhEUgAAALUAAADbCAYAAAArrdCDAAAAAXNSR0IArs4c6QAAAARnQU1BAACxjwv8YQUAAAAJcEhZcwAADsMAAA7DAcdvqGQAABz0SURBVHhe7Z0JvBVVHcePLWIGgoprgiAqZW6sD+ghiEg+IYXEbLEULYsgTS1QMcFKJZcKSUxTtFwyWxBxX0BxBQVElCVAFiFREWWRKINpvn/u/zbvch8+ezPz3pz5fz+f87n3zZ1355wzv/s//znL/+wQhDjD8IiPFV4NwxtM1IZ3mKgN7zBRG95hoja8w0RteIeJ2vCOXPVTb9myxa1fv17Sxz7mz+9Zb+EOO+zg9thjD/fxj39c3pPySK5E/fbbb7szzzzTLV68WG68L+gt/MQnPuH+9re/uVatWsnfJuocsGjRIjd06FA3btw4t/vuuxeOZh9u4TvvvCNlGzt2rGvTpo0cz6uoqZDcEIo6qKqqClatWlU44gehWyVlomyUkb9JecUeFA3vyJ2ofWySc+tm1ECuRG03Px+Y+2F4h4na8A4TteEdJmrDO0zUhneYqA3vMFEb3mGiNrzDRJ0AQRCUTUY6mKhjppyQTdDpYqJOiHfffdfNnz/fLViwwP3rX/8qHDXSwESdAP/5z3/cxRdf7Lp06eKOPvpoN3369MInZrXTwESdAG+99Za7//773YYNG+T9ww8/7DZv3myCTgkTdUxEfejHHnvMrVq1yvXu3ds1adLEPfroo7IyxUSdDibqGEG0+M/33Xef++QnP+mGDBniKioq3Lx589ysWbMKZxlJY6KOmRUrVrgpU6a4Qw45RARdVVXlNm3aJO7IBx98UDjLSBITdcwg3rVr17pevXq55s2buz59+rhdd91VhM5qdiN5TNQxohYZP/qEE06QMAz777+/a9eunYRleOGFFwpnGklioo4RhPvss8+6ww47zLVu3dq9//774mdjrf/973+7iRMnyqs+VNqDYzKYqGMCgRJIBiEz6HLiiSe6nj17Sj/1DTfcIJ8/88wz0itiJIuJOiYIZfbggw+6Ro0aiZXeeeed3ac//Wl53Xfffd0+++zjlixZ4p5++unCfxhJYaKuI+pGYJ1nzpzpOnbsKOJ+5JFHJNFnTbrooouK1tyGzZPFRF0HEKm+3nHHHTJqeNxxx7mmTZu6HXfcURL91aRjjz1WQp3xsLh8+XL5PyMZTNR1BEGvXr3aPf74465Zs2aub9++ZSOq0gty5JFHSj/25MmT5f8sDkkymKhjgBHDjRs3uu7du7uDDz5YxKpJISLpqaee6vbbbz/35JNPyvlq6Y14MVHHACOHM2bMcLfddpv71Kc+VThaHQT+1a9+VYbLibpa03lG3TFR1xHESo8Ho4aNGzeuZp2jcBzferfddhM3xaeg7w0Nq9k6gFDLpXKUO49kxI+J2vAOE7XhHSZqwztM1IZ3mKgN7zBRG96RK1FHR/DYKLQ2ifkc5VK5c+NI5a5FKneuJj5XbJTS5W8fRVakdOvWze2yyy6Fo9snWj1p9itz3Y9yvXXr1skChXvvvdcdcMABue4Hz5WoWTvITWcif21vOLE7JkyY4Pr37y/LtJKG28E177nnHjdgwACZkw21yS9zt/nRkk8TtVHNIut7ZtSdf/75xeA0DIMnDdfmR8dsv7322stdddVVrkWLFoVPt4o7r2KtLfagWAb8VFaoDBo0yM2ePdtVVlaKFUwLroWLxLXZSx23gjwZtSP3osYyqmXmlVUpN998s7vgggvc9773PVlEy1rDtK0jaxu59ne+8x03bNgwd8sttxQX7SJwzbOxLWapQ1TYTPZHQJMmTXLXX3+9WMvXX39dxJUm/IAOP/xwt2zZMnfUUUe56667Tvz6Cy+8UMKXGdvHLHXB4r366qvum9/8pkwJxSoiZOZIH3TQQTKtNG24Zps2bWTdIwK/9dZbJZrqaaedJushjZrJpaijTTiv9DTgP3/lK19xo0ePlrWEfIYv26lTJ1lrmDZcs0OHDpIHLDfRnq688krp3UDYxOtD5ORTf5hGgbBCckco5GDz5s3BunXrgpEjRwahmxE899xzQSgSOU5au3Zt0KdPnyC0lHI+KU243vTp04OqqirJp+aLPIYPsUFFRUVw2WWXBRs2bEg9bw2dXFnqsLzFhL96xhlnSFSlu+++Wyxy9GFw5cqV7p///KfE8OD8+gD347333isGwCF/JHz9P//5z27OnDnyIEnXY7RsmvJK7kQdWjsJ1kgTTvP+29/+VgLN4EtrQjhPPfWUrP7e3hKtpOHaRxxxhAtbkWIeVNgs4P3d737n2rZtK88CdEFStrwLGnIlaiwvi14vueQSN3z4cBlYKbcAFl/1xRdfdJ07d5Ygj/UFK9AJjjNt2rSiYKPQn02PyNlnny3lGT9+vAXKgbCivEb94bAZD84666yga9euwauvvlr0UfVzTRx76623gsrKymDRokXVPksTzcvcuXODnj17BqtXr5a/Ff1cX2fPnh20b98+OOecc4L169ennt+GRC4sdVhOsXo01QQ+f/755yXuhhJ1L3j/97//XaIs7b333sVj0XPSBDeDvC9durRwpDqUjbkiBJ8kjwceeKCcn2dy437gZtBMM6hCd9h3v/td2Q4OUZCiEGwG12OnnXYqHKkfECkuBg+x5Ak0v/oje+WVV2Qo/YknnpCR0MGDB9dLF2RDwntRc/P1ARD/OGyixffkIfH00093v//97yVYuooFv/vll18WUdeXdQauTX7IN371Sy+9JK2M5hPrzEMugmbXAh4aGTCijPqwm1dy9aCoMJcaS42L8atf/UqEsXDhQvmMLSwI4Ej0/4YiDCz1a6+9JsP4EPrZ0nuDkBko+ta3vpXKDMKskCtRY+FUqHfeeadETCLMLpaQOHe33XabbOSJX4rgOb++iOaVqE5MQ8Va33jjjdLCsJ0dW9lhlSmLESGsvNxALwEp9EODI488UkYL9diMGTOCfv36BS1atAjGjBkjx+hBaAi9CORl9OjRQcuWLYOTTjopmDNnTjF/s2bNCsJWRcrEMSMIvF8kEC0e7/GZmefRtWtXeXDEGqpFZDeAP/7xjzJi9/nPf77aZ/UJ+SauNSOIBJmM9q3z2bXXXisDNDwr6EoZaAh5rw9yJerQssmNZ0kXrga+tQpXz9NXmvWGAnnaXr4YSsev/tKXviRD/1qmvIqayvIadSFINNGdO3cOQqtX1r0o/bshsb28URbKRNlwTRpyOdIgNw+KDLZcdtllMr2UOR3lrFhDtm7byxvHKRNlo4wa0F1T3vBe1NzU0JJJDwF9u9/+9reL/bjbE0rWoEx0TbJol7LmVdBCWHCvoRlm/oS6HTpn2icoj7pTlLFTp07V5rfkDW8tdXiDJTFaOGrUKGmaGVBRK+0T0RaHMp5yyinupz/9qZQ9j3jvfrAVnLodDCH75HIo0TLxihtC9yRlzyUFi+0FNL+aaHYXLFgQHHHEETKwos2zz0TLT5kZYJo/f36143nAW0tNjIwRI0bIqhBWj/hmncuhFptEmRn6v/jii4sTtvKCd6Lm5oUWyd1+++3idpx11lm5EHQpPDuwfpE6wA3Jk6i9cj/0aZ8ml1Ug0ZXgeWl6FcpLXagbMm/evKIL5nt9eGepmdsxcuRImSNBEBjQJjmP4IZ84xvfkB6gvLghXoiaG6U3iwlJPPnn1e1QqA/9MeOGUCe5GZQJC5hptJklMcjCwANBYHxuXj8KWj/USceOHaWO1A3xlcxbarXGzHdgwGHgwIEyAGFsRetH54ZQR9SVz61YZkUd/iCrpbvuuqvodpSbnplnEDArzNUN+dOf/iQ9RFp33hEWKpPQfGrTSm+Huh3qivjcvP6/UCfUEfNgor0hvpFpkxbmX57oze2oHdQXdfTlL3/Z67khmXc/cDveffddWR2u4QF8nLQUB9QJdcMOCWzqRN1Rh6G1LrojXhAWJJOo28ET/bRp04puh1EzuBok6kl7Q6hDrTtfXJHY1ijG9DW1hqaT9Xg0pwR6xAqlaZ2TulZa9Yhlvuaaa9ysWbPcTTfdJIt5fag/iE3UiIwYdETdTKNyCMPF4tkxY8ZUW0EdN1o9ul2FklQZERvzNajLpGGVzA9/+EOZ+MRmTWn8oLgGm5cShCcpYhM1K7R5+CCgYRqipmuKYDRYmKRvxptvvuk++9nPikXTsiUpanYGIz42cbOTLhvGiNDFGIYk7xvl4PuXLFkisydPPvnkwifxE5uoifvMTlZkOA1RK1pZSfLAAw+4iRMnuj/84Q9yrSSvh6iZLnviiSfKBqG+oDK7/PLLJaYK81GSIlZRszMsAc3TFHXSUD0PPvig9BQQTDJpUXM9YngwIUtFHdMtqncoB635wQcf7L7+9a8XjsZPbF160RutN96XpGVKA268Xov3KuhofrKa0iJWUaeZ8TRJs1x6La1PTb6QRllskoThHSZqwztM1IZ3mKgN7zBRG95hoja8w0RteIeJ2vAOE7XhHZkQtQ4XM9lH0WOlyagd5eqs3LEskhlRK6WVnvUb0BAordOskwlRs9srUz8nTZok87Y18ffUqVNljWKp0E3s26L1QqLVY2ffKVOmyF7tTK99/vnnJSZI6blZIxOivueee9yAAQMksRJaE39/8YtflIS4uVF6E3yaBBQn1M8777wjIX579OjhjjvuONe/f393wgknuGOPPdYdf/zxskAh6upljUyIWleIM8+YTeavv/56eWVf8aqqKjd79mz3gx/8wK1cubLwH0ZNrFmzxg0ZMsRdddVVrkmTJu5HP/qRu+6669wVV1whW0OzZpEJ/GxGmlUyIWqdfske4mxzQaQhXocOHSqrUbgZrOl79tlni5Y6i81mElAP2oKxbAtjMGHCBNevXz9xOX7+859LeIkf//jHsgiClUtY8tGjR2c2LkgmRF2Kuha8Nm7cWEL2csNWrFghx43qaH1RPyxWZvN+9lv8zGc+I8fVaGC5v/a1r8lyq+nTp2e2PjMp6qg1ZhsMFnOyAPfQQw+V46A30thaTySEysPhMcccIwuJS6HO9t57b3f11VeLi9e0adPCJ9kiM6Lmprz99ttuwYIFxcQm8xdddJF7+OGHZV/uLl26WHSmEtQKU38vv/yytGjt27cvPqeQFM7bcccd5QGShb977rlnJusyM6LGL8TP69ChQzFhcX7961+7Zs2aiV9I82mUh/rjIZHQbAceeGDhqJ9kQtRYGSwKFkQfEkkImVXX9K2edtpp7rHHHis+FJGMrWhdaL3UVDfRz6Mpa2TGUtMM4mIQKuuXv/xlMd1yyy1u7NixbvXq1RJTgiA3RnXUBSHK1ObNm92iRYsKn1RHRTxnzhzZ3YzXLJIpn5rEzYn6g/iAlZWVrkWLFtKtR+wR43+opaXe2E2A+uJZBHFrnWoCwsb95je/kV1zGYTJIpkRNXBjouiNYEcu4s81atRIQpEZ24IB6NSpk2vdurV7/PHH3cyZM4uuGugrLd60adPczjvvLOMCWSRTosa64D8T2BAR837x4sXuF7/4hVu1apVYbLqkjPIQ5/D0008vBoacP3++9IaopSZmNaO0c+fOlbqMdpFmiUy5HwwYsC8giaaUROXjVx922GEy5Iu1hlKrnleoB03s+0KcPjY0wlL36dPHff/733c33nij+9nPfibPLLgeLVu2lPBx9P1nkUyIet999xXxfu5znxNro4kRMYT9k5/8RPZPZGRRb6CxLdQLfc/M80C0dIWyqdHZZ58t3aULFy4UYVOXdJlmtR5jCxDJnAJC3iIw/Lc44eGFkUPQitZs0++KddZrxn0juI4GiLz11lvl+5O82VyP7km6KpkxFyd8t9YbrhyDWTxc03+ND92qVSux0jvttFO1MsZVXnx4WoSDDjooGwEik4QnduZ4lEs0kXH/iHxFf5AkXBHiX9P3r1N427Ztm/qOAkmQCTVEb4YSPRZNxvYpV2cflrKGmTjDO0zUhneYqA3vMFEb3mGiNrwjVlFrH6hvRPt3kyZ6nSSvqWWKpiTR70/jWrGJmozSuc5cgg8++CCRxACMJgZkdFCm3LlxJyXpGwJcQ6+r5Y3mJY5U7juTrEu+G20w6JM0sY0o3nDDDTKHgKVCSfdtkmVSGv2ofD+jbgzJR7ecS+q6GAZGFFn0ytZs0bLGSfQ7uSYDWElcR9HvnjFjhszRYYFvUsQmaha/vvLKK/I+qYqJ8o9//MP99a9/lQk60QWiSVybKmL0jR8scI2kyojAmGz0xhtvFI5sJY7rqbD0lq9bt05CTAwcOLA4uzGpcuk1+X7m6zB3JyliEzU3I6kKKQfTTnv16uWaN28uK2CYT5Dm9ZO6VpL1qLeaV1a/nHfeeTJ/mvnVzP2ANOqQ6yc5tSG2b05TUMCkm4qKClnpMmjQIPfoo4+m4q9BkmXV747J1lSD7+Z7H3nkEakzJqCxAl+nmKZ1D5O+Tqw/FzKbZiL2Gys52Bp41KhR7tprr5WoQtw4TUnkK0nKXa8uCbQuWCHEIoBLL71UZstRd0xkwmrquaX/n1RKksxaamB+NdMnmUdN5CHW1BFTj1UwWSfu+sRHZ0EAodnuvPNOd8ghh0h4MYLapCW2tEjOsUkYbgAPG7vssousej7ggANkvjM+9qmnnupeeuklOS9qtUm+U1pefPQXX3xRgj7Sg8MqIeZN81DPAzYLMHwjs6IG5lm3a9dObho3EIHjipxxxhlile6+++5qa/B8p7SM9A3fcccd0noRIwUXjTriPEKQsbDWy4XKYQEzSWiBJE2ZMiXo27dvEPqL8nf4sBiEQg5eeOGFoGfPnsGIESOCNWvWyHE+9xmtE9Lq1auDYcOGBb169Qpmzpwp5de0cePGIPSlg6lTp8rfvpFpSx3m37Vp00YeDtWPxi3hwYc+Zfxs+rOxUqw65/zwhkvyCS2Xvp83b55EsGJ1OEFp6BeO+szUCedTd7740VEyLWpuCGFp8aMJfqjHNOEv0iNCvAtcEvpjfRM0IGQIra6spyQ029FHHy09HdSP1ofC8wYLcPfYY4/CEb/ItKiBtXb0teIjIli9wQp9sMS4uOCCC8TfHjdunMwZ4TxNWQfB0l3HIBQxUOiy45lCw0VEQfhEaOrevbssWvaS8KZmmlDIwbRp04LevXsHGzZsKPqUCu/Vl5w9e3bQtm3b4NxzzxW/kmPRc7MK5Q5drCB0uYK5c+fWWC6OhS5JEFrxop/tQ/lLybylBrqo8KOXLVtWOPK/Jll5/fXXxUrTrUXsZXpOfIHRVTZ2YnU9k8pq6qenTni24HxCIfiKF6Lefffdpc+aTXiiYg6tkHRrsbsXcTSYtEM3H01vdBQt61AWRlf/8pe/yI/15JNPFt+aKZ/UhybKy2Sp/fffXyKg+lL+bQgLm3loRsePHx8MHTo0CEUsTSrdesuXLw/OPPPMoLKyMnjqqaeC8CbLuSQfodyUMXwgDioqKoIhQ4YEK1eulOOUedOmTcGgQYOC8IftpduhZN5Sh2WQV3o42HqOBya1zqeccorscUJTSxgtn6xzTVDGrl27yggrgR6x2vfff78MQhFUk7nhxCL0GS/cD9Ah88mTJ7tzzjlHFi1ceeWVEheO6ZXMvQZ+BD4Lm/LhhlBmXC16QugVGTZsmHRp0pXn49B4NTDXWYZmVN0NmtvwoTEYNWqUjKipq/H0008HnTt3DhYuXFg830coF2WkrJRZy//GG28Ew4cPD8IffnDhhRfKMV/rAGJbJFCfhDdIXumrxvXo1q1btT7Y8CZKVE8mxtMD4kO8uCh6CxlZHTx4sGxURL+81gGfUwdPPPGEWGrCHlN+X1uszIs6mv3oe71pHCOxKT9Lv5itxvo4fE9f0B81rhbD4iR6N0rLWHqrfRU1Bc00NKOatLnlfRT9jB6QLl26SBPtE5SNMtHjoZOUSKVoPWh9+UrmzVXU2qh1LgfHGU4n5jM7ErDGMSz/NtYrK5DvUJiSGPanTH379pWej5rqQY/X9LkveNEGl96s0humx2iO8TkJPzBp0qTMClrRck6cOFFGTJnv8WHzOUrrxkvCG5sbtFmmie7YsWPw2muvFZvirDXH5JeyLFmyJOjUqVPR7chqeeLEn6elWqAWm96Rfv36yaw9nbGXRejpoQy4VJQJtIy5sMg1kCtRK7ghLHFaunSpu/feewtHswduB0GEGGzKs4i3YavBzgfaJGvTTW9Ihw4dpAnn7yxAPknLli2TvDPIYi5HdXLnfkShp0DdEGa0ZQXyyiJa8k6PDuTd5YiSS/cDVATsIcg8bCZAhT/yYmpIlOaLvJJn8m5CLkNYUbmGpvzJJ5+UHgR6Q/i7oTXj6lqQN/JIXsmz5tXcjurk1lIrWDrckKqqKnf55ZdLj0JDhbyRR3o7dJDF2Jbcizr8Ycvi3SFDhkhPgg7KRFNDgHzcd999LrTUklfyrJi4SwgrK9do800iMA7zJ3RQpqG4IuRh8eLFkrfJkydLvkhGeXJvqaN84QtfkLV+hBloSG4IvR0seDjmmGNcZWVl4ahRE+ZTh023Nt/Mm2AgY8GCBfU+N4RrhxZa5kEzQESezj33XHE7GDzyaeps7Ii9NoruBgk3hCmqS5curTf3g+uSyANuB3kib/WVnyxhP/cIarVxQ9h6g54Gmv6wnlKz2tFr6ZTS3r17S57sgbB2mKgLqKBJ6oaw8ro+3BAVNqvAFy5cKIMs0d4O40MIK88oQd0QjZ/BPIu0mn11O4hZwgJa8qDHNBnbx4uFt7WltkXV80Jhu5EjR7o1a9a4sWPHpmYtcXmwzrvttpuEOKDl2J7rQX5LP9/e+b6TK1ET0IVeBPaJ2R5aJQjjvffec+eff75ETmUVdvSzJOB7CUs8ZswYd/XVV7tmzZoVPvlwCDlGLGpi5fE9eRV2rkS9cuVK179/f7GAum9gbaDPmi606FKppATD7QhdDGklECl/1+ZaRKZiRPSBBx6Q6Exgos4BxP1gccBNN93kXcBxWh+CreMm5V3Uuev9UIvLBj6+JHz9aCuSd3IlarVcvPqYjK3kUtS+YYKujg2+GN5hoja8w0RteIeJ2vAOE7XhHSZqwztM1IZ3mKgN7zBRG95hoja8w0RteEeupp4S3Yipp+PHj3d77bVX4ej/T7Tq7rrrLjd16tRqx6BRo0aubdu2sh9LixYt5JjO1Yhzzsabb77pBg0aZFNPAVHnBaIcHX/88cGqVasKR+pGdN3g4MGDUXPQuHHjYNdddy2mJk2aBKGwg9atWwe333677B2u/xMnlKmqqipYtGhRIt+fJcz9qANRS8h75jazXTKbcJKmTJkiq9HPO+88t379eomB99BDD21jzY14MVHXEcSsCZo3by5rGQ8//HBJ3bt3lwDp11xzjSyoJY7HunXr5FwTdzKYqFOAlSkDBw50FRUVbubMmW7GjBmFT4wkMFEnjFpxVniznQXWGlGblU4OE3WMqAuiqKA17bfffnKcVe1GcpioU4SQB4j7/ffflxAIvDfix0SdIsTmwO1o2rSprGo3FyQZTNQpgYCXL18u71u2bGnxpRPEajYBEHBp2rhxo2wV17hxY+nqM5LDRB0jiDeKCpqwZTfffLObNWuWbG/Rvn37whlGEpioYwQBr1ixwk2fPr2YiG1HOLARI0a4ffbZxw0fPtw1adKk8B9GEpio64Ba4i2FgI5EVWXDoZ49e7oePXrI60knnSRuR7t27dy4ceNct27drNcjYWyWXh1RYTPHg9HCUnSWHpt57rnnnh8aa/r/xWbpRUDUeSHuWXrAbDh2HdAUWutqf2vSmXNJzZ6zWXr/w9yPOoI1pHtOE5Y4+rcmztNkJIuJ2vAOE7XhHSZqwztM1IZ3mKgN7zBRG96RK1EHhYESkk+Ulse38n1UcmepueFbtmyRIW2f0ubNmwslzPFIYoHcDZMPGDBAJukTzsAXuIUIe+3atW7ChAmuVatWcpxBnzySK1Fv2rRJhB21ar7AbWTVOvM+mG8CebXYuRK1kQec+y+G8h9R292FcwAAAABJRU5ErkJggg==)\n",
        "При этом класс-наследник не знает, какую из реализаций некоторого\n",
        "метода следует выбрать. Эта проблема решается при помощи виртуального\n",
        "наследования. При этом вместо наследования реализации метода в класспотомок передается ссылка на метод родительского класса. Однако, если классыпотомки первого уровня оба переопределяют некоторый метод, все еще остается\n",
        "вопрос, какая из реализаций должна передаваться потомку второго уровня. Для\n",
        "этого в Python версии 2.3 и выше применяется механизм С3-линеаризации"
      ],
      "metadata": {
        "id": "dvtOBO9n2Kzm"
      }
    }
  ]
}