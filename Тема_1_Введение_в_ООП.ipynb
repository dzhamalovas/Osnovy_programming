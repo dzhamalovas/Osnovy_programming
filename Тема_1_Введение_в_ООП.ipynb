{
  "nbformat": 4,
  "nbformat_minor": 0,
  "metadata": {
    "colab": {
      "provenance": [],
      "collapsed_sections": [
        "uU0XeaWBJ4YT",
        "3xTVzJ3YGxdt",
        "rQqRDRMGKRW2",
        "VLpiKofIK0mP",
        "EbshfnzELJCa",
        "l86f1CPKPuUS",
        "dwS3mhKoVo3w",
        "5WKGBG68aiU4"
      ],
      "authorship_tag": "ABX9TyNcttc7/uc0+Ny1mGWocow7",
      "include_colab_link": true
    },
    "kernelspec": {
      "name": "python3",
      "display_name": "Python 3"
    },
    "language_info": {
      "name": "python"
    }
  },
  "cells": [
    {
      "cell_type": "markdown",
      "metadata": {
        "id": "view-in-github",
        "colab_type": "text"
      },
      "source": [
        "<a href=\"https://colab.research.google.com/github/dzhamalovas/Osnovy_programming/blob/main/%D0%A2%D0%B5%D0%BC%D0%B0_1_%D0%92%D0%B2%D0%B5%D0%B4%D0%B5%D0%BD%D0%B8%D0%B5_%D0%B2_%D0%9E%D0%9E%D0%9F.ipynb\" target=\"_parent\"><img src=\"https://colab.research.google.com/assets/colab-badge.svg\" alt=\"Open In Colab\"/></a>"
      ]
    },
    {
      "cell_type": "markdown",
      "source": [
        "# Проектирование «сверху вниз» "
      ],
      "metadata": {
        "id": "uU0XeaWBJ4YT"
      }
    },
    {
      "cell_type": "code",
      "source": [
        "def main():\n",
        "    salary = calculate_salary()\n",
        "    print(salary)\n",
        "\n",
        "\n",
        "def calculate_salary():\n",
        "    \"\"\"\n",
        "    Считает зарплату сотрудника ДПС, считывая исходные данные с клавиатуры.\n",
        "\n",
        "    :returns: зарплата сотрудника\n",
        "    \"\"\"\n",
        "    sum_of_fines = 0\n",
        "    speed_of_car, number_of_car = read_data()\n",
        "    while not detect_chief(number_of_car):\n",
        "        if speed_of_car > 60:\n",
        "            sum_of_fines += calculate_fine(number_of_car)\n",
        "        speed_of_car, number_of_car = read_data()\n",
        "    return sum_of_fines\n",
        "    \n",
        "    \n",
        "def read_data():\n",
        "    \"\"\"\n",
        "    Считывает следущую строку данных.\n",
        "    \n",
        "    :returns: tuple(int, str) - скорость, номер машины\n",
        "    \"\"\"\n",
        "    data = input().split()\n",
        "    return int(data[0]), data[1]\n",
        "\n",
        "\n",
        "def detect_chief(number_of_car):\n",
        "    \"\"\"\n",
        "    Проверяет, принадлежит ли данный номер начальнику.\n",
        "    \n",
        "    :param number_of_car: номер автомобиля\n",
        "    :returns: True, если номер принадлежит начальнику, иначе False\n",
        "    \"\"\"\n",
        "    return number_of_car == \"A999AA\"\n",
        "\n",
        "\n",
        "def calculate_fine(number_of_car):\n",
        "    \"\"\"\n",
        "    Считает штраф для автомобиля с конкретным номером.\n",
        "    \n",
        "    :param number_of_car: номер автомобиля\n",
        "    :returns: Целое число, размер штрафа\n",
        "    \"\"\"\n",
        "    if is_super_number(number_of_car):\n",
        "        return 1000\n",
        "    elif is_good_number(number_of_car):\n",
        "        return 500\n",
        "    else:\n",
        "        return 100\n",
        "\n",
        "\n",
        "def is_super_number(number_of_car):\n",
        "    \"\"\"\n",
        "    Проверяет, является ли номер «крутым» (совпадение трёх цифр)\n",
        "    \n",
        "    :param number_of_car: номер автомобиля\n",
        "    :returns: True, если номер «крутой», иначе False\n",
        "    \"\"\"\n",
        "    return number_of_car[1] == number_of_car[2] == number_of_car[3]\n",
        "\n",
        "\n",
        "def is_good_number(number_of_car):\n",
        "    \"\"\"\n",
        "    Проверяет, является ли номер «хорошим» (совпадение двух цифр)\n",
        "    \n",
        "    :param number_of_car: номер автомобиля\n",
        "    :returns: True, если номер «хороший», иначе False\n",
        "    \"\"\"\n",
        "    return number_of_car[1] == number_of_car[2] or \\\n",
        "           number_of_car[1] == number_of_car[3] or \\\n",
        "           number_of_car[2] == number_of_car[3]\n",
        "\n",
        "\n",
        "if __name__ == \"__main__\":\n",
        "    main()"
      ],
      "metadata": {
        "colab": {
          "base_uri": "https://localhost:8080/"
        },
        "id": "sLEaCkF-FSVj",
        "outputId": "d65923dc-b663-4177-c2f7-b57388b69c94"
      },
      "execution_count": null,
      "outputs": [
        {
          "output_type": "stream",
          "name": "stdout",
          "text": [
            "76 H767OP\n",
            "23 A767TK\n",
            "56 A999AA\n",
            "500\n"
          ]
        }
      ]
    },
    {
      "cell_type": "markdown",
      "source": [
        "# Занятие 1. ООП. Введение"
      ],
      "metadata": {
        "id": "P4FeHOQXGtSF"
      }
    },
    {
      "cell_type": "markdown",
      "source": [
        "## 1.3.1 Тип \n"
      ],
      "metadata": {
        "id": "3xTVzJ3YGxdt"
      }
    },
    {
      "cell_type": "code",
      "execution_count": null,
      "metadata": {
        "hide-output": false,
        "id": "PzUzicabNzxR",
        "outputId": "79987437-381d-40bf-c9ec-15c92a26e60f",
        "colab": {
          "base_uri": "https://localhost:8080/"
        }
      },
      "outputs": [
        {
          "output_type": "execute_result",
          "data": {
            "text/plain": [
              "str"
            ]
          },
          "metadata": {},
          "execution_count": 13
        }
      ],
      "source": [
        "s = 'This is a string'\n",
        "type(s)"
      ]
    },
    {
      "cell_type": "code",
      "execution_count": null,
      "metadata": {
        "hide-output": false,
        "id": "0OVGGsmwNzxS",
        "outputId": "8e274c77-68ec-4ff0-d203-414635ddb29f",
        "colab": {
          "base_uri": "https://localhost:8080/"
        }
      },
      "outputs": [
        {
          "output_type": "execute_result",
          "data": {
            "text/plain": [
              "int"
            ]
          },
          "metadata": {},
          "execution_count": 14
        }
      ],
      "source": [
        "x = 42   # Now let's create an integer\n",
        "type(x)"
      ]
    },
    {
      "cell_type": "code",
      "source": [
        "s = 'Это строка'\n",
        "x = 42 # Создание переменной целочисленного типа\n",
        "\n",
        "print(type(x))\n",
        "print(type(s))\n"
      ],
      "metadata": {
        "colab": {
          "base_uri": "https://localhost:8080/"
        },
        "id": "LaRzzt_MJ5yE",
        "outputId": "045025be-cb76-4bd2-f72e-2e8eea7dcf40"
      },
      "execution_count": null,
      "outputs": [
        {
          "output_type": "stream",
          "name": "stdout",
          "text": [
            "<class 'int'>\n",
            "<class 'str'>\n"
          ]
        }
      ]
    },
    {
      "cell_type": "code",
      "execution_count": null,
      "metadata": {
        "hide-output": false,
        "id": "YksH8y7gNzxT",
        "outputId": "d7a21ba8-daf9-4b10-cc7c-277f32effc76",
        "colab": {
          "base_uri": "https://localhost:8080/",
          "height": 35
        }
      },
      "outputs": [
        {
          "output_type": "execute_result",
          "data": {
            "text/plain": [
              "'300cc'"
            ],
            "application/vnd.google.colaboratory.intrinsic+json": {
              "type": "string"
            }
          },
          "metadata": {},
          "execution_count": 15
        }
      ],
      "source": [
        "'300' + 'cc'"
      ]
    },
    {
      "cell_type": "code",
      "execution_count": null,
      "metadata": {
        "hide-output": false,
        "id": "ASgUKxWsNzxU",
        "outputId": "985dc551-c887-4976-bef6-a24b52f1e50c",
        "colab": {
          "base_uri": "https://localhost:8080/"
        }
      },
      "outputs": [
        {
          "output_type": "execute_result",
          "data": {
            "text/plain": [
              "700"
            ]
          },
          "metadata": {},
          "execution_count": 16
        }
      ],
      "source": [
        "300 + 400"
      ]
    },
    {
      "cell_type": "code",
      "source": [
        "int('300') + 400"
      ],
      "metadata": {
        "colab": {
          "base_uri": "https://localhost:8080/"
        },
        "id": "nj_jxjTLOdD8",
        "outputId": "5cb2836f-2798-46b3-ab07-cfdd3384c3c2"
      },
      "execution_count": null,
      "outputs": [
        {
          "output_type": "execute_result",
          "data": {
            "text/plain": [
              "700"
            ]
          },
          "metadata": {},
          "execution_count": 17
        }
      ]
    },
    {
      "cell_type": "markdown",
      "source": [
        "## 1.3.2 Уникальный идентификатор"
      ],
      "metadata": {
        "id": "rQqRDRMGKRW2"
      }
    },
    {
      "cell_type": "code",
      "source": [
        "y = 2.5\n",
        "z = 2.5\n",
        "id(y)"
      ],
      "metadata": {
        "colab": {
          "base_uri": "https://localhost:8080/"
        },
        "id": "okBIlSdaKPMM",
        "outputId": "e349f492-c915-421a-e8a2-66bc385ed8fe"
      },
      "execution_count": null,
      "outputs": [
        {
          "output_type": "execute_result",
          "data": {
            "text/plain": [
              "140506651576816"
            ]
          },
          "metadata": {},
          "execution_count": 18
        }
      ]
    },
    {
      "cell_type": "code",
      "source": [
        "id(z)"
      ],
      "metadata": {
        "colab": {
          "base_uri": "https://localhost:8080/"
        },
        "id": "aSoTtolMOkNs",
        "outputId": "2839474a-db58-4687-ab6b-6a5f07d93d49"
      },
      "execution_count": null,
      "outputs": [
        {
          "output_type": "execute_result",
          "data": {
            "text/plain": [
              "140506651576592"
            ]
          },
          "metadata": {},
          "execution_count": 19
        }
      ]
    },
    {
      "cell_type": "markdown",
      "source": [
        "## 1.3.3 Содержимое объекта: данные и атрибуты"
      ],
      "metadata": {
        "id": "VLpiKofIK0mP"
      }
    },
    {
      "cell_type": "code",
      "source": [
        "x = 42\n",
        "x"
      ],
      "metadata": {
        "colab": {
          "base_uri": "https://localhost:8080/"
        },
        "id": "RxzRX-rKK2GP",
        "outputId": "002e6cf7-c154-4c06-bcc5-bfc6c714f716"
      },
      "execution_count": null,
      "outputs": [
        {
          "output_type": "execute_result",
          "data": {
            "text/plain": [
              "42"
            ]
          },
          "metadata": {},
          "execution_count": 20
        }
      ]
    },
    {
      "cell_type": "code",
      "execution_count": null,
      "metadata": {
        "hide-output": false,
        "id": "Vt26j8BXNzxW",
        "colab": {
          "base_uri": "https://localhost:8080/"
        },
        "outputId": "791eac05-128f-4ebf-fba5-3a48d45de30c"
      },
      "outputs": [
        {
          "output_type": "execute_result",
          "data": {
            "text/plain": [
              "0"
            ]
          },
          "metadata": {},
          "execution_count": 21
        }
      ],
      "source": [
        "x.imag"
      ]
    },
    {
      "cell_type": "code",
      "source": [
        "x.__class__"
      ],
      "metadata": {
        "colab": {
          "base_uri": "https://localhost:8080/"
        },
        "id": "0DNOlHG-Oykz",
        "outputId": "81aaea10-16ae-4661-d217-4fb553c68d56"
      },
      "execution_count": null,
      "outputs": [
        {
          "output_type": "execute_result",
          "data": {
            "text/plain": [
              "int"
            ]
          },
          "metadata": {},
          "execution_count": 22
        }
      ]
    },
    {
      "cell_type": "markdown",
      "source": [
        "## 1.3.4 Методы"
      ],
      "metadata": {
        "id": "EbshfnzELJCa"
      }
    },
    {
      "cell_type": "code",
      "source": [
        "x = ['foo', 'bar']\n",
        "callable(x.append)"
      ],
      "metadata": {
        "colab": {
          "base_uri": "https://localhost:8080/"
        },
        "id": "Z3cotGssLOQC",
        "outputId": "b6d600dd-9145-4103-90e9-80ed640f0a51"
      },
      "execution_count": null,
      "outputs": [
        {
          "output_type": "execute_result",
          "data": {
            "text/plain": [
              "True"
            ]
          },
          "metadata": {},
          "execution_count": 23
        }
      ]
    },
    {
      "cell_type": "code",
      "source": [
        "callable(x.__doc__)"
      ],
      "metadata": {
        "colab": {
          "base_uri": "https://localhost:8080/"
        },
        "id": "gp2-YpbJO4Pw",
        "outputId": "1e56d76f-a395-4e1b-a72c-6d660d54660f"
      },
      "execution_count": null,
      "outputs": [
        {
          "output_type": "execute_result",
          "data": {
            "text/plain": [
              "False"
            ]
          },
          "metadata": {},
          "execution_count": 24
        }
      ]
    },
    {
      "cell_type": "code",
      "source": [],
      "metadata": {
        "id": "7jAZUgNDPA7U"
      },
      "execution_count": null,
      "outputs": []
    },
    {
      "cell_type": "code",
      "execution_count": null,
      "metadata": {
        "hide-output": false,
        "id": "QgKP4pQvNzxY",
        "colab": {
          "base_uri": "https://localhost:8080/",
          "height": 35
        },
        "outputId": "438b1d1c-833d-40ca-ff1a-fe4168c1ad69"
      },
      "outputs": [
        {
          "output_type": "execute_result",
          "data": {
            "text/plain": [
              "'THIS IS A STRING'"
            ],
            "application/vnd.google.colaboratory.intrinsic+json": {
              "type": "string"
            }
          },
          "metadata": {},
          "execution_count": 25
        }
      ],
      "source": [
        "x = ['a', 'b']\n",
        "x.append('c')\n",
        "s = 'This is a string'\n",
        "s.upper()"
      ]
    },
    {
      "cell_type": "code",
      "source": [
        "s.lower()"
      ],
      "metadata": {
        "colab": {
          "base_uri": "https://localhost:8080/",
          "height": 35
        },
        "id": "NyYOJZ-lPELf",
        "outputId": "34bf08c9-ac53-4c2f-c23c-1928e7321bb7"
      },
      "execution_count": null,
      "outputs": [
        {
          "output_type": "execute_result",
          "data": {
            "text/plain": [
              "'this is a string'"
            ],
            "application/vnd.google.colaboratory.intrinsic+json": {
              "type": "string"
            }
          },
          "metadata": {},
          "execution_count": 26
        }
      ]
    },
    {
      "cell_type": "code",
      "source": [
        "s.replace('This', 'That')"
      ],
      "metadata": {
        "colab": {
          "base_uri": "https://localhost:8080/",
          "height": 35
        },
        "id": "Q4XNZw42PEty",
        "outputId": "aa1299be-2448-43f1-bfaa-e119a3c0118c"
      },
      "execution_count": null,
      "outputs": [
        {
          "output_type": "execute_result",
          "data": {
            "text/plain": [
              "'That is a string'"
            ],
            "application/vnd.google.colaboratory.intrinsic+json": {
              "type": "string"
            }
          },
          "metadata": {},
          "execution_count": 27
        }
      ]
    },
    {
      "cell_type": "code",
      "source": [],
      "metadata": {
        "id": "iDLorxLiPHDS"
      },
      "execution_count": null,
      "outputs": []
    },
    {
      "cell_type": "code",
      "execution_count": null,
      "metadata": {
        "hide-output": false,
        "id": "LDeFqeHbNzxY",
        "colab": {
          "base_uri": "https://localhost:8080/"
        },
        "outputId": "e6d82581-ba36-42ab-991e-1542ef2e8dbd"
      },
      "outputs": [
        {
          "output_type": "execute_result",
          "data": {
            "text/plain": [
              "['aa', 'b']"
            ]
          },
          "metadata": {},
          "execution_count": 28
        }
      ],
      "source": [
        "x = ['a', 'b']\n",
        "x[0] = 'aa'  # Присвоение элемента с помощью обозначения квадратных скобок \n",
        "x"
      ]
    },
    {
      "cell_type": "code",
      "execution_count": null,
      "metadata": {
        "hide-output": false,
        "id": "6cdlF22LNzxZ",
        "colab": {
          "base_uri": "https://localhost:8080/"
        },
        "outputId": "be5fa4df-59cc-4260-b602-a379a37a5027"
      },
      "outputs": [
        {
          "output_type": "execute_result",
          "data": {
            "text/plain": [
              "['aa', 'b']"
            ]
          },
          "metadata": {},
          "execution_count": 29
        }
      ],
      "source": [
        "x = ['a', 'b']\n",
        "x.__setitem__(0, 'aa')  # Equivalent to x[0] = 'aa'\n",
        "x"
      ]
    },
    {
      "cell_type": "markdown",
      "source": [
        "## 1.4 Определение собственных классов и объектов в Python "
      ],
      "metadata": {
        "id": "l86f1CPKPuUS"
      }
    },
    {
      "cell_type": "code",
      "source": [
        "class Car:\n",
        " pass "
      ],
      "metadata": {
        "id": "7gEsLF0aPw_R"
      },
      "execution_count": null,
      "outputs": []
    },
    {
      "cell_type": "code",
      "source": [
        "car_object = Car() "
      ],
      "metadata": {
        "id": "6YONtK2bP4ha"
      },
      "execution_count": null,
      "outputs": []
    },
    {
      "cell_type": "markdown",
      "source": [
        "## 1.4.2.2 Пользовательские атрибуты \n"
      ],
      "metadata": {
        "id": "dwS3mhKoVo3w"
      }
    },
    {
      "cell_type": "code",
      "source": [
        "class Car:\n",
        "  color = 'Grey'\n",
        "  def drive(self):\n",
        "    pass\n",
        "  def price(self):\n",
        "    pass\n"
      ],
      "metadata": {
        "id": "cwUWky81VrDa"
      },
      "execution_count": null,
      "outputs": []
    },
    {
      "cell_type": "code",
      "source": [
        "car_object = Car()\n",
        "dir(car_object)\n",
        "['__class__',\n",
        " '__delattr__',\n",
        " '__dict__',\n",
        " '__dir__',\n",
        " '__doc__',\n",
        " '__init__',\n",
        " '__init_subclass__',\n",
        " 'color',\n",
        " 'drive',\n",
        " 'price'] \n"
      ],
      "metadata": {
        "colab": {
          "base_uri": "https://localhost:8080/"
        },
        "id": "hE6JfRcTW2bu",
        "outputId": "d3a9e004-d48c-44ec-d4ca-cd88c6c8d6b3"
      },
      "execution_count": null,
      "outputs": [
        {
          "output_type": "execute_result",
          "data": {
            "text/plain": [
              "['__class__',\n",
              " '__delattr__',\n",
              " '__dict__',\n",
              " '__dir__',\n",
              " '__doc__',\n",
              " '__init__',\n",
              " '__init_subclass__',\n",
              " 'color',\n",
              " 'drive',\n",
              " 'price']"
            ]
          },
          "metadata": {},
          "execution_count": 33
        }
      ]
    },
    {
      "cell_type": "markdown",
      "source": [
        "## 1.4.3.1 Статические поля (переменные или свойства класса)"
      ],
      "metadata": {
        "id": "5WKGBG68aiU4"
      }
    },
    {
      "cell_type": "code",
      "source": [
        "class Car:\n",
        "  # Статические поля (переменные класса)\n",
        "  default_color = 'Grey'\n",
        "  default_model = 'BMW'\n",
        "  def drive(self):\n",
        "    pass\n",
        "  def price(self):\n",
        "    pass \n"
      ],
      "metadata": {
        "id": "26Rm2UM4all-"
      },
      "execution_count": null,
      "outputs": []
    },
    {
      "cell_type": "markdown",
      "source": [
        "## 1.4.3.2 Динамические поля (переменные или свойства экземпляра класса)\n"
      ],
      "metadata": {
        "id": "Og46Q2IlgyKI"
      }
    },
    {
      "cell_type": "code",
      "source": [
        "class Car:\n",
        "# Статические поля (переменные класса)\n",
        "  default_color = 'Grey'\n",
        "  default_model = 'BMW'\n",
        "  def __init__(self, color, model):\n",
        "# Динамические поля (переменные объекта)\n",
        "    self.color = color\n",
        "    self.model = model\n",
        "  def __str__(self):\n",
        "    return self.model + \": \" + self.color + \" по цвету\"\n",
        " \n",
        "car = Car(\"белая\", \"Bmw\")\n",
        "print(str(car))\n"
      ],
      "metadata": {
        "colab": {
          "base_uri": "https://localhost:8080/"
        },
        "id": "p4jIYfaHeylO",
        "outputId": "6878dfbe-173d-4fd6-e4fc-88d5da454192"
      },
      "execution_count": null,
      "outputs": [
        {
          "output_type": "stream",
          "name": "stdout",
          "text": [
            "Bmw: белая по цвету\n"
          ]
        }
      ]
    },
    {
      "cell_type": "code",
      "source": [],
      "metadata": {
        "id": "JDoQiX2VjKlF"
      },
      "execution_count": null,
      "outputs": []
    },
    {
      "cell_type": "markdown",
      "source": [
        "## 1.4.4.1 Методы экземпляра класса"
      ],
      "metadata": {
        "id": "J9mClIvjheKX"
      }
    },
    {
      "cell_type": "code",
      "source": [
        "class Car:\n",
        "  def __init__(self, color, model):\n",
        "    self.color = color\n",
        "    self.model = model\n",
        " # Методы экземпляра класса\n",
        " # Первый параметр метода - self\n",
        "  def check_sim(self, country):\n",
        "    if self.model == 'BMW' and country == 'Germany':\n",
        "      print('Your car is good')\n",
        "\n",
        " \n",
        "car = Car(\"белая\", \"BMW\")\n",
        "print(car.check_sim(\"Germany\"))\n"
      ],
      "metadata": {
        "colab": {
          "base_uri": "https://localhost:8080/"
        },
        "id": "T2X-rdWMhjMZ",
        "outputId": "4e7a7ab6-b991-4ea1-8777-91afbaccbe56"
      },
      "execution_count": null,
      "outputs": [
        {
          "output_type": "stream",
          "name": "stdout",
          "text": [
            "Your car is good\n",
            "None\n"
          ]
        }
      ]
    },
    {
      "cell_type": "markdown",
      "source": [
        "## 1.4.4.2 Статические методы"
      ],
      "metadata": {
        "id": "nPrk-AH6lVjz"
      }
    },
    {
      "cell_type": "code",
      "source": [
        "import hashlib\n",
        "class Car:\n",
        " # Статический метод справочного характера\n",
        " # Возвращает хэш по номеру модели\n",
        " # self внутри метода отсутствует\n",
        "  @staticmethod\n",
        "  def model_hash(model):\n",
        "    if model == 'BMW':\n",
        "      return 'the machine series is not defined in'\n",
        "    elif model == 'BMW X6':\n",
        "      return hash(model)\n",
        "    else:\n",
        "      return 'The manufacturer is not defined'\n",
        " # Обычный метод\n",
        "  def check_model(self, model):\n",
        "    pass \n",
        " \n",
        "car = Car()\n",
        "print(car.model_hash(\"JHG\"))"
      ],
      "metadata": {
        "colab": {
          "base_uri": "https://localhost:8080/"
        },
        "id": "RDF7i7G3le6G",
        "outputId": "8562ac70-854b-45b9-a09f-6f53cc6a41af"
      },
      "execution_count": null,
      "outputs": [
        {
          "output_type": "stream",
          "name": "stdout",
          "text": [
            "The manufacturer is not defined\n"
          ]
        }
      ]
    },
    {
      "cell_type": "markdown",
      "source": [
        "## 1.4.4.3 Методы класса \n"
      ],
      "metadata": {
        "id": "7LAS2FxNmx8y"
      }
    },
    {
      "cell_type": "code",
      "source": [
        "class Car:\n",
        "  def __init__(self, color, model):\n",
        "    self.color = color\n",
        "    self.model = model\n",
        "\n",
        " # Метод класса\n",
        " # Принимает 1) ссылку на класс Car и 2) цвет в качестве параметров\n",
        " # Создает специфический объект класса Car(особенность объекта в том, что это модель от завода изготовителя)\n",
        " # При этом вызывается инициализатор класса Car\n",
        " # которому в качестве аргументов передается цвет и модель,\n",
        " # соответствующую оригинальной машины\n",
        "  @classmethod\n",
        "  def origin_car(cls, color):\n",
        "    origin_car = cls(color, 'Origin Car from Germany', None)\n",
        "    return origin_car\n",
        " # Статический метод\n",
        "  @staticmethod\n",
        "\n",
        "  def model_hash(model):\n",
        "    if model == 'BMW':\n",
        "      return 'the machine series is not defined in'\n",
        "    elif model == 'BMW X6':\n",
        "      return hash(model)\n",
        "    else:\n",
        "      return 'The manufacturer is not defined'\n",
        " # Обычный метод\n",
        "  def check_model(self, model):\n",
        "    pass \n",
        "car = Car(\"белая\", \"BMW\")\n",
        "print(car.model_hash(\"JHG\"))"
      ],
      "metadata": {
        "colab": {
          "base_uri": "https://localhost:8080/"
        },
        "id": "KPELgnlPm3na",
        "outputId": "660ac909-fcfa-4def-faad-8af68f9a7eda"
      },
      "execution_count": null,
      "outputs": [
        {
          "output_type": "stream",
          "name": "stdout",
          "text": [
            "The manufacturer is not defined\n"
          ]
        }
      ]
    },
    {
      "cell_type": "markdown",
      "source": [
        "## 1.4.5 Метод __ init __() \n",
        " \n",
        "\n",
        "\n",
        "\n",
        "\n"
      ],
      "metadata": {
        "id": "Jid8rmC2n1CD"
      }
    },
    {
      "cell_type": "code",
      "source": [
        "class student:\n",
        "  def __init__(self, kurs, idl):\n",
        "    self.kurs = kurs\n",
        "    self.id =idl\n",
        "idl = input(' Введите идентификатор студента: ')\n",
        "kurs = input(' Введите курс студента : ')\n",
        "studentl = student ( kurs, idl ) # создание экземпляра\n",
        "print ('Курс :', studentl.kurs, studentl.id, sep = ' ')\n",
        "student2 = studentl\n",
        "idl = input(' В ведите идентификатор 2-го студента: ')\n",
        "student2.id =idl\n",
        "print('Курс: 1', studentl.kurs, studentl.id, sep = ' ')\n",
        "kurs=input( 'Введите новый курс студентов: ')\n",
        "studentl.kurs = kurs\n",
        "print('Новый курс : ', studentl.kurs , 'Идентификатор:',\n",
        "studentl.id, sep = ' ')\n",
        "print('Новый курс : ', student2.kurs, 'Идентификато2р:',\n",
        "student2.id, sep = ' ') \n"
      ],
      "metadata": {
        "colab": {
          "base_uri": "https://localhost:8080/"
        },
        "id": "3bwgnAo8n5yU",
        "outputId": "bc30598a-42d5-4c11-d922-e2be4c4ecce9"
      },
      "execution_count": null,
      "outputs": [
        {
          "output_type": "stream",
          "name": "stdout",
          "text": [
            " Введите идентификатор студента: 1\n",
            " Введите курс студента : 1\n",
            "Курс : 1 1\n",
            " В ведите идентификатор 2-го студента: 2\n",
            "Курс: 1 1 2\n",
            "Введите новый курс студентов: 2\n",
            "Новый курс :  2 Идентификатор: 2\n",
            "Новый курс :  2 Идентификато2р: 2\n"
          ]
        }
      ]
    },
    {
      "cell_type": "code",
      "source": [
        "  def earn(w, y):\n",
        "    \"Потребитель с первоначальным достатком w зарабатывает y\"\n",
        "    return w+y\n",
        "  def spend(w, x):\n",
        "    \" Потребитель с начальным достатком w тратит x \"\n",
        "    new_wealth = w -x\n",
        "    if new_wealth < 0:\n",
        "      print(\"Insufficient funds\")\n",
        "    else:\n",
        "      return new_wealth \n",
        "\n",
        "w0=100\n",
        "w1=earn(w0,10)\n",
        "w2=spend(w1,20)\n",
        "w3=earn(w2,10)\n",
        "w4=spend(w3,20)\n",
        "print(\"w0,w1,w2,w3,w4 = \", w0,w1,w2,w3,w4) "
      ],
      "metadata": {
        "colab": {
          "base_uri": "https://localhost:8080/"
        },
        "id": "rflakA_5ojuX",
        "outputId": "a9e41547-6d2f-49b1-e66f-4f26e9df5a82"
      },
      "execution_count": null,
      "outputs": [
        {
          "output_type": "stream",
          "name": "stdout",
          "text": [
            "w0,w1,w2,w3,w4 =  100 110 90 100 80\n"
          ]
        }
      ]
    },
    {
      "cell_type": "code",
      "source": [
        "class Consumer:\n",
        "  def __init__(self, w):\n",
        "    \"Initialize consumer with w dollars of wealth\"\n",
        "    self.wealth = w\n",
        "  def earn(self, y):\n",
        "    \"The consumer earns y dollars\"\n",
        "    self.wealth += y\n",
        "  def spend(self, x):\n",
        "    \"The consumer spends x dollars if feasible\"\n",
        "    new_wealth = self.wealth - x\n",
        "    if new_wealth < 0:\n",
        "      print(\"Insufficent funds\")\n",
        "    else:\n",
        "      self.wealth = new_wealth\n",
        "\n",
        "c1 = Consumer(10) # Create instance with initial wealth\n",
        "c1.spend(5)\n",
        "print(\"c1 = \", c1.wealth)\n",
        "c1.earn(15)\n",
        "print(\"c1 = \", c1.wealth)\n",
        "c1.spend(100)\n",
        "print(\"c1 = \", c1.wealth)\n",
        "c1 = Consumer(10)\n",
        "c2 = Consumer(12)\n",
        "c2.spend(4)\n",
        "print(\"c1 = \", c1.wealth)\n",
        "c2.wealth\n",
        "print(\"c2 = \", c2.wealth)\n",
        "c1.__dict__\n",
        "c2.__dict__ \n"
      ],
      "metadata": {
        "colab": {
          "base_uri": "https://localhost:8080/"
        },
        "id": "sYqlY4TbpNNs",
        "outputId": "002905e1-89f2-4369-c218-d59a4ebc82d8"
      },
      "execution_count": null,
      "outputs": [
        {
          "output_type": "stream",
          "name": "stdout",
          "text": [
            "c1 =  5\n",
            "c1 =  20\n",
            "Insufficent funds\n",
            "c1 =  20\n",
            "c1 =  10\n",
            "c2 =  8\n"
          ]
        },
        {
          "output_type": "execute_result",
          "data": {
            "text/plain": [
              "{'wealth': 8}"
            ]
          },
          "metadata": {},
          "execution_count": 84
        }
      ]
    },
    {
      "cell_type": "code",
      "source": [
        "c1 = Consumer(10)\n",
        "c1.earn(10)\n",
        "c1.wealth \n"
      ],
      "metadata": {
        "colab": {
          "base_uri": "https://localhost:8080/"
        },
        "id": "xOgBt0HHrKUi",
        "outputId": "c977f9b5-277c-4da7-eddd-127ccc2932b6"
      },
      "execution_count": null,
      "outputs": [
        {
          "output_type": "execute_result",
          "data": {
            "text/plain": [
              "20"
            ]
          },
          "metadata": {},
          "execution_count": 85
        }
      ]
    },
    {
      "cell_type": "code",
      "source": [],
      "metadata": {
        "id": "VKMsUtDOrOyB"
      },
      "execution_count": null,
      "outputs": []
    },
    {
      "cell_type": "code",
      "source": [
        "class Solow:\n",
        "  #\"\"\"\n",
        "  #Реализует модель роста Солоу с правилом обновления\n",
        "\n",
        "  # k_{t+1} = [(s z k^α_t) + (1 - δ)k_t] /(1 + n)\n",
        "\n",
        "  def __init__(self, n=0.05, # темпы прироста населения\n",
        "                    s=0.25, # норма сбережений\n",
        "                    δ=0.1, # норма амортизации\n",
        "                    α=0.3, # доля рабочей силы\n",
        "                    z=2.0, # производительность\n",
        "                    k=1.0): # текущий основной капитал\n",
        "    self.n, self.s, self.δ, self.α, self.z = n, s, δ, α, z\n",
        "    self.k = k\n",
        "  def h(self):\n",
        "    print(\" Оценка функции h\")\n",
        "      # Распаковка параметров\n",
        "      #(избавляемся от self для упрощения обозначения)\n",
        "    n, s, δ, α, z = self.n, self.s, self.δ, self.α, self.z\n",
        "      # обновляем на выходе h\n",
        "    return (s * z * self.k**α + (1 - δ) * self.k) / (1 + n)\n",
        "  def update(self):\n",
        "    print(\" Обновляем состояние (основной капитал)\")\n",
        "    self.k = self.h()\n",
        "  def steady_state(self):\n",
        "    print(\" Вычисляем устойчивую стоимость капитала.\")\n",
        "      #(избавляемся от self для упрощения обозначения)\n",
        "    n, s, δ, α, z = self.n, self.s, self.δ, self.α, self.z\n",
        "      # Вычисление и возврат устойчивого состояния\n",
        "    return ((s * z) / (n + δ))**(1 / (1 - α))\n",
        "  def generate_sequence(self, t):\n",
        "    print(\"Генерация и возврат временного ряда\")\n",
        "    path = []\n",
        "    for i in range(t):\n",
        "      path.append(self.k)\n",
        "      self.update()\n",
        "    return path "
      ],
      "metadata": {
        "id": "WwVJ8f0ErXqC"
      },
      "execution_count": null,
      "outputs": []
    },
    {
      "cell_type": "code",
      "source": [
        "import matplotlib.pyplot as plt\n",
        "s1 = Solow()\n",
        "s2 = Solow(k=8.0)\n",
        "T = 60\n",
        "fig, ax = plt.subplots(figsize=(9, 6))\n",
        "# Построение графика общей установившейся стоимости капитала\n",
        "ax.plot([s1.steady_state()]*T, 'k-', label='устойчивое состояние')\n",
        "# Построение временных рядов для каждой экономики\n",
        "for s in s1, s2:\n",
        "  lb = f' основной ряд от первоначального состояния {s.k}'\n",
        "  ax.plot(s.generate_sequence(T), 'o-', lw=2, alpha=0.6, label=lb)\n",
        "ax.set_xlabel('$t$', fontsize=14)\n",
        "ax.set_ylabel('$k_t$', fontsize=14)\n",
        "ax.legend()\n",
        "plt.show() "
      ],
      "metadata": {
        "colab": {
          "base_uri": "https://localhost:8080/",
          "height": 1000
        },
        "id": "_XspD4Ixsc2m",
        "outputId": "3a65fa8d-debe-4da0-e504-0d80aeded2f9"
      },
      "execution_count": null,
      "outputs": [
        {
          "output_type": "stream",
          "name": "stdout",
          "text": [
            " Вычисляем устойчивую стоимость капитала.\n",
            "Генерация и возврат временного ряда\n",
            " Обновляем состояние (основной капитал)\n",
            " Оценка функции h\n",
            " Обновляем состояние (основной капитал)\n",
            " Оценка функции h\n",
            " Обновляем состояние (основной капитал)\n",
            " Оценка функции h\n",
            " Обновляем состояние (основной капитал)\n",
            " Оценка функции h\n",
            " Обновляем состояние (основной капитал)\n",
            " Оценка функции h\n",
            " Обновляем состояние (основной капитал)\n",
            " Оценка функции h\n",
            " Обновляем состояние (основной капитал)\n",
            " Оценка функции h\n",
            " Обновляем состояние (основной капитал)\n",
            " Оценка функции h\n",
            " Обновляем состояние (основной капитал)\n",
            " Оценка функции h\n",
            " Обновляем состояние (основной капитал)\n",
            " Оценка функции h\n",
            " Обновляем состояние (основной капитал)\n",
            " Оценка функции h\n",
            " Обновляем состояние (основной капитал)\n",
            " Оценка функции h\n",
            " Обновляем состояние (основной капитал)\n",
            " Оценка функции h\n",
            " Обновляем состояние (основной капитал)\n",
            " Оценка функции h\n",
            " Обновляем состояние (основной капитал)\n",
            " Оценка функции h\n",
            " Обновляем состояние (основной капитал)\n",
            " Оценка функции h\n",
            " Обновляем состояние (основной капитал)\n",
            " Оценка функции h\n",
            " Обновляем состояние (основной капитал)\n",
            " Оценка функции h\n",
            " Обновляем состояние (основной капитал)\n",
            " Оценка функции h\n",
            " Обновляем состояние (основной капитал)\n",
            " Оценка функции h\n",
            " Обновляем состояние (основной капитал)\n",
            " Оценка функции h\n",
            " Обновляем состояние (основной капитал)\n",
            " Оценка функции h\n",
            " Обновляем состояние (основной капитал)\n",
            " Оценка функции h\n",
            " Обновляем состояние (основной капитал)\n",
            " Оценка функции h\n",
            " Обновляем состояние (основной капитал)\n",
            " Оценка функции h\n",
            " Обновляем состояние (основной капитал)\n",
            " Оценка функции h\n",
            " Обновляем состояние (основной капитал)\n",
            " Оценка функции h\n",
            " Обновляем состояние (основной капитал)\n",
            " Оценка функции h\n",
            " Обновляем состояние (основной капитал)\n",
            " Оценка функции h\n",
            " Обновляем состояние (основной капитал)\n",
            " Оценка функции h\n",
            " Обновляем состояние (основной капитал)\n",
            " Оценка функции h\n",
            " Обновляем состояние (основной капитал)\n",
            " Оценка функции h\n",
            " Обновляем состояние (основной капитал)\n",
            " Оценка функции h\n",
            " Обновляем состояние (основной капитал)\n",
            " Оценка функции h\n",
            " Обновляем состояние (основной капитал)\n",
            " Оценка функции h\n",
            " Обновляем состояние (основной капитал)\n",
            " Оценка функции h\n",
            " Обновляем состояние (основной капитал)\n",
            " Оценка функции h\n",
            " Обновляем состояние (основной капитал)\n",
            " Оценка функции h\n",
            " Обновляем состояние (основной капитал)\n",
            " Оценка функции h\n",
            " Обновляем состояние (основной капитал)\n",
            " Оценка функции h\n",
            " Обновляем состояние (основной капитал)\n",
            " Оценка функции h\n",
            " Обновляем состояние (основной капитал)\n",
            " Оценка функции h\n",
            " Обновляем состояние (основной капитал)\n",
            " Оценка функции h\n",
            " Обновляем состояние (основной капитал)\n",
            " Оценка функции h\n",
            " Обновляем состояние (основной капитал)\n",
            " Оценка функции h\n",
            " Обновляем состояние (основной капитал)\n",
            " Оценка функции h\n",
            " Обновляем состояние (основной капитал)\n",
            " Оценка функции h\n",
            " Обновляем состояние (основной капитал)\n",
            " Оценка функции h\n",
            " Обновляем состояние (основной капитал)\n",
            " Оценка функции h\n",
            " Обновляем состояние (основной капитал)\n",
            " Оценка функции h\n",
            " Обновляем состояние (основной капитал)\n",
            " Оценка функции h\n",
            " Обновляем состояние (основной капитал)\n",
            " Оценка функции h\n",
            " Обновляем состояние (основной капитал)\n",
            " Оценка функции h\n",
            " Обновляем состояние (основной капитал)\n",
            " Оценка функции h\n",
            " Обновляем состояние (основной капитал)\n",
            " Оценка функции h\n",
            " Обновляем состояние (основной капитал)\n",
            " Оценка функции h\n",
            " Обновляем состояние (основной капитал)\n",
            " Оценка функции h\n",
            " Обновляем состояние (основной капитал)\n",
            " Оценка функции h\n",
            " Обновляем состояние (основной капитал)\n",
            " Оценка функции h\n",
            " Обновляем состояние (основной капитал)\n",
            " Оценка функции h\n",
            "Генерация и возврат временного ряда\n",
            " Обновляем состояние (основной капитал)\n",
            " Оценка функции h\n",
            " Обновляем состояние (основной капитал)\n",
            " Оценка функции h\n",
            " Обновляем состояние (основной капитал)\n",
            " Оценка функции h\n",
            " Обновляем состояние (основной капитал)\n",
            " Оценка функции h\n",
            " Обновляем состояние (основной капитал)\n",
            " Оценка функции h\n",
            " Обновляем состояние (основной капитал)\n",
            " Оценка функции h\n",
            " Обновляем состояние (основной капитал)\n",
            " Оценка функции h\n",
            " Обновляем состояние (основной капитал)\n",
            " Оценка функции h\n",
            " Обновляем состояние (основной капитал)\n",
            " Оценка функции h\n",
            " Обновляем состояние (основной капитал)\n",
            " Оценка функции h\n",
            " Обновляем состояние (основной капитал)\n",
            " Оценка функции h\n",
            " Обновляем состояние (основной капитал)\n",
            " Оценка функции h\n",
            " Обновляем состояние (основной капитал)\n",
            " Оценка функции h\n",
            " Обновляем состояние (основной капитал)\n",
            " Оценка функции h\n",
            " Обновляем состояние (основной капитал)\n",
            " Оценка функции h\n",
            " Обновляем состояние (основной капитал)\n",
            " Оценка функции h\n",
            " Обновляем состояние (основной капитал)\n",
            " Оценка функции h\n",
            " Обновляем состояние (основной капитал)\n",
            " Оценка функции h\n",
            " Обновляем состояние (основной капитал)\n",
            " Оценка функции h\n",
            " Обновляем состояние (основной капитал)\n",
            " Оценка функции h\n",
            " Обновляем состояние (основной капитал)\n",
            " Оценка функции h\n",
            " Обновляем состояние (основной капитал)\n",
            " Оценка функции h\n",
            " Обновляем состояние (основной капитал)\n",
            " Оценка функции h\n",
            " Обновляем состояние (основной капитал)\n",
            " Оценка функции h\n",
            " Обновляем состояние (основной капитал)\n",
            " Оценка функции h\n",
            " Обновляем состояние (основной капитал)\n",
            " Оценка функции h\n",
            " Обновляем состояние (основной капитал)\n",
            " Оценка функции h\n",
            " Обновляем состояние (основной капитал)\n",
            " Оценка функции h\n",
            " Обновляем состояние (основной капитал)\n",
            " Оценка функции h\n",
            " Обновляем состояние (основной капитал)\n",
            " Оценка функции h\n",
            " Обновляем состояние (основной капитал)\n",
            " Оценка функции h\n",
            " Обновляем состояние (основной капитал)\n",
            " Оценка функции h\n",
            " Обновляем состояние (основной капитал)\n",
            " Оценка функции h\n",
            " Обновляем состояние (основной капитал)\n",
            " Оценка функции h\n",
            " Обновляем состояние (основной капитал)\n",
            " Оценка функции h\n",
            " Обновляем состояние (основной капитал)\n",
            " Оценка функции h\n",
            " Обновляем состояние (основной капитал)\n",
            " Оценка функции h\n",
            " Обновляем состояние (основной капитал)\n",
            " Оценка функции h\n",
            " Обновляем состояние (основной капитал)\n",
            " Оценка функции h\n",
            " Обновляем состояние (основной капитал)\n",
            " Оценка функции h\n",
            " Обновляем состояние (основной капитал)\n",
            " Оценка функции h\n",
            " Обновляем состояние (основной капитал)\n",
            " Оценка функции h\n",
            " Обновляем состояние (основной капитал)\n",
            " Оценка функции h\n",
            " Обновляем состояние (основной капитал)\n",
            " Оценка функции h\n",
            " Обновляем состояние (основной капитал)\n",
            " Оценка функции h\n",
            " Обновляем состояние (основной капитал)\n",
            " Оценка функции h\n",
            " Обновляем состояние (основной капитал)\n",
            " Оценка функции h\n",
            " Обновляем состояние (основной капитал)\n",
            " Оценка функции h\n",
            " Обновляем состояние (основной капитал)\n",
            " Оценка функции h\n",
            " Обновляем состояние (основной капитал)\n",
            " Оценка функции h\n",
            " Обновляем состояние (основной капитал)\n",
            " Оценка функции h\n",
            " Обновляем состояние (основной капитал)\n",
            " Оценка функции h\n",
            " Обновляем состояние (основной капитал)\n",
            " Оценка функции h\n",
            " Обновляем состояние (основной капитал)\n",
            " Оценка функции h\n",
            " Обновляем состояние (основной капитал)\n",
            " Оценка функции h\n",
            " Обновляем состояние (основной капитал)\n",
            " Оценка функции h\n",
            " Обновляем состояние (основной капитал)\n",
            " Оценка функции h\n",
            " Обновляем состояние (основной капитал)\n",
            " Оценка функции h\n",
            " Обновляем состояние (основной капитал)\n",
            " Оценка функции h\n",
            " Обновляем состояние (основной капитал)\n",
            " Оценка функции h\n"
          ]
        },
        {
          "output_type": "display_data",
          "data": {
            "text/plain": [
              "<Figure size 648x432 with 1 Axes>"
            ],
            "image/png": "[encoded data removed]"
          },
          "metadata": {
            "needs_background": "light"
          }
        }
      ]
    },
    {
      "cell_type": "code",
      "source": [],
      "metadata": {
        "id": "LhqPyTw-tIMR"
      },
      "execution_count": null,
      "outputs": []
    },
    {
      "cell_type": "code",
      "source": [
        "from scipy.integrate import quad\n",
        "class Market:\n",
        "  def __init__(self, ad, bd, az, bz, tax):\n",
        "    \"\"\"\n",
        "    Настройка параметров рынка. Все параметры\n",
        "    являются скалярами.\n",
        "    \"\"\"\n",
        "    self.ad, self.bd, self.az, self.bz, self.tax = ad, bd, az, bz, tax\n",
        "    if ad < az:\n",
        "      raise ValueError(' Недостаточный спрос.')\n",
        "  def price(self):\n",
        "    \" Расчет равновесной цены\"\n",
        "    return (self.ad - self.az + self.bz * self.tax)/ (self.bd + self.bz)\n",
        "  def quantity(self):\n",
        "    \" Расчет равновесного количества\"\n",
        "    return self.ad - self.bd * self.price()\n",
        "  def consumer_surp(self):\n",
        "    \" Расчет потребительского излишка \"\n",
        "    # == Расчет площадь при обнаружении функции потребления == #\n",
        "    integrand = lambda x: (self.ad / self.bd) - (1 /self.bd) * x\n",
        "    area, error = quad(integrand, 0, self.quantity())\n",
        "    return area - self.price() * self.quantity()\n",
        "  def producer_surp(self):\n",
        "    \" Расчет излишка у производителя \"\n",
        "    # == Расчет площади над обратной кривой  предложения, исключая налог == #\n",
        "    integrand = lambda x: - (self.az / self.bz) + (1 / self.bz) * x\n",
        "    area, error = quad(integrand, 0, self.quantity())\n",
        "    return (self.price() - self.tax) * self.quantity() - area\n",
        "  def taxrev(self):\n",
        "    \" Расчет налоговых поступлений \"\n",
        "    return self.tax * self.quantity()\n",
        "  def inverse_demand(self, x):\n",
        "    \" Расчет обратного спроса \"\n",
        "    return self.ad / self.bd - (1 / self.bd)* x\n",
        "  def inverse_supply(self, x):\n",
        "    \" Расчет обратной кривой предложения \"\n",
        "    return - (self.az / self.bz) + (1 / self.bz) * x + self.tax\n",
        "  def inverse_supply_no_tax(self, x):\n",
        "    \"Расчет обратной кривой предложения без налога \"\n",
        "    return -(self.az / self.bz) + (1 / self.bz) * x"
      ],
      "metadata": {
        "id": "xkUAjuPmtHoT"
      },
      "execution_count": null,
      "outputs": []
    },
    {
      "cell_type": "code",
      "source": [
        "baseline_params = 15, .5, -2, .5, 3\n",
        "m = Market(*baseline_params)\n",
        "print(\"равновесная цена = \", m.price())\n",
        "# равновесная цена = 18.5\n",
        "print(\"потребительский излишек = \", m.consumer_surp()) \n",
        "# потребительский излишек = 33.0625 "
      ],
      "metadata": {
        "colab": {
          "base_uri": "https://localhost:8080/"
        },
        "id": "Az_Jq6XwuHBt",
        "outputId": "b23e4dd6-7aaf-4485-df75-a5753366b8d3"
      },
      "execution_count": null,
      "outputs": [
        {
          "output_type": "stream",
          "name": "stdout",
          "text": [
            "равновесная цена =  18.5\n",
            "потребительский излишек =  33.0625\n"
          ]
        }
      ]
    },
    {
      "cell_type": "code",
      "source": [
        "import numpy as np\n",
        "# Исходные значения ad, bd, az, bz, tax\n",
        "baseline_params = 15, .5, -2, .5, 3\n",
        "m = Market(*baseline_params)\n",
        "q_max = m.quantity() * 2\n",
        "q_grid = np.linspace(0.0, q_max, 100)\n",
        "pd = m.inverse_demand(q_grid)\n",
        "ps = m.inverse_supply(q_grid)\n",
        "psno = m.inverse_supply_no_tax(q_grid)\n",
        "fig, ax = plt.subplots()\n",
        "ax.plot(q_grid, pd, lw=2, alpha=0.6, label='спрос')\n",
        "ax.plot(q_grid, ps, lw=2, alpha=0.6, label='предложение')\n",
        "ax.plot(q_grid, psno, lw=2, alpha=0.6, label='предложение без налогов')\n",
        "ax.set_xlabel('количество', fontsize=14)\n",
        "ax.set_xlim(0, q_max)\n",
        "ax.set_ylabel('цена', fontsize=14)\n",
        "ax.legend(loc='lower right', frameon=False, fontsize=14)\n",
        "plt.show() \n"
      ],
      "metadata": {
        "colab": {
          "base_uri": "https://localhost:8080/",
          "height": 283
        },
        "id": "eMoVQzm6uigd",
        "outputId": "a61b54b7-702b-427e-8c1f-63295e259d57"
      },
      "execution_count": null,
      "outputs": [
        {
          "output_type": "display_data",
          "data": {
            "text/plain": [
              "<Figure size 432x288 with 1 Axes>"
            ],
            "image/png": "[encoded data removed]"
          },
          "metadata": {
            "needs_background": "light"
          }
        }
      ]
    },
    {
      "cell_type": "code",
      "source": [
        "def deadw(m):\n",
        "  \" Вычисление безвозвратные потери для рынка m.\"\n",
        "  # == Создание аналогичный рынок без налогов == #\n",
        "  m_no_tax = Market(m.ad, m.bd, m.az, m.bz, 0)\n",
        "  # == Сравнение излишков разницы в доходности == #\n",
        "  surp1 = m_no_tax.consumer_surp() + m_no_tax.producer_surp()\n",
        "  surp2 = m.consumer_surp() + m.producer_surp() + m.taxrev()\n",
        "  return surp1 - surp2\n",
        "\n",
        "baseline_params = 15, .5, -2, .5, 3\n",
        "m = Market(*baseline_params)\n",
        "deadw(m) # Безвозвратные потери\n",
        "# 1.125 \n"
      ],
      "metadata": {
        "colab": {
          "base_uri": "https://localhost:8080/"
        },
        "id": "po8hr9OKvB6t",
        "outputId": "6bbde499-1fb8-4191-8a54-9fa461b4a045"
      },
      "execution_count": null,
      "outputs": [
        {
          "output_type": "execute_result",
          "data": {
            "text/plain": [
              "1.125"
            ]
          },
          "metadata": {},
          "execution_count": 103
        }
      ]
    }
  ]
}