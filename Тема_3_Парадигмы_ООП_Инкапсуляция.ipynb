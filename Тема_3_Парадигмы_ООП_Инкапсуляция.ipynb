{
  "nbformat": 4,
  "nbformat_minor": 0,
  "metadata": {
    "colab": {
      "provenance": [],
      "authorship_tag": "ABX9TyPzdkqvdaMkYZIzwGGfaZm7",
      "include_colab_link": true
    },
    "kernelspec": {
      "name": "python3",
      "display_name": "Python 3"
    },
    "language_info": {
      "name": "python"
    }
  },
  "cells": [
    {
      "cell_type": "markdown",
      "metadata": {
        "id": "view-in-github",
        "colab_type": "text"
      },
      "source": [
        "<a href=\"https://colab.research.google.com/github/dzhamalovas/Osnovy_programming/blob/main/%D0%A2%D0%B5%D0%BC%D0%B0_3_%D0%9F%D0%B0%D1%80%D0%B0%D0%B4%D0%B8%D0%B3%D0%BC%D1%8B_%D0%9E%D0%9E%D0%9F_%D0%98%D0%BD%D0%BA%D0%B0%D0%BF%D1%81%D1%83%D0%BB%D1%8F%D1%86%D0%B8%D1%8F.ipynb\" target=\"_parent\"><img src=\"https://colab.research.google.com/assets/colab-badge.svg\" alt=\"Open In Colab\"/></a>"
      ]
    },
    {
      "cell_type": "markdown",
      "source": [
        "# Парадигма инкапсуляции"
      ],
      "metadata": {
        "id": "-HrxCcdvee8i"
      }
    },
    {
      "cell_type": "markdown",
      "source": [
        "Парадигма инкапсуляции предлагает объединять переменные и методы,\n",
        "относящиеся к одному объекту в единый компонент. По сути, соблюдение\n",
        "парадигмы инкапсуляции и заключается в создании классов.\n",
        "Под инкапсуляцией в объектно-ориентированном программировании\n",
        "понимается упаковка данных и методов для их обработки вместе, т. е. в классе.\n",
        "В Python инкапсуляция реализуется как на уровне классов, так и объектов. В ряде\n",
        "других языков, например в Java, под инкапсуляцией также понимают сокрытие\n",
        "свойств и методов, в результате чего они становятся приватными. Это значит,\n",
        "что доступ к ним ограничен либо пределами класса, либо модуля. В Python\n",
        "подобной инкапсуляции нет, хотя существует способ ее имитировать. Перед тем\n",
        "как выяснять, как это делается, надо понять, зачем вообще что-то скрывать. Дело\n",
        "в том, что классы бывают большими и сложными. В них может быть множество\n",
        "вспомогательных полей и методов, которые не должны использоваться за его\n",
        "пределами. Они просто для этого не предназначены. Они своего рода внутренние\n",
        "шестеренки, обеспечивающие нормальную работу класса.\n",
        "С точки зрения разграничения доступа к атрибутам класса Python является\n",
        "особенным языком - в нем отсутствует механизм, который мог бы запретить\n",
        "доступ к переменной или методу внутри класса. Вместо этого создатели Python\n",
        "предложили соглашение, в соответствии с которым:\n",
        "* Если переменная/метод начинается с одного нижнего подчеркивания\n",
        "(_protected_example), то – считается защищенным (protected).\n",
        "* Если переменная/метод начинается с двух нижних подчеркиваний\n",
        "(__private_example), то – считается приватным (private). "
      ],
      "metadata": {
        "id": "PjMGX1knekJI"
      }
    },
    {
      "cell_type": "markdown",
      "source": [
        "# Рассмотрим пример создания и работы с публичными (public) методами в Python."
      ],
      "metadata": {
        "id": "I3udNlZbevy8"
      }
    },
    {
      "cell_type": "code",
      "execution_count": null,
      "metadata": {
        "id": "v95T0EEheSnG"
      },
      "outputs": [],
      "source": [
        "class Car:\n",
        "  def __init__(self, color):\n",
        "  # Объявляем публичное поле color\n",
        "    self.color = color\n",
        " \n"
      ]
    },
    {
      "cell_type": "code",
      "source": [
        "# Создаем экземпляр класса Car\n",
        "car = Car('Grey')\n",
        "# Обращаемся к свойству color\n",
        "print(car.color)\n",
        "# Изменяем свойство color\n",
        "car.color = 'Red'\n",
        "print(car.color)"
      ],
      "metadata": {
        "colab": {
          "base_uri": "https://localhost:8080/"
        },
        "id": "ePP5COPR_B0-",
        "outputId": "0f7b22c8-d3d2-4f5e-aa0f-268910a109e9"
      },
      "execution_count": null,
      "outputs": [
        {
          "output_type": "stream",
          "name": "stdout",
          "text": [
            "Grey\n",
            "Red\n"
          ]
        }
      ]
    },
    {
      "cell_type": "markdown",
      "source": [
        "# В соответствии с соглашением чтобы сделать атрибут класса защищенным (protected), необходимо добавить к имени символ подчеркивания _ . Пример такой реализации представлен ниже."
      ],
      "metadata": {
        "id": "VFb_gjIC_ZPA"
      }
    },
    {
      "cell_type": "code",
      "source": [
        "class Car:\n",
        "  def __init__(self, color):\n",
        "    self._color = color "
      ],
      "metadata": {
        "id": "DmqoxUho_cr0"
      },
      "execution_count": null,
      "outputs": []
    },
    {
      "cell_type": "code",
      "source": [
        "# Создаем экземпляр класса Car\n",
        "car = Car('Grey')\n",
        "# Обращаемся к свойству color\n",
        "print(car._color)\n",
        "# Изменяем свойство color\n",
        "car._color = 'Red'\n",
        "print(car._color) "
      ],
      "metadata": {
        "colab": {
          "base_uri": "https://localhost:8080/"
        },
        "id": "plBGXEfA_heW",
        "outputId": "8e0bad30-b38c-4306-c80b-bb1efec66801"
      },
      "execution_count": null,
      "outputs": [
        {
          "output_type": "stream",
          "name": "stdout",
          "text": [
            "Grey\n",
            "Red\n"
          ]
        }
      ]
    },
    {
      "cell_type": "markdown",
      "source": [
        "#Часто намеренно скрываются поля самого класса, а не его объектов. Например, если класс имеет счетчик своих объектов, то необходимо исключить возможность его случайного изменения из вне. Рассмотрим пример с таким счетчиком на языке Python. \n"
      ],
      "metadata": {
        "id": "W4NFqBnYADor"
      }
    },
    {
      "cell_type": "code",
      "source": [
        "class B:\n",
        "  count = 0\n",
        "  def __init__(self):\n",
        "    B.count += 1\n",
        "  def __del__(self):\n",
        "    B.count -= 1\n",
        "\n",
        "a = B()\n",
        "b = B() \n"
      ],
      "metadata": {
        "id": "tAqZehavAS_k"
      },
      "execution_count": null,
      "outputs": []
    },
    {
      "cell_type": "code",
      "source": [
        "print(B.count) \n",
        "del a\n",
        "print(B.count) # выведет 1\n"
      ],
      "metadata": {
        "colab": {
          "base_uri": "https://localhost:8080/"
        },
        "id": "vh--dbTxAgC2",
        "outputId": "18893307-c961-4ccf-b79a-d0a4c433a16a"
      },
      "execution_count": null,
      "outputs": [
        {
          "output_type": "stream",
          "name": "stdout",
          "text": [
            "1\n",
            "1\n"
          ]
        }
      ]
    },
    {
      "cell_type": "markdown",
      "source": [
        "# Добавление метода"
      ],
      "metadata": {
        "id": "4NF21attFWD_"
      }
    },
    {
      "cell_type": "code",
      "source": [
        "class B:\n",
        "  __count = 0\n",
        "  def __init__(self):\n",
        "    B.__count += 1\n",
        "  def __del__(self):\n",
        "     B.__count -= 1\n",
        "  def qtyObject():\n",
        "    return B.__count\n",
        "\n",
        "a = B()\n",
        "b = B()\n",
        "print(B.qtyObject()) # будет выведено 2"
      ],
      "metadata": {
        "colab": {
          "base_uri": "https://localhost:8080/"
        },
        "id": "qNagHjW4FytX",
        "outputId": "6863684c-50dd-4de6-a63b-e45e700a256d"
      },
      "execution_count": null,
      "outputs": [
        {
          "output_type": "stream",
          "name": "stdout",
          "text": [
            "2\n"
          ]
        }
      ]
    },
    {
      "cell_type": "markdown",
      "source": [
        "# Mетоды можно сделать \"приватными\" с помощью двойного подчеркивания"
      ],
      "metadata": {
        "id": "t0yNvkZ5GGbw"
      }
    },
    {
      "cell_type": "code",
      "source": [
        "class DoubleList:\n",
        "  def __init__(self, l):\n",
        "    self.double = DoubleList.__makeDouble(l)\n",
        "  def __makeDouble(old):\n",
        "    new = []\n",
        "    for i in old:\n",
        "      new.append(i)\n",
        "      new.append(i)\n",
        "      return new\n"
      ],
      "metadata": {
        "id": "KmyQlf-eGQXY"
      },
      "execution_count": null,
      "outputs": []
    },
    {
      "cell_type": "code",
      "source": [
        "class DoubleList:\n",
        "    def __init__(self, l):\n",
        "        self.double = DoubleList.__makeDouble(l)\n",
        "    def __makeDouble(old):\n",
        "        new = []\n",
        "        for i in old:\n",
        "            new.append(i)\n",
        "            new.append(i)\n",
        "        return new\n",
        "\n",
        "nums = DoubleList([1, 3, 4, 6, 12])\n",
        "print(nums.double)\n",
        "print(DoubleList.__makeDouble([1,2]))"
      ],
      "metadata": {
        "id": "-aoiG7Dl29oX"
      },
      "execution_count": null,
      "outputs": []
    },
    {
      "cell_type": "markdown",
      "source": [
        "Вывод: \n",
        "\n",
        "```\n",
        "[1, 1, 3, 3, 4, 4, 6, 6, 12, 12]\n",
        "Traceback (most recent call last):\n",
        " File \"test.py\", line 13, in <module>\n",
        " print(DoubleList.__makeDouble([1,2]))\n",
        "AttributeError: type object 'DoubleList' has no attribute\n",
        "'__makeDouble' \n",
        "```\n"
      ],
      "metadata": {
        "id": "jNy_DTmS3CuP"
      }
    }
  ]
}